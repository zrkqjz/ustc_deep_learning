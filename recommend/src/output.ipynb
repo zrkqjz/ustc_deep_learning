{
 "cells": [
  {
   "cell_type": "markdown",
   "metadata": {},
   "source": [
    "# 准备"
   ]
  },
  {
   "cell_type": "code",
   "execution_count": 1,
   "metadata": {},
   "outputs": [],
   "source": [
    "import torch\n",
    "import csv\n",
    "\n",
    "from model import SASRec\n",
    "from utils import *\n",
    "\n",
    "import pandas as pd\n",
    "from tqdm import tqdm\n",
    "\n",
    "from datetime import datetime"
   ]
  },
  {
   "cell_type": "markdown",
   "metadata": {},
   "source": [
    "# 加载\n",
    "请根据日志文件夹中的args.txt文件配置args，避免形状不匹配的情况"
   ]
  },
  {
   "cell_type": "code",
   "execution_count": 2,
   "metadata": {},
   "outputs": [],
   "source": [
    "class args():\n",
    "    def __init__(self):\n",
    "        self.dataset = 'goodbooks'\n",
    "        self.batch_size = 512\n",
    "        self.lr = 0.001\n",
    "        self.maxlen = 200\n",
    "        self.hidden_units = 200\n",
    "        self.num_blocks = 2\n",
    "        self.num_epochs = 60\n",
    "        self.num_heads  = 4\n",
    "        self.dropout_rate = 0.2\n",
    "        self.l2_emb = 0.0\n",
    "        self.inference_only = False\n",
    "        self.state_dict_path = None\n",
    "        self.fixed_position_encode = True\n",
    "        self.device = 'cuda'\n",
    "\n",
    "args = args()"
   ]
  },
  {
   "cell_type": "markdown",
   "metadata": {},
   "source": [
    "此处需要选择恰当的模型权重路径"
   ]
  },
  {
   "cell_type": "code",
   "execution_count": 3,
   "metadata": {},
   "outputs": [
    {
     "data": {
      "text/plain": [
       "SASRec(\n",
       "  (item_emb): Embedding(10001, 200, padding_idx=0)\n",
       "  (pos_emb): Embedding(200, 200)\n",
       "  (emb_dropout): Dropout(p=0.2, inplace=False)\n",
       "  (attention_layernorms): ModuleList(\n",
       "    (0-1): 2 x LayerNorm((200,), eps=1e-08, elementwise_affine=True)\n",
       "  )\n",
       "  (attention_layers): ModuleList(\n",
       "    (0-1): 2 x MultiheadAttention(\n",
       "      (out_proj): NonDynamicallyQuantizableLinear(in_features=200, out_features=200, bias=True)\n",
       "    )\n",
       "  )\n",
       "  (forward_layernorms): ModuleList(\n",
       "    (0-1): 2 x LayerNorm((200,), eps=1e-08, elementwise_affine=True)\n",
       "  )\n",
       "  (forward_layers): ModuleList(\n",
       "    (0-1): 2 x PointWiseFeedForward(\n",
       "      (conv1): Conv1d(200, 200, kernel_size=(1,), stride=(1,))\n",
       "      (dropout1): Dropout(p=0.2, inplace=False)\n",
       "      (relu): ReLU()\n",
       "      (conv2): Conv1d(200, 200, kernel_size=(1,), stride=(1,))\n",
       "      (dropout2): Dropout(p=0.2, inplace=False)\n",
       "    )\n",
       "  )\n",
       "  (last_layernorm): LayerNorm((200,), eps=1e-08, elementwise_affine=True)\n",
       ")"
      ]
     },
     "execution_count": 3,
     "metadata": {},
     "output_type": "execute_result"
    }
   ],
   "source": [
    "model = SASRec(53424, 10000, args).to(args.device)\n",
    "model.load_state_dict(torch.load('./goodbooks_2024-07-20_14-34/SASRec.lr=0.001.layer=2.head=4.hidden=200.maxlen=200.block=2.pth', map_location=torch.device(args.device)))\n",
    "model.eval()"
   ]
  },
  {
   "cell_type": "code",
   "execution_count": 4,
   "metadata": {},
   "outputs": [
    {
     "name": "stdout",
     "output_type": "stream",
     "text": [
      "....................................................................................................test (NDCG@10: 0.6373, HR@10: 0.8526)\n"
     ]
    }
   ],
   "source": [
    "dataset = data_partition(args.dataset)\n",
    "t_test = evaluate(model, dataset, args)\n",
    "print('test (NDCG@10: %.4f, HR@10: %.4f)' % (t_test[0], t_test[1]))"
   ]
  },
  {
   "cell_type": "code",
   "execution_count": 5,
   "metadata": {},
   "outputs": [],
   "source": [
    "usernum = 0\n",
    "itemnum = 0\n",
    "User = defaultdict(list) # User存储比赛给出的所有训练数据\n",
    "user_train = {}\n",
    "user_valid = {}\n",
    "user_test = {}\n",
    "# assume user/item index starting from 1\n",
    "f = open('../data/%s.txt' % 'goodbooks', 'r')\n",
    "for line in f:\n",
    "    u, i = line.rstrip().split(',')\n",
    "    u = int(u)\n",
    "    i = int(i)\n",
    "    usernum = max(u, usernum)\n",
    "    itemnum = max(i, itemnum)\n",
    "    User[u].append(i)"
   ]
  },
  {
   "cell_type": "code",
   "execution_count": 6,
   "metadata": {},
   "outputs": [
    {
     "name": "stderr",
     "output_type": "stream",
     "text": [
      "100%|██████████| 53424/53424 [00:46<00:00, 1145.33it/s]\n"
     ]
    }
   ],
   "source": [
    "user_test = defaultdict(list)\n",
    "for i in tqdm(range(1, usernum+1)):\n",
    "    j = list(range(1, itemnum+1))\n",
    "    # 将没有在训练数据User中出现的item加入到user_test中\n",
    "    user_test[i].append(list(set(j).difference(User[i])))\n",
    "    user_test[i] = user_test[i][0]"
   ]
  },
  {
   "cell_type": "code",
   "execution_count": 7,
   "metadata": {},
   "outputs": [
    {
     "name": "stderr",
     "output_type": "stream",
     "text": [
      "  0%|          | 0/53424 [00:00<?, ?it/s]C:\\Users\\zzzrk\\AppData\\Local\\Temp\\ipykernel_16092\\347870459.py:24: DeprecationWarning: `np.int` is a deprecated alias for the builtin `int`. To silence this warning, use `int` by itself. Doing this will not modify any behavior and is safe. When replacing `np.int`, you may wish to use e.g. `np.int64` or `np.int32` to specify the precision. If you wish to review your current use, check the release note link for additional information.\n",
      "Deprecated in NumPy 1.20; for more details and guidance: https://numpy.org/devdocs/release/1.20.0-notes.html#deprecations\n",
      "  u = np.full(shape=10, fill_value=i, dtype=np.int)\n",
      "100%|██████████| 53424/53424 [05:20<00:00, 166.71it/s]\n"
     ]
    }
   ],
   "source": [
    "with open('./submission'+datetime.now().strftime(\"%Y-%m-%d_%H-%M\")+'.csv', 'ab') as f:\n",
    "    f.write('user_id,item_id\\n'.encode())\n",
    "    # 训练集与测试集的最大长度\n",
    "    maxlen_te = max(len(user_test[i]) for i in range(1, usernum+1))\n",
    "    maxlen_tr = max(len(User[i]) for i in range(1, usernum+1))\n",
    "    for i in tqdm(range(1, usernum+1)):\n",
    "        seq = np.zeros([maxlen_tr], dtype=np.int32)\n",
    "        idx = maxlen_tr - 1\n",
    "        # 将给定的训练数据倒序存储到交互序列seq中\n",
    "        for j in reversed(User[i]):\n",
    "            seq[idx] = j\n",
    "            idx -= 1\n",
    "            if idx == -1: break\n",
    "        # 待预测的item列表，存储在之前处理好的user_test列表中\n",
    "        item_idx = user_test[i]\n",
    "        p = [np.array(l) for l in [[i], [seq], item_idx]]\n",
    "        # 计算所有待预测item的得分，取前10个item作为推荐结果\n",
    "        predictions = -model.predict(*p)\n",
    "        predictions = predictions[0]\n",
    "        a = predictions.argsort()[:10]\n",
    "        a = a.cpu().numpy()\n",
    "        r = np.array(item_idx)\n",
    "        s = r[a]\n",
    "        u = np.full(shape=10, fill_value=i, dtype=np.int)\n",
    "        # 输出，记得我们之前把用户和item的索引都加了1，现在要减回去\n",
    "        pre = np.c_[u-1,s-1]\n",
    "        np.savetxt(f, pre, delimiter=',', fmt='%i')\n",
    "# df = pd.read_csv('./sub_f.csv',header=None,names=['user_id', 'item_id'])\n",
    "# df.to_csv('./submission_1.csv',index=False)"
   ]
  }
 ],
 "metadata": {
  "kernelspec": {
   "display_name": "d2l",
   "language": "python",
   "name": "python3"
  },
  "language_info": {
   "codemirror_mode": {
    "name": "ipython",
    "version": 3
   },
   "file_extension": ".py",
   "mimetype": "text/x-python",
   "name": "python",
   "nbconvert_exporter": "python",
   "pygments_lexer": "ipython3",
   "version": "3.9.18"
  }
 },
 "nbformat": 4,
 "nbformat_minor": 2
}
