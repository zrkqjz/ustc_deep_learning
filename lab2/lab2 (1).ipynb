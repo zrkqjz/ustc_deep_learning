{
 "cells": [
  {
   "cell_type": "markdown",
   "metadata": {},
   "source": [
    "# import和全局变量"
   ]
  },
  {
   "cell_type": "code",
   "execution_count": 6,
   "metadata": {
    "tags": []
   },
   "outputs": [],
   "source": [
    "import torch\n",
    "from torch import nn\n",
    "import torch.optim as optim\n",
    "from torch.nn import functional as F\n",
    "from torch.optim.lr_scheduler import CosineAnnealingLR\n",
    "\n",
    "import torchvision\n",
    "from torchvision import datasets\n",
    "from torchvision import transforms\n",
    "\n",
    "import torchinfo\n",
    "\n",
    "import matplotlib.pyplot as plt\n",
    "\n",
    "import random\n",
    "\n",
    "from tqdm.auto import tqdm\n",
    "\n",
    "from pathlib import Path\n",
    "MODEL_PATH = Path(\"models\")\n",
    "MODEL_PATH.mkdir(parents=True, exist_ok=True)\n",
    "\n",
    "# Set random seed for reproducibility\n",
    "def setup_seed(seed):\n",
    "    torch.manual_seed(seed)\n",
    "    torch.cuda.manual_seed_all(seed)\n",
    "    #np.random.seed(seed)\n",
    "    random.seed(seed)\n",
    "    torch.backends.cudnn.deterministic = True\n",
    "# 设置随机数种子\n",
    "setup_seed(3407)\n",
    "torch.backends.cudnn.benchmark = True"
   ]
  },
  {
   "cell_type": "markdown",
   "metadata": {},
   "source": [
    "# 数据加载"
   ]
  },
  {
   "cell_type": "code",
   "execution_count": 2,
   "metadata": {
    "tags": []
   },
   "outputs": [],
   "source": [
    "data_root_dir = 'data'\n",
    "\n",
    "Trans = transforms.Compose([transforms.ToTensor(),\n",
    "                            transforms.Resize([224, 224]),\n",
    "                            transforms.Normalize((0.4914, 0.4822, 0.4465), (0.2023, 0.1994, 0.2010))\n",
    "                           ])\n",
    "\n",
    "# 加载数据集\n",
    "train_data = datasets.CIFAR10(\n",
    "    root=data_root_dir, \n",
    "    train=True, \n",
    "    download=False, \n",
    "    transform=Trans\n",
    ")\n",
    "\n",
    "test_data = datasets.CIFAR10(\n",
    "    root=data_root_dir,\n",
    "    train=False,\n",
    "    download=False,\n",
    "    transform=Trans\n",
    ")\n",
    "\n",
    "# 划分训练集和验证集\n",
    "train_size = int(0.8 * len(train_data))\n",
    "val_size = len(train_data) - train_size\n",
    "train_data, val_data = torch.utils.data.random_split(train_data, [train_size, val_size])\n",
    "\n",
    "# 训练集数据增强\n",
    "augmentation = transforms.Compose([#transforms.TrivialAugmentWide(num_magnitude_bins=31),\n",
    "                                   transforms.RandomHorizontalFlip(),\n",
    "                                   transforms.RandomCrop(32, padding=4),\n",
    "                                   Trans\n",
    "                                   ])\n",
    "train_data.dataset.transform = augmentation\n",
    "\n",
    "\n",
    "# 创建数据加载器\n",
    "batch_size = 128\n",
    "train_dataloader = torch.utils.data.DataLoader(train_data, batch_size=batch_size, shuffle=True, \n",
    "                                               num_workers=16, pin_memory=True, prefetch_factor=4, persistent_workers=True)\n",
    "val_dataloader = torch.utils.data.DataLoader(val_data, batch_size=batch_size, shuffle=False, \n",
    "                                             num_workers=16, pin_memory=True, prefetch_factor=4, persistent_workers=True)\n",
    "test_dataloader = torch.utils.data.DataLoader(test_data, batch_size=batch_size, shuffle=False)"
   ]
  },
  {
   "cell_type": "code",
   "execution_count": 18,
   "metadata": {
    "tags": []
   },
   "outputs": [
    {
     "name": "stdout",
     "output_type": "stream",
     "text": [
      "训练集大小: 40000\n",
      "验证集大小: 10000\n",
      "测试集大小: 10000\n"
     ]
    }
   ],
   "source": [
    "print(f\"训练集大小: {len(train_data)}\")\n",
    "print(f\"验证集大小: {len(val_data)}\")\n",
    "print(f\"测试集大小: {len(test_data)}\")"
   ]
  },
  {
   "cell_type": "code",
   "execution_count": 19,
   "metadata": {
    "tags": []
   },
   "outputs": [],
   "source": [
    "image, label = train_data[0]"
   ]
  },
  {
   "cell_type": "code",
   "execution_count": 20,
   "metadata": {
    "tags": []
   },
   "outputs": [
    {
     "data": {
      "text/plain": [
       "torch.Size([3, 32, 32])"
      ]
     },
     "execution_count": 20,
     "metadata": {},
     "output_type": "execute_result"
    }
   ],
   "source": [
    "image.shape"
   ]
  },
  {
   "cell_type": "code",
   "execution_count": 21,
   "metadata": {
    "tags": []
   },
   "outputs": [
    {
     "name": "stderr",
     "output_type": "stream",
     "text": [
      "Clipping input data to the valid range for imshow with RGB data ([0..1] for floats or [0..255] for integers).\n"
     ]
    },
    {
     "name": "stdout",
     "output_type": "stream",
     "text": [
      "Image shape: torch.Size([32, 32, 3])\n"
     ]
    },
    {
     "data": {
      "text/plain": [
       "Text(0.5, 1.0, 'horse')"
      ]
     },
     "execution_count": 21,
     "metadata": {},
     "output_type": "execute_result"
    },
    {
     "data": {
      "image/png": "[encoded data removed]",
      "text/plain": [
       "<Figure size 200x200 with 1 Axes>"
      ]
     },
     "metadata": {},
     "output_type": "display_data"
    }
   ],
   "source": [
    "image = image.transpose(0, 2).transpose(0, 1)\n",
    "label_map = [\"airplane\", \"automobile\", \"bird\", \"cat\", \"deer\", \"dog\", \"frog\", \"horse\", \"ship\", \"truck\"]\n",
    "print(f\"Image shape: {image.shape}\")\n",
    "plt.figure(figsize=(2, 2))\n",
    "plt.imshow(image)\n",
    "plt.title(label_map[label])"
   ]
  },
  {
   "cell_type": "code",
   "execution_count": 22,
   "metadata": {},
   "outputs": [
    {
     "name": "stdout",
     "output_type": "stream",
     "text": [
      "torch.Size([64, 3, 32, 32]) torch.Size([64])\n"
     ]
    }
   ],
   "source": [
    "for batch, (X, y) in enumerate(train_dataloader):\n",
    "    print(X.shape, y.shape)\n",
    "    break"
   ]
  },
  {
   "cell_type": "markdown",
   "metadata": {},
   "source": [
    "# 功能函数"
   ]
  },
  {
   "cell_type": "code",
   "execution_count": 7,
   "metadata": {
    "tags": []
   },
   "outputs": [],
   "source": [
    "device = \"cuda\" if torch.cuda.is_available() else \"cpu\"\n",
    "\n",
    "def accuracy_fn(y_true, y_pred):\n",
    "    correct = torch.eq(y_true, y_pred).sum().item()\n",
    "    acc = (correct / len(y_pred)) * 100\n",
    "    return acc\n",
    "\n",
    "class EarlyStopper:\n",
    "    def __init__(self, patience=1, min_delta=0):\n",
    "        self.patience = patience\n",
    "        self.min_delta = min_delta\n",
    "        self.counter = 0\n",
    "        self.max_validation_acc = 0.0\n",
    "\n",
    "    def early_stop(self, validation_acc):\n",
    "        if validation_acc > self.max_validation_acc:\n",
    "            self.max_validation_acc = validation_acc\n",
    "            self.counter = 0\n",
    "        elif validation_acc < (self.max_validation_acc - self.min_delta):\n",
    "            self.counter += 1\n",
    "            if self.counter >= self.patience:\n",
    "                return True\n",
    "        return False\n",
    "\n",
    "def train_step(model: torch.nn.Module,\n",
    "               data_loader: torch.utils.data.DataLoader,\n",
    "               loss_fn: torch.nn.Module,\n",
    "               optimizer: torch.optim.Optimizer,\n",
    "               accuracy_fn,\n",
    "               device: torch.device = device):\n",
    "    train_loss, train_acc = 0, 0\n",
    "    for batch, (X, y) in enumerate(data_loader):\n",
    "        # Send data to GPU\n",
    "        X, y = X.to(device), y.to(device)\n",
    "\n",
    "        # 1. Forward pass\n",
    "        y_pred = model(X)\n",
    "\n",
    "        # 2. Calculate loss\n",
    "        loss = loss_fn(y_pred, y)\n",
    "        train_loss += loss\n",
    "        train_acc += accuracy_fn(y_true=y,\n",
    "                                 y_pred=y_pred.argmax(dim=1)) # Go from logits -> pred labels\n",
    "\n",
    "        # 3. Optimizer zero grad\n",
    "        optimizer.zero_grad()\n",
    "\n",
    "        # 4. Loss backward\n",
    "        loss.backward()\n",
    "\n",
    "        # 5. Optimizer step\n",
    "        optimizer.step()\n",
    "\n",
    "    # Calculate loss and accuracy per epoch and print out what's happening\n",
    "    train_loss /= len(data_loader)\n",
    "    train_acc /= len(data_loader)\n",
    "    print(f\"Train loss: {train_loss:.5f} | Train accuracy: {train_acc:.2f}%\")\n",
    "    return train_loss, train_acc\n",
    "\n",
    "def val_step(data_loader: torch.utils.data.DataLoader,\n",
    "              model: torch.nn.Module,\n",
    "              loss_fn: torch.nn.Module,\n",
    "              accuracy_fn,\n",
    "              device: torch.device = device):\n",
    "    val_loss, val_acc = 0, 0\n",
    "    model.eval() # put model in eval mode\n",
    "    # Turn on inference context manager\n",
    "    with torch.inference_mode(): \n",
    "        for X, y in data_loader:\n",
    "            # Send data to GPU\n",
    "            X, y = X.to(device), y.to(device)\n",
    "            \n",
    "            # 1. Forward pass\n",
    "            val_pred = model(X)\n",
    "            \n",
    "            # 2. Calculate loss and accuracy\n",
    "            val_loss += loss_fn(val_pred, y)\n",
    "            val_acc += accuracy_fn(y_true=y,\n",
    "                y_pred=val_pred.argmax(dim=1) # Go from logits -> pred labels\n",
    "            )\n",
    "        \n",
    "        # Adjust metrics and print out\n",
    "        val_loss /= len(data_loader)\n",
    "        val_acc /= len(data_loader)\n",
    "        print(f\"Validation loss: {val_loss:.5f} | Validation accuracy: {val_acc:.2f}%\\n\")\n",
    "        return val_loss, val_acc\n",
    "\n",
    "def train(model, loss, optimizer, train_dataloader, val_dataloader, \n",
    "          scheduler=None, \n",
    "          num_epochs=10, \n",
    "          device=device, \n",
    "          early_stopper=EarlyStopper(patience=8, min_delta=0.02)):\n",
    "    def convert(array):\n",
    "        return [i.detach().cpu().numpy() for i in array]\n",
    "    \n",
    "    model.to(device)\n",
    "    #fig, axs = plt.subplots(2, figsize=(4, 3*2))\n",
    "    train_loss_list, train_acc_list, val_loss_list, val_acc_list = [], [], [], []\n",
    "\n",
    "    for epoch in tqdm(range(num_epochs)):\n",
    "        print(f\"Epoch {epoch + 1}\\n-------------------------------\")\n",
    "        train_loss, train_acc = train_step(model, train_dataloader, loss, optimizer, accuracy_fn, device)\n",
    "        val_loss, val_acc = val_step(val_dataloader, model, loss, accuracy_fn, device)\n",
    "        scheduler.step()\n",
    "        train_loss_list.append(train_loss)\n",
    "        train_acc_list.append(train_acc / 100)\n",
    "        val_loss_list.append(val_loss)\n",
    "        val_acc_list.append(val_acc / 100)\n",
    "        if early_stopper.early_stop(val_acc):\n",
    "            print(\"Early stopping at epoch\", epoch+1)\n",
    "            break\n",
    "\n",
    "    print(\"Finished training\")\n",
    "    plt.plot(range(1,len(train_loss_list)+1), convert(train_loss_list), label=\"train_loss\")\n",
    "    plt.plot(range(1,len(val_loss_list)+1), convert(val_loss_list), label=\"val_loss\")\n",
    "    plt.plot(range(1,len(val_acc_list)+1), val_acc_list, linestyle='--',label=\"val_acc\")\n",
    "    plt.legend()\n",
    "    #axs[1].plot(range(1,num_epochs+1), train_acc_list, linestyle='-',label=\"train_acc\")\n",
    "    #axs[1].legend()\n",
    "    \n",
    "def init_cnn(module):  \n",
    "    \"\"\"Initialize weights for CNNs.\"\"\"\n",
    "    if type(module) == nn.Linear or type(module) == nn.Conv2d:\n",
    "        nn.init.kaiming_uniform_(module.weight)\n",
    "\n",
    "def layer_summary(model, X_shape):\n",
    "    X = torch.randn(*X_shape)\n",
    "    for layer in model.net:\n",
    "        X = layer(X)\n",
    "        print(layer.__class__.__name__, 'output shape:\\t', X.shape)\n",
    "\n"
   ]
  },
  {
   "cell_type": "markdown",
   "metadata": {},
   "source": [
    "# 模型训练\n"
   ]
  },
  {
   "cell_type": "markdown",
   "metadata": {},
   "source": [
    "## 线性分类\n",
    "### 定义"
   ]
  },
  {
   "cell_type": "code",
   "execution_count": 7,
   "metadata": {},
   "outputs": [],
   "source": [
    "class FlatternModel(nn.Module):\n",
    "    def __init__(self, input_size=3*32*32, output_size=10):\n",
    "        super().__init__()\n",
    "        self.net = nn.Sequential(\n",
    "            nn.Flatten(),\n",
    "            nn.Linear(input_size, 128),\n",
    "            nn.ReLU(),\n",
    "            nn.Linear(128, 64),\n",
    "            nn.ReLU(),\n",
    "            nn.Linear(64, output_size)\n",
    "        )\n",
    "    \n",
    "    def forward(self, x):\n",
    "        return self.net(x)\n",
    "    "
   ]
  },
  {
   "cell_type": "markdown",
   "metadata": {},
   "source": [
    "### 训练"
   ]
  },
  {
   "cell_type": "code",
   "execution_count": 16,
   "metadata": {},
   "outputs": [
    {
     "name": "stdout",
     "output_type": "stream",
     "text": [
      "Epoch 1\n",
      "-------------------------------\n",
      "Train loss: 4.29119 | Train accuracy: 10.06%\n",
      "Validation loss: 2.30840 | Validation accuracy: 9.95%\n",
      "\n",
      "Epoch 2\n",
      "-------------------------------\n",
      "Train loss: 2.31562 | Train accuracy: 10.05%\n",
      "Validation loss: 2.31393 | Validation accuracy: 10.29%\n",
      "\n",
      "Epoch 3\n",
      "-------------------------------\n",
      "Train loss: 2.31553 | Train accuracy: 10.01%\n",
      "Validation loss: 2.30567 | Validation accuracy: 10.29%\n",
      "\n",
      "Epoch 4\n",
      "-------------------------------\n",
      "Train loss: 2.31568 | Train accuracy: 10.03%\n",
      "Validation loss: 2.31452 | Validation accuracy: 9.95%\n",
      "\n",
      "Epoch 5\n",
      "-------------------------------\n",
      "Train loss: 2.31471 | Train accuracy: 9.82%\n",
      "Validation loss: 2.31339 | Validation accuracy: 9.68%\n",
      "\n",
      "Epoch 6\n",
      "-------------------------------\n",
      "Train loss: 2.31708 | Train accuracy: 10.19%\n",
      "Validation loss: 2.32653 | Validation accuracy: 9.51%\n",
      "\n",
      "Epoch 7\n",
      "-------------------------------\n",
      "Train loss: 2.31593 | Train accuracy: 9.71%\n",
      "Validation loss: 2.31766 | Validation accuracy: 10.14%\n",
      "\n",
      "Epoch 8\n",
      "-------------------------------\n",
      "Train loss: 2.31598 | Train accuracy: 9.95%\n",
      "Validation loss: 2.31187 | Validation accuracy: 10.08%\n",
      "\n",
      "Epoch 9\n",
      "-------------------------------\n",
      "Train loss: 2.31492 | Train accuracy: 9.97%\n",
      "Validation loss: 2.31236 | Validation accuracy: 10.08%\n",
      "\n",
      "Epoch 10\n",
      "-------------------------------\n",
      "Train loss: 2.31486 | Train accuracy: 9.95%\n",
      "Validation loss: 2.31687 | Validation accuracy: 10.23%\n",
      "\n",
      "Finished training\n"
     ]
    },
    {
     "data": {
      "image/png": "[encoded data removed]",
      "text/plain": [
       "<Figure size 800x1200 with 2 Axes>"
      ]
     },
     "metadata": {},
     "output_type": "display_data"
    }
   ],
   "source": [
    "%%time\n",
    "model = FlatternModel()\n",
    "model.to(device)\n",
    "loss_fn = nn.CrossEntropyLoss()\n",
    "optimizer = optim.Adam(model.parameters(), lr=0.1)\n",
    "\n",
    "train(model, loss_fn, optimizer, train_dataloader, val_dataloader, num_epochs=10, device=device)"
   ]
  },
  {
   "cell_type": "markdown",
   "metadata": {},
   "source": [
    "## LeNet\n",
    "### 最早的尝试\n",
    "#### 定义"
   ]
  },
  {
   "cell_type": "code",
   "execution_count": 14,
   "metadata": {},
   "outputs": [
    {
     "name": "stdout",
     "output_type": "stream",
     "text": [
      "Conv2d output shape:\t torch.Size([1, 6, 32, 32])\n",
      "ReLU output shape:\t torch.Size([1, 6, 32, 32])\n",
      "AvgPool2d output shape:\t torch.Size([1, 6, 16, 16])\n",
      "Conv2d output shape:\t torch.Size([1, 16, 12, 12])\n",
      "ReLU output shape:\t torch.Size([1, 16, 12, 12])\n",
      "AvgPool2d output shape:\t torch.Size([1, 16, 6, 6])\n",
      "Flatten output shape:\t torch.Size([1, 576])\n",
      "Linear output shape:\t torch.Size([1, 120])\n",
      "ReLU output shape:\t torch.Size([1, 120])\n",
      "Linear output shape:\t torch.Size([1, 84])\n",
      "ReLU output shape:\t torch.Size([1, 84])\n",
      "Linear output shape:\t torch.Size([1, 10])\n"
     ]
    },
    {
     "name": "stderr",
     "output_type": "stream",
     "text": [
      "e:\\anaconda\\envs\\d2l\\lib\\site-packages\\torch\\nn\\modules\\lazy.py:181: UserWarning: Lazy modules are a new feature under heavy development so changes to the API or functionality can happen at any moment.\n",
      "  warnings.warn('Lazy modules are a new feature under heavy development '\n"
     ]
    }
   ],
   "source": [
    "class LeNet(nn.Module): \n",
    "    \"\"\"The LeNet-5 model.\"\"\"\n",
    "    def __init__(self, num_classes=10):\n",
    "        super().__init__()\n",
    "        self.num_classes = num_classes\n",
    "        self.net = nn.Sequential(\n",
    "            nn.LazyConv2d(6, kernel_size=5, padding=2), nn.ReLU(),\n",
    "            nn.AvgPool2d(kernel_size=2, stride=2),\n",
    "            nn.LazyConv2d(16, kernel_size=5), nn.ReLU(),\n",
    "            nn.AvgPool2d(kernel_size=2, stride=2),\n",
    "            nn.Flatten(),\n",
    "            nn.LazyLinear(120), nn.ReLU(),\n",
    "            nn.LazyLinear(84), nn.ReLU(),\n",
    "            nn.LazyLinear(num_classes))\n",
    "        init_cnn(self.net)\n",
    "    \n",
    "    def forward(self, X):\n",
    "        return self.net(X)\n",
    "    \n",
    "model = LeNet()\n",
    "layer_summary(model, (1, 3, 32, 32))"
   ]
  },
  {
   "cell_type": "markdown",
   "metadata": {},
   "source": [
    "#### 训练"
   ]
  },
  {
   "cell_type": "code",
   "execution_count": 15,
   "metadata": {},
   "outputs": [
    {
     "data": {
      "application/vnd.jupyter.widget-view+json": {
       "model_id": "cd8acd1ff2434d8d9e3b79302593976c",
       "version_major": 2,
       "version_minor": 0
      },
      "text/plain": [
       "  0%|          | 0/100 [00:00<?, ?it/s]"
      ]
     },
     "metadata": {},
     "output_type": "display_data"
    },
    {
     "name": "stdout",
     "output_type": "stream",
     "text": [
      "Epoch 1\n",
      "-------------------------------\n",
      "Train loss: 2.30056 | Train accuracy: 11.62%\n",
      "Validation loss: 2.29262 | Validation accuracy: 15.73%\n",
      "\n",
      "Epoch 2\n",
      "-------------------------------\n",
      "Train loss: 2.13812 | Train accuracy: 20.82%\n",
      "Validation loss: 1.99636 | Validation accuracy: 26.41%\n",
      "\n",
      "Epoch 3\n",
      "-------------------------------\n",
      "Train loss: 1.89703 | Train accuracy: 31.51%\n",
      "Validation loss: 1.82957 | Validation accuracy: 33.42%\n",
      "\n",
      "Epoch 4\n",
      "-------------------------------\n",
      "Train loss: 1.78164 | Train accuracy: 36.37%\n",
      "Validation loss: 1.81556 | Validation accuracy: 33.70%\n",
      "\n",
      "Epoch 5\n",
      "-------------------------------\n",
      "Train loss: 1.69633 | Train accuracy: 39.25%\n",
      "Validation loss: 1.66429 | Validation accuracy: 40.01%\n",
      "\n",
      "Epoch 6\n",
      "-------------------------------\n",
      "Train loss: 1.61452 | Train accuracy: 42.08%\n",
      "Validation loss: 1.62729 | Validation accuracy: 41.20%\n",
      "\n",
      "Epoch 7\n",
      "-------------------------------\n",
      "Train loss: 1.54663 | Train accuracy: 44.56%\n",
      "Validation loss: 1.54293 | Validation accuracy: 44.62%\n",
      "\n",
      "Epoch 8\n",
      "-------------------------------\n",
      "Train loss: 1.49842 | Train accuracy: 46.22%\n",
      "Validation loss: 1.49698 | Validation accuracy: 46.20%\n",
      "\n",
      "Epoch 9\n",
      "-------------------------------\n",
      "Train loss: 1.45432 | Train accuracy: 47.98%\n",
      "Validation loss: 1.50475 | Validation accuracy: 45.65%\n",
      "\n",
      "Epoch 10\n",
      "-------------------------------\n",
      "Train loss: 1.41806 | Train accuracy: 49.34%\n",
      "Validation loss: 1.42520 | Validation accuracy: 48.98%\n",
      "\n",
      "Epoch 11\n",
      "-------------------------------\n",
      "Train loss: 1.38621 | Train accuracy: 50.49%\n",
      "Validation loss: 1.40909 | Validation accuracy: 49.69%\n",
      "\n",
      "Epoch 12\n",
      "-------------------------------\n",
      "Train loss: 1.35337 | Train accuracy: 51.64%\n",
      "Validation loss: 1.37324 | Validation accuracy: 50.99%\n",
      "\n",
      "Epoch 13\n",
      "-------------------------------\n",
      "Train loss: 1.32240 | Train accuracy: 52.68%\n",
      "Validation loss: 1.36053 | Validation accuracy: 51.31%\n",
      "\n",
      "Epoch 14\n",
      "-------------------------------\n",
      "Train loss: 1.29754 | Train accuracy: 53.79%\n",
      "Validation loss: 1.34287 | Validation accuracy: 52.58%\n",
      "\n",
      "Epoch 15\n",
      "-------------------------------\n",
      "Train loss: 1.27249 | Train accuracy: 54.60%\n",
      "Validation loss: 1.34875 | Validation accuracy: 51.96%\n",
      "\n",
      "Epoch 16\n",
      "-------------------------------\n",
      "Train loss: 1.24714 | Train accuracy: 55.71%\n",
      "Validation loss: 1.34044 | Validation accuracy: 52.78%\n",
      "\n",
      "Epoch 17\n",
      "-------------------------------\n",
      "Train loss: 1.22536 | Train accuracy: 56.29%\n",
      "Validation loss: 1.34152 | Validation accuracy: 52.29%\n",
      "\n",
      "Epoch 18\n",
      "-------------------------------\n",
      "Train loss: 1.20167 | Train accuracy: 57.26%\n",
      "Validation loss: 1.30498 | Validation accuracy: 53.58%\n",
      "\n",
      "Epoch 19\n",
      "-------------------------------\n",
      "Train loss: 1.17973 | Train accuracy: 58.05%\n",
      "Validation loss: 1.32430 | Validation accuracy: 53.94%\n",
      "\n",
      "Epoch 20\n",
      "-------------------------------\n",
      "Train loss: 1.15557 | Train accuracy: 58.89%\n",
      "Validation loss: 1.29870 | Validation accuracy: 54.73%\n",
      "\n",
      "Epoch 21\n",
      "-------------------------------\n",
      "Train loss: 1.13642 | Train accuracy: 59.76%\n",
      "Validation loss: 1.27901 | Validation accuracy: 55.33%\n",
      "\n",
      "Epoch 22\n",
      "-------------------------------\n",
      "Train loss: 1.11428 | Train accuracy: 60.41%\n",
      "Validation loss: 1.27377 | Validation accuracy: 55.66%\n",
      "\n",
      "Epoch 23\n",
      "-------------------------------\n",
      "Train loss: 1.09514 | Train accuracy: 61.31%\n",
      "Validation loss: 1.27175 | Validation accuracy: 56.17%\n",
      "\n",
      "Epoch 24\n",
      "-------------------------------\n",
      "Train loss: 1.07340 | Train accuracy: 62.10%\n",
      "Validation loss: 1.27322 | Validation accuracy: 55.81%\n",
      "\n",
      "Epoch 25\n",
      "-------------------------------\n",
      "Train loss: 1.05439 | Train accuracy: 62.64%\n",
      "Validation loss: 1.26581 | Validation accuracy: 56.13%\n",
      "\n",
      "Epoch 26\n",
      "-------------------------------\n",
      "Train loss: 1.03225 | Train accuracy: 63.21%\n",
      "Validation loss: 1.25895 | Validation accuracy: 56.60%\n",
      "\n",
      "Epoch 27\n",
      "-------------------------------\n",
      "Train loss: 1.01131 | Train accuracy: 64.27%\n",
      "Validation loss: 1.27821 | Validation accuracy: 56.18%\n",
      "\n",
      "Epoch 28\n",
      "-------------------------------\n",
      "Train loss: 0.99294 | Train accuracy: 64.83%\n",
      "Validation loss: 1.26170 | Validation accuracy: 56.30%\n",
      "\n",
      "Epoch 29\n",
      "-------------------------------\n",
      "Train loss: 0.97310 | Train accuracy: 65.50%\n",
      "Validation loss: 1.26758 | Validation accuracy: 57.01%\n",
      "\n",
      "Epoch 30\n",
      "-------------------------------\n",
      "Train loss: 0.95395 | Train accuracy: 66.34%\n",
      "Validation loss: 1.29454 | Validation accuracy: 55.98%\n",
      "\n",
      "Epoch 31\n",
      "-------------------------------\n",
      "Train loss: 0.93471 | Train accuracy: 66.57%\n",
      "Validation loss: 1.27609 | Validation accuracy: 56.68%\n",
      "\n",
      "Epoch 32\n",
      "-------------------------------\n",
      "Train loss: 0.91518 | Train accuracy: 67.46%\n",
      "Validation loss: 1.25940 | Validation accuracy: 57.24%\n",
      "\n",
      "Epoch 33\n",
      "-------------------------------\n",
      "Train loss: 0.89695 | Train accuracy: 68.17%\n",
      "Validation loss: 1.28270 | Validation accuracy: 57.56%\n",
      "\n",
      "Epoch 34\n",
      "-------------------------------\n",
      "Train loss: 0.87897 | Train accuracy: 68.89%\n",
      "Validation loss: 1.26855 | Validation accuracy: 57.44%\n",
      "\n",
      "Epoch 35\n",
      "-------------------------------\n",
      "Train loss: 0.86041 | Train accuracy: 69.54%\n",
      "Validation loss: 1.27568 | Validation accuracy: 57.91%\n",
      "\n",
      "Epoch 36\n",
      "-------------------------------\n",
      "Train loss: 0.84315 | Train accuracy: 70.03%\n",
      "Validation loss: 1.26539 | Validation accuracy: 58.14%\n",
      "\n",
      "Epoch 37\n",
      "-------------------------------\n",
      "Train loss: 0.82449 | Train accuracy: 70.75%\n",
      "Validation loss: 1.30017 | Validation accuracy: 57.50%\n",
      "\n",
      "Epoch 38\n",
      "-------------------------------\n",
      "Train loss: 0.80780 | Train accuracy: 71.46%\n",
      "Validation loss: 1.29445 | Validation accuracy: 57.66%\n",
      "\n",
      "Epoch 39\n",
      "-------------------------------\n",
      "Train loss: 0.78920 | Train accuracy: 72.23%\n",
      "Validation loss: 1.33896 | Validation accuracy: 56.88%\n",
      "\n",
      "Epoch 40\n",
      "-------------------------------\n",
      "Train loss: 0.77154 | Train accuracy: 72.76%\n",
      "Validation loss: 1.37056 | Validation accuracy: 56.93%\n",
      "\n",
      "Epoch 41\n",
      "-------------------------------\n",
      "Train loss: 0.75514 | Train accuracy: 73.28%\n",
      "Validation loss: 1.33876 | Validation accuracy: 57.15%\n",
      "\n",
      "Epoch 42\n",
      "-------------------------------\n",
      "Train loss: 0.73849 | Train accuracy: 74.00%\n",
      "Validation loss: 1.36412 | Validation accuracy: 57.02%\n",
      "\n",
      "Epoch 43\n",
      "-------------------------------\n",
      "Train loss: 0.72229 | Train accuracy: 74.14%\n",
      "Validation loss: 1.39175 | Validation accuracy: 57.46%\n",
      "\n",
      "Epoch 44\n",
      "-------------------------------\n",
      "Train loss: 0.70736 | Train accuracy: 75.13%\n",
      "Validation loss: 1.41651 | Validation accuracy: 56.51%\n",
      "\n",
      "Epoch 45\n",
      "-------------------------------\n",
      "Train loss: 0.69137 | Train accuracy: 75.38%\n",
      "Validation loss: 1.40844 | Validation accuracy: 57.36%\n",
      "\n",
      "Epoch 46\n",
      "-------------------------------\n",
      "Train loss: 0.67497 | Train accuracy: 76.10%\n",
      "Validation loss: 1.43713 | Validation accuracy: 57.32%\n",
      "\n",
      "Epoch 47\n",
      "-------------------------------\n",
      "Train loss: 0.65978 | Train accuracy: 76.53%\n",
      "Validation loss: 1.44178 | Validation accuracy: 57.17%\n",
      "\n",
      "Epoch 48\n",
      "-------------------------------\n",
      "Train loss: 0.64284 | Train accuracy: 77.11%\n",
      "Validation loss: 1.44941 | Validation accuracy: 57.10%\n",
      "\n",
      "Epoch 49\n",
      "-------------------------------\n",
      "Train loss: 0.62892 | Train accuracy: 77.45%\n",
      "Validation loss: 1.49562 | Validation accuracy: 56.86%\n",
      "\n",
      "Epoch 50\n",
      "-------------------------------\n",
      "Train loss: 0.61264 | Train accuracy: 78.21%\n",
      "Validation loss: 1.53577 | Validation accuracy: 56.42%\n",
      "\n",
      "Epoch 51\n",
      "-------------------------------\n",
      "Train loss: 0.60044 | Train accuracy: 78.49%\n",
      "Validation loss: 1.52015 | Validation accuracy: 56.76%\n",
      "\n",
      "Epoch 52\n",
      "-------------------------------\n",
      "Train loss: 0.58213 | Train accuracy: 79.05%\n",
      "Validation loss: 1.55355 | Validation accuracy: 56.79%\n",
      "\n",
      "Epoch 53\n",
      "-------------------------------\n",
      "Train loss: 0.57138 | Train accuracy: 79.59%\n",
      "Validation loss: 1.58162 | Validation accuracy: 56.49%\n",
      "\n",
      "Epoch 54\n",
      "-------------------------------\n",
      "Train loss: 0.55412 | Train accuracy: 80.35%\n",
      "Validation loss: 1.67844 | Validation accuracy: 55.29%\n",
      "\n",
      "Epoch 55\n",
      "-------------------------------\n",
      "Train loss: 0.54353 | Train accuracy: 80.68%\n",
      "Validation loss: 1.65661 | Validation accuracy: 56.00%\n",
      "\n",
      "Epoch 56\n",
      "-------------------------------\n",
      "Train loss: 0.52785 | Train accuracy: 81.21%\n",
      "Validation loss: 1.69972 | Validation accuracy: 57.00%\n",
      "\n",
      "Epoch 57\n",
      "-------------------------------\n",
      "Train loss: 0.51544 | Train accuracy: 81.54%\n",
      "Validation loss: 1.68572 | Validation accuracy: 56.16%\n",
      "\n",
      "Epoch 58\n",
      "-------------------------------\n",
      "Train loss: 0.50630 | Train accuracy: 81.84%\n",
      "Validation loss: 1.74333 | Validation accuracy: 56.11%\n",
      "\n",
      "Epoch 59\n",
      "-------------------------------\n",
      "Train loss: 0.49219 | Train accuracy: 82.33%\n",
      "Validation loss: 1.74172 | Validation accuracy: 56.43%\n",
      "\n",
      "Epoch 60\n",
      "-------------------------------\n",
      "Train loss: 0.47832 | Train accuracy: 82.78%\n",
      "Validation loss: 1.78126 | Validation accuracy: 56.65%\n",
      "\n",
      "Epoch 61\n",
      "-------------------------------\n",
      "Train loss: 0.46539 | Train accuracy: 83.28%\n",
      "Validation loss: 1.79698 | Validation accuracy: 56.22%\n",
      "\n",
      "Epoch 62\n",
      "-------------------------------\n",
      "Train loss: 0.45606 | Train accuracy: 83.76%\n",
      "Validation loss: 1.85053 | Validation accuracy: 55.87%\n",
      "\n",
      "Epoch 63\n",
      "-------------------------------\n",
      "Train loss: 0.43679 | Train accuracy: 84.26%\n",
      "Validation loss: 1.94040 | Validation accuracy: 55.41%\n",
      "\n",
      "Epoch 64\n",
      "-------------------------------\n",
      "Train loss: 0.42922 | Train accuracy: 84.59%\n",
      "Validation loss: 1.91174 | Validation accuracy: 54.81%\n",
      "\n",
      "Epoch 65\n",
      "-------------------------------\n",
      "Train loss: 0.41899 | Train accuracy: 84.86%\n",
      "Validation loss: 1.92459 | Validation accuracy: 55.85%\n",
      "\n",
      "Epoch 66\n",
      "-------------------------------\n",
      "Train loss: 0.40927 | Train accuracy: 85.37%\n",
      "Validation loss: 1.96802 | Validation accuracy: 56.09%\n",
      "\n",
      "Epoch 67\n",
      "-------------------------------\n",
      "Train loss: 0.39147 | Train accuracy: 85.78%\n",
      "Validation loss: 2.04938 | Validation accuracy: 56.48%\n",
      "\n",
      "Epoch 68\n",
      "-------------------------------\n",
      "Train loss: 0.38725 | Train accuracy: 86.08%\n",
      "Validation loss: 2.06278 | Validation accuracy: 55.76%\n",
      "\n",
      "Epoch 69\n",
      "-------------------------------\n",
      "Train loss: 0.37809 | Train accuracy: 86.38%\n",
      "Validation loss: 2.10039 | Validation accuracy: 55.23%\n",
      "\n",
      "Epoch 70\n",
      "-------------------------------\n",
      "Train loss: 0.36859 | Train accuracy: 86.71%\n",
      "Validation loss: 2.12337 | Validation accuracy: 55.66%\n",
      "\n",
      "Epoch 71\n",
      "-------------------------------\n",
      "Train loss: 0.35842 | Train accuracy: 87.14%\n",
      "Validation loss: 2.19083 | Validation accuracy: 55.04%\n",
      "\n",
      "Epoch 72\n",
      "-------------------------------\n",
      "Train loss: 0.34597 | Train accuracy: 87.46%\n",
      "Validation loss: 2.22755 | Validation accuracy: 55.66%\n",
      "\n",
      "Epoch 73\n",
      "-------------------------------\n",
      "Train loss: 0.34244 | Train accuracy: 87.47%\n",
      "Validation loss: 2.25849 | Validation accuracy: 55.52%\n",
      "\n",
      "Epoch 74\n",
      "-------------------------------\n",
      "Train loss: 0.32304 | Train accuracy: 88.40%\n",
      "Validation loss: 2.33801 | Validation accuracy: 55.00%\n",
      "\n",
      "Epoch 75\n",
      "-------------------------------\n",
      "Train loss: 0.32626 | Train accuracy: 88.08%\n",
      "Validation loss: 2.36086 | Validation accuracy: 55.11%\n",
      "\n",
      "Epoch 76\n",
      "-------------------------------\n",
      "Train loss: 0.32029 | Train accuracy: 88.34%\n",
      "Validation loss: 2.39223 | Validation accuracy: 55.15%\n",
      "\n",
      "Epoch 77\n",
      "-------------------------------\n",
      "Train loss: 0.30456 | Train accuracy: 88.95%\n",
      "Validation loss: 2.43536 | Validation accuracy: 55.28%\n",
      "\n",
      "Epoch 78\n",
      "-------------------------------\n",
      "Train loss: 0.28901 | Train accuracy: 89.61%\n",
      "Validation loss: 2.67083 | Validation accuracy: 53.52%\n",
      "\n",
      "Epoch 79\n",
      "-------------------------------\n",
      "Train loss: 0.29782 | Train accuracy: 89.27%\n",
      "Validation loss: 2.51867 | Validation accuracy: 54.84%\n",
      "\n",
      "Epoch 80\n",
      "-------------------------------\n",
      "Train loss: 0.27786 | Train accuracy: 89.76%\n",
      "Validation loss: 2.69153 | Validation accuracy: 54.96%\n",
      "\n",
      "Epoch 81\n",
      "-------------------------------\n",
      "Train loss: 0.27603 | Train accuracy: 89.94%\n",
      "Validation loss: 2.67794 | Validation accuracy: 54.75%\n",
      "\n",
      "Epoch 82\n",
      "-------------------------------\n",
      "Train loss: 0.26934 | Train accuracy: 90.20%\n",
      "Validation loss: 2.75635 | Validation accuracy: 55.25%\n",
      "\n",
      "Epoch 83\n",
      "-------------------------------\n",
      "Train loss: 0.26208 | Train accuracy: 90.49%\n",
      "Validation loss: 2.77482 | Validation accuracy: 54.88%\n",
      "\n",
      "Epoch 84\n",
      "-------------------------------\n",
      "Train loss: 0.25507 | Train accuracy: 90.81%\n",
      "Validation loss: 2.79199 | Validation accuracy: 54.78%\n",
      "\n",
      "Epoch 85\n",
      "-------------------------------\n",
      "Train loss: 0.25604 | Train accuracy: 90.70%\n",
      "Validation loss: 2.80207 | Validation accuracy: 54.61%\n",
      "\n",
      "Epoch 86\n",
      "-------------------------------\n",
      "Train loss: 0.25768 | Train accuracy: 90.58%\n",
      "Validation loss: 2.87960 | Validation accuracy: 54.43%\n",
      "\n",
      "Epoch 87\n",
      "-------------------------------\n",
      "Train loss: 0.23740 | Train accuracy: 91.38%\n",
      "Validation loss: 3.04114 | Validation accuracy: 53.47%\n",
      "\n",
      "Epoch 88\n",
      "-------------------------------\n",
      "Train loss: 0.22718 | Train accuracy: 91.85%\n",
      "Validation loss: 2.91947 | Validation accuracy: 55.16%\n",
      "\n",
      "Epoch 89\n",
      "-------------------------------\n",
      "Train loss: 0.22151 | Train accuracy: 92.04%\n",
      "Validation loss: 3.01216 | Validation accuracy: 54.74%\n",
      "\n",
      "Epoch 90\n",
      "-------------------------------\n",
      "Train loss: 0.23192 | Train accuracy: 91.34%\n",
      "Validation loss: 3.11796 | Validation accuracy: 54.49%\n",
      "\n",
      "Epoch 91\n",
      "-------------------------------\n",
      "Train loss: 0.22176 | Train accuracy: 92.06%\n",
      "Validation loss: 3.04740 | Validation accuracy: 54.92%\n",
      "\n",
      "Epoch 92\n",
      "-------------------------------\n",
      "Train loss: 0.20446 | Train accuracy: 92.67%\n",
      "Validation loss: 3.16625 | Validation accuracy: 54.30%\n",
      "\n",
      "Epoch 93\n",
      "-------------------------------\n",
      "Train loss: 0.20539 | Train accuracy: 92.50%\n",
      "Validation loss: 3.18689 | Validation accuracy: 53.89%\n",
      "\n",
      "Epoch 94\n",
      "-------------------------------\n",
      "Train loss: 0.19959 | Train accuracy: 92.78%\n",
      "Validation loss: 3.24795 | Validation accuracy: 54.65%\n",
      "\n",
      "Epoch 95\n",
      "-------------------------------\n",
      "Train loss: 0.20785 | Train accuracy: 92.43%\n",
      "Validation loss: 3.36435 | Validation accuracy: 54.39%\n",
      "\n",
      "Epoch 96\n",
      "-------------------------------\n",
      "Train loss: 0.20067 | Train accuracy: 92.57%\n",
      "Validation loss: 3.28131 | Validation accuracy: 54.62%\n",
      "\n",
      "Epoch 97\n",
      "-------------------------------\n",
      "Train loss: 0.18661 | Train accuracy: 93.27%\n",
      "Validation loss: 3.38990 | Validation accuracy: 53.93%\n",
      "\n",
      "Epoch 98\n",
      "-------------------------------\n",
      "Train loss: 0.17986 | Train accuracy: 93.39%\n",
      "Validation loss: 3.46277 | Validation accuracy: 54.26%\n",
      "\n",
      "Epoch 99\n",
      "-------------------------------\n",
      "Train loss: 0.19158 | Train accuracy: 93.05%\n",
      "Validation loss: 3.40784 | Validation accuracy: 54.70%\n",
      "\n",
      "Epoch 100\n",
      "-------------------------------\n",
      "Train loss: 0.18473 | Train accuracy: 93.32%\n",
      "Validation loss: 3.55717 | Validation accuracy: 54.94%\n",
      "\n",
      "Finished training\n",
      "CPU times: total: 2h 14min 12s\n",
      "Wall time: 16min 52s\n"
     ]
    },
    {
     "data": {
      "image/png": "[encoded data removed]",
      "text/plain": [
       "<Figure size 640x480 with 1 Axes>"
      ]
     },
     "metadata": {},
     "output_type": "display_data"
    }
   ],
   "source": [
    "%%time\n",
    "loss = nn.CrossEntropyLoss()\n",
    "optimizer = optim.SGD(model.parameters(), lr=0.01)\n",
    "\n",
    "train(model, loss, optimizer, train_dataloader, val_dataloader, num_epochs=100, device=device)"
   ]
  },
  {
   "cell_type": "markdown",
   "metadata": {},
   "source": [
    "### 添加了BatchNorm和数据增强"
   ]
  },
  {
   "cell_type": "code",
   "execution_count": 41,
   "metadata": {},
   "outputs": [
    {
     "name": "stdout",
     "output_type": "stream",
     "text": [
      "Sequential output shape:\t torch.Size([1, 6, 32, 32])\n",
      "AvgPool2d output shape:\t torch.Size([1, 6, 16, 16])\n",
      "Sequential output shape:\t torch.Size([1, 6, 16, 16])\n",
      "AvgPool2d output shape:\t torch.Size([1, 6, 8, 8])\n",
      "Sequential output shape:\t torch.Size([1, 6, 8, 8])\n",
      "AvgPool2d output shape:\t torch.Size([1, 6, 4, 4])\n",
      "Flatten output shape:\t torch.Size([1, 96])\n",
      "Linear output shape:\t torch.Size([1, 120])\n",
      "ReLU output shape:\t torch.Size([1, 120])\n",
      "Linear output shape:\t torch.Size([1, 84])\n",
      "ReLU output shape:\t torch.Size([1, 84])\n",
      "Linear output shape:\t torch.Size([1, 10])\n"
     ]
    }
   ],
   "source": [
    "def conv_block(num_channels):\n",
    "    return nn.Sequential(\n",
    "        nn.LazyBatchNorm2d(), nn.ReLU(),\n",
    "        nn.LazyConv2d(num_channels, kernel_size=3, padding=1))\n",
    "\n",
    "class LeNet_with_norm(nn.Module):\n",
    "    def __init__(self, num_classes=10):\n",
    "        super().__init__()\n",
    "        self.num_classes = num_classes\n",
    "        self.net = nn.Sequential(\n",
    "            conv_block(6),\n",
    "            nn.AvgPool2d(kernel_size=2, stride=2),\n",
    "            conv_block(6),\n",
    "            nn.AvgPool2d(kernel_size=2, stride=2),\n",
    "            conv_block(6),\n",
    "            nn.AvgPool2d(kernel_size=2, stride=2),\n",
    "            nn.Flatten(),\n",
    "            nn.LazyLinear(120), nn.ReLU(),\n",
    "            nn.LazyLinear(84), nn.ReLU(),\n",
    "            nn.LazyLinear(num_classes))\n",
    "        init_cnn(self.net)\n",
    "    \n",
    "    def forward(self, X):\n",
    "        return self.net(X)\n",
    "    \n",
    "model = LeNet_with_norm()\n",
    "X = torch.randn(1, 3, 32, 32)\n",
    "layer_summary(model, X.shape)"
   ]
  },
  {
   "cell_type": "code",
   "execution_count": 42,
   "metadata": {},
   "outputs": [
    {
     "data": {
      "application/vnd.jupyter.widget-view+json": {
       "model_id": "54e1d0ec113041af8ea5c371538e9008",
       "version_major": 2,
       "version_minor": 0
      },
      "text/plain": [
       "  0%|          | 0/100 [00:00<?, ?it/s]"
      ]
     },
     "metadata": {},
     "output_type": "display_data"
    },
    {
     "name": "stdout",
     "output_type": "stream",
     "text": [
      "Epoch 1\n",
      "-------------------------------\n",
      "Train loss: 2.23751 | Train accuracy: 16.68%\n",
      "Validation loss: 2.17876 | Validation accuracy: 20.07%\n",
      "\n",
      "Epoch 2\n",
      "-------------------------------\n",
      "Train loss: 2.12535 | Train accuracy: 22.09%\n",
      "Validation loss: 2.09853 | Validation accuracy: 23.58%\n",
      "\n",
      "Epoch 3\n",
      "-------------------------------\n",
      "Train loss: 2.03220 | Train accuracy: 26.60%\n",
      "Validation loss: 2.04043 | Validation accuracy: 26.73%\n",
      "\n",
      "Epoch 4\n",
      "-------------------------------\n",
      "Train loss: 1.95747 | Train accuracy: 29.39%\n",
      "Validation loss: 1.94420 | Validation accuracy: 30.40%\n",
      "\n",
      "Epoch 5\n",
      "-------------------------------\n",
      "Train loss: 1.90240 | Train accuracy: 31.70%\n",
      "Validation loss: 1.87428 | Validation accuracy: 33.41%\n",
      "\n",
      "Epoch 6\n",
      "-------------------------------\n",
      "Train loss: 1.87106 | Train accuracy: 33.16%\n",
      "Validation loss: 1.86206 | Validation accuracy: 33.56%\n",
      "\n",
      "Epoch 7\n",
      "-------------------------------\n",
      "Train loss: 1.84572 | Train accuracy: 33.93%\n",
      "Validation loss: 1.81660 | Validation accuracy: 34.38%\n",
      "\n",
      "Epoch 8\n",
      "-------------------------------\n",
      "Train loss: 1.80821 | Train accuracy: 35.40%\n",
      "Validation loss: 1.81569 | Validation accuracy: 34.19%\n",
      "\n",
      "Epoch 9\n",
      "-------------------------------\n",
      "Train loss: 1.79134 | Train accuracy: 36.33%\n",
      "Validation loss: 1.82133 | Validation accuracy: 34.49%\n",
      "\n",
      "Epoch 10\n",
      "-------------------------------\n",
      "Train loss: 1.76889 | Train accuracy: 36.85%\n",
      "Validation loss: 1.77600 | Validation accuracy: 36.08%\n",
      "\n",
      "Epoch 11\n",
      "-------------------------------\n",
      "Train loss: 1.75056 | Train accuracy: 37.44%\n",
      "Validation loss: 1.75331 | Validation accuracy: 36.92%\n",
      "\n",
      "Epoch 12\n",
      "-------------------------------\n",
      "Train loss: 1.74003 | Train accuracy: 38.08%\n",
      "Validation loss: 1.75137 | Validation accuracy: 37.38%\n",
      "\n",
      "Epoch 13\n",
      "-------------------------------\n",
      "Train loss: 1.72746 | Train accuracy: 38.50%\n",
      "Validation loss: 1.73325 | Validation accuracy: 38.01%\n",
      "\n",
      "Epoch 14\n",
      "-------------------------------\n",
      "Train loss: 1.70959 | Train accuracy: 39.13%\n",
      "Validation loss: 1.73352 | Validation accuracy: 37.94%\n",
      "\n",
      "Epoch 15\n",
      "-------------------------------\n",
      "Train loss: 1.69937 | Train accuracy: 39.22%\n",
      "Validation loss: 1.71446 | Validation accuracy: 38.99%\n",
      "\n",
      "Epoch 16\n",
      "-------------------------------\n",
      "Train loss: 1.68639 | Train accuracy: 39.90%\n",
      "Validation loss: 1.69673 | Validation accuracy: 39.55%\n",
      "\n",
      "Epoch 17\n",
      "-------------------------------\n",
      "Train loss: 1.67201 | Train accuracy: 40.21%\n",
      "Validation loss: 1.69489 | Validation accuracy: 39.33%\n",
      "\n",
      "Epoch 18\n",
      "-------------------------------\n",
      "Train loss: 1.65832 | Train accuracy: 40.97%\n",
      "Validation loss: 1.67396 | Validation accuracy: 40.88%\n",
      "\n",
      "Epoch 19\n",
      "-------------------------------\n",
      "Train loss: 1.64720 | Train accuracy: 41.20%\n",
      "Validation loss: 1.66632 | Validation accuracy: 40.76%\n",
      "\n",
      "Epoch 20\n",
      "-------------------------------\n",
      "Train loss: 1.64082 | Train accuracy: 41.55%\n",
      "Validation loss: 1.65827 | Validation accuracy: 40.65%\n",
      "\n",
      "Epoch 21\n",
      "-------------------------------\n",
      "Train loss: 1.63320 | Train accuracy: 41.72%\n",
      "Validation loss: 1.68640 | Validation accuracy: 39.94%\n",
      "\n",
      "Epoch 22\n",
      "-------------------------------\n",
      "Train loss: 1.62623 | Train accuracy: 41.87%\n",
      "Validation loss: 1.65692 | Validation accuracy: 41.08%\n",
      "\n",
      "Epoch 23\n",
      "-------------------------------\n",
      "Train loss: 1.61920 | Train accuracy: 42.50%\n",
      "Validation loss: 1.65922 | Validation accuracy: 40.39%\n",
      "\n",
      "Epoch 24\n",
      "-------------------------------\n",
      "Train loss: 1.60408 | Train accuracy: 42.95%\n",
      "Validation loss: 1.68603 | Validation accuracy: 40.62%\n",
      "\n",
      "Epoch 25\n",
      "-------------------------------\n",
      "Train loss: 1.58619 | Train accuracy: 43.45%\n",
      "Validation loss: 1.62371 | Validation accuracy: 42.33%\n",
      "\n",
      "Epoch 26\n",
      "-------------------------------\n",
      "Train loss: 1.58471 | Train accuracy: 43.66%\n",
      "Validation loss: 1.61728 | Validation accuracy: 41.99%\n",
      "\n",
      "Epoch 27\n",
      "-------------------------------\n",
      "Train loss: 1.58080 | Train accuracy: 43.48%\n",
      "Validation loss: 1.62980 | Validation accuracy: 42.20%\n",
      "\n",
      "Epoch 28\n",
      "-------------------------------\n",
      "Train loss: 1.58511 | Train accuracy: 43.48%\n",
      "Validation loss: 1.59914 | Validation accuracy: 42.71%\n",
      "\n",
      "Epoch 29\n",
      "-------------------------------\n",
      "Train loss: 1.56434 | Train accuracy: 44.36%\n",
      "Validation loss: 1.58951 | Validation accuracy: 42.93%\n",
      "\n",
      "Epoch 30\n",
      "-------------------------------\n",
      "Train loss: 1.56036 | Train accuracy: 44.43%\n",
      "Validation loss: 1.60578 | Validation accuracy: 42.39%\n",
      "\n",
      "Epoch 31\n",
      "-------------------------------\n",
      "Train loss: 1.54152 | Train accuracy: 45.05%\n",
      "Validation loss: 1.59959 | Validation accuracy: 43.14%\n",
      "\n",
      "Epoch 32\n",
      "-------------------------------\n",
      "Train loss: 1.54405 | Train accuracy: 45.25%\n",
      "Validation loss: 1.59790 | Validation accuracy: 43.44%\n",
      "\n",
      "Epoch 33\n",
      "-------------------------------\n",
      "Train loss: 1.53681 | Train accuracy: 45.62%\n",
      "Validation loss: 1.58713 | Validation accuracy: 43.38%\n",
      "\n",
      "Epoch 34\n",
      "-------------------------------\n",
      "Train loss: 1.53436 | Train accuracy: 45.36%\n",
      "Validation loss: 1.58514 | Validation accuracy: 43.71%\n",
      "\n",
      "Epoch 35\n",
      "-------------------------------\n",
      "Train loss: 1.52020 | Train accuracy: 46.12%\n",
      "Validation loss: 1.57289 | Validation accuracy: 43.88%\n",
      "\n",
      "Epoch 36\n",
      "-------------------------------\n",
      "Train loss: 1.52126 | Train accuracy: 46.03%\n",
      "Validation loss: 1.57837 | Validation accuracy: 44.09%\n",
      "\n",
      "Epoch 37\n",
      "-------------------------------\n",
      "Train loss: 1.51390 | Train accuracy: 46.38%\n",
      "Validation loss: 1.56210 | Validation accuracy: 44.11%\n",
      "\n",
      "Epoch 38\n",
      "-------------------------------\n",
      "Train loss: 1.50218 | Train accuracy: 46.63%\n",
      "Validation loss: 1.56626 | Validation accuracy: 45.01%\n",
      "\n",
      "Epoch 39\n",
      "-------------------------------\n",
      "Train loss: 1.51042 | Train accuracy: 46.28%\n",
      "Validation loss: 1.54787 | Validation accuracy: 44.60%\n",
      "\n",
      "Epoch 40\n",
      "-------------------------------\n",
      "Train loss: 1.49498 | Train accuracy: 46.48%\n",
      "Validation loss: 1.54535 | Validation accuracy: 44.88%\n",
      "\n",
      "Epoch 41\n",
      "-------------------------------\n",
      "Train loss: 1.49679 | Train accuracy: 46.72%\n",
      "Validation loss: 1.56730 | Validation accuracy: 44.37%\n",
      "\n",
      "Epoch 42\n",
      "-------------------------------\n",
      "Train loss: 1.48696 | Train accuracy: 47.42%\n",
      "Validation loss: 1.53054 | Validation accuracy: 44.80%\n",
      "\n",
      "Epoch 43\n",
      "-------------------------------\n",
      "Train loss: 1.48020 | Train accuracy: 47.28%\n",
      "Validation loss: 1.59562 | Validation accuracy: 43.03%\n",
      "\n",
      "Epoch 44\n",
      "-------------------------------\n",
      "Train loss: 1.47243 | Train accuracy: 47.69%\n",
      "Validation loss: 1.55619 | Validation accuracy: 44.63%\n",
      "\n",
      "Epoch 45\n",
      "-------------------------------\n",
      "Train loss: 1.47022 | Train accuracy: 47.75%\n",
      "Validation loss: 1.51800 | Validation accuracy: 45.97%\n",
      "\n",
      "Epoch 46\n",
      "-------------------------------\n",
      "Train loss: 1.46809 | Train accuracy: 47.33%\n",
      "Validation loss: 1.54175 | Validation accuracy: 45.62%\n",
      "\n",
      "Epoch 47\n",
      "-------------------------------\n",
      "Train loss: 1.46002 | Train accuracy: 48.27%\n",
      "Validation loss: 1.54827 | Validation accuracy: 45.28%\n",
      "\n",
      "Epoch 48\n",
      "-------------------------------\n",
      "Train loss: 1.45435 | Train accuracy: 48.38%\n",
      "Validation loss: 1.51835 | Validation accuracy: 45.41%\n",
      "\n",
      "Epoch 49\n",
      "-------------------------------\n",
      "Train loss: 1.45711 | Train accuracy: 48.40%\n",
      "Validation loss: 1.53633 | Validation accuracy: 45.04%\n",
      "\n",
      "Epoch 50\n",
      "-------------------------------\n",
      "Train loss: 1.44839 | Train accuracy: 48.72%\n",
      "Validation loss: 1.53666 | Validation accuracy: 44.96%\n",
      "\n",
      "Epoch 51\n",
      "-------------------------------\n",
      "Train loss: 1.44985 | Train accuracy: 48.75%\n",
      "Validation loss: 1.51818 | Validation accuracy: 46.32%\n",
      "\n",
      "Epoch 52\n",
      "-------------------------------\n",
      "Train loss: 1.44090 | Train accuracy: 48.95%\n",
      "Validation loss: 1.53249 | Validation accuracy: 45.58%\n",
      "\n",
      "Epoch 53\n",
      "-------------------------------\n",
      "Train loss: 1.43979 | Train accuracy: 48.79%\n",
      "Validation loss: 1.49078 | Validation accuracy: 46.79%\n",
      "\n",
      "Epoch 54\n",
      "-------------------------------\n",
      "Train loss: 1.43637 | Train accuracy: 49.23%\n",
      "Validation loss: 1.51741 | Validation accuracy: 45.94%\n",
      "\n",
      "Epoch 55\n",
      "-------------------------------\n",
      "Train loss: 1.43001 | Train accuracy: 49.49%\n",
      "Validation loss: 1.51913 | Validation accuracy: 45.76%\n",
      "\n",
      "Epoch 56\n",
      "-------------------------------\n",
      "Train loss: 1.42394 | Train accuracy: 49.79%\n",
      "Validation loss: 1.54787 | Validation accuracy: 45.51%\n",
      "\n",
      "Epoch 57\n",
      "-------------------------------\n",
      "Train loss: 1.43370 | Train accuracy: 49.39%\n",
      "Validation loss: 1.49831 | Validation accuracy: 46.57%\n",
      "\n",
      "Epoch 58\n",
      "-------------------------------\n",
      "Train loss: 1.42049 | Train accuracy: 49.77%\n",
      "Validation loss: 1.51592 | Validation accuracy: 46.04%\n",
      "\n",
      "Epoch 59\n",
      "-------------------------------\n",
      "Train loss: 1.42189 | Train accuracy: 49.64%\n",
      "Validation loss: 1.50556 | Validation accuracy: 46.86%\n",
      "\n",
      "Epoch 60\n",
      "-------------------------------\n",
      "Train loss: 1.41398 | Train accuracy: 49.84%\n",
      "Validation loss: 1.50016 | Validation accuracy: 46.09%\n",
      "\n",
      "Epoch 61\n",
      "-------------------------------\n",
      "Train loss: 1.41648 | Train accuracy: 49.70%\n",
      "Validation loss: 1.49258 | Validation accuracy: 47.01%\n",
      "\n",
      "Epoch 62\n",
      "-------------------------------\n",
      "Train loss: 1.41164 | Train accuracy: 50.17%\n",
      "Validation loss: 1.49074 | Validation accuracy: 46.90%\n",
      "\n",
      "Epoch 63\n",
      "-------------------------------\n",
      "Train loss: 1.40493 | Train accuracy: 50.01%\n",
      "Validation loss: 1.48987 | Validation accuracy: 47.04%\n",
      "\n",
      "Epoch 64\n",
      "-------------------------------\n",
      "Train loss: 1.39867 | Train accuracy: 50.30%\n",
      "Validation loss: 1.48609 | Validation accuracy: 46.92%\n",
      "\n",
      "Epoch 65\n",
      "-------------------------------\n",
      "Train loss: 1.40455 | Train accuracy: 50.06%\n",
      "Validation loss: 1.51025 | Validation accuracy: 47.02%\n",
      "\n",
      "Epoch 66\n",
      "-------------------------------\n",
      "Train loss: 1.40372 | Train accuracy: 50.32%\n",
      "Validation loss: 1.51657 | Validation accuracy: 46.48%\n",
      "\n",
      "Epoch 67\n",
      "-------------------------------\n",
      "Train loss: 1.39099 | Train accuracy: 50.54%\n",
      "Validation loss: 1.48726 | Validation accuracy: 47.44%\n",
      "\n",
      "Epoch 68\n",
      "-------------------------------\n",
      "Train loss: 1.38760 | Train accuracy: 50.72%\n",
      "Validation loss: 1.50970 | Validation accuracy: 46.38%\n",
      "\n",
      "Epoch 69\n",
      "-------------------------------\n",
      "Train loss: 1.39012 | Train accuracy: 50.66%\n",
      "Validation loss: 1.50479 | Validation accuracy: 46.71%\n",
      "\n",
      "Epoch 70\n",
      "-------------------------------\n",
      "Train loss: 1.39249 | Train accuracy: 50.45%\n",
      "Validation loss: 1.50416 | Validation accuracy: 46.94%\n",
      "\n",
      "Epoch 71\n",
      "-------------------------------\n",
      "Train loss: 1.38211 | Train accuracy: 51.05%\n",
      "Validation loss: 1.47657 | Validation accuracy: 48.08%\n",
      "\n",
      "Epoch 72\n",
      "-------------------------------\n",
      "Train loss: 1.38047 | Train accuracy: 51.13%\n",
      "Validation loss: 1.48196 | Validation accuracy: 47.14%\n",
      "\n",
      "Epoch 73\n",
      "-------------------------------\n",
      "Train loss: 1.38286 | Train accuracy: 50.80%\n",
      "Validation loss: 1.47565 | Validation accuracy: 47.65%\n",
      "\n",
      "Epoch 74\n",
      "-------------------------------\n",
      "Train loss: 1.37420 | Train accuracy: 51.25%\n",
      "Validation loss: 1.48244 | Validation accuracy: 47.36%\n",
      "\n",
      "Epoch 75\n",
      "-------------------------------\n",
      "Train loss: 1.36340 | Train accuracy: 51.80%\n",
      "Validation loss: 1.47225 | Validation accuracy: 48.08%\n",
      "\n",
      "Epoch 76\n",
      "-------------------------------\n",
      "Train loss: 1.37232 | Train accuracy: 51.41%\n",
      "Validation loss: 1.47739 | Validation accuracy: 47.14%\n",
      "\n",
      "Epoch 77\n",
      "-------------------------------\n",
      "Train loss: 1.36480 | Train accuracy: 51.78%\n",
      "Validation loss: 1.48762 | Validation accuracy: 46.73%\n",
      "\n",
      "Epoch 78\n",
      "-------------------------------\n",
      "Train loss: 1.36627 | Train accuracy: 51.24%\n",
      "Validation loss: 1.47334 | Validation accuracy: 47.53%\n",
      "\n",
      "Epoch 79\n",
      "-------------------------------\n",
      "Train loss: 1.36031 | Train accuracy: 51.85%\n",
      "Validation loss: 1.48410 | Validation accuracy: 47.22%\n",
      "\n",
      "Epoch 80\n",
      "-------------------------------\n",
      "Train loss: 1.36815 | Train accuracy: 51.59%\n",
      "Validation loss: 1.48154 | Validation accuracy: 47.56%\n",
      "\n",
      "Epoch 81\n",
      "-------------------------------\n",
      "Train loss: 1.36098 | Train accuracy: 51.40%\n",
      "Validation loss: 1.49060 | Validation accuracy: 46.75%\n",
      "\n",
      "Epoch 82\n",
      "-------------------------------\n",
      "Train loss: 1.35406 | Train accuracy: 51.76%\n",
      "Validation loss: 1.46093 | Validation accuracy: 47.31%\n",
      "\n",
      "Epoch 83\n",
      "-------------------------------\n",
      "Train loss: 1.35593 | Train accuracy: 51.73%\n",
      "Validation loss: 1.49025 | Validation accuracy: 47.23%\n",
      "\n",
      "Epoch 84\n",
      "-------------------------------\n",
      "Train loss: 1.35356 | Train accuracy: 52.15%\n",
      "Validation loss: 1.46619 | Validation accuracy: 47.18%\n",
      "\n",
      "Epoch 85\n",
      "-------------------------------\n",
      "Train loss: 1.35167 | Train accuracy: 51.97%\n",
      "Validation loss: 1.49040 | Validation accuracy: 48.06%\n",
      "\n",
      "Epoch 86\n",
      "-------------------------------\n",
      "Train loss: 1.35379 | Train accuracy: 51.93%\n",
      "Validation loss: 1.50389 | Validation accuracy: 47.48%\n",
      "\n",
      "Epoch 87\n",
      "-------------------------------\n",
      "Train loss: 1.34726 | Train accuracy: 52.33%\n",
      "Validation loss: 1.49182 | Validation accuracy: 46.44%\n",
      "\n",
      "Epoch 88\n",
      "-------------------------------\n",
      "Train loss: 1.34796 | Train accuracy: 52.15%\n",
      "Validation loss: 1.47974 | Validation accuracy: 47.94%\n",
      "\n",
      "Epoch 89\n",
      "-------------------------------\n",
      "Train loss: 1.34623 | Train accuracy: 52.05%\n",
      "Validation loss: 1.46239 | Validation accuracy: 48.26%\n",
      "\n",
      "Epoch 90\n",
      "-------------------------------\n",
      "Train loss: 1.34066 | Train accuracy: 52.60%\n",
      "Validation loss: 1.47387 | Validation accuracy: 47.82%\n",
      "\n",
      "Epoch 91\n",
      "-------------------------------\n",
      "Train loss: 1.33943 | Train accuracy: 52.41%\n",
      "Validation loss: 1.45079 | Validation accuracy: 48.64%\n",
      "\n",
      "Epoch 92\n",
      "-------------------------------\n",
      "Train loss: 1.34525 | Train accuracy: 52.27%\n",
      "Validation loss: 1.45051 | Validation accuracy: 48.77%\n",
      "\n",
      "Epoch 93\n",
      "-------------------------------\n",
      "Train loss: 1.34181 | Train accuracy: 52.57%\n",
      "Validation loss: 1.48983 | Validation accuracy: 47.65%\n",
      "\n",
      "Epoch 94\n",
      "-------------------------------\n",
      "Train loss: 1.33172 | Train accuracy: 52.53%\n",
      "Validation loss: 1.46129 | Validation accuracy: 48.08%\n",
      "\n",
      "Epoch 95\n",
      "-------------------------------\n",
      "Train loss: 1.33999 | Train accuracy: 52.63%\n",
      "Validation loss: 1.44901 | Validation accuracy: 48.41%\n",
      "\n",
      "Epoch 96\n",
      "-------------------------------\n",
      "Train loss: 1.34099 | Train accuracy: 52.30%\n",
      "Validation loss: 1.45486 | Validation accuracy: 48.24%\n",
      "\n",
      "Epoch 97\n",
      "-------------------------------\n",
      "Train loss: 1.33783 | Train accuracy: 52.62%\n",
      "Validation loss: 1.45981 | Validation accuracy: 47.99%\n",
      "\n",
      "Epoch 98\n",
      "-------------------------------\n",
      "Train loss: 1.33465 | Train accuracy: 52.59%\n",
      "Validation loss: 1.46801 | Validation accuracy: 48.01%\n",
      "\n",
      "Epoch 99\n",
      "-------------------------------\n",
      "Train loss: 1.32797 | Train accuracy: 53.09%\n",
      "Validation loss: 1.47023 | Validation accuracy: 47.94%\n",
      "\n",
      "Epoch 100\n",
      "-------------------------------\n",
      "Train loss: 1.33992 | Train accuracy: 52.22%\n",
      "Validation loss: 1.45287 | Validation accuracy: 48.43%\n",
      "\n",
      "Finished training\n",
      "CPU times: total: 6h 30min 55s\n",
      "Wall time: 49min 19s\n"
     ]
    },
    {
     "data": {
      "image/png": "[encoded data removed]",
      "text/plain": [
       "<Figure size 640x480 with 1 Axes>"
      ]
     },
     "metadata": {},
     "output_type": "display_data"
    }
   ],
   "source": [
    "%%time\n",
    "loss = nn.CrossEntropyLoss()\n",
    "optimizer = optim.SGD(model.parameters(), lr=0.01)\n",
    "train(model, loss, optimizer, train_dataloader, val_dataloader, num_epochs=100, device=device)"
   ]
  },
  {
   "cell_type": "markdown",
   "metadata": {},
   "source": [
    "### 保存"
   ]
  },
  {
   "cell_type": "code",
   "execution_count": 16,
   "metadata": {},
   "outputs": [],
   "source": [
    "MODEL_NAME = \"lenet_cifar10.pth\"\n",
    "MODEL_SAVE_PATH = MODEL_PATH / MODEL_NAME\n",
    "torch.save(obj=model.state_dict(), \n",
    "           f=MODEL_SAVE_PATH)"
   ]
  },
  {
   "cell_type": "markdown",
   "metadata": {},
   "source": [
    "## ResNet\n",
    "### 定义\n",
    "模仿了ResNet18的结构，但是ResNet18是在ImageNet上训练的，CIFAR-10的分辨率低很多，所以第一个 $7*7$ 卷积换成了 $5*5$ 的。"
   ]
  },
  {
   "cell_type": "code",
   "execution_count": 15,
   "metadata": {
    "tags": []
   },
   "outputs": [
    {
     "name": "stdout",
     "output_type": "stream",
     "text": [
      "Sequential output shape:\t torch.Size([1, 64, 9, 9])\n",
      "Sequential output shape:\t torch.Size([1, 64, 9, 9])\n",
      "Sequential output shape:\t torch.Size([1, 128, 5, 5])\n",
      "Sequential output shape:\t torch.Size([1, 256, 3, 3])\n",
      "Sequential output shape:\t torch.Size([1, 512, 2, 2])\n",
      "Sequential output shape:\t torch.Size([1, 10])\n"
     ]
    }
   ],
   "source": [
    "class ResidualBlock(nn.Module):\n",
    "    def __init__(self, num_channels, use_1x1conv=False, strides=1):\n",
    "        super().__init__()\n",
    "        self.conv1 = nn.LazyConv2d(num_channels, kernel_size=3, padding=1,\n",
    "                                   stride=strides)\n",
    "        self.conv2 = nn.LazyConv2d(num_channels, kernel_size=3, padding=1)\n",
    "        if use_1x1conv:\n",
    "            self.conv3 = nn.LazyConv2d(num_channels, kernel_size=1,\n",
    "                                       stride=strides)\n",
    "        else:\n",
    "            self.conv3 = None\n",
    "        self.bn1 = nn.LazyBatchNorm2d()\n",
    "        self.bn2 = nn.LazyBatchNorm2d()\n",
    "    def forward(self, X):\n",
    "        Y = F.relu(self.bn1(self.conv1(X)))\n",
    "        Y = nn.Dropout2d(0.1)(Y)\n",
    "        Y = self.bn2(self.conv2(Y))\n",
    "        if self.conv3:\n",
    "            X = self.conv3(X)\n",
    "        Y += X\n",
    "        return F.relu(Y)\n",
    "\n",
    "class BottleNeckResidualBlock(nn.Module):\n",
    "    def __init__(self, num_channels, use_1x1conv=False, strides=1):\n",
    "        super().__init__()\n",
    "        self.conv1 = nn.LazyConv2d(num_channels, kernel_size=1,\n",
    "                                   stride=1)\n",
    "        self.conv2 = nn.LazyConv2d(num_channels, kernel_size=3, padding=1, stride=strides)\n",
    "        self.conv4 = nn.LazyConv2d(num_channels*4, kernel_size=1, stride=1)\n",
    "        if use_1x1conv:\n",
    "            self.conv3 = nn.LazyConv2d(num_channels, kernel_size=1,\n",
    "                                       stride=strides)\n",
    "        else:\n",
    "            self.conv3 = None\n",
    "        self.bn1 = nn.LazyBatchNorm2d()\n",
    "        self.bn2 = nn.LazyBatchNorm2d()\n",
    "    def forward(self, X):\n",
    "        Y = F.relu(self.bn1(self.conv1(X)))\n",
    "        Y = nn.Dropout2d(0.1)(Y)\n",
    "        Y = self.bn2(self.conv2(Y))\n",
    "        Y = nn.Dropout2d(0.1)(Y)\n",
    "        Y = self.conv4(Y)\n",
    "        if self.conv3:\n",
    "            X = self.conv3(X)\n",
    "        Y += X\n",
    "        return F.relu(Y)\n",
    " \n",
    "class ResNet(nn.Module):\n",
    "    def __init__(self, arch, num_classes=10):\n",
    "        super().__init__()\n",
    "        self.net = nn.Sequential(self.b1())\n",
    "        for i, b in enumerate(arch):\n",
    "            self.net.add_module(f\"b{i+2}\", self.block(*b, first_block=(i==0)))\n",
    "        \n",
    "        self.net.add_module(\"last\", nn.Sequential(      \n",
    "            nn.AdaptiveAvgPool2d((1, 1)),\n",
    "            nn.Flatten(),\n",
    "            nn.LazyLinear(num_classes)\n",
    "        ))\n",
    "        init_cnn(self.net)\n",
    "\n",
    "    def block(self, num_residuals, num_channels, first_block=False):\n",
    "        blk = []\n",
    "        if num_residuals <= 2:\n",
    "            for i in range(num_residuals):\n",
    "                if i == 0 and not first_block:\n",
    "                    blk.append(ResidualBlock(num_channels, use_1x1conv=True, strides=2))\n",
    "                else:\n",
    "                    blk.append(ResidualBlock(num_channels))\n",
    "            return nn.Sequential(*blk)\n",
    "        elif num_residuals >= 2:\n",
    "            for i in range(num_residuals):\n",
    "                if i == 0 and not first_block:\n",
    "                    blk.append(BottleNeckResidualBlock(num_channels, use_1x1conv=True, strides=2))\n",
    "                else:\n",
    "                    blk.append(BottleNeckResidualBlock(num_channels))\n",
    "            return nn.Sequential(*blk)           \n",
    "\n",
    "    def b1(self):\n",
    "        return nn.Sequential(\n",
    "            nn.LazyConv2d(64, kernel_size=3, stride=2, padding=3),\n",
    "            nn.LazyBatchNorm2d(), nn.ReLU(),\n",
    "            nn.MaxPool2d(kernel_size=3, stride=2, padding=1))\n",
    "\n",
    "    def forward(self, X):\n",
    "        return self.net(X)\n",
    "    \n",
    "model = ResNet(arch=[[2, 64], [2, 128], [2, 256], [2, 512]], num_classes=10)\n",
    "layer_summary(model, (1, 3, 32, 32))"
   ]
  },
  {
   "cell_type": "markdown",
   "metadata": {},
   "source": [
    "### 训练"
   ]
  },
  {
   "cell_type": "code",
   "execution_count": 22,
   "metadata": {
    "tags": []
   },
   "outputs": [
    {
     "data": {
      "application/json": {
       "ascii": false,
       "bar_format": null,
       "colour": null,
       "elapsed": 0.010341644287109375,
       "initial": 0,
       "n": 0,
       "ncols": null,
       "nrows": null,
       "postfix": null,
       "prefix": "",
       "rate": null,
       "total": 100,
       "unit": "it",
       "unit_divisor": 1000,
       "unit_scale": false
      },
      "application/vnd.jupyter.widget-view+json": {
       "model_id": "cbe529fe5a30410bafc33356ba6d6482",
       "version_major": 2,
       "version_minor": 0
      },
      "text/plain": [
       "  0%|          | 0/100 [00:00<?, ?it/s]"
      ]
     },
     "metadata": {},
     "output_type": "display_data"
    },
    {
     "name": "stdout",
     "output_type": "stream",
     "text": [
      "Epoch 1\n",
      "-------------------------------\n",
      "Train loss: 1.88174 | Train accuracy: 28.38%\n",
      "Validation loss: 1.64931 | Validation accuracy: 39.13%\n",
      "\n",
      "Epoch 2\n",
      "-------------------------------\n",
      "Train loss: 1.60362 | Train accuracy: 40.09%\n",
      "Validation loss: 1.48545 | Validation accuracy: 44.71%\n",
      "\n",
      "Epoch 3\n",
      "-------------------------------\n",
      "Train loss: 1.43266 | Train accuracy: 47.74%\n",
      "Validation loss: 1.39819 | Validation accuracy: 48.85%\n",
      "\n",
      "Epoch 4\n",
      "-------------------------------\n",
      "Train loss: 1.30400 | Train accuracy: 52.68%\n",
      "Validation loss: 1.29405 | Validation accuracy: 53.31%\n",
      "\n",
      "Epoch 5\n",
      "-------------------------------\n",
      "Train loss: 1.22185 | Train accuracy: 56.12%\n",
      "Validation loss: 1.20200 | Validation accuracy: 57.75%\n",
      "\n",
      "Epoch 6\n",
      "-------------------------------\n",
      "Train loss: 1.13787 | Train accuracy: 59.42%\n",
      "Validation loss: 1.23389 | Validation accuracy: 57.24%\n",
      "\n",
      "Epoch 7\n",
      "-------------------------------\n",
      "Train loss: 1.08515 | Train accuracy: 61.45%\n",
      "Validation loss: 1.15780 | Validation accuracy: 59.70%\n",
      "\n",
      "Epoch 8\n",
      "-------------------------------\n",
      "Train loss: 1.04348 | Train accuracy: 63.07%\n",
      "Validation loss: 1.05816 | Validation accuracy: 62.39%\n",
      "\n",
      "Epoch 9\n",
      "-------------------------------\n",
      "Train loss: 1.00936 | Train accuracy: 64.49%\n",
      "Validation loss: 1.04947 | Validation accuracy: 63.09%\n",
      "\n",
      "Epoch 10\n",
      "-------------------------------\n",
      "Train loss: 0.96714 | Train accuracy: 66.03%\n",
      "Validation loss: 1.04438 | Validation accuracy: 63.76%\n",
      "\n",
      "Epoch 11\n",
      "-------------------------------\n",
      "Train loss: 0.92400 | Train accuracy: 67.86%\n",
      "Validation loss: 0.94530 | Validation accuracy: 66.48%\n",
      "\n",
      "Epoch 12\n",
      "-------------------------------\n",
      "Train loss: 0.89296 | Train accuracy: 68.73%\n",
      "Validation loss: 0.92689 | Validation accuracy: 67.78%\n",
      "\n",
      "Epoch 13\n",
      "-------------------------------\n",
      "Train loss: 0.87839 | Train accuracy: 69.56%\n",
      "Validation loss: 0.97747 | Validation accuracy: 66.95%\n",
      "\n",
      "Epoch 14\n",
      "-------------------------------\n",
      "Train loss: 0.85658 | Train accuracy: 70.25%\n",
      "Validation loss: 0.85982 | Validation accuracy: 69.66%\n",
      "\n",
      "Epoch 15\n",
      "-------------------------------\n",
      "Train loss: 0.82979 | Train accuracy: 71.27%\n",
      "Validation loss: 0.88199 | Validation accuracy: 69.91%\n",
      "\n",
      "Epoch 16\n",
      "-------------------------------\n",
      "Train loss: 0.80204 | Train accuracy: 72.23%\n",
      "Validation loss: 0.84084 | Validation accuracy: 71.00%\n",
      "\n",
      "Epoch 17\n",
      "-------------------------------\n",
      "Train loss: 0.78422 | Train accuracy: 72.78%\n",
      "Validation loss: 0.84313 | Validation accuracy: 70.89%\n",
      "\n",
      "Epoch 18\n",
      "-------------------------------\n",
      "Train loss: 0.77464 | Train accuracy: 73.13%\n",
      "Validation loss: 0.85877 | Validation accuracy: 70.20%\n",
      "\n",
      "Epoch 19\n",
      "-------------------------------\n",
      "Train loss: 0.76830 | Train accuracy: 73.70%\n",
      "Validation loss: 0.80220 | Validation accuracy: 72.48%\n",
      "\n",
      "Epoch 20\n",
      "-------------------------------\n",
      "Train loss: 0.75247 | Train accuracy: 73.93%\n",
      "Validation loss: 0.79811 | Validation accuracy: 72.95%\n",
      "\n",
      "Epoch 21\n",
      "-------------------------------\n",
      "Train loss: 0.72858 | Train accuracy: 74.83%\n",
      "Validation loss: 0.80471 | Validation accuracy: 71.90%\n",
      "\n",
      "Epoch 22\n",
      "-------------------------------\n",
      "Train loss: 0.70898 | Train accuracy: 75.52%\n",
      "Validation loss: 0.77006 | Validation accuracy: 73.62%\n",
      "\n",
      "Epoch 23\n",
      "-------------------------------\n",
      "Train loss: 0.70480 | Train accuracy: 75.62%\n",
      "Validation loss: 0.77737 | Validation accuracy: 73.26%\n",
      "\n",
      "Epoch 24\n",
      "-------------------------------\n",
      "Train loss: 0.70006 | Train accuracy: 75.57%\n",
      "Validation loss: 0.74742 | Validation accuracy: 74.51%\n",
      "\n",
      "Epoch 25\n",
      "-------------------------------\n",
      "Train loss: 0.68375 | Train accuracy: 76.46%\n",
      "Validation loss: 0.77931 | Validation accuracy: 74.01%\n",
      "\n",
      "Epoch 26\n",
      "-------------------------------\n",
      "Train loss: 0.66313 | Train accuracy: 77.13%\n",
      "Validation loss: 0.75203 | Validation accuracy: 74.01%\n",
      "\n",
      "Epoch 27\n",
      "-------------------------------\n",
      "Train loss: 0.65137 | Train accuracy: 77.57%\n",
      "Validation loss: 0.73105 | Validation accuracy: 74.98%\n",
      "\n",
      "Epoch 28\n",
      "-------------------------------\n",
      "Train loss: 0.64787 | Train accuracy: 77.68%\n",
      "Validation loss: 0.72663 | Validation accuracy: 74.81%\n",
      "\n",
      "Epoch 29\n",
      "-------------------------------\n",
      "Train loss: 0.63793 | Train accuracy: 77.77%\n",
      "Validation loss: 0.72530 | Validation accuracy: 75.41%\n",
      "\n",
      "Epoch 30\n",
      "-------------------------------\n",
      "Train loss: 0.63145 | Train accuracy: 78.42%\n",
      "Validation loss: 0.72580 | Validation accuracy: 75.36%\n",
      "\n",
      "Epoch 31\n",
      "-------------------------------\n",
      "Train loss: 0.61398 | Train accuracy: 78.92%\n",
      "Validation loss: 0.70104 | Validation accuracy: 76.50%\n",
      "\n",
      "Epoch 32\n",
      "-------------------------------\n",
      "Train loss: 0.62128 | Train accuracy: 78.72%\n",
      "Validation loss: 0.72507 | Validation accuracy: 75.50%\n",
      "\n",
      "Epoch 33\n",
      "-------------------------------\n",
      "Train loss: 0.59214 | Train accuracy: 79.63%\n",
      "Validation loss: 0.74229 | Validation accuracy: 75.37%\n",
      "\n",
      "Epoch 34\n",
      "-------------------------------\n",
      "Train loss: 0.59877 | Train accuracy: 79.47%\n",
      "Validation loss: 0.74014 | Validation accuracy: 75.53%\n",
      "\n",
      "Epoch 35\n",
      "-------------------------------\n",
      "Train loss: 0.59954 | Train accuracy: 79.13%\n",
      "Validation loss: 0.74405 | Validation accuracy: 74.50%\n",
      "\n",
      "Epoch 36\n",
      "-------------------------------\n",
      "Train loss: 0.58296 | Train accuracy: 80.05%\n",
      "Validation loss: 0.67038 | Validation accuracy: 77.42%\n",
      "\n",
      "Epoch 37\n",
      "-------------------------------\n",
      "Train loss: 0.56790 | Train accuracy: 80.49%\n",
      "Validation loss: 0.67906 | Validation accuracy: 77.46%\n",
      "\n",
      "Epoch 38\n",
      "-------------------------------\n",
      "Train loss: 0.56559 | Train accuracy: 80.68%\n",
      "Validation loss: 0.84708 | Validation accuracy: 71.17%\n",
      "\n",
      "Epoch 39\n",
      "-------------------------------\n",
      "Train loss: 0.56329 | Train accuracy: 80.89%\n",
      "Validation loss: 0.66783 | Validation accuracy: 77.29%\n",
      "\n",
      "Epoch 40\n",
      "-------------------------------\n",
      "Train loss: 0.56140 | Train accuracy: 80.59%\n",
      "Validation loss: 0.68182 | Validation accuracy: 76.78%\n",
      "\n",
      "Epoch 41\n",
      "-------------------------------\n",
      "Train loss: 0.55668 | Train accuracy: 80.80%\n",
      "Validation loss: 0.67255 | Validation accuracy: 77.81%\n",
      "\n",
      "Epoch 42\n",
      "-------------------------------\n",
      "Train loss: 0.53872 | Train accuracy: 81.36%\n",
      "Validation loss: 0.70167 | Validation accuracy: 76.59%\n",
      "\n",
      "Epoch 43\n",
      "-------------------------------\n",
      "Train loss: 0.53707 | Train accuracy: 81.61%\n",
      "Validation loss: 0.66717 | Validation accuracy: 77.64%\n",
      "\n",
      "Epoch 44\n",
      "-------------------------------\n",
      "Train loss: 0.53161 | Train accuracy: 81.54%\n",
      "Validation loss: 0.67834 | Validation accuracy: 77.17%\n",
      "\n",
      "Epoch 45\n",
      "-------------------------------\n",
      "Train loss: 0.53564 | Train accuracy: 81.62%\n",
      "Validation loss: 0.69849 | Validation accuracy: 77.26%\n",
      "\n",
      "Epoch 46\n",
      "-------------------------------\n",
      "Train loss: 0.52648 | Train accuracy: 81.84%\n",
      "Validation loss: 0.66216 | Validation accuracy: 77.99%\n",
      "\n",
      "Epoch 47\n",
      "-------------------------------\n",
      "Train loss: 0.50501 | Train accuracy: 82.53%\n",
      "Validation loss: 0.65634 | Validation accuracy: 78.36%\n",
      "\n",
      "Epoch 48\n",
      "-------------------------------\n",
      "Train loss: 0.49953 | Train accuracy: 82.57%\n",
      "Validation loss: 0.64193 | Validation accuracy: 79.15%\n",
      "\n",
      "Epoch 49\n",
      "-------------------------------\n",
      "Train loss: 0.50050 | Train accuracy: 82.64%\n",
      "Validation loss: 0.66295 | Validation accuracy: 78.26%\n",
      "\n",
      "Epoch 50\n",
      "-------------------------------\n",
      "Train loss: 0.50423 | Train accuracy: 82.61%\n",
      "Validation loss: 0.65528 | Validation accuracy: 78.28%\n",
      "\n",
      "Epoch 51\n",
      "-------------------------------\n",
      "Train loss: 0.49088 | Train accuracy: 82.91%\n",
      "Validation loss: 0.64720 | Validation accuracy: 78.56%\n",
      "\n",
      "Epoch 52\n",
      "-------------------------------\n",
      "Train loss: 0.49265 | Train accuracy: 82.92%\n",
      "Validation loss: 0.61598 | Validation accuracy: 79.29%\n",
      "\n",
      "Epoch 53\n",
      "-------------------------------\n",
      "Train loss: 0.47723 | Train accuracy: 83.27%\n",
      "Validation loss: 0.66254 | Validation accuracy: 78.21%\n",
      "\n",
      "Epoch 54\n",
      "-------------------------------\n",
      "Train loss: 0.47675 | Train accuracy: 83.61%\n",
      "Validation loss: 0.63255 | Validation accuracy: 79.42%\n",
      "\n",
      "Epoch 55\n",
      "-------------------------------\n",
      "Train loss: 0.48595 | Train accuracy: 83.23%\n",
      "Validation loss: 0.63133 | Validation accuracy: 79.02%\n",
      "\n",
      "Epoch 56\n",
      "-------------------------------\n",
      "Train loss: 0.46265 | Train accuracy: 84.05%\n",
      "Validation loss: 0.62637 | Validation accuracy: 79.40%\n",
      "\n",
      "Epoch 57\n",
      "-------------------------------\n",
      "Train loss: 0.46795 | Train accuracy: 83.93%\n",
      "Validation loss: 0.62738 | Validation accuracy: 79.54%\n",
      "\n",
      "Epoch 58\n",
      "-------------------------------\n",
      "Train loss: 0.45909 | Train accuracy: 84.03%\n",
      "Validation loss: 0.63113 | Validation accuracy: 79.16%\n",
      "\n",
      "Epoch 59\n",
      "-------------------------------\n",
      "Train loss: 0.44712 | Train accuracy: 84.47%\n",
      "Validation loss: 0.63775 | Validation accuracy: 78.87%\n",
      "\n",
      "Epoch 60\n",
      "-------------------------------\n",
      "Train loss: 0.45041 | Train accuracy: 84.40%\n",
      "Validation loss: 0.62747 | Validation accuracy: 79.28%\n",
      "\n",
      "Epoch 61\n",
      "-------------------------------\n",
      "Train loss: 0.45118 | Train accuracy: 84.36%\n",
      "Validation loss: 0.63839 | Validation accuracy: 78.96%\n",
      "\n",
      "Epoch 62\n",
      "-------------------------------\n",
      "Train loss: 0.44029 | Train accuracy: 84.70%\n",
      "Validation loss: 0.62989 | Validation accuracy: 79.03%\n",
      "\n",
      "Early stopping at epoch 62\n",
      "Finished training\n",
      "CPU times: user 32min 30s, sys: 35.9 s, total: 33min 6s\n",
      "Wall time: 32min 58s\n"
     ]
    },
    {
     "data": {
      "image/png": "[encoded data removed]",
      "text/plain": [
       "<Figure size 640x480 with 1 Axes>"
      ]
     },
     "metadata": {},
     "output_type": "display_data"
    }
   ],
   "source": [
    "%%time\n",
    "model = ResNet(arch=[[2, 64], [2, 128], [2, 256], [2, 512]], num_classes=10)\n",
    "loss = nn.CrossEntropyLoss()\n",
    "optimizer = optim.Adam(model.parameters(), lr=0.01)\n",
    "scheduler = torch.optim.lr_scheduler.StepLR(optimizer, step_size=5, gamma=0.9, last_epoch=-1)\n",
    "train(model, loss, optimizer, train_dataloader, val_dataloader, scheduler=scheduler, num_epochs=100, device=device)"
   ]
  },
  {
   "cell_type": "markdown",
   "metadata": {},
   "source": [
    "### 更大的Dropout"
   ]
  },
  {
   "cell_type": "code",
   "execution_count": 34,
   "metadata": {},
   "outputs": [
    {
     "name": "stderr",
     "output_type": "stream",
     "text": [
      "e:\\anaconda\\envs\\d2l\\lib\\site-packages\\torch\\nn\\modules\\lazy.py:181: UserWarning: Lazy modules are a new feature under heavy development so changes to the API or functionality can happen at any moment.\n",
      "  warnings.warn('Lazy modules are a new feature under heavy development '\n"
     ]
    }
   ],
   "source": [
    "class ResidualBlock(nn.Module):\n",
    "    def __init__(self, num_channels, use_1x1conv=False, strides=1):\n",
    "        super().__init__()\n",
    "        self.conv1 = nn.LazyConv2d(num_channels, kernel_size=3, padding=1,\n",
    "                                   stride=strides)\n",
    "        self.conv2 = nn.LazyConv2d(num_channels, kernel_size=3, padding=1)\n",
    "        if use_1x1conv:\n",
    "            self.conv3 = nn.LazyConv2d(num_channels, kernel_size=1,\n",
    "                                       stride=strides)\n",
    "        else:\n",
    "            self.conv3 = None\n",
    "        self.bn1 = nn.LazyBatchNorm2d()\n",
    "        self.bn2 = nn.LazyBatchNorm2d()\n",
    "    def forward(self, X):\n",
    "        Y = F.relu(self.bn1(self.conv1(X)))\n",
    "        Y = nn.Dropout2d(0.5)(Y)\n",
    "        Y = self.bn2(self.conv2(Y))\n",
    "        if self.conv3:\n",
    "            X = self.conv3(X)\n",
    "        Y += X\n",
    "        return F.relu(Y)\n",
    "\n",
    "class ResNet(nn.Module):\n",
    "    def __init__(self, arch, num_classes=10):\n",
    "        super().__init__()\n",
    "        self.net = nn.Sequential(self.b1())\n",
    "        for i, b in enumerate(arch):\n",
    "            self.net.add_module(f\"b{i+2}\", self.block(*b, first_block=(i==0)))\n",
    "        \n",
    "        self.net.add_module(\"last\", nn.Sequential(      \n",
    "            nn.AdaptiveAvgPool2d((1, 1)),\n",
    "            nn.Flatten(),\n",
    "            nn.LazyLinear(num_classes)\n",
    "        ))\n",
    "\n",
    "        init_cnn(self.net)\n",
    "\n",
    "    def block(self, num_residuals, num_channels, first_block=False):\n",
    "        blk = []\n",
    "        for i in range(num_residuals):\n",
    "            if i == 0 and not first_block:\n",
    "                blk.append(ResidualBlock(num_channels, use_1x1conv=True, strides=2))\n",
    "            else:\n",
    "                blk.append(ResidualBlock(num_channels))\n",
    "        return nn.Sequential(*blk)\n",
    "\n",
    "    def b1(self):\n",
    "        return nn.Sequential(\n",
    "            nn.LazyConv2d(64, kernel_size=5, stride=2, padding=3),\n",
    "            nn.LazyBatchNorm2d(), nn.ReLU(),\n",
    "            nn.MaxPool2d(kernel_size=3, stride=2, padding=1))\n",
    "\n",
    "    def forward(self, X):\n",
    "        return self.net(X)\n",
    "    \n",
    "model = ResNet(arch=[[2, 64], [2, 128], [2, 256], [2, 512]], num_classes=10)\n",
    "#layer_summary(model, (1, 3, 32, 32))"
   ]
  },
  {
   "cell_type": "markdown",
   "metadata": {},
   "source": [
    "### 加入L2正则化"
   ]
  },
  {
   "cell_type": "code",
   "execution_count": 35,
   "metadata": {},
   "outputs": [
    {
     "name": "stderr",
     "output_type": "stream",
     "text": [
      "  0%|          | 0/100 [00:00<?, ?it/s]"
     ]
    },
    {
     "name": "stdout",
     "output_type": "stream",
     "text": [
      "Epoch 1\n",
      "-------------------------------\n"
     ]
    },
    {
     "name": "stdout",
     "output_type": "stream",
     "text": [
      "Train loss: 2.24970 | Train accuracy: 17.57%\n"
     ]
    },
    {
     "name": "stderr",
     "output_type": "stream",
     "text": [
      "  1%|          | 1/100 [00:22<37:03, 22.46s/it]"
     ]
    },
    {
     "name": "stdout",
     "output_type": "stream",
     "text": [
      "Validation loss: 2.03435 | Validation accuracy: 24.52%\n",
      "\n",
      "Epoch 2\n",
      "-------------------------------\n",
      "Train loss: 1.80630 | Train accuracy: 30.91%\n"
     ]
    },
    {
     "name": "stderr",
     "output_type": "stream",
     "text": [
      "  2%|▏         | 2/100 [00:37<29:23, 17.99s/it]"
     ]
    },
    {
     "name": "stdout",
     "output_type": "stream",
     "text": [
      "Validation loss: 1.65374 | Validation accuracy: 37.05%\n",
      "\n",
      "Epoch 3\n",
      "-------------------------------\n",
      "Train loss: 1.62110 | Train accuracy: 38.88%\n"
     ]
    },
    {
     "name": "stderr",
     "output_type": "stream",
     "text": [
      "  3%|▎         | 3/100 [00:51<26:36, 16.45s/it]"
     ]
    },
    {
     "name": "stdout",
     "output_type": "stream",
     "text": [
      "Validation loss: 1.54102 | Validation accuracy: 42.11%\n",
      "\n",
      "Epoch 4\n",
      "-------------------------------\n",
      "Train loss: 1.52664 | Train accuracy: 43.10%\n"
     ]
    },
    {
     "name": "stderr",
     "output_type": "stream",
     "text": [
      "  4%|▍         | 4/100 [01:06<25:17, 15.81s/it]"
     ]
    },
    {
     "name": "stdout",
     "output_type": "stream",
     "text": [
      "Validation loss: 1.53112 | Validation accuracy: 42.78%\n",
      "\n",
      "Epoch 5\n",
      "-------------------------------\n",
      "Train loss: 1.45401 | Train accuracy: 46.15%\n"
     ]
    },
    {
     "name": "stderr",
     "output_type": "stream",
     "text": [
      "  5%|▌         | 5/100 [01:21<24:13, 15.30s/it]"
     ]
    },
    {
     "name": "stdout",
     "output_type": "stream",
     "text": [
      "Validation loss: 1.55960 | Validation accuracy: 42.89%\n",
      "\n",
      "Epoch 6\n",
      "-------------------------------\n",
      "Train loss: 1.41242 | Train accuracy: 48.04%\n"
     ]
    },
    {
     "name": "stderr",
     "output_type": "stream",
     "text": [
      "  6%|▌         | 6/100 [01:35<23:34, 15.05s/it]"
     ]
    },
    {
     "name": "stdout",
     "output_type": "stream",
     "text": [
      "Validation loss: 1.40815 | Validation accuracy: 48.34%\n",
      "\n",
      "Epoch 7\n",
      "-------------------------------\n",
      "Train loss: 1.36947 | Train accuracy: 49.79%\n"
     ]
    },
    {
     "name": "stderr",
     "output_type": "stream",
     "text": [
      "  7%|▋         | 7/100 [01:50<23:09, 14.94s/it]"
     ]
    },
    {
     "name": "stdout",
     "output_type": "stream",
     "text": [
      "Validation loss: 1.36069 | Validation accuracy: 50.08%\n",
      "\n",
      "Epoch 8\n",
      "-------------------------------\n",
      "Train loss: 1.31992 | Train accuracy: 51.75%\n"
     ]
    },
    {
     "name": "stderr",
     "output_type": "stream",
     "text": [
      "  8%|▊         | 8/100 [02:04<22:42, 14.81s/it]"
     ]
    },
    {
     "name": "stdout",
     "output_type": "stream",
     "text": [
      "Validation loss: 1.33160 | Validation accuracy: 51.92%\n",
      "\n",
      "Epoch 9\n",
      "-------------------------------\n",
      "Train loss: 1.27595 | Train accuracy: 53.47%\n"
     ]
    },
    {
     "name": "stderr",
     "output_type": "stream",
     "text": [
      "  9%|▉         | 9/100 [02:19<22:17, 14.69s/it]"
     ]
    },
    {
     "name": "stdout",
     "output_type": "stream",
     "text": [
      "Validation loss: 1.30368 | Validation accuracy: 53.92%\n",
      "\n",
      "Epoch 10\n",
      "-------------------------------\n",
      "Train loss: 1.24340 | Train accuracy: 55.13%\n"
     ]
    },
    {
     "name": "stderr",
     "output_type": "stream",
     "text": [
      " 10%|█         | 10/100 [02:34<22:10, 14.78s/it]"
     ]
    },
    {
     "name": "stdout",
     "output_type": "stream",
     "text": [
      "Validation loss: 1.21485 | Validation accuracy: 56.62%\n",
      "\n",
      "Epoch 11\n",
      "-------------------------------\n",
      "Train loss: 1.20671 | Train accuracy: 56.49%\n"
     ]
    },
    {
     "name": "stderr",
     "output_type": "stream",
     "text": [
      " 11%|█         | 11/100 [02:48<21:49, 14.72s/it]"
     ]
    },
    {
     "name": "stdout",
     "output_type": "stream",
     "text": [
      "Validation loss: 1.14823 | Validation accuracy: 58.68%\n",
      "\n",
      "Epoch 12\n",
      "-------------------------------\n",
      "Train loss: 1.18207 | Train accuracy: 57.37%\n"
     ]
    },
    {
     "name": "stderr",
     "output_type": "stream",
     "text": [
      " 12%|█▏        | 12/100 [03:03<21:40, 14.78s/it]"
     ]
    },
    {
     "name": "stdout",
     "output_type": "stream",
     "text": [
      "Validation loss: 1.18101 | Validation accuracy: 57.66%\n",
      "\n",
      "Epoch 13\n",
      "-------------------------------\n",
      "Train loss: 1.15745 | Train accuracy: 58.53%\n"
     ]
    },
    {
     "name": "stderr",
     "output_type": "stream",
     "text": [
      " 13%|█▎        | 13/100 [03:18<21:25, 14.78s/it]"
     ]
    },
    {
     "name": "stdout",
     "output_type": "stream",
     "text": [
      "Validation loss: 1.15739 | Validation accuracy: 58.00%\n",
      "\n",
      "Epoch 14\n",
      "-------------------------------\n",
      "Train loss: 1.14581 | Train accuracy: 59.20%\n"
     ]
    },
    {
     "name": "stderr",
     "output_type": "stream",
     "text": [
      " 14%|█▍        | 14/100 [03:33<21:20, 14.89s/it]"
     ]
    },
    {
     "name": "stdout",
     "output_type": "stream",
     "text": [
      "Validation loss: 1.15429 | Validation accuracy: 58.97%\n",
      "\n",
      "Epoch 15\n",
      "-------------------------------\n",
      "Train loss: 1.13045 | Train accuracy: 59.73%\n"
     ]
    },
    {
     "name": "stderr",
     "output_type": "stream",
     "text": [
      " 15%|█▌        | 15/100 [03:48<20:53, 14.74s/it]"
     ]
    },
    {
     "name": "stdout",
     "output_type": "stream",
     "text": [
      "Validation loss: 1.15205 | Validation accuracy: 58.85%\n",
      "\n",
      "Epoch 16\n",
      "-------------------------------\n",
      "Train loss: 1.11574 | Train accuracy: 60.22%\n"
     ]
    },
    {
     "name": "stderr",
     "output_type": "stream",
     "text": [
      " 16%|█▌        | 16/100 [04:02<20:35, 14.71s/it]"
     ]
    },
    {
     "name": "stdout",
     "output_type": "stream",
     "text": [
      "Validation loss: 1.12056 | Validation accuracy: 59.43%\n",
      "\n",
      "Epoch 17\n",
      "-------------------------------\n",
      "Train loss: 1.11008 | Train accuracy: 60.51%\n"
     ]
    },
    {
     "name": "stderr",
     "output_type": "stream",
     "text": [
      " 17%|█▋        | 17/100 [04:17<20:18, 14.68s/it]"
     ]
    },
    {
     "name": "stdout",
     "output_type": "stream",
     "text": [
      "Validation loss: 1.09644 | Validation accuracy: 60.52%\n",
      "\n",
      "Epoch 18\n",
      "-------------------------------\n",
      "Train loss: 1.10164 | Train accuracy: 60.58%\n"
     ]
    },
    {
     "name": "stderr",
     "output_type": "stream",
     "text": [
      " 18%|█▊        | 18/100 [04:32<20:05, 14.70s/it]"
     ]
    },
    {
     "name": "stdout",
     "output_type": "stream",
     "text": [
      "Validation loss: 1.10497 | Validation accuracy: 60.73%\n",
      "\n",
      "Epoch 19\n",
      "-------------------------------\n",
      "Train loss: 1.09244 | Train accuracy: 61.09%\n"
     ]
    },
    {
     "name": "stderr",
     "output_type": "stream",
     "text": [
      " 19%|█▉        | 19/100 [04:46<19:47, 14.67s/it]"
     ]
    },
    {
     "name": "stdout",
     "output_type": "stream",
     "text": [
      "Validation loss: 1.18714 | Validation accuracy: 58.02%\n",
      "\n",
      "Epoch 20\n",
      "-------------------------------\n",
      "Train loss: 1.07964 | Train accuracy: 61.78%\n"
     ]
    },
    {
     "name": "stderr",
     "output_type": "stream",
     "text": [
      " 20%|██        | 20/100 [05:01<19:35, 14.69s/it]"
     ]
    },
    {
     "name": "stdout",
     "output_type": "stream",
     "text": [
      "Validation loss: 1.08077 | Validation accuracy: 62.25%\n",
      "\n",
      "Epoch 21\n",
      "-------------------------------\n",
      "Train loss: 1.05623 | Train accuracy: 62.64%\n"
     ]
    },
    {
     "name": "stderr",
     "output_type": "stream",
     "text": [
      " 21%|██        | 21/100 [05:15<19:12, 14.59s/it]"
     ]
    },
    {
     "name": "stdout",
     "output_type": "stream",
     "text": [
      "Validation loss: 1.04138 | Validation accuracy: 62.80%\n",
      "\n",
      "Epoch 22\n",
      "-------------------------------\n",
      "Train loss: 1.05507 | Train accuracy: 62.62%\n"
     ]
    },
    {
     "name": "stderr",
     "output_type": "stream",
     "text": [
      " 22%|██▏       | 22/100 [05:30<18:58, 14.60s/it]"
     ]
    },
    {
     "name": "stdout",
     "output_type": "stream",
     "text": [
      "Validation loss: 1.06971 | Validation accuracy: 61.99%\n",
      "\n",
      "Epoch 23\n",
      "-------------------------------\n",
      "Train loss: 1.04457 | Train accuracy: 62.94%\n"
     ]
    },
    {
     "name": "stderr",
     "output_type": "stream",
     "text": [
      " 23%|██▎       | 23/100 [05:45<18:47, 14.64s/it]"
     ]
    },
    {
     "name": "stdout",
     "output_type": "stream",
     "text": [
      "Validation loss: 1.04914 | Validation accuracy: 62.94%\n",
      "\n",
      "Epoch 24\n",
      "-------------------------------\n",
      "Train loss: 1.03841 | Train accuracy: 63.42%\n"
     ]
    },
    {
     "name": "stderr",
     "output_type": "stream",
     "text": [
      " 24%|██▍       | 24/100 [05:59<18:33, 14.65s/it]"
     ]
    },
    {
     "name": "stdout",
     "output_type": "stream",
     "text": [
      "Validation loss: 1.05470 | Validation accuracy: 62.99%\n",
      "\n",
      "Epoch 25\n",
      "-------------------------------\n",
      "Train loss: 1.03032 | Train accuracy: 63.02%\n"
     ]
    },
    {
     "name": "stderr",
     "output_type": "stream",
     "text": [
      " 25%|██▌       | 25/100 [06:14<18:12, 14.56s/it]"
     ]
    },
    {
     "name": "stdout",
     "output_type": "stream",
     "text": [
      "Validation loss: 1.01713 | Validation accuracy: 63.65%\n",
      "\n",
      "Epoch 26\n",
      "-------------------------------\n",
      "Train loss: 1.03109 | Train accuracy: 63.79%\n"
     ]
    },
    {
     "name": "stderr",
     "output_type": "stream",
     "text": [
      " 26%|██▌       | 26/100 [06:28<17:50, 14.47s/it]"
     ]
    },
    {
     "name": "stdout",
     "output_type": "stream",
     "text": [
      "Validation loss: 1.02418 | Validation accuracy: 64.32%\n",
      "\n",
      "Epoch 27\n",
      "-------------------------------\n",
      "Train loss: 1.01791 | Train accuracy: 64.18%\n"
     ]
    },
    {
     "name": "stderr",
     "output_type": "stream",
     "text": [
      " 27%|██▋       | 27/100 [06:42<17:31, 14.40s/it]"
     ]
    },
    {
     "name": "stdout",
     "output_type": "stream",
     "text": [
      "Validation loss: 1.06299 | Validation accuracy: 62.73%\n",
      "\n",
      "Epoch 28\n",
      "-------------------------------\n",
      "Train loss: 1.01770 | Train accuracy: 64.11%\n"
     ]
    },
    {
     "name": "stderr",
     "output_type": "stream",
     "text": [
      " 28%|██▊       | 28/100 [06:56<17:13, 14.35s/it]"
     ]
    },
    {
     "name": "stdout",
     "output_type": "stream",
     "text": [
      "Validation loss: 1.06524 | Validation accuracy: 61.81%\n",
      "\n",
      "Epoch 29\n",
      "-------------------------------\n",
      "Train loss: 1.01129 | Train accuracy: 64.44%\n"
     ]
    },
    {
     "name": "stderr",
     "output_type": "stream",
     "text": [
      " 29%|██▉       | 29/100 [07:11<16:58, 14.34s/it]"
     ]
    },
    {
     "name": "stdout",
     "output_type": "stream",
     "text": [
      "Validation loss: 1.06842 | Validation accuracy: 62.69%\n",
      "\n",
      "Epoch 30\n",
      "-------------------------------\n",
      "Train loss: 1.00489 | Train accuracy: 64.48%\n"
     ]
    },
    {
     "name": "stderr",
     "output_type": "stream",
     "text": [
      " 30%|███       | 30/100 [07:25<16:44, 14.36s/it]"
     ]
    },
    {
     "name": "stdout",
     "output_type": "stream",
     "text": [
      "Validation loss: 1.04909 | Validation accuracy: 62.59%\n",
      "\n",
      "Epoch 31\n",
      "-------------------------------\n",
      "Train loss: 0.98742 | Train accuracy: 64.94%\n"
     ]
    },
    {
     "name": "stderr",
     "output_type": "stream",
     "text": [
      " 31%|███       | 31/100 [07:39<16:28, 14.32s/it]"
     ]
    },
    {
     "name": "stdout",
     "output_type": "stream",
     "text": [
      "Validation loss: 1.00667 | Validation accuracy: 64.21%\n",
      "\n",
      "Epoch 32\n",
      "-------------------------------\n",
      "Train loss: 0.99204 | Train accuracy: 64.90%\n"
     ]
    },
    {
     "name": "stderr",
     "output_type": "stream",
     "text": [
      " 32%|███▏      | 32/100 [07:54<16:13, 14.31s/it]"
     ]
    },
    {
     "name": "stdout",
     "output_type": "stream",
     "text": [
      "Validation loss: 1.05240 | Validation accuracy: 62.39%\n",
      "\n",
      "Epoch 33\n",
      "-------------------------------\n",
      "Train loss: 0.98511 | Train accuracy: 65.29%\n"
     ]
    },
    {
     "name": "stderr",
     "output_type": "stream",
     "text": [
      " 33%|███▎      | 33/100 [08:08<16:00, 14.33s/it]"
     ]
    },
    {
     "name": "stdout",
     "output_type": "stream",
     "text": [
      "Validation loss: 1.00850 | Validation accuracy: 64.49%\n",
      "\n",
      "Epoch 34\n",
      "-------------------------------\n",
      "Train loss: 0.98715 | Train accuracy: 65.18%\n"
     ]
    },
    {
     "name": "stderr",
     "output_type": "stream",
     "text": [
      " 34%|███▍      | 34/100 [08:22<15:41, 14.27s/it]"
     ]
    },
    {
     "name": "stdout",
     "output_type": "stream",
     "text": [
      "Validation loss: 0.96827 | Validation accuracy: 65.36%\n",
      "\n",
      "Epoch 35\n",
      "-------------------------------\n",
      "Train loss: 0.98231 | Train accuracy: 65.43%\n"
     ]
    },
    {
     "name": "stderr",
     "output_type": "stream",
     "text": [
      " 35%|███▌      | 35/100 [08:37<15:30, 14.31s/it]"
     ]
    },
    {
     "name": "stdout",
     "output_type": "stream",
     "text": [
      "Validation loss: 1.02513 | Validation accuracy: 64.37%\n",
      "\n",
      "Epoch 36\n",
      "-------------------------------\n",
      "Train loss: 0.97498 | Train accuracy: 65.88%\n"
     ]
    },
    {
     "name": "stderr",
     "output_type": "stream",
     "text": [
      " 36%|███▌      | 36/100 [08:51<15:13, 14.27s/it]"
     ]
    },
    {
     "name": "stdout",
     "output_type": "stream",
     "text": [
      "Validation loss: 0.99380 | Validation accuracy: 64.86%\n",
      "\n",
      "Epoch 37\n",
      "-------------------------------\n",
      "Train loss: 0.97498 | Train accuracy: 65.51%\n"
     ]
    },
    {
     "name": "stderr",
     "output_type": "stream",
     "text": [
      " 37%|███▋      | 37/100 [09:05<15:00, 14.30s/it]"
     ]
    },
    {
     "name": "stdout",
     "output_type": "stream",
     "text": [
      "Validation loss: 0.99884 | Validation accuracy: 65.02%\n",
      "\n",
      "Epoch 38\n",
      "-------------------------------\n",
      "Train loss: 0.97492 | Train accuracy: 65.73%\n"
     ]
    },
    {
     "name": "stderr",
     "output_type": "stream",
     "text": [
      " 38%|███▊      | 38/100 [09:19<14:45, 14.28s/it]"
     ]
    },
    {
     "name": "stdout",
     "output_type": "stream",
     "text": [
      "Validation loss: 1.00616 | Validation accuracy: 64.03%\n",
      "\n",
      "Epoch 39\n",
      "-------------------------------\n",
      "Train loss: 0.96965 | Train accuracy: 65.90%\n"
     ]
    },
    {
     "name": "stderr",
     "output_type": "stream",
     "text": [
      " 39%|███▉      | 39/100 [09:34<14:29, 14.26s/it]"
     ]
    },
    {
     "name": "stdout",
     "output_type": "stream",
     "text": [
      "Validation loss: 0.99765 | Validation accuracy: 64.90%\n",
      "\n",
      "Epoch 40\n",
      "-------------------------------\n",
      "Train loss: 0.97057 | Train accuracy: 65.90%\n"
     ]
    },
    {
     "name": "stderr",
     "output_type": "stream",
     "text": [
      " 40%|████      | 40/100 [09:48<14:10, 14.17s/it]"
     ]
    },
    {
     "name": "stdout",
     "output_type": "stream",
     "text": [
      "Validation loss: 0.98725 | Validation accuracy: 65.22%\n",
      "\n",
      "Epoch 41\n",
      "-------------------------------\n",
      "Train loss: 0.95295 | Train accuracy: 66.69%\n"
     ]
    },
    {
     "name": "stderr",
     "output_type": "stream",
     "text": [
      " 41%|████      | 41/100 [10:02<13:56, 14.19s/it]"
     ]
    },
    {
     "name": "stdout",
     "output_type": "stream",
     "text": [
      "Validation loss: 0.94263 | Validation accuracy: 66.98%\n",
      "\n",
      "Epoch 42\n",
      "-------------------------------\n",
      "Train loss: 0.94003 | Train accuracy: 66.99%\n"
     ]
    },
    {
     "name": "stderr",
     "output_type": "stream",
     "text": [
      " 42%|████▏     | 42/100 [10:16<13:43, 14.20s/it]"
     ]
    },
    {
     "name": "stdout",
     "output_type": "stream",
     "text": [
      "Validation loss: 0.95494 | Validation accuracy: 66.04%\n",
      "\n",
      "Epoch 43\n",
      "-------------------------------\n",
      "Train loss: 0.95200 | Train accuracy: 66.89%\n"
     ]
    },
    {
     "name": "stderr",
     "output_type": "stream",
     "text": [
      " 43%|████▎     | 43/100 [10:30<13:28, 14.18s/it]"
     ]
    },
    {
     "name": "stdout",
     "output_type": "stream",
     "text": [
      "Validation loss: 0.97043 | Validation accuracy: 65.66%\n",
      "\n",
      "Epoch 44\n",
      "-------------------------------\n",
      "Train loss: 0.94457 | Train accuracy: 66.89%\n"
     ]
    },
    {
     "name": "stderr",
     "output_type": "stream",
     "text": [
      " 44%|████▍     | 44/100 [10:44<13:16, 14.22s/it]"
     ]
    },
    {
     "name": "stdout",
     "output_type": "stream",
     "text": [
      "Validation loss: 0.94770 | Validation accuracy: 66.07%\n",
      "\n",
      "Epoch 45\n",
      "-------------------------------\n",
      "Train loss: 0.94774 | Train accuracy: 66.88%\n"
     ]
    },
    {
     "name": "stderr",
     "output_type": "stream",
     "text": [
      " 45%|████▌     | 45/100 [10:59<12:59, 14.16s/it]"
     ]
    },
    {
     "name": "stdout",
     "output_type": "stream",
     "text": [
      "Validation loss: 0.95697 | Validation accuracy: 66.52%\n",
      "\n",
      "Epoch 46\n",
      "-------------------------------\n",
      "Train loss: 0.93708 | Train accuracy: 66.93%\n"
     ]
    },
    {
     "name": "stderr",
     "output_type": "stream",
     "text": [
      " 46%|████▌     | 46/100 [11:13<12:44, 14.15s/it]"
     ]
    },
    {
     "name": "stdout",
     "output_type": "stream",
     "text": [
      "Validation loss: 0.95445 | Validation accuracy: 66.49%\n",
      "\n",
      "Epoch 47\n",
      "-------------------------------\n",
      "Train loss: 0.93318 | Train accuracy: 67.38%\n"
     ]
    },
    {
     "name": "stderr",
     "output_type": "stream",
     "text": [
      " 47%|████▋     | 47/100 [11:27<12:32, 14.20s/it]"
     ]
    },
    {
     "name": "stdout",
     "output_type": "stream",
     "text": [
      "Validation loss: 0.93389 | Validation accuracy: 66.94%\n",
      "\n",
      "Epoch 48\n",
      "-------------------------------\n",
      "Train loss: 0.92521 | Train accuracy: 67.49%\n"
     ]
    },
    {
     "name": "stderr",
     "output_type": "stream",
     "text": [
      " 48%|████▊     | 48/100 [11:41<12:18, 14.21s/it]"
     ]
    },
    {
     "name": "stdout",
     "output_type": "stream",
     "text": [
      "Validation loss: 0.98636 | Validation accuracy: 65.22%\n",
      "\n",
      "Epoch 49\n",
      "-------------------------------\n",
      "Train loss: 0.93551 | Train accuracy: 67.13%\n"
     ]
    },
    {
     "name": "stderr",
     "output_type": "stream",
     "text": [
      " 49%|████▉     | 49/100 [11:56<12:06, 14.24s/it]"
     ]
    },
    {
     "name": "stdout",
     "output_type": "stream",
     "text": [
      "Validation loss: 0.93797 | Validation accuracy: 67.30%\n",
      "\n",
      "Epoch 50\n",
      "-------------------------------\n",
      "Train loss: 0.93656 | Train accuracy: 67.25%\n"
     ]
    },
    {
     "name": "stderr",
     "output_type": "stream",
     "text": [
      " 50%|█████     | 50/100 [12:10<11:51, 14.24s/it]"
     ]
    },
    {
     "name": "stdout",
     "output_type": "stream",
     "text": [
      "Validation loss: 0.93558 | Validation accuracy: 67.12%\n",
      "\n",
      "Epoch 51\n",
      "-------------------------------\n",
      "Train loss: 0.92050 | Train accuracy: 67.71%\n"
     ]
    },
    {
     "name": "stderr",
     "output_type": "stream",
     "text": [
      " 51%|█████     | 51/100 [12:23<11:30, 14.09s/it]"
     ]
    },
    {
     "name": "stdout",
     "output_type": "stream",
     "text": [
      "Validation loss: 0.92317 | Validation accuracy: 67.94%\n",
      "\n",
      "Epoch 52\n",
      "-------------------------------\n",
      "Train loss: 0.91413 | Train accuracy: 67.80%\n"
     ]
    },
    {
     "name": "stderr",
     "output_type": "stream",
     "text": [
      " 52%|█████▏    | 52/100 [12:38<11:18, 14.14s/it]"
     ]
    },
    {
     "name": "stdout",
     "output_type": "stream",
     "text": [
      "Validation loss: 0.92355 | Validation accuracy: 67.84%\n",
      "\n",
      "Epoch 53\n",
      "-------------------------------\n",
      "Train loss: 0.90324 | Train accuracy: 68.19%\n"
     ]
    },
    {
     "name": "stderr",
     "output_type": "stream",
     "text": [
      " 53%|█████▎    | 53/100 [12:52<11:03, 14.11s/it]"
     ]
    },
    {
     "name": "stdout",
     "output_type": "stream",
     "text": [
      "Validation loss: 0.96239 | Validation accuracy: 66.31%\n",
      "\n",
      "Epoch 54\n",
      "-------------------------------\n",
      "Train loss: 0.91475 | Train accuracy: 67.88%\n"
     ]
    },
    {
     "name": "stderr",
     "output_type": "stream",
     "text": [
      " 54%|█████▍    | 54/100 [13:06<10:49, 14.12s/it]"
     ]
    },
    {
     "name": "stdout",
     "output_type": "stream",
     "text": [
      "Validation loss: 0.96471 | Validation accuracy: 65.81%\n",
      "\n",
      "Epoch 55\n",
      "-------------------------------\n",
      "Train loss: 0.90767 | Train accuracy: 68.25%\n"
     ]
    },
    {
     "name": "stderr",
     "output_type": "stream",
     "text": [
      " 55%|█████▌    | 55/100 [13:20<10:37, 14.17s/it]"
     ]
    },
    {
     "name": "stdout",
     "output_type": "stream",
     "text": [
      "Validation loss: 0.94331 | Validation accuracy: 66.51%\n",
      "\n",
      "Epoch 56\n",
      "-------------------------------\n",
      "Train loss: 0.91195 | Train accuracy: 68.04%\n"
     ]
    },
    {
     "name": "stderr",
     "output_type": "stream",
     "text": [
      " 56%|█████▌    | 56/100 [13:35<10:28, 14.28s/it]"
     ]
    },
    {
     "name": "stdout",
     "output_type": "stream",
     "text": [
      "Validation loss: 0.95658 | Validation accuracy: 66.94%\n",
      "\n",
      "Epoch 57\n",
      "-------------------------------\n",
      "Train loss: 0.90139 | Train accuracy: 68.57%\n"
     ]
    },
    {
     "name": "stderr",
     "output_type": "stream",
     "text": [
      " 57%|█████▋    | 57/100 [13:49<10:14, 14.28s/it]"
     ]
    },
    {
     "name": "stdout",
     "output_type": "stream",
     "text": [
      "Validation loss: 0.92026 | Validation accuracy: 67.32%\n",
      "\n",
      "Epoch 58\n",
      "-------------------------------\n",
      "Train loss: 0.89437 | Train accuracy: 68.77%\n"
     ]
    },
    {
     "name": "stderr",
     "output_type": "stream",
     "text": [
      " 58%|█████▊    | 58/100 [14:03<10:00, 14.29s/it]"
     ]
    },
    {
     "name": "stdout",
     "output_type": "stream",
     "text": [
      "Validation loss: 0.95667 | Validation accuracy: 66.44%\n",
      "\n",
      "Epoch 59\n",
      "-------------------------------\n",
      "Train loss: 0.90433 | Train accuracy: 68.48%\n"
     ]
    },
    {
     "name": "stderr",
     "output_type": "stream",
     "text": [
      " 59%|█████▉    | 59/100 [14:18<09:45, 14.29s/it]"
     ]
    },
    {
     "name": "stdout",
     "output_type": "stream",
     "text": [
      "Validation loss: 0.93113 | Validation accuracy: 67.24%\n",
      "\n",
      "Epoch 60\n",
      "-------------------------------\n",
      "Train loss: 0.89981 | Train accuracy: 68.51%\n"
     ]
    },
    {
     "name": "stderr",
     "output_type": "stream",
     "text": [
      " 60%|██████    | 60/100 [14:32<09:29, 14.23s/it]"
     ]
    },
    {
     "name": "stdout",
     "output_type": "stream",
     "text": [
      "Validation loss: 0.96231 | Validation accuracy: 67.13%\n",
      "\n",
      "Epoch 61\n",
      "-------------------------------\n",
      "Train loss: 0.88628 | Train accuracy: 68.86%\n"
     ]
    },
    {
     "name": "stderr",
     "output_type": "stream",
     "text": [
      " 61%|██████    | 61/100 [14:46<09:14, 14.21s/it]"
     ]
    },
    {
     "name": "stdout",
     "output_type": "stream",
     "text": [
      "Validation loss: 0.89723 | Validation accuracy: 68.65%\n",
      "\n",
      "Epoch 62\n",
      "-------------------------------\n",
      "Train loss: 0.88594 | Train accuracy: 69.01%\n"
     ]
    },
    {
     "name": "stderr",
     "output_type": "stream",
     "text": [
      " 62%|██████▏   | 62/100 [15:00<09:01, 14.25s/it]"
     ]
    },
    {
     "name": "stdout",
     "output_type": "stream",
     "text": [
      "Validation loss: 0.94134 | Validation accuracy: 66.70%\n",
      "\n",
      "Epoch 63\n",
      "-------------------------------\n",
      "Train loss: 0.88609 | Train accuracy: 68.86%\n"
     ]
    },
    {
     "name": "stderr",
     "output_type": "stream",
     "text": [
      " 63%|██████▎   | 63/100 [15:15<08:48, 14.29s/it]"
     ]
    },
    {
     "name": "stdout",
     "output_type": "stream",
     "text": [
      "Validation loss: 0.90039 | Validation accuracy: 68.37%\n",
      "\n",
      "Epoch 64\n",
      "-------------------------------\n",
      "Train loss: 0.88446 | Train accuracy: 69.07%\n"
     ]
    },
    {
     "name": "stderr",
     "output_type": "stream",
     "text": [
      " 64%|██████▍   | 64/100 [15:29<08:35, 14.33s/it]"
     ]
    },
    {
     "name": "stdout",
     "output_type": "stream",
     "text": [
      "Validation loss: 0.96072 | Validation accuracy: 66.61%\n",
      "\n",
      "Epoch 65\n",
      "-------------------------------\n",
      "Train loss: 0.87966 | Train accuracy: 69.54%\n"
     ]
    },
    {
     "name": "stderr",
     "output_type": "stream",
     "text": [
      " 65%|██████▌   | 65/100 [15:43<08:23, 14.37s/it]"
     ]
    },
    {
     "name": "stdout",
     "output_type": "stream",
     "text": [
      "Validation loss: 0.90440 | Validation accuracy: 68.78%\n",
      "\n",
      "Epoch 66\n",
      "-------------------------------\n",
      "Train loss: 0.87914 | Train accuracy: 69.27%\n"
     ]
    },
    {
     "name": "stderr",
     "output_type": "stream",
     "text": [
      " 66%|██████▌   | 66/100 [15:59<08:17, 14.64s/it]"
     ]
    },
    {
     "name": "stdout",
     "output_type": "stream",
     "text": [
      "Validation loss: 0.94994 | Validation accuracy: 67.19%\n",
      "\n",
      "Epoch 67\n",
      "-------------------------------\n",
      "Train loss: 0.87752 | Train accuracy: 69.41%\n"
     ]
    },
    {
     "name": "stderr",
     "output_type": "stream",
     "text": [
      " 67%|██████▋   | 67/100 [16:14<08:06, 14.75s/it]"
     ]
    },
    {
     "name": "stdout",
     "output_type": "stream",
     "text": [
      "Validation loss: 0.87836 | Validation accuracy: 69.05%\n",
      "\n",
      "Epoch 68\n",
      "-------------------------------\n",
      "Train loss: 0.87041 | Train accuracy: 69.45%\n"
     ]
    },
    {
     "name": "stderr",
     "output_type": "stream",
     "text": [
      " 68%|██████▊   | 68/100 [16:28<07:49, 14.67s/it]"
     ]
    },
    {
     "name": "stdout",
     "output_type": "stream",
     "text": [
      "Validation loss: 0.91638 | Validation accuracy: 68.22%\n",
      "\n",
      "Epoch 69\n",
      "-------------------------------\n",
      "Train loss: 0.87579 | Train accuracy: 69.36%\n"
     ]
    },
    {
     "name": "stderr",
     "output_type": "stream",
     "text": [
      " 69%|██████▉   | 69/100 [16:43<07:31, 14.57s/it]"
     ]
    },
    {
     "name": "stdout",
     "output_type": "stream",
     "text": [
      "Validation loss: 0.88538 | Validation accuracy: 68.63%\n",
      "\n",
      "Epoch 70\n",
      "-------------------------------\n",
      "Train loss: 0.87374 | Train accuracy: 69.45%\n"
     ]
    },
    {
     "name": "stderr",
     "output_type": "stream",
     "text": [
      " 70%|███████   | 70/100 [16:57<07:16, 14.57s/it]"
     ]
    },
    {
     "name": "stdout",
     "output_type": "stream",
     "text": [
      "Validation loss: 0.87845 | Validation accuracy: 69.36%\n",
      "\n",
      "Epoch 71\n",
      "-------------------------------\n",
      "Train loss: 0.86664 | Train accuracy: 69.66%\n"
     ]
    },
    {
     "name": "stderr",
     "output_type": "stream",
     "text": [
      " 71%|███████   | 71/100 [17:12<07:04, 14.64s/it]"
     ]
    },
    {
     "name": "stdout",
     "output_type": "stream",
     "text": [
      "Validation loss: 0.88563 | Validation accuracy: 68.60%\n",
      "\n",
      "Epoch 72\n",
      "-------------------------------\n",
      "Train loss: 0.86907 | Train accuracy: 69.73%\n"
     ]
    },
    {
     "name": "stderr",
     "output_type": "stream",
     "text": [
      " 72%|███████▏  | 72/100 [17:27<06:49, 14.64s/it]"
     ]
    },
    {
     "name": "stdout",
     "output_type": "stream",
     "text": [
      "Validation loss: 0.86547 | Validation accuracy: 69.86%\n",
      "\n",
      "Epoch 73\n",
      "-------------------------------\n",
      "Train loss: 0.84995 | Train accuracy: 70.18%\n"
     ]
    },
    {
     "name": "stderr",
     "output_type": "stream",
     "text": [
      " 73%|███████▎  | 73/100 [17:41<06:33, 14.58s/it]"
     ]
    },
    {
     "name": "stdout",
     "output_type": "stream",
     "text": [
      "Validation loss: 0.88236 | Validation accuracy: 69.49%\n",
      "\n",
      "Epoch 74\n",
      "-------------------------------\n",
      "Train loss: 0.86253 | Train accuracy: 69.95%\n"
     ]
    },
    {
     "name": "stderr",
     "output_type": "stream",
     "text": [
      " 74%|███████▍  | 74/100 [17:55<06:18, 14.54s/it]"
     ]
    },
    {
     "name": "stdout",
     "output_type": "stream",
     "text": [
      "Validation loss: 0.88096 | Validation accuracy: 68.78%\n",
      "\n",
      "Epoch 75\n",
      "-------------------------------\n",
      "Train loss: 0.85368 | Train accuracy: 70.26%\n"
     ]
    },
    {
     "name": "stderr",
     "output_type": "stream",
     "text": [
      " 75%|███████▌  | 75/100 [18:10<06:05, 14.62s/it]"
     ]
    },
    {
     "name": "stdout",
     "output_type": "stream",
     "text": [
      "Validation loss: 0.88350 | Validation accuracy: 68.79%\n",
      "\n",
      "Epoch 76\n",
      "-------------------------------\n",
      "Train loss: 0.85192 | Train accuracy: 70.10%\n"
     ]
    },
    {
     "name": "stderr",
     "output_type": "stream",
     "text": [
      " 76%|███████▌  | 76/100 [18:25<05:48, 14.54s/it]"
     ]
    },
    {
     "name": "stdout",
     "output_type": "stream",
     "text": [
      "Validation loss: 0.93102 | Validation accuracy: 68.13%\n",
      "\n",
      "Epoch 77\n",
      "-------------------------------\n",
      "Train loss: 0.85369 | Train accuracy: 70.17%\n"
     ]
    },
    {
     "name": "stderr",
     "output_type": "stream",
     "text": [
      " 77%|███████▋  | 77/100 [18:39<05:33, 14.51s/it]"
     ]
    },
    {
     "name": "stdout",
     "output_type": "stream",
     "text": [
      "Validation loss: 0.92478 | Validation accuracy: 67.62%\n",
      "\n",
      "Epoch 78\n",
      "-------------------------------\n",
      "Train loss: 0.85045 | Train accuracy: 70.08%\n"
     ]
    },
    {
     "name": "stderr",
     "output_type": "stream",
     "text": [
      " 78%|███████▊  | 78/100 [18:54<05:19, 14.54s/it]"
     ]
    },
    {
     "name": "stdout",
     "output_type": "stream",
     "text": [
      "Validation loss: 0.88240 | Validation accuracy: 69.17%\n",
      "\n",
      "Epoch 79\n",
      "-------------------------------\n",
      "Train loss: 0.85397 | Train accuracy: 69.88%\n"
     ]
    },
    {
     "name": "stderr",
     "output_type": "stream",
     "text": [
      " 79%|███████▉  | 79/100 [19:09<05:07, 14.64s/it]"
     ]
    },
    {
     "name": "stdout",
     "output_type": "stream",
     "text": [
      "Validation loss: 0.86715 | Validation accuracy: 69.64%\n",
      "\n",
      "Epoch 80\n",
      "-------------------------------\n",
      "Train loss: 0.85057 | Train accuracy: 70.45%\n"
     ]
    },
    {
     "name": "stderr",
     "output_type": "stream",
     "text": [
      " 80%|████████  | 80/100 [19:23<04:50, 14.53s/it]"
     ]
    },
    {
     "name": "stdout",
     "output_type": "stream",
     "text": [
      "Validation loss: 0.88424 | Validation accuracy: 69.76%\n",
      "\n",
      "Epoch 81\n",
      "-------------------------------\n",
      "Train loss: 0.83853 | Train accuracy: 70.60%\n"
     ]
    },
    {
     "name": "stderr",
     "output_type": "stream",
     "text": [
      " 81%|████████  | 81/100 [19:37<04:36, 14.57s/it]"
     ]
    },
    {
     "name": "stdout",
     "output_type": "stream",
     "text": [
      "Validation loss: 0.88895 | Validation accuracy: 69.59%\n",
      "\n",
      "Epoch 82\n",
      "-------------------------------\n",
      "Train loss: 0.84253 | Train accuracy: 70.26%\n"
     ]
    },
    {
     "name": "stderr",
     "output_type": "stream",
     "text": [
      " 82%|████████▏ | 82/100 [19:52<04:22, 14.57s/it]"
     ]
    },
    {
     "name": "stdout",
     "output_type": "stream",
     "text": [
      "Validation loss: 0.85676 | Validation accuracy: 70.25%\n",
      "\n",
      "Epoch 83\n",
      "-------------------------------\n",
      "Train loss: 0.83817 | Train accuracy: 70.87%\n"
     ]
    },
    {
     "name": "stderr",
     "output_type": "stream",
     "text": [
      " 83%|████████▎ | 83/100 [20:06<04:06, 14.52s/it]"
     ]
    },
    {
     "name": "stdout",
     "output_type": "stream",
     "text": [
      "Validation loss: 0.87403 | Validation accuracy: 70.16%\n",
      "\n",
      "Epoch 84\n",
      "-------------------------------\n",
      "Train loss: 0.82953 | Train accuracy: 71.19%\n"
     ]
    },
    {
     "name": "stderr",
     "output_type": "stream",
     "text": [
      " 84%|████████▍ | 84/100 [20:21<03:51, 14.46s/it]"
     ]
    },
    {
     "name": "stdout",
     "output_type": "stream",
     "text": [
      "Validation loss: 0.87314 | Validation accuracy: 69.35%\n",
      "\n",
      "Epoch 85\n",
      "-------------------------------\n",
      "Train loss: 0.83218 | Train accuracy: 71.13%\n"
     ]
    },
    {
     "name": "stderr",
     "output_type": "stream",
     "text": [
      " 85%|████████▌ | 85/100 [20:35<03:36, 14.46s/it]"
     ]
    },
    {
     "name": "stdout",
     "output_type": "stream",
     "text": [
      "Validation loss: 0.87251 | Validation accuracy: 69.85%\n",
      "\n",
      "Epoch 86\n",
      "-------------------------------\n",
      "Train loss: 0.83031 | Train accuracy: 71.06%\n"
     ]
    },
    {
     "name": "stderr",
     "output_type": "stream",
     "text": [
      " 86%|████████▌ | 86/100 [20:50<03:23, 14.56s/it]"
     ]
    },
    {
     "name": "stdout",
     "output_type": "stream",
     "text": [
      "Validation loss: 0.86072 | Validation accuracy: 69.51%\n",
      "\n",
      "Epoch 87\n",
      "-------------------------------\n",
      "Train loss: 0.83118 | Train accuracy: 71.05%\n"
     ]
    },
    {
     "name": "stderr",
     "output_type": "stream",
     "text": [
      " 87%|████████▋ | 87/100 [21:05<03:10, 14.63s/it]"
     ]
    },
    {
     "name": "stdout",
     "output_type": "stream",
     "text": [
      "Validation loss: 0.87139 | Validation accuracy: 69.89%\n",
      "\n",
      "Epoch 88\n",
      "-------------------------------\n",
      "Train loss: 0.83125 | Train accuracy: 71.23%\n"
     ]
    },
    {
     "name": "stderr",
     "output_type": "stream",
     "text": [
      " 88%|████████▊ | 88/100 [21:19<02:54, 14.52s/it]"
     ]
    },
    {
     "name": "stdout",
     "output_type": "stream",
     "text": [
      "Validation loss: 0.86238 | Validation accuracy: 69.72%\n",
      "\n",
      "Epoch 89\n",
      "-------------------------------\n",
      "Train loss: 0.82750 | Train accuracy: 71.00%\n"
     ]
    },
    {
     "name": "stderr",
     "output_type": "stream",
     "text": [
      " 89%|████████▉ | 89/100 [21:34<02:40, 14.59s/it]"
     ]
    },
    {
     "name": "stdout",
     "output_type": "stream",
     "text": [
      "Validation loss: 0.88648 | Validation accuracy: 69.03%\n",
      "\n",
      "Epoch 90\n",
      "-------------------------------\n",
      "Train loss: 0.83369 | Train accuracy: 70.96%\n"
     ]
    },
    {
     "name": "stderr",
     "output_type": "stream",
     "text": [
      " 90%|█████████ | 90/100 [21:49<02:26, 14.63s/it]"
     ]
    },
    {
     "name": "stdout",
     "output_type": "stream",
     "text": [
      "Validation loss: 0.88072 | Validation accuracy: 69.03%\n",
      "\n",
      "Epoch 91\n",
      "-------------------------------\n",
      "Train loss: 0.81504 | Train accuracy: 71.56%\n"
     ]
    },
    {
     "name": "stderr",
     "output_type": "stream",
     "text": [
      " 91%|█████████ | 91/100 [22:03<02:11, 14.64s/it]"
     ]
    },
    {
     "name": "stdout",
     "output_type": "stream",
     "text": [
      "Validation loss: 0.92182 | Validation accuracy: 68.00%\n",
      "\n",
      "Epoch 92\n",
      "-------------------------------\n",
      "Train loss: 0.82210 | Train accuracy: 71.43%\n"
     ]
    },
    {
     "name": "stderr",
     "output_type": "stream",
     "text": [
      " 91%|█████████ | 91/100 [22:18<02:12, 14.70s/it]"
     ]
    },
    {
     "name": "stdout",
     "output_type": "stream",
     "text": [
      "Validation loss: 0.86135 | Validation accuracy: 69.85%\n",
      "\n",
      "Early stopping at epoch 92\n",
      "Finished training\n"
     ]
    },
    {
     "name": "stderr",
     "output_type": "stream",
     "text": [
      "\n"
     ]
    },
    {
     "name": "stdout",
     "output_type": "stream",
     "text": [
      "CPU times: user 22min 16s, sys: 1min 11s, total: 23min 28s\n",
      "Wall time: 22min 22s\n"
     ]
    },
    {
     "data": {
      "image/png": "[encoded data removed]",
      "text/plain": [
       "<Figure size 640x480 with 1 Axes>"
      ]
     },
     "metadata": {},
     "output_type": "display_data"
    }
   ],
   "source": [
    "%%time\n",
    "model = ResNet(arch=[[3, 64], [4, 128], [6, 256], [3, 512]], num_classes=10)\n",
    "loss = nn.CrossEntropyLoss()\n",
    "optimizer = optim.Adam(model.parameters(), lr=0.01, weight_decay=1e-4)\n",
    "scheduler = torch.optim.lr_scheduler.StepLR(optimizer, step_size=10, gamma=0.9, last_epoch=-1)\n",
    "train(model, loss, optimizer, train_dataloader, val_dataloader, scheduler=scheduler, \n",
    "      num_epochs=100, device=device, early_stopper=EarlyStopper(patience=10, min_delta=0.01))"
   ]
  },
  {
   "cell_type": "markdown",
   "metadata": {},
   "source": [
    "### 保存"
   ]
  },
  {
   "cell_type": "code",
   "execution_count": 35,
   "metadata": {},
   "outputs": [],
   "source": [
    "MODEL_NAME = \"ResNet_cifar10.pth\"\n",
    "MODEL_SAVE_PATH = MODEL_PATH / MODEL_NAME\n",
    "torch.save(obj=model.state_dict(), \n",
    "           f=MODEL_SAVE_PATH)"
   ]
  },
  {
   "cell_type": "markdown",
   "metadata": {},
   "source": [
    "## DenseNet\n",
    "### 定义"
   ]
  },
  {
   "cell_type": "code",
   "execution_count": 4,
   "metadata": {},
   "outputs": [
    {
     "name": "stderr",
     "output_type": "stream",
     "text": [
      "/usr/local/lib/python3.11/dist-packages/torch/nn/modules/lazy.py:181: UserWarning: Lazy modules are a new feature under heavy development so changes to the API or functionality can happen at any moment.\n",
      "  warnings.warn('Lazy modules are a new feature under heavy development '\n"
     ]
    },
    {
     "name": "stdout",
     "output_type": "stream",
     "text": [
      "Sequential output shape:\t torch.Size([1, 64, 46, 46])\n",
      "DenseBlock output shape:\t torch.Size([1, 256, 46, 46])\n",
      "Sequential output shape:\t torch.Size([1, 128, 23, 23])\n",
      "DenseBlock output shape:\t torch.Size([1, 512, 23, 23])\n",
      "Sequential output shape:\t torch.Size([1, 256, 11, 11])\n",
      "DenseBlock output shape:\t torch.Size([1, 1280, 11, 11])\n",
      "Sequential output shape:\t torch.Size([1, 640, 5, 5])\n",
      "DenseBlock output shape:\t torch.Size([1, 1664, 5, 5])\n",
      "Sequential output shape:\t torch.Size([1, 10])\n"
     ]
    }
   ],
   "source": [
    "def conv_block(num_channels):\n",
    "    return nn.Sequential(\n",
    "        nn.LazyBatchNorm2d(), nn.ReLU(),\n",
    "        nn.LazyConv2d(num_channels // 8, kernel_size=1),\n",
    "        nn.LazyBatchNorm2d(), nn.ReLU(),\n",
    "        nn.LazyConv2d(num_channels, kernel_size=3, padding=1))\n",
    "\n",
    "class DenseBlock(nn.Module):\n",
    "    def __init__(self, num_convs, num_channels):\n",
    "        super(DenseBlock, self).__init__()\n",
    "        layer = []\n",
    "        for i in range(num_convs):\n",
    "            layer.append(conv_block(num_channels))\n",
    "        self.net = nn.Sequential(*layer)\n",
    "\n",
    "    def forward(self, X):\n",
    "        for blk in self.net:\n",
    "            Y = blk(X)\n",
    "            # Concatenate input and output of each block along the channels\n",
    "            X = torch.cat((X, Y), dim=1)\n",
    "        return X\n",
    "\n",
    "def transition_block(num_channels):\n",
    "    return nn.Sequential(\n",
    "        nn.LazyBatchNorm2d(), nn.ReLU(),\n",
    "        nn.LazyConv2d(num_channels, kernel_size=1),\n",
    "        nn.AvgPool2d(kernel_size=2, stride=2))\n",
    "\n",
    "class DenseNet(nn.Module):\n",
    "    def __init__(self, num_channels=64, growth_rate=32, arch=(4, 4, 4, 4),\n",
    "                 num_classes=10):\n",
    "        super(DenseNet, self).__init__()\n",
    "        self.net = nn.Sequential(self.b1())\n",
    "        for i, num_convs in enumerate(arch):\n",
    "            self.net.add_module(f'dense_block{i+1}', DenseBlock(num_convs,\n",
    "                                                              growth_rate))\n",
    "            # The number of output channels in the previous dense block\n",
    "            num_channels += num_convs * growth_rate\n",
    "            # A transition layer that halves the number of channels is added\n",
    "            # between the dense blocks\n",
    "            if i != len(arch) - 1:\n",
    "                num_channels //= 2\n",
    "                self.net.add_module(f'tran_blk{i+1}', transition_block(\n",
    "                    num_channels))\n",
    "        self.net.add_module('last', nn.Sequential(\n",
    "            nn.LazyBatchNorm2d(), nn.ReLU(),\n",
    "            nn.AdaptiveAvgPool2d((1, 1)), nn.Flatten(),\n",
    "            nn.LazyLinear(num_classes)))\n",
    "        init_cnn(self.net)\n",
    "\n",
    "    def b1(self):\n",
    "        return nn.Sequential(\n",
    "            nn.LazyConv2d(64, kernel_size=7 * 7, stride=2, padding=3),\n",
    "            nn.LazyBatchNorm2d(), nn.ReLU(),\n",
    "            nn.MaxPool2d(kernel_size=3, stride=2, padding=1))\n",
    "    \n",
    "    def forward(self, X):\n",
    "        return self.net(X)\n",
    "\n",
    "model = DenseNet(arch=(6, 12, 32, 32))\n",
    "X = torch.randn(1, 3, 224, 224)\n",
    "layer_summary(model, X.shape)"
   ]
  },
  {
   "cell_type": "markdown",
   "metadata": {},
   "source": [
    "### 训练"
   ]
  },
  {
   "cell_type": "code",
   "execution_count": 5,
   "metadata": {},
   "outputs": [
    {
     "name": "stderr",
     "output_type": "stream",
     "text": [
      "  0%|          | 0/200 [00:00<?, ?it/s]"
     ]
    },
    {
     "name": "stdout",
     "output_type": "stream",
     "text": [
      "Epoch 1\n",
      "-------------------------------\n"
     ]
    },
    {
     "name": "stderr",
     "output_type": "stream",
     "text": [
      "  0%|          | 0/200 [00:11<?, ?it/s]\n"
     ]
    },
    {
     "ename": "OutOfMemoryError",
     "evalue": "CUDA out of memory. Tried to allocate 66.00 MiB. GPU 0 has a total capacity of 7.75 GiB of which 8.75 MiB is free. Process 2941174 has 7.72 GiB memory in use. Of the allocated memory 7.47 GiB is allocated by PyTorch, and 134.72 MiB is reserved by PyTorch but unallocated. If reserved but unallocated memory is large try setting PYTORCH_CUDA_ALLOC_CONF=expandable_segments:True to avoid fragmentation.  See documentation for Memory Management  (https://pytorch.org/docs/stable/notes/cuda.html#environment-variables)",
     "output_type": "error",
     "traceback": [
      "\u001b[0;31m---------------------------------------------------------------------------\u001b[0m",
      "\u001b[0;31mOutOfMemoryError\u001b[0m                          Traceback (most recent call last)",
      "File \u001b[0;32m<timed exec>:4\u001b[0m\n",
      "Cell \u001b[0;32mIn[3], line 102\u001b[0m, in \u001b[0;36mtrain\u001b[0;34m(model, loss, optimizer, train_dataloader, val_dataloader, scheduler, num_epochs, device, early_stopper)\u001b[0m\n\u001b[1;32m    100\u001b[0m \u001b[38;5;28;01mfor\u001b[39;00m epoch \u001b[38;5;129;01min\u001b[39;00m tqdm(\u001b[38;5;28mrange\u001b[39m(num_epochs)):\n\u001b[1;32m    101\u001b[0m     \u001b[38;5;28mprint\u001b[39m(\u001b[38;5;124mf\u001b[39m\u001b[38;5;124m\"\u001b[39m\u001b[38;5;124mEpoch \u001b[39m\u001b[38;5;132;01m{\u001b[39;00mepoch\u001b[38;5;250m \u001b[39m\u001b[38;5;241m+\u001b[39m\u001b[38;5;250m \u001b[39m\u001b[38;5;241m1\u001b[39m\u001b[38;5;132;01m}\u001b[39;00m\u001b[38;5;130;01m\\n\u001b[39;00m\u001b[38;5;124m-------------------------------\u001b[39m\u001b[38;5;124m\"\u001b[39m)\n\u001b[0;32m--> 102\u001b[0m     train_loss, train_acc \u001b[38;5;241m=\u001b[39m \u001b[43mtrain_step\u001b[49m\u001b[43m(\u001b[49m\u001b[43mmodel\u001b[49m\u001b[43m,\u001b[49m\u001b[43m \u001b[49m\u001b[43mtrain_dataloader\u001b[49m\u001b[43m,\u001b[49m\u001b[43m \u001b[49m\u001b[43mloss\u001b[49m\u001b[43m,\u001b[49m\u001b[43m \u001b[49m\u001b[43moptimizer\u001b[49m\u001b[43m,\u001b[49m\u001b[43m \u001b[49m\u001b[43maccuracy_fn\u001b[49m\u001b[43m,\u001b[49m\u001b[43m \u001b[49m\u001b[43mdevice\u001b[49m\u001b[43m)\u001b[49m\n\u001b[1;32m    103\u001b[0m     val_loss, val_acc \u001b[38;5;241m=\u001b[39m val_step(val_dataloader, model, loss, accuracy_fn, device)\n\u001b[1;32m    104\u001b[0m     scheduler\u001b[38;5;241m.\u001b[39mstep()\n",
      "Cell \u001b[0;32mIn[3], line 37\u001b[0m, in \u001b[0;36mtrain_step\u001b[0;34m(model, data_loader, loss_fn, optimizer, accuracy_fn, device)\u001b[0m\n\u001b[1;32m     34\u001b[0m X, y \u001b[38;5;241m=\u001b[39m X\u001b[38;5;241m.\u001b[39mto(device), y\u001b[38;5;241m.\u001b[39mto(device)\n\u001b[1;32m     36\u001b[0m \u001b[38;5;66;03m# 1. Forward pass\u001b[39;00m\n\u001b[0;32m---> 37\u001b[0m y_pred \u001b[38;5;241m=\u001b[39m \u001b[43mmodel\u001b[49m\u001b[43m(\u001b[49m\u001b[43mX\u001b[49m\u001b[43m)\u001b[49m\n\u001b[1;32m     39\u001b[0m \u001b[38;5;66;03m# 2. Calculate loss\u001b[39;00m\n\u001b[1;32m     40\u001b[0m loss \u001b[38;5;241m=\u001b[39m loss_fn(y_pred, y)\n",
      "File \u001b[0;32m/usr/local/lib/python3.11/dist-packages/torch/nn/modules/module.py:1511\u001b[0m, in \u001b[0;36mModule._wrapped_call_impl\u001b[0;34m(self, *args, **kwargs)\u001b[0m\n\u001b[1;32m   1509\u001b[0m     \u001b[38;5;28;01mreturn\u001b[39;00m \u001b[38;5;28mself\u001b[39m\u001b[38;5;241m.\u001b[39m_compiled_call_impl(\u001b[38;5;241m*\u001b[39margs, \u001b[38;5;241m*\u001b[39m\u001b[38;5;241m*\u001b[39mkwargs)  \u001b[38;5;66;03m# type: ignore[misc]\u001b[39;00m\n\u001b[1;32m   1510\u001b[0m \u001b[38;5;28;01melse\u001b[39;00m:\n\u001b[0;32m-> 1511\u001b[0m     \u001b[38;5;28;01mreturn\u001b[39;00m \u001b[38;5;28;43mself\u001b[39;49m\u001b[38;5;241;43m.\u001b[39;49m\u001b[43m_call_impl\u001b[49m\u001b[43m(\u001b[49m\u001b[38;5;241;43m*\u001b[39;49m\u001b[43margs\u001b[49m\u001b[43m,\u001b[49m\u001b[43m \u001b[49m\u001b[38;5;241;43m*\u001b[39;49m\u001b[38;5;241;43m*\u001b[39;49m\u001b[43mkwargs\u001b[49m\u001b[43m)\u001b[49m\n",
      "File \u001b[0;32m/usr/local/lib/python3.11/dist-packages/torch/nn/modules/module.py:1520\u001b[0m, in \u001b[0;36mModule._call_impl\u001b[0;34m(self, *args, **kwargs)\u001b[0m\n\u001b[1;32m   1515\u001b[0m \u001b[38;5;66;03m# If we don't have any hooks, we want to skip the rest of the logic in\u001b[39;00m\n\u001b[1;32m   1516\u001b[0m \u001b[38;5;66;03m# this function, and just call forward.\u001b[39;00m\n\u001b[1;32m   1517\u001b[0m \u001b[38;5;28;01mif\u001b[39;00m \u001b[38;5;129;01mnot\u001b[39;00m (\u001b[38;5;28mself\u001b[39m\u001b[38;5;241m.\u001b[39m_backward_hooks \u001b[38;5;129;01mor\u001b[39;00m \u001b[38;5;28mself\u001b[39m\u001b[38;5;241m.\u001b[39m_backward_pre_hooks \u001b[38;5;129;01mor\u001b[39;00m \u001b[38;5;28mself\u001b[39m\u001b[38;5;241m.\u001b[39m_forward_hooks \u001b[38;5;129;01mor\u001b[39;00m \u001b[38;5;28mself\u001b[39m\u001b[38;5;241m.\u001b[39m_forward_pre_hooks\n\u001b[1;32m   1518\u001b[0m         \u001b[38;5;129;01mor\u001b[39;00m _global_backward_pre_hooks \u001b[38;5;129;01mor\u001b[39;00m _global_backward_hooks\n\u001b[1;32m   1519\u001b[0m         \u001b[38;5;129;01mor\u001b[39;00m _global_forward_hooks \u001b[38;5;129;01mor\u001b[39;00m _global_forward_pre_hooks):\n\u001b[0;32m-> 1520\u001b[0m     \u001b[38;5;28;01mreturn\u001b[39;00m \u001b[43mforward_call\u001b[49m\u001b[43m(\u001b[49m\u001b[38;5;241;43m*\u001b[39;49m\u001b[43margs\u001b[49m\u001b[43m,\u001b[49m\u001b[43m \u001b[49m\u001b[38;5;241;43m*\u001b[39;49m\u001b[38;5;241;43m*\u001b[39;49m\u001b[43mkwargs\u001b[49m\u001b[43m)\u001b[49m\n\u001b[1;32m   1522\u001b[0m \u001b[38;5;28;01mtry\u001b[39;00m:\n\u001b[1;32m   1523\u001b[0m     result \u001b[38;5;241m=\u001b[39m \u001b[38;5;28;01mNone\u001b[39;00m\n",
      "Cell \u001b[0;32mIn[4], line 58\u001b[0m, in \u001b[0;36mDenseNet.forward\u001b[0;34m(self, X)\u001b[0m\n\u001b[1;32m     57\u001b[0m \u001b[38;5;28;01mdef\u001b[39;00m \u001b[38;5;21mforward\u001b[39m(\u001b[38;5;28mself\u001b[39m, X):\n\u001b[0;32m---> 58\u001b[0m     \u001b[38;5;28;01mreturn\u001b[39;00m \u001b[38;5;28;43mself\u001b[39;49m\u001b[38;5;241;43m.\u001b[39;49m\u001b[43mnet\u001b[49m\u001b[43m(\u001b[49m\u001b[43mX\u001b[49m\u001b[43m)\u001b[49m\n",
      "File \u001b[0;32m/usr/local/lib/python3.11/dist-packages/torch/nn/modules/module.py:1511\u001b[0m, in \u001b[0;36mModule._wrapped_call_impl\u001b[0;34m(self, *args, **kwargs)\u001b[0m\n\u001b[1;32m   1509\u001b[0m     \u001b[38;5;28;01mreturn\u001b[39;00m \u001b[38;5;28mself\u001b[39m\u001b[38;5;241m.\u001b[39m_compiled_call_impl(\u001b[38;5;241m*\u001b[39margs, \u001b[38;5;241m*\u001b[39m\u001b[38;5;241m*\u001b[39mkwargs)  \u001b[38;5;66;03m# type: ignore[misc]\u001b[39;00m\n\u001b[1;32m   1510\u001b[0m \u001b[38;5;28;01melse\u001b[39;00m:\n\u001b[0;32m-> 1511\u001b[0m     \u001b[38;5;28;01mreturn\u001b[39;00m \u001b[38;5;28;43mself\u001b[39;49m\u001b[38;5;241;43m.\u001b[39;49m\u001b[43m_call_impl\u001b[49m\u001b[43m(\u001b[49m\u001b[38;5;241;43m*\u001b[39;49m\u001b[43margs\u001b[49m\u001b[43m,\u001b[49m\u001b[43m \u001b[49m\u001b[38;5;241;43m*\u001b[39;49m\u001b[38;5;241;43m*\u001b[39;49m\u001b[43mkwargs\u001b[49m\u001b[43m)\u001b[49m\n",
      "File \u001b[0;32m/usr/local/lib/python3.11/dist-packages/torch/nn/modules/module.py:1520\u001b[0m, in \u001b[0;36mModule._call_impl\u001b[0;34m(self, *args, **kwargs)\u001b[0m\n\u001b[1;32m   1515\u001b[0m \u001b[38;5;66;03m# If we don't have any hooks, we want to skip the rest of the logic in\u001b[39;00m\n\u001b[1;32m   1516\u001b[0m \u001b[38;5;66;03m# this function, and just call forward.\u001b[39;00m\n\u001b[1;32m   1517\u001b[0m \u001b[38;5;28;01mif\u001b[39;00m \u001b[38;5;129;01mnot\u001b[39;00m (\u001b[38;5;28mself\u001b[39m\u001b[38;5;241m.\u001b[39m_backward_hooks \u001b[38;5;129;01mor\u001b[39;00m \u001b[38;5;28mself\u001b[39m\u001b[38;5;241m.\u001b[39m_backward_pre_hooks \u001b[38;5;129;01mor\u001b[39;00m \u001b[38;5;28mself\u001b[39m\u001b[38;5;241m.\u001b[39m_forward_hooks \u001b[38;5;129;01mor\u001b[39;00m \u001b[38;5;28mself\u001b[39m\u001b[38;5;241m.\u001b[39m_forward_pre_hooks\n\u001b[1;32m   1518\u001b[0m         \u001b[38;5;129;01mor\u001b[39;00m _global_backward_pre_hooks \u001b[38;5;129;01mor\u001b[39;00m _global_backward_hooks\n\u001b[1;32m   1519\u001b[0m         \u001b[38;5;129;01mor\u001b[39;00m _global_forward_hooks \u001b[38;5;129;01mor\u001b[39;00m _global_forward_pre_hooks):\n\u001b[0;32m-> 1520\u001b[0m     \u001b[38;5;28;01mreturn\u001b[39;00m \u001b[43mforward_call\u001b[49m\u001b[43m(\u001b[49m\u001b[38;5;241;43m*\u001b[39;49m\u001b[43margs\u001b[49m\u001b[43m,\u001b[49m\u001b[43m \u001b[49m\u001b[38;5;241;43m*\u001b[39;49m\u001b[38;5;241;43m*\u001b[39;49m\u001b[43mkwargs\u001b[49m\u001b[43m)\u001b[49m\n\u001b[1;32m   1522\u001b[0m \u001b[38;5;28;01mtry\u001b[39;00m:\n\u001b[1;32m   1523\u001b[0m     result \u001b[38;5;241m=\u001b[39m \u001b[38;5;28;01mNone\u001b[39;00m\n",
      "File \u001b[0;32m/usr/local/lib/python3.11/dist-packages/torch/nn/modules/container.py:217\u001b[0m, in \u001b[0;36mSequential.forward\u001b[0;34m(self, input)\u001b[0m\n\u001b[1;32m    215\u001b[0m \u001b[38;5;28;01mdef\u001b[39;00m \u001b[38;5;21mforward\u001b[39m(\u001b[38;5;28mself\u001b[39m, \u001b[38;5;28minput\u001b[39m):\n\u001b[1;32m    216\u001b[0m     \u001b[38;5;28;01mfor\u001b[39;00m module \u001b[38;5;129;01min\u001b[39;00m \u001b[38;5;28mself\u001b[39m:\n\u001b[0;32m--> 217\u001b[0m         \u001b[38;5;28minput\u001b[39m \u001b[38;5;241m=\u001b[39m \u001b[43mmodule\u001b[49m\u001b[43m(\u001b[49m\u001b[38;5;28;43minput\u001b[39;49m\u001b[43m)\u001b[49m\n\u001b[1;32m    218\u001b[0m     \u001b[38;5;28;01mreturn\u001b[39;00m \u001b[38;5;28minput\u001b[39m\n",
      "File \u001b[0;32m/usr/local/lib/python3.11/dist-packages/torch/nn/modules/module.py:1511\u001b[0m, in \u001b[0;36mModule._wrapped_call_impl\u001b[0;34m(self, *args, **kwargs)\u001b[0m\n\u001b[1;32m   1509\u001b[0m     \u001b[38;5;28;01mreturn\u001b[39;00m \u001b[38;5;28mself\u001b[39m\u001b[38;5;241m.\u001b[39m_compiled_call_impl(\u001b[38;5;241m*\u001b[39margs, \u001b[38;5;241m*\u001b[39m\u001b[38;5;241m*\u001b[39mkwargs)  \u001b[38;5;66;03m# type: ignore[misc]\u001b[39;00m\n\u001b[1;32m   1510\u001b[0m \u001b[38;5;28;01melse\u001b[39;00m:\n\u001b[0;32m-> 1511\u001b[0m     \u001b[38;5;28;01mreturn\u001b[39;00m \u001b[38;5;28;43mself\u001b[39;49m\u001b[38;5;241;43m.\u001b[39;49m\u001b[43m_call_impl\u001b[49m\u001b[43m(\u001b[49m\u001b[38;5;241;43m*\u001b[39;49m\u001b[43margs\u001b[49m\u001b[43m,\u001b[49m\u001b[43m \u001b[49m\u001b[38;5;241;43m*\u001b[39;49m\u001b[38;5;241;43m*\u001b[39;49m\u001b[43mkwargs\u001b[49m\u001b[43m)\u001b[49m\n",
      "File \u001b[0;32m/usr/local/lib/python3.11/dist-packages/torch/nn/modules/module.py:1520\u001b[0m, in \u001b[0;36mModule._call_impl\u001b[0;34m(self, *args, **kwargs)\u001b[0m\n\u001b[1;32m   1515\u001b[0m \u001b[38;5;66;03m# If we don't have any hooks, we want to skip the rest of the logic in\u001b[39;00m\n\u001b[1;32m   1516\u001b[0m \u001b[38;5;66;03m# this function, and just call forward.\u001b[39;00m\n\u001b[1;32m   1517\u001b[0m \u001b[38;5;28;01mif\u001b[39;00m \u001b[38;5;129;01mnot\u001b[39;00m (\u001b[38;5;28mself\u001b[39m\u001b[38;5;241m.\u001b[39m_backward_hooks \u001b[38;5;129;01mor\u001b[39;00m \u001b[38;5;28mself\u001b[39m\u001b[38;5;241m.\u001b[39m_backward_pre_hooks \u001b[38;5;129;01mor\u001b[39;00m \u001b[38;5;28mself\u001b[39m\u001b[38;5;241m.\u001b[39m_forward_hooks \u001b[38;5;129;01mor\u001b[39;00m \u001b[38;5;28mself\u001b[39m\u001b[38;5;241m.\u001b[39m_forward_pre_hooks\n\u001b[1;32m   1518\u001b[0m         \u001b[38;5;129;01mor\u001b[39;00m _global_backward_pre_hooks \u001b[38;5;129;01mor\u001b[39;00m _global_backward_hooks\n\u001b[1;32m   1519\u001b[0m         \u001b[38;5;129;01mor\u001b[39;00m _global_forward_hooks \u001b[38;5;129;01mor\u001b[39;00m _global_forward_pre_hooks):\n\u001b[0;32m-> 1520\u001b[0m     \u001b[38;5;28;01mreturn\u001b[39;00m \u001b[43mforward_call\u001b[49m\u001b[43m(\u001b[49m\u001b[38;5;241;43m*\u001b[39;49m\u001b[43margs\u001b[49m\u001b[43m,\u001b[49m\u001b[43m \u001b[49m\u001b[38;5;241;43m*\u001b[39;49m\u001b[38;5;241;43m*\u001b[39;49m\u001b[43mkwargs\u001b[49m\u001b[43m)\u001b[49m\n\u001b[1;32m   1522\u001b[0m \u001b[38;5;28;01mtry\u001b[39;00m:\n\u001b[1;32m   1523\u001b[0m     result \u001b[38;5;241m=\u001b[39m \u001b[38;5;28;01mNone\u001b[39;00m\n",
      "Cell \u001b[0;32mIn[4], line 18\u001b[0m, in \u001b[0;36mDenseBlock.forward\u001b[0;34m(self, X)\u001b[0m\n\u001b[1;32m     16\u001b[0m \u001b[38;5;28;01mdef\u001b[39;00m \u001b[38;5;21mforward\u001b[39m(\u001b[38;5;28mself\u001b[39m, X):\n\u001b[1;32m     17\u001b[0m     \u001b[38;5;28;01mfor\u001b[39;00m blk \u001b[38;5;129;01min\u001b[39;00m \u001b[38;5;28mself\u001b[39m\u001b[38;5;241m.\u001b[39mnet:\n\u001b[0;32m---> 18\u001b[0m         Y \u001b[38;5;241m=\u001b[39m \u001b[43mblk\u001b[49m\u001b[43m(\u001b[49m\u001b[43mX\u001b[49m\u001b[43m)\u001b[49m\n\u001b[1;32m     19\u001b[0m         \u001b[38;5;66;03m# Concatenate input and output of each block along the channels\u001b[39;00m\n\u001b[1;32m     20\u001b[0m         X \u001b[38;5;241m=\u001b[39m torch\u001b[38;5;241m.\u001b[39mcat((X, Y), dim\u001b[38;5;241m=\u001b[39m\u001b[38;5;241m1\u001b[39m)\n",
      "File \u001b[0;32m/usr/local/lib/python3.11/dist-packages/torch/nn/modules/module.py:1511\u001b[0m, in \u001b[0;36mModule._wrapped_call_impl\u001b[0;34m(self, *args, **kwargs)\u001b[0m\n\u001b[1;32m   1509\u001b[0m     \u001b[38;5;28;01mreturn\u001b[39;00m \u001b[38;5;28mself\u001b[39m\u001b[38;5;241m.\u001b[39m_compiled_call_impl(\u001b[38;5;241m*\u001b[39margs, \u001b[38;5;241m*\u001b[39m\u001b[38;5;241m*\u001b[39mkwargs)  \u001b[38;5;66;03m# type: ignore[misc]\u001b[39;00m\n\u001b[1;32m   1510\u001b[0m \u001b[38;5;28;01melse\u001b[39;00m:\n\u001b[0;32m-> 1511\u001b[0m     \u001b[38;5;28;01mreturn\u001b[39;00m \u001b[38;5;28;43mself\u001b[39;49m\u001b[38;5;241;43m.\u001b[39;49m\u001b[43m_call_impl\u001b[49m\u001b[43m(\u001b[49m\u001b[38;5;241;43m*\u001b[39;49m\u001b[43margs\u001b[49m\u001b[43m,\u001b[49m\u001b[43m \u001b[49m\u001b[38;5;241;43m*\u001b[39;49m\u001b[38;5;241;43m*\u001b[39;49m\u001b[43mkwargs\u001b[49m\u001b[43m)\u001b[49m\n",
      "File \u001b[0;32m/usr/local/lib/python3.11/dist-packages/torch/nn/modules/module.py:1520\u001b[0m, in \u001b[0;36mModule._call_impl\u001b[0;34m(self, *args, **kwargs)\u001b[0m\n\u001b[1;32m   1515\u001b[0m \u001b[38;5;66;03m# If we don't have any hooks, we want to skip the rest of the logic in\u001b[39;00m\n\u001b[1;32m   1516\u001b[0m \u001b[38;5;66;03m# this function, and just call forward.\u001b[39;00m\n\u001b[1;32m   1517\u001b[0m \u001b[38;5;28;01mif\u001b[39;00m \u001b[38;5;129;01mnot\u001b[39;00m (\u001b[38;5;28mself\u001b[39m\u001b[38;5;241m.\u001b[39m_backward_hooks \u001b[38;5;129;01mor\u001b[39;00m \u001b[38;5;28mself\u001b[39m\u001b[38;5;241m.\u001b[39m_backward_pre_hooks \u001b[38;5;129;01mor\u001b[39;00m \u001b[38;5;28mself\u001b[39m\u001b[38;5;241m.\u001b[39m_forward_hooks \u001b[38;5;129;01mor\u001b[39;00m \u001b[38;5;28mself\u001b[39m\u001b[38;5;241m.\u001b[39m_forward_pre_hooks\n\u001b[1;32m   1518\u001b[0m         \u001b[38;5;129;01mor\u001b[39;00m _global_backward_pre_hooks \u001b[38;5;129;01mor\u001b[39;00m _global_backward_hooks\n\u001b[1;32m   1519\u001b[0m         \u001b[38;5;129;01mor\u001b[39;00m _global_forward_hooks \u001b[38;5;129;01mor\u001b[39;00m _global_forward_pre_hooks):\n\u001b[0;32m-> 1520\u001b[0m     \u001b[38;5;28;01mreturn\u001b[39;00m \u001b[43mforward_call\u001b[49m\u001b[43m(\u001b[49m\u001b[38;5;241;43m*\u001b[39;49m\u001b[43margs\u001b[49m\u001b[43m,\u001b[49m\u001b[43m \u001b[49m\u001b[38;5;241;43m*\u001b[39;49m\u001b[38;5;241;43m*\u001b[39;49m\u001b[43mkwargs\u001b[49m\u001b[43m)\u001b[49m\n\u001b[1;32m   1522\u001b[0m \u001b[38;5;28;01mtry\u001b[39;00m:\n\u001b[1;32m   1523\u001b[0m     result \u001b[38;5;241m=\u001b[39m \u001b[38;5;28;01mNone\u001b[39;00m\n",
      "File \u001b[0;32m/usr/local/lib/python3.11/dist-packages/torch/nn/modules/container.py:217\u001b[0m, in \u001b[0;36mSequential.forward\u001b[0;34m(self, input)\u001b[0m\n\u001b[1;32m    215\u001b[0m \u001b[38;5;28;01mdef\u001b[39;00m \u001b[38;5;21mforward\u001b[39m(\u001b[38;5;28mself\u001b[39m, \u001b[38;5;28minput\u001b[39m):\n\u001b[1;32m    216\u001b[0m     \u001b[38;5;28;01mfor\u001b[39;00m module \u001b[38;5;129;01min\u001b[39;00m \u001b[38;5;28mself\u001b[39m:\n\u001b[0;32m--> 217\u001b[0m         \u001b[38;5;28minput\u001b[39m \u001b[38;5;241m=\u001b[39m \u001b[43mmodule\u001b[49m\u001b[43m(\u001b[49m\u001b[38;5;28;43minput\u001b[39;49m\u001b[43m)\u001b[49m\n\u001b[1;32m    218\u001b[0m     \u001b[38;5;28;01mreturn\u001b[39;00m \u001b[38;5;28minput\u001b[39m\n",
      "File \u001b[0;32m/usr/local/lib/python3.11/dist-packages/torch/nn/modules/module.py:1511\u001b[0m, in \u001b[0;36mModule._wrapped_call_impl\u001b[0;34m(self, *args, **kwargs)\u001b[0m\n\u001b[1;32m   1509\u001b[0m     \u001b[38;5;28;01mreturn\u001b[39;00m \u001b[38;5;28mself\u001b[39m\u001b[38;5;241m.\u001b[39m_compiled_call_impl(\u001b[38;5;241m*\u001b[39margs, \u001b[38;5;241m*\u001b[39m\u001b[38;5;241m*\u001b[39mkwargs)  \u001b[38;5;66;03m# type: ignore[misc]\u001b[39;00m\n\u001b[1;32m   1510\u001b[0m \u001b[38;5;28;01melse\u001b[39;00m:\n\u001b[0;32m-> 1511\u001b[0m     \u001b[38;5;28;01mreturn\u001b[39;00m \u001b[38;5;28;43mself\u001b[39;49m\u001b[38;5;241;43m.\u001b[39;49m\u001b[43m_call_impl\u001b[49m\u001b[43m(\u001b[49m\u001b[38;5;241;43m*\u001b[39;49m\u001b[43margs\u001b[49m\u001b[43m,\u001b[49m\u001b[43m \u001b[49m\u001b[38;5;241;43m*\u001b[39;49m\u001b[38;5;241;43m*\u001b[39;49m\u001b[43mkwargs\u001b[49m\u001b[43m)\u001b[49m\n",
      "File \u001b[0;32m/usr/local/lib/python3.11/dist-packages/torch/nn/modules/module.py:1520\u001b[0m, in \u001b[0;36mModule._call_impl\u001b[0;34m(self, *args, **kwargs)\u001b[0m\n\u001b[1;32m   1515\u001b[0m \u001b[38;5;66;03m# If we don't have any hooks, we want to skip the rest of the logic in\u001b[39;00m\n\u001b[1;32m   1516\u001b[0m \u001b[38;5;66;03m# this function, and just call forward.\u001b[39;00m\n\u001b[1;32m   1517\u001b[0m \u001b[38;5;28;01mif\u001b[39;00m \u001b[38;5;129;01mnot\u001b[39;00m (\u001b[38;5;28mself\u001b[39m\u001b[38;5;241m.\u001b[39m_backward_hooks \u001b[38;5;129;01mor\u001b[39;00m \u001b[38;5;28mself\u001b[39m\u001b[38;5;241m.\u001b[39m_backward_pre_hooks \u001b[38;5;129;01mor\u001b[39;00m \u001b[38;5;28mself\u001b[39m\u001b[38;5;241m.\u001b[39m_forward_hooks \u001b[38;5;129;01mor\u001b[39;00m \u001b[38;5;28mself\u001b[39m\u001b[38;5;241m.\u001b[39m_forward_pre_hooks\n\u001b[1;32m   1518\u001b[0m         \u001b[38;5;129;01mor\u001b[39;00m _global_backward_pre_hooks \u001b[38;5;129;01mor\u001b[39;00m _global_backward_hooks\n\u001b[1;32m   1519\u001b[0m         \u001b[38;5;129;01mor\u001b[39;00m _global_forward_hooks \u001b[38;5;129;01mor\u001b[39;00m _global_forward_pre_hooks):\n\u001b[0;32m-> 1520\u001b[0m     \u001b[38;5;28;01mreturn\u001b[39;00m \u001b[43mforward_call\u001b[49m\u001b[43m(\u001b[49m\u001b[38;5;241;43m*\u001b[39;49m\u001b[43margs\u001b[49m\u001b[43m,\u001b[49m\u001b[43m \u001b[49m\u001b[38;5;241;43m*\u001b[39;49m\u001b[38;5;241;43m*\u001b[39;49m\u001b[43mkwargs\u001b[49m\u001b[43m)\u001b[49m\n\u001b[1;32m   1522\u001b[0m \u001b[38;5;28;01mtry\u001b[39;00m:\n\u001b[1;32m   1523\u001b[0m     result \u001b[38;5;241m=\u001b[39m \u001b[38;5;28;01mNone\u001b[39;00m\n",
      "File \u001b[0;32m/usr/local/lib/python3.11/dist-packages/torch/nn/modules/activation.py:101\u001b[0m, in \u001b[0;36mReLU.forward\u001b[0;34m(self, input)\u001b[0m\n\u001b[1;32m    100\u001b[0m \u001b[38;5;28;01mdef\u001b[39;00m \u001b[38;5;21mforward\u001b[39m(\u001b[38;5;28mself\u001b[39m, \u001b[38;5;28minput\u001b[39m: Tensor) \u001b[38;5;241m-\u001b[39m\u001b[38;5;241m>\u001b[39m Tensor:\n\u001b[0;32m--> 101\u001b[0m     \u001b[38;5;28;01mreturn\u001b[39;00m \u001b[43mF\u001b[49m\u001b[38;5;241;43m.\u001b[39;49m\u001b[43mrelu\u001b[49m\u001b[43m(\u001b[49m\u001b[38;5;28;43minput\u001b[39;49m\u001b[43m,\u001b[49m\u001b[43m \u001b[49m\u001b[43minplace\u001b[49m\u001b[38;5;241;43m=\u001b[39;49m\u001b[38;5;28;43mself\u001b[39;49m\u001b[38;5;241;43m.\u001b[39;49m\u001b[43minplace\u001b[49m\u001b[43m)\u001b[49m\n",
      "File \u001b[0;32m/usr/local/lib/python3.11/dist-packages/torch/nn/functional.py:1473\u001b[0m, in \u001b[0;36mrelu\u001b[0;34m(input, inplace)\u001b[0m\n\u001b[1;32m   1471\u001b[0m     result \u001b[38;5;241m=\u001b[39m torch\u001b[38;5;241m.\u001b[39mrelu_(\u001b[38;5;28minput\u001b[39m)\n\u001b[1;32m   1472\u001b[0m \u001b[38;5;28;01melse\u001b[39;00m:\n\u001b[0;32m-> 1473\u001b[0m     result \u001b[38;5;241m=\u001b[39m \u001b[43mtorch\u001b[49m\u001b[38;5;241;43m.\u001b[39;49m\u001b[43mrelu\u001b[49m\u001b[43m(\u001b[49m\u001b[38;5;28;43minput\u001b[39;49m\u001b[43m)\u001b[49m\n\u001b[1;32m   1474\u001b[0m \u001b[38;5;28;01mreturn\u001b[39;00m result\n",
      "\u001b[0;31mOutOfMemoryError\u001b[0m: CUDA out of memory. Tried to allocate 66.00 MiB. GPU 0 has a total capacity of 7.75 GiB of which 8.75 MiB is free. Process 2941174 has 7.72 GiB memory in use. Of the allocated memory 7.47 GiB is allocated by PyTorch, and 134.72 MiB is reserved by PyTorch but unallocated. If reserved but unallocated memory is large try setting PYTORCH_CUDA_ALLOC_CONF=expandable_segments:True to avoid fragmentation.  See documentation for Memory Management  (https://pytorch.org/docs/stable/notes/cuda.html#environment-variables)"
     ]
    }
   ],
   "source": [
    "%%time\n",
    "loss = nn.CrossEntropyLoss()\n",
    "optimizer = optim.Adam(model.parameters(), lr=0.01)\n",
    "scheduler = torch.optim.lr_scheduler.StepLR(optimizer, step_size=10, gamma=0.9, last_epoch=-1)\n",
    "train(model, loss, optimizer, train_dataloader, val_dataloader, scheduler=scheduler, num_epochs=200, \n",
    "      device=device, early_stopper=EarlyStopper(patience=10, min_delta=0.02))"
   ]
  },
  {
   "cell_type": "code",
   "execution_count": 5,
   "metadata": {},
   "outputs": [
    {
     "name": "stderr",
     "output_type": "stream",
     "text": [
      "e:\\anaconda\\envs\\d2l\\lib\\site-packages\\torchvision\\models\\_utils.py:208: UserWarning: The parameter 'pretrained' is deprecated since 0.13 and may be removed in the future, please use 'weights' instead.\n",
      "  warnings.warn(\n",
      "e:\\anaconda\\envs\\d2l\\lib\\site-packages\\torchvision\\models\\_utils.py:223: UserWarning: Arguments other than a weight enum or `None` for 'weights' are deprecated since 0.13 and may be removed in the future. The current behavior is equivalent to passing `weights=None`.\n",
      "  warnings.warn(msg)\n"
     ]
    },
    {
     "data": {
      "application/vnd.jupyter.widget-view+json": {
       "model_id": "dcacc11498c14c28a75dabd3622e37e6",
       "version_major": 2,
       "version_minor": 0
      },
      "text/plain": [
       "  0%|          | 0/50 [00:00<?, ?it/s]"
      ]
     },
     "metadata": {},
     "output_type": "display_data"
    },
    {
     "name": "stdout",
     "output_type": "stream",
     "text": [
      "Epoch 1\n",
      "-------------------------------\n",
      "Train loss: 1.94129 | Train accuracy: 30.51%\n",
      "Validation loss: 1.60267 | Validation accuracy: 40.51%\n",
      "\n",
      "Epoch 2\n",
      "-------------------------------\n",
      "Train loss: 1.60692 | Train accuracy: 39.95%\n",
      "Validation loss: 1.54355 | Validation accuracy: 43.33%\n",
      "\n",
      "Epoch 3\n",
      "-------------------------------\n",
      "Train loss: 1.42265 | Train accuracy: 47.60%\n",
      "Validation loss: 1.32748 | Validation accuracy: 52.20%\n",
      "\n",
      "Epoch 4\n",
      "-------------------------------\n",
      "Train loss: 1.31530 | Train accuracy: 52.10%\n",
      "Validation loss: 1.26671 | Validation accuracy: 54.47%\n",
      "\n",
      "Epoch 5\n",
      "-------------------------------\n",
      "Train loss: 1.23048 | Train accuracy: 55.64%\n",
      "Validation loss: 1.22543 | Validation accuracy: 56.33%\n",
      "\n",
      "Epoch 6\n",
      "-------------------------------\n",
      "Train loss: 1.14537 | Train accuracy: 58.83%\n",
      "Validation loss: 1.15599 | Validation accuracy: 58.59%\n",
      "\n",
      "Epoch 7\n",
      "-------------------------------\n",
      "Train loss: 1.08919 | Train accuracy: 61.05%\n",
      "Validation loss: 1.12573 | Validation accuracy: 60.04%\n",
      "\n",
      "Epoch 8\n",
      "-------------------------------\n",
      "Train loss: 1.03055 | Train accuracy: 63.38%\n",
      "Validation loss: 1.11273 | Validation accuracy: 60.26%\n",
      "\n",
      "Epoch 9\n",
      "-------------------------------\n",
      "Train loss: 0.97571 | Train accuracy: 65.56%\n",
      "Validation loss: 1.06774 | Validation accuracy: 61.79%\n",
      "\n",
      "Epoch 10\n",
      "-------------------------------\n",
      "Train loss: 0.93111 | Train accuracy: 66.91%\n",
      "Validation loss: 1.05499 | Validation accuracy: 63.49%\n",
      "\n",
      "Epoch 11\n",
      "-------------------------------\n",
      "Train loss: 0.88981 | Train accuracy: 68.73%\n",
      "Validation loss: 0.98986 | Validation accuracy: 65.59%\n",
      "\n",
      "Epoch 12\n",
      "-------------------------------\n",
      "Train loss: 0.85402 | Train accuracy: 69.91%\n",
      "Validation loss: 0.97793 | Validation accuracy: 66.11%\n",
      "\n",
      "Epoch 13\n",
      "-------------------------------\n",
      "Train loss: 0.82153 | Train accuracy: 71.09%\n",
      "Validation loss: 0.98745 | Validation accuracy: 65.27%\n",
      "\n",
      "Epoch 14\n",
      "-------------------------------\n",
      "Train loss: 0.76972 | Train accuracy: 72.81%\n",
      "Validation loss: 1.00681 | Validation accuracy: 65.48%\n",
      "\n",
      "Epoch 15\n",
      "-------------------------------\n",
      "Train loss: 0.74236 | Train accuracy: 73.73%\n",
      "Validation loss: 1.04488 | Validation accuracy: 65.50%\n",
      "\n",
      "Epoch 16\n",
      "-------------------------------\n",
      "Train loss: 0.71522 | Train accuracy: 74.52%\n",
      "Validation loss: 1.06429 | Validation accuracy: 64.53%\n",
      "\n",
      "Epoch 17\n",
      "-------------------------------\n",
      "Train loss: 0.68357 | Train accuracy: 75.69%\n",
      "Validation loss: 1.02914 | Validation accuracy: 65.36%\n",
      "\n",
      "Epoch 18\n",
      "-------------------------------\n",
      "Train loss: 0.65434 | Train accuracy: 76.85%\n",
      "Validation loss: 0.98743 | Validation accuracy: 66.70%\n",
      "\n",
      "Epoch 19\n",
      "-------------------------------\n",
      "Train loss: 0.62653 | Train accuracy: 77.85%\n",
      "Validation loss: 1.12083 | Validation accuracy: 65.88%\n",
      "\n",
      "Epoch 20\n",
      "-------------------------------\n",
      "Train loss: 0.60229 | Train accuracy: 78.87%\n",
      "Validation loss: 1.01461 | Validation accuracy: 67.20%\n",
      "\n",
      "Epoch 21\n",
      "-------------------------------\n",
      "Train loss: 0.57841 | Train accuracy: 79.63%\n",
      "Validation loss: 1.05729 | Validation accuracy: 66.54%\n",
      "\n",
      "Epoch 22\n",
      "-------------------------------\n",
      "Train loss: 0.55922 | Train accuracy: 80.27%\n",
      "Validation loss: 1.07941 | Validation accuracy: 65.84%\n",
      "\n",
      "Early stopping at epoch 22\n",
      "Finished training\n",
      "CPU times: total: 3h 31min 55s\n",
      "Wall time: 27min 7s\n"
     ]
    },
    {
     "data": {
      "image/png": "[encoded data removed]",
      "text/plain": [
       "<Figure size 640x480 with 1 Axes>"
      ]
     },
     "metadata": {},
     "output_type": "display_data"
    }
   ],
   "source": [
    "%%time\n",
    "model = torchvision.models.densenet121(pretrained=False)\n",
    "loss = nn.CrossEntropyLoss()\n",
    "optimizer = optim.Adam(model.parameters(), lr=0.01)\n",
    "train(model, loss, optimizer, train_dataloader, val_dataloader, num_epochs=50, device=device, early_stopper=EarlyStopper(patience=8, min_delta=0.02))"
   ]
  },
  {
   "cell_type": "markdown",
   "metadata": {},
   "source": [
    "### 保存"
   ]
  },
  {
   "cell_type": "code",
   "execution_count": 12,
   "metadata": {},
   "outputs": [],
   "source": [
    "MODEL_NAME = \"DenseNet_cifar10.pth\"\n",
    "MODEL_SAVE_PATH = MODEL_PATH / MODEL_NAME\n",
    "torch.save(obj=model.state_dict(), \n",
    "           f=MODEL_SAVE_PATH)"
   ]
  },
  {
   "cell_type": "markdown",
   "metadata": {},
   "source": [
    "# 评估"
   ]
  },
  {
   "cell_type": "code",
   "execution_count": 6,
   "metadata": {},
   "outputs": [
    {
     "name": "stdout",
     "output_type": "stream",
     "text": [
      "Validation loss: 0.60185 | Validation accuracy: 79.94%\n",
      "\n"
     ]
    },
    {
     "data": {
      "text/plain": [
       "(tensor(0.6019, device='cuda:0'), 79.94209265175719)"
      ]
     },
     "execution_count": 6,
     "metadata": {},
     "output_type": "execute_result"
    }
   ],
   "source": [
    "load_model = ResNet(arch=[[2, 64], [2, 128], [2, 256], [2, 512]], num_classes=10)\n",
    "MODEL_NAME = \"ResNet_cifar10.pth\"\n",
    "MODEL_SAVE_PATH = MODEL_PATH / MODEL_NAME\n",
    "load_model.load_state_dict(torch.load(MODEL_SAVE_PATH))\n",
    "loss = nn.CrossEntropyLoss()\n",
    "val_step(test_dataloader, load_model, loss, accuracy_fn, device=device)"
   ]
  }
 ],
 "metadata": {
  "kernelspec": {
   "display_name": "Python 3 (ipykernel)",
   "language": "python",
   "name": "python3"
  },
  "language_info": {
   "codemirror_mode": {
    "name": "ipython",
    "version": 3
   },
   "file_extension": ".py",
   "mimetype": "text/x-python",
   "name": "python",
   "nbconvert_exporter": "python",
   "pygments_lexer": "ipython3",
   "version": "3.9.18"
  }
 },
 "nbformat": 4,
 "nbformat_minor": 4
}
