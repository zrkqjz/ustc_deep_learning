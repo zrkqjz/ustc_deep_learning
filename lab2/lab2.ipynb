{
 "cells": [
  {
   "cell_type": "markdown",
   "metadata": {},
   "source": [
    "# import，全局变量和功能函数\n",
    "## import"
   ]
  },
  {
   "cell_type": "code",
   "execution_count": 1,
   "metadata": {
    "tags": []
   },
   "outputs": [],
   "source": [
    "import torch\n",
    "from torch import nn\n",
    "import torch.optim as optim\n",
    "from torch.nn import functional as F\n",
    "from torch.optim.lr_scheduler import CosineAnnealingLR\n",
    "\n",
    "import torchvision\n",
    "from torchvision import datasets\n",
    "from torchvision import transforms\n",
    "\n",
    "import matplotlib.pyplot as plt\n",
    "\n",
    "import random\n",
    "\n",
    "from tqdm.auto import tqdm\n",
    "\n",
    "from pathlib import Path"
   ]
  },
  {
   "cell_type": "markdown",
   "metadata": {},
   "source": [
    "## 全局变量"
   ]
  },
  {
   "cell_type": "code",
   "execution_count": 2,
   "metadata": {},
   "outputs": [],
   "source": [
    "device = \"cuda\" if torch.cuda.is_available() else \"cpu\"\n",
    "\n",
    "MODEL_PATH = Path(\"models\")\n",
    "MODEL_PATH.mkdir(parents=True, exist_ok=True)\n",
    "\n",
    "# Set random seed for reproducibility\n",
    "def setup_seed(seed):\n",
    "    torch.manual_seed(seed)\n",
    "    torch.cuda.manual_seed_all(seed)\n",
    "    #np.random.seed(seed)\n",
    "    random.seed(seed)\n",
    "    torch.backends.cudnn.deterministic = True\n",
    "# 设置随机数种子\n",
    "setup_seed(3407)\n",
    "# 加速选项\n",
    "torch.backends.cudnn.benchmark = True"
   ]
  },
  {
   "cell_type": "markdown",
   "metadata": {},
   "source": [
    "## 功能函数"
   ]
  },
  {
   "cell_type": "code",
   "execution_count": 3,
   "metadata": {},
   "outputs": [],
   "source": [
    "\n",
    "\n",
    "def accuracy_fn(y_true, y_pred):\n",
    "    correct = torch.eq(y_true, y_pred).sum().item()\n",
    "    acc = (correct / len(y_pred)) * 100\n",
    "    return acc\n",
    "\n",
    "class EarlyStopper:\n",
    "    def __init__(self, patience=1, min_delta=0):\n",
    "        self.patience = patience\n",
    "        self.min_delta = min_delta\n",
    "        self.counter = 0\n",
    "        self.max_validation_acc = 0.0\n",
    "\n",
    "    def early_stop(self, validation_acc):\n",
    "        if validation_acc > self.max_validation_acc:\n",
    "            self.max_validation_acc = validation_acc\n",
    "            self.counter = 0\n",
    "        elif validation_acc < (self.max_validation_acc - self.min_delta):\n",
    "            self.counter += 1\n",
    "            if self.counter >= self.patience:\n",
    "                return True\n",
    "        return False\n",
    "\n",
    "def train_step(model: torch.nn.Module,\n",
    "               data_loader: torch.utils.data.DataLoader,\n",
    "               loss_fn: torch.nn.Module,\n",
    "               optimizer: torch.optim.Optimizer,\n",
    "               accuracy_fn,\n",
    "               device: torch.device = device):\n",
    "    train_loss, train_acc = 0, 0\n",
    "    for batch, (X, y) in enumerate(data_loader):\n",
    "        # Send data to GPU\n",
    "        X, y = X.to(device), y.to(device)\n",
    "\n",
    "        # 1. Forward pass\n",
    "        y_pred = model(X)\n",
    "\n",
    "        # 2. Calculate loss\n",
    "        loss = loss_fn(y_pred, y)\n",
    "        train_loss += loss\n",
    "        train_acc += accuracy_fn(y_true=y,\n",
    "                                 y_pred=y_pred.argmax(dim=1)) # Go from logits -> pred labels\n",
    "\n",
    "        # 3. Optimizer zero grad\n",
    "        optimizer.zero_grad()\n",
    "\n",
    "        # 4. Loss backward\n",
    "        loss.backward()\n",
    "\n",
    "        # 5. Optimizer step\n",
    "        optimizer.step()\n",
    "\n",
    "    # Calculate loss and accuracy per epoch and print out what's happening\n",
    "    train_loss /= len(data_loader)\n",
    "    train_acc /= len(data_loader)\n",
    "    print(f\"Train loss: {train_loss:.5f} | Train accuracy: {train_acc:.2f}%\")\n",
    "    return train_loss, train_acc\n",
    "\n",
    "def val_step(data_loader: torch.utils.data.DataLoader,\n",
    "              model: torch.nn.Module,\n",
    "              loss_fn: torch.nn.Module,\n",
    "              accuracy_fn,\n",
    "              device: torch.device = device):\n",
    "    val_loss, val_acc = 0, 0\n",
    "    model.eval() # put model in eval mode\n",
    "    # Turn on inference context manager\n",
    "    with torch.inference_mode(): \n",
    "        for X, y in data_loader:\n",
    "            # Send data to GPU\n",
    "            X, y = X.to(device), y.to(device)\n",
    "            \n",
    "            # 1. Forward pass\n",
    "            val_pred = model(X)\n",
    "            \n",
    "            # 2. Calculate loss and accuracy\n",
    "            val_loss += loss_fn(val_pred, y)\n",
    "            val_acc += accuracy_fn(y_true=y,\n",
    "                y_pred=val_pred.argmax(dim=1) # Go from logits -> pred labels\n",
    "            )\n",
    "        \n",
    "        # Adjust metrics and print out\n",
    "        val_loss /= len(data_loader)\n",
    "        val_acc /= len(data_loader)\n",
    "        print(f\"Validation loss: {val_loss:.5f} | Validation accuracy: {val_acc:.2f}%\\n\")\n",
    "        return val_loss, val_acc\n",
    "\n",
    "def train(model, loss, optimizer, train_dataloader, val_dataloader, \n",
    "          scheduler=None, \n",
    "          num_epochs=10, \n",
    "          device=device, \n",
    "          early_stopper=EarlyStopper(patience=8, min_delta=0.02)):\n",
    "    def convert(array):\n",
    "        return [i.detach().cpu().numpy() for i in array]\n",
    "    \n",
    "    model.to(device)\n",
    "    #fig, axs = plt.subplots(2, figsize=(4, 3*2))\n",
    "    train_loss_list, train_acc_list, val_loss_list, val_acc_list = [], [], [], []\n",
    "\n",
    "    for epoch in tqdm(range(num_epochs)):\n",
    "        print(f\"Epoch {epoch + 1}\\n-------------------------------\")\n",
    "        train_loss, train_acc = train_step(model, train_dataloader, loss, optimizer, accuracy_fn, device)\n",
    "        val_loss, val_acc = val_step(val_dataloader, model, loss, accuracy_fn, device)\n",
    "        try:\n",
    "            scheduler.step(train_loss)\n",
    "        except:\n",
    "            scheduler.step()\n",
    "        train_loss_list.append(train_loss)\n",
    "        train_acc_list.append(train_acc / 100)\n",
    "        val_loss_list.append(val_loss)\n",
    "        val_acc_list.append(val_acc / 100)\n",
    "        if early_stopper.early_stop(val_acc):\n",
    "            print(\"Early stopping at epoch\", epoch+1)\n",
    "            break\n",
    "\n",
    "    print(\"Finished training\")\n",
    "    plt.plot(range(1,len(train_loss_list)+1), convert(train_loss_list), label=\"train_loss\")\n",
    "    plt.plot(range(1,len(val_loss_list)+1), convert(val_loss_list), label=\"val_loss\")\n",
    "    plt.plot(range(1,len(val_acc_list)+1), val_acc_list, linestyle='--',label=\"val_acc\")\n",
    "    plt.legend()\n",
    "    #axs[1].plot(range(1,num_epochs+1), train_acc_list, linestyle='-',label=\"train_acc\")\n",
    "    #axs[1].legend()\n",
    "    \n",
    "def init_cnn(module):  \n",
    "    \"\"\"Initialize weights for CNNs.\"\"\"\n",
    "    if type(module) == nn.Linear or type(module) == nn.Conv2d:\n",
    "        nn.init.kaiming_uniform_(module.weight)\n",
    "\n",
    "def layer_summary(model, X_shape):\n",
    "    X = torch.randn(*X_shape)\n",
    "    for layer in model.net:\n",
    "        X = layer(X)\n",
    "        print(layer.__class__.__name__, 'output shape:\\t', X.shape)\n",
    "\n"
   ]
  },
  {
   "cell_type": "markdown",
   "metadata": {},
   "source": [
    "# 数据加载\n",
    "## 小batchsize版本"
   ]
  },
  {
   "cell_type": "code",
   "execution_count": 4,
   "metadata": {
    "tags": []
   },
   "outputs": [
    {
     "name": "stdout",
     "output_type": "stream",
     "text": [
      "Files already downloaded and verified\n",
      "Files already downloaded and verified\n"
     ]
    }
   ],
   "source": [
    "data_root_dir = 'data'\n",
    "\n",
    "Trans = transforms.Compose([transforms.ToTensor(),\n",
    "                            #transforms.Resize([224, 224]),\n",
    "                            transforms.Normalize((0.4914, 0.4822, 0.4465), (0.2023, 0.1994, 0.2010))\n",
    "                           ])\n",
    "\n",
    "# 加载数据集\n",
    "train_data = datasets.CIFAR10(\n",
    "    root=data_root_dir, \n",
    "    train=True, \n",
    "    download=True, \n",
    "    transform=Trans\n",
    ")\n",
    "\n",
    "test_data = datasets.CIFAR10(\n",
    "    root=data_root_dir,\n",
    "    train=False,\n",
    "    download=True,\n",
    "    transform=Trans\n",
    ")\n",
    "\n",
    "# 划分训练集和验证集\n",
    "train_size = int(0.9 * len(train_data))\n",
    "val_size = len(train_data) - train_size\n",
    "train_data, val_data = torch.utils.data.random_split(train_data, [train_size, val_size])\n",
    "\n",
    "# 训练集数据增强\n",
    "augmentation = transforms.Compose([#transforms.TrivialAugmentWide(num_magnitude_bins=31),\n",
    "                                   transforms.RandomHorizontalFlip(),\n",
    "                                   transforms.RandomCrop(32, padding=4),\n",
    "                                   Trans\n",
    "                                   ])\n",
    "train_data.dataset.transform = augmentation\n",
    "\n",
    "\n",
    "# 创建数据加载器\n",
    "batch_size = 128\n",
    "train_dataloader = torch.utils.data.DataLoader(train_data, batch_size=batch_size, shuffle=True, num_workers=8)\n",
    "val_dataloader = torch.utils.data.DataLoader(val_data, batch_size=batch_size, shuffle=False, num_workers=8)\n",
    "test_dataloader = torch.utils.data.DataLoader(test_data, batch_size=batch_size, shuffle=False)"
   ]
  },
  {
   "cell_type": "markdown",
   "metadata": {},
   "source": [
    "## 大batchsize, 加速选项\n",
    "尝试加快了CPU和显卡的数据交换速度"
   ]
  },
  {
   "cell_type": "code",
   "execution_count": 4,
   "metadata": {},
   "outputs": [
    {
     "name": "stderr",
     "output_type": "stream",
     "text": [
      "e:\\anaconda\\envs\\d2l\\lib\\site-packages\\torch\\utils\\data\\dataloader.py:558: UserWarning: This DataLoader will create 32 worker processes in total. Our suggested max number of worker in current system is 16 (`cpuset` is not taken into account), which is smaller than what this DataLoader is going to create. Please be aware that excessive worker creation might get DataLoader running slow or even freeze, lower the worker number to avoid potential slowness/freeze if necessary.\n",
      "  warnings.warn(_create_warning_msg(\n"
     ]
    }
   ],
   "source": [
    "data_root_dir = 'data'\n",
    "\n",
    "Trans = transforms.Compose([transforms.ToTensor(),\n",
    "                            #transforms.Resize([224, 224]),\n",
    "                            transforms.Normalize((0.4914, 0.4822, 0.4465), (0.2023, 0.1994, 0.2010))\n",
    "                           ])\n",
    "\n",
    "# 加载数据集\n",
    "train_data = datasets.CIFAR10(\n",
    "    root=data_root_dir, \n",
    "    train=True, \n",
    "    download=False, \n",
    "    transform=Trans\n",
    ")\n",
    "\n",
    "test_data = datasets.CIFAR10(\n",
    "    root=data_root_dir,\n",
    "    train=False,\n",
    "    download=False,\n",
    "    transform=Trans\n",
    ")\n",
    "\n",
    "# 划分训练集和验证集\n",
    "train_size = int(0.9 * len(train_data))\n",
    "val_size = len(train_data) - train_size\n",
    "train_data, val_data = torch.utils.data.random_split(train_data, [train_size, val_size])\n",
    "\n",
    "# 训练集数据增强\n",
    "augmentation = transforms.Compose([#transforms.TrivialAugmentWide(num_magnitude_bins=31),\n",
    "                                   #transforms.RandomErasing(),\n",
    "                                   transforms.RandomHorizontalFlip(),\n",
    "                                   transforms.RandomCrop(32, padding=4),\n",
    "                                   Trans\n",
    "                                   ])\n",
    "train_data.dataset.transform = augmentation\n",
    "\n",
    "\n",
    "# 创建数据加载器\n",
    "batch_size = 512\n",
    "train_dataloader = torch.utils.data.DataLoader(train_data, batch_size=batch_size, shuffle=True, \n",
    "                                               num_workers=32, pin_memory=True, prefetch_factor=8, persistent_workers=True)\n",
    "val_dataloader = torch.utils.data.DataLoader(val_data, batch_size=batch_size, shuffle=False, \n",
    "                                             num_workers=32, pin_memory=True, prefetch_factor=8, persistent_workers=True)\n",
    "test_dataloader = torch.utils.data.DataLoader(test_data, batch_size=batch_size, shuffle=False)"
   ]
  },
  {
   "cell_type": "markdown",
   "metadata": {},
   "source": [
    "## 数据集概览"
   ]
  },
  {
   "cell_type": "code",
   "execution_count": 5,
   "metadata": {
    "tags": []
   },
   "outputs": [
    {
     "name": "stdout",
     "output_type": "stream",
     "text": [
      "训练集大小: 45000\n",
      "验证集大小: 5000\n",
      "测试集大小: 10000\n"
     ]
    }
   ],
   "source": [
    "print(f\"训练集大小: {len(train_data)}\")\n",
    "print(f\"验证集大小: {len(val_data)}\")\n",
    "print(f\"测试集大小: {len(test_data)}\")"
   ]
  },
  {
   "cell_type": "code",
   "execution_count": 6,
   "metadata": {
    "tags": []
   },
   "outputs": [],
   "source": [
    "image, label = train_data[0]"
   ]
  },
  {
   "cell_type": "code",
   "execution_count": 17,
   "metadata": {
    "tags": []
   },
   "outputs": [
    {
     "data": {
      "text/plain": [
       "torch.Size([3, 32, 32])"
      ]
     },
     "execution_count": 17,
     "metadata": {},
     "output_type": "execute_result"
    }
   ],
   "source": [
    "image.shape"
   ]
  },
  {
   "cell_type": "code",
   "execution_count": 7,
   "metadata": {
    "tags": []
   },
   "outputs": [
    {
     "name": "stdout",
     "output_type": "stream",
     "text": [
      "Image shape: torch.Size([32, 32, 3])\n"
     ]
    },
    {
     "name": "stderr",
     "output_type": "stream",
     "text": [
      "Clipping input data to the valid range for imshow with RGB data ([0..1] for floats or [0..255] for integers).\n"
     ]
    },
    {
     "data": {
      "text/plain": [
       "Text(0.5, 1.0, 'horse')"
      ]
     },
     "execution_count": 7,
     "metadata": {},
     "output_type": "execute_result"
    },
    {
     "data": {
      "image/png": "[encoded data removed]",
      "text/plain": [
       "<Figure size 200x200 with 1 Axes>"
      ]
     },
     "metadata": {},
     "output_type": "display_data"
    }
   ],
   "source": [
    "image = image.transpose(0, 2).transpose(0, 1)\n",
    "label_map = [\"airplane\", \"automobile\", \"bird\", \"cat\", \"deer\", \"dog\", \"frog\", \"horse\", \"ship\", \"truck\"]\n",
    "print(f\"Image shape: {image.shape}\")\n",
    "plt.figure(figsize=(2, 2))\n",
    "plt.imshow(image)\n",
    "plt.title(label_map[label])"
   ]
  },
  {
   "cell_type": "markdown",
   "metadata": {},
   "source": [
    "# 模型训练\n"
   ]
  },
  {
   "cell_type": "markdown",
   "metadata": {},
   "source": [
    "## 线性分类\n",
    "### 定义"
   ]
  },
  {
   "cell_type": "code",
   "execution_count": 7,
   "metadata": {},
   "outputs": [],
   "source": [
    "class FlatternModel(nn.Module):\n",
    "    def __init__(self, input_size=3*32*32, output_size=10):\n",
    "        super().__init__()\n",
    "        self.net = nn.Sequential(\n",
    "            nn.Flatten(),\n",
    "            nn.Linear(input_size, 128),\n",
    "            nn.ReLU(),\n",
    "            nn.Linear(128, 64),\n",
    "            nn.ReLU(),\n",
    "            nn.Linear(64, output_size)\n",
    "        )\n",
    "    \n",
    "    def forward(self, x):\n",
    "        return self.net(x)\n",
    "    "
   ]
  },
  {
   "cell_type": "markdown",
   "metadata": {},
   "source": [
    "### 训练"
   ]
  },
  {
   "cell_type": "code",
   "execution_count": 16,
   "metadata": {},
   "outputs": [
    {
     "name": "stdout",
     "output_type": "stream",
     "text": [
      "Epoch 1\n",
      "-------------------------------\n",
      "Train loss: 4.29119 | Train accuracy: 10.06%\n",
      "Validation loss: 2.30840 | Validation accuracy: 9.95%\n",
      "\n",
      "Epoch 2\n",
      "-------------------------------\n",
      "Train loss: 2.31562 | Train accuracy: 10.05%\n",
      "Validation loss: 2.31393 | Validation accuracy: 10.29%\n",
      "\n",
      "Epoch 3\n",
      "-------------------------------\n",
      "Train loss: 2.31553 | Train accuracy: 10.01%\n",
      "Validation loss: 2.30567 | Validation accuracy: 10.29%\n",
      "\n",
      "Epoch 4\n",
      "-------------------------------\n",
      "Train loss: 2.31568 | Train accuracy: 10.03%\n",
      "Validation loss: 2.31452 | Validation accuracy: 9.95%\n",
      "\n",
      "Epoch 5\n",
      "-------------------------------\n",
      "Train loss: 2.31471 | Train accuracy: 9.82%\n",
      "Validation loss: 2.31339 | Validation accuracy: 9.68%\n",
      "\n",
      "Epoch 6\n",
      "-------------------------------\n",
      "Train loss: 2.31708 | Train accuracy: 10.19%\n",
      "Validation loss: 2.32653 | Validation accuracy: 9.51%\n",
      "\n",
      "Epoch 7\n",
      "-------------------------------\n",
      "Train loss: 2.31593 | Train accuracy: 9.71%\n",
      "Validation loss: 2.31766 | Validation accuracy: 10.14%\n",
      "\n",
      "Epoch 8\n",
      "-------------------------------\n",
      "Train loss: 2.31598 | Train accuracy: 9.95%\n",
      "Validation loss: 2.31187 | Validation accuracy: 10.08%\n",
      "\n",
      "Epoch 9\n",
      "-------------------------------\n",
      "Train loss: 2.31492 | Train accuracy: 9.97%\n",
      "Validation loss: 2.31236 | Validation accuracy: 10.08%\n",
      "\n",
      "Epoch 10\n",
      "-------------------------------\n",
      "Train loss: 2.31486 | Train accuracy: 9.95%\n",
      "Validation loss: 2.31687 | Validation accuracy: 10.23%\n",
      "\n",
      "Finished training\n"
     ]
    },
    {
     "data": {
      "image/png": "[encoded data removed]",
      "text/plain": [
       "<Figure size 800x1200 with 2 Axes>"
      ]
     },
     "metadata": {},
     "output_type": "display_data"
    }
   ],
   "source": [
    "%%time\n",
    "model = FlatternModel()\n",
    "model.to(device)\n",
    "loss_fn = nn.CrossEntropyLoss()\n",
    "optimizer = optim.Adam(model.parameters(), lr=0.1)\n",
    "\n",
    "train(model, loss_fn, optimizer, train_dataloader, val_dataloader, num_epochs=10, device=device)"
   ]
  },
  {
   "cell_type": "markdown",
   "metadata": {},
   "source": [
    "## LeNet\n",
    "### 最早的尝试\n",
    "#### 定义"
   ]
  },
  {
   "cell_type": "code",
   "execution_count": 15,
   "metadata": {},
   "outputs": [
    {
     "name": "stdout",
     "output_type": "stream",
     "text": [
      "Conv2d output shape:\t torch.Size([1, 6, 32, 32])\n",
      "ReLU output shape:\t torch.Size([1, 6, 32, 32])\n",
      "AvgPool2d output shape:\t torch.Size([1, 6, 16, 16])\n",
      "Conv2d output shape:\t torch.Size([1, 16, 12, 12])\n",
      "ReLU output shape:\t torch.Size([1, 16, 12, 12])\n",
      "AvgPool2d output shape:\t torch.Size([1, 16, 6, 6])\n",
      "Flatten output shape:\t torch.Size([1, 576])\n",
      "Linear output shape:\t torch.Size([1, 120])\n",
      "ReLU output shape:\t torch.Size([1, 120])\n",
      "Linear output shape:\t torch.Size([1, 84])\n",
      "ReLU output shape:\t torch.Size([1, 84])\n",
      "Linear output shape:\t torch.Size([1, 10])\n"
     ]
    }
   ],
   "source": [
    "class LeNet(nn.Module): \n",
    "    \"\"\"The LeNet-5 model.\"\"\"\n",
    "    def __init__(self, num_classes=10):\n",
    "        super().__init__()\n",
    "        self.num_classes = num_classes\n",
    "        self.net = nn.Sequential(\n",
    "            nn.LazyConv2d(6, kernel_size=5, padding=2), nn.ReLU(),\n",
    "            nn.AvgPool2d(kernel_size=2, stride=2),\n",
    "            nn.LazyConv2d(16, kernel_size=5), nn.ReLU(),\n",
    "            nn.AvgPool2d(kernel_size=2, stride=2),\n",
    "            nn.Flatten(),\n",
    "            nn.LazyLinear(120), nn.ReLU(),\n",
    "            nn.LazyLinear(84), nn.ReLU(),\n",
    "            nn.LazyLinear(num_classes))\n",
    "        init_cnn(self.net)\n",
    "    \n",
    "    def forward(self, X):\n",
    "        return self.net(X)\n",
    "    \n",
    "model = LeNet()\n",
    "layer_summary(model, (1, 3, 32, 32))"
   ]
  },
  {
   "cell_type": "markdown",
   "metadata": {},
   "source": [
    "#### 训练"
   ]
  },
  {
   "cell_type": "code",
   "execution_count": 15,
   "metadata": {},
   "outputs": [
    {
     "data": {
      "application/vnd.jupyter.widget-view+json": {
       "model_id": "cd8acd1ff2434d8d9e3b79302593976c",
       "version_major": 2,
       "version_minor": 0
      },
      "text/plain": [
       "  0%|          | 0/100 [00:00<?, ?it/s]"
      ]
     },
     "metadata": {},
     "output_type": "display_data"
    },
    {
     "name": "stdout",
     "output_type": "stream",
     "text": [
      "Epoch 1\n",
      "-------------------------------\n",
      "Train loss: 2.30056 | Train accuracy: 11.62%\n",
      "Validation loss: 2.29262 | Validation accuracy: 15.73%\n",
      "\n",
      "Epoch 2\n",
      "-------------------------------\n",
      "Train loss: 2.13812 | Train accuracy: 20.82%\n",
      "Validation loss: 1.99636 | Validation accuracy: 26.41%\n",
      "\n",
      "Epoch 3\n",
      "-------------------------------\n",
      "Train loss: 1.89703 | Train accuracy: 31.51%\n",
      "Validation loss: 1.82957 | Validation accuracy: 33.42%\n",
      "\n",
      "Epoch 4\n",
      "-------------------------------\n",
      "Train loss: 1.78164 | Train accuracy: 36.37%\n",
      "Validation loss: 1.81556 | Validation accuracy: 33.70%\n",
      "\n",
      "Epoch 5\n",
      "-------------------------------\n",
      "Train loss: 1.69633 | Train accuracy: 39.25%\n",
      "Validation loss: 1.66429 | Validation accuracy: 40.01%\n",
      "\n",
      "Epoch 6\n",
      "-------------------------------\n",
      "Train loss: 1.61452 | Train accuracy: 42.08%\n",
      "Validation loss: 1.62729 | Validation accuracy: 41.20%\n",
      "\n",
      "Epoch 7\n",
      "-------------------------------\n",
      "Train loss: 1.54663 | Train accuracy: 44.56%\n",
      "Validation loss: 1.54293 | Validation accuracy: 44.62%\n",
      "\n",
      "Epoch 8\n",
      "-------------------------------\n",
      "Train loss: 1.49842 | Train accuracy: 46.22%\n",
      "Validation loss: 1.49698 | Validation accuracy: 46.20%\n",
      "\n",
      "Epoch 9\n",
      "-------------------------------\n",
      "Train loss: 1.45432 | Train accuracy: 47.98%\n",
      "Validation loss: 1.50475 | Validation accuracy: 45.65%\n",
      "\n",
      "Epoch 10\n",
      "-------------------------------\n",
      "Train loss: 1.41806 | Train accuracy: 49.34%\n",
      "Validation loss: 1.42520 | Validation accuracy: 48.98%\n",
      "\n",
      "Epoch 11\n",
      "-------------------------------\n",
      "Train loss: 1.38621 | Train accuracy: 50.49%\n",
      "Validation loss: 1.40909 | Validation accuracy: 49.69%\n",
      "\n",
      "Epoch 12\n",
      "-------------------------------\n",
      "Train loss: 1.35337 | Train accuracy: 51.64%\n",
      "Validation loss: 1.37324 | Validation accuracy: 50.99%\n",
      "\n",
      "Epoch 13\n",
      "-------------------------------\n",
      "Train loss: 1.32240 | Train accuracy: 52.68%\n",
      "Validation loss: 1.36053 | Validation accuracy: 51.31%\n",
      "\n",
      "Epoch 14\n",
      "-------------------------------\n",
      "Train loss: 1.29754 | Train accuracy: 53.79%\n",
      "Validation loss: 1.34287 | Validation accuracy: 52.58%\n",
      "\n",
      "Epoch 15\n",
      "-------------------------------\n",
      "Train loss: 1.27249 | Train accuracy: 54.60%\n",
      "Validation loss: 1.34875 | Validation accuracy: 51.96%\n",
      "\n",
      "Epoch 16\n",
      "-------------------------------\n",
      "Train loss: 1.24714 | Train accuracy: 55.71%\n",
      "Validation loss: 1.34044 | Validation accuracy: 52.78%\n",
      "\n",
      "Epoch 17\n",
      "-------------------------------\n",
      "Train loss: 1.22536 | Train accuracy: 56.29%\n",
      "Validation loss: 1.34152 | Validation accuracy: 52.29%\n",
      "\n",
      "Epoch 18\n",
      "-------------------------------\n",
      "Train loss: 1.20167 | Train accuracy: 57.26%\n",
      "Validation loss: 1.30498 | Validation accuracy: 53.58%\n",
      "\n",
      "Epoch 19\n",
      "-------------------------------\n",
      "Train loss: 1.17973 | Train accuracy: 58.05%\n",
      "Validation loss: 1.32430 | Validation accuracy: 53.94%\n",
      "\n",
      "Epoch 20\n",
      "-------------------------------\n",
      "Train loss: 1.15557 | Train accuracy: 58.89%\n",
      "Validation loss: 1.29870 | Validation accuracy: 54.73%\n",
      "\n",
      "Epoch 21\n",
      "-------------------------------\n",
      "Train loss: 1.13642 | Train accuracy: 59.76%\n",
      "Validation loss: 1.27901 | Validation accuracy: 55.33%\n",
      "\n",
      "Epoch 22\n",
      "-------------------------------\n",
      "Train loss: 1.11428 | Train accuracy: 60.41%\n",
      "Validation loss: 1.27377 | Validation accuracy: 55.66%\n",
      "\n",
      "Epoch 23\n",
      "-------------------------------\n",
      "Train loss: 1.09514 | Train accuracy: 61.31%\n",
      "Validation loss: 1.27175 | Validation accuracy: 56.17%\n",
      "\n",
      "Epoch 24\n",
      "-------------------------------\n",
      "Train loss: 1.07340 | Train accuracy: 62.10%\n",
      "Validation loss: 1.27322 | Validation accuracy: 55.81%\n",
      "\n",
      "Epoch 25\n",
      "-------------------------------\n",
      "Train loss: 1.05439 | Train accuracy: 62.64%\n",
      "Validation loss: 1.26581 | Validation accuracy: 56.13%\n",
      "\n",
      "Epoch 26\n",
      "-------------------------------\n",
      "Train loss: 1.03225 | Train accuracy: 63.21%\n",
      "Validation loss: 1.25895 | Validation accuracy: 56.60%\n",
      "\n",
      "Epoch 27\n",
      "-------------------------------\n",
      "Train loss: 1.01131 | Train accuracy: 64.27%\n",
      "Validation loss: 1.27821 | Validation accuracy: 56.18%\n",
      "\n",
      "Epoch 28\n",
      "-------------------------------\n",
      "Train loss: 0.99294 | Train accuracy: 64.83%\n",
      "Validation loss: 1.26170 | Validation accuracy: 56.30%\n",
      "\n",
      "Epoch 29\n",
      "-------------------------------\n",
      "Train loss: 0.97310 | Train accuracy: 65.50%\n",
      "Validation loss: 1.26758 | Validation accuracy: 57.01%\n",
      "\n",
      "Epoch 30\n",
      "-------------------------------\n",
      "Train loss: 0.95395 | Train accuracy: 66.34%\n",
      "Validation loss: 1.29454 | Validation accuracy: 55.98%\n",
      "\n",
      "Epoch 31\n",
      "-------------------------------\n",
      "Train loss: 0.93471 | Train accuracy: 66.57%\n",
      "Validation loss: 1.27609 | Validation accuracy: 56.68%\n",
      "\n",
      "Epoch 32\n",
      "-------------------------------\n",
      "Train loss: 0.91518 | Train accuracy: 67.46%\n",
      "Validation loss: 1.25940 | Validation accuracy: 57.24%\n",
      "\n",
      "Epoch 33\n",
      "-------------------------------\n",
      "Train loss: 0.89695 | Train accuracy: 68.17%\n",
      "Validation loss: 1.28270 | Validation accuracy: 57.56%\n",
      "\n",
      "Epoch 34\n",
      "-------------------------------\n",
      "Train loss: 0.87897 | Train accuracy: 68.89%\n",
      "Validation loss: 1.26855 | Validation accuracy: 57.44%\n",
      "\n",
      "Epoch 35\n",
      "-------------------------------\n",
      "Train loss: 0.86041 | Train accuracy: 69.54%\n",
      "Validation loss: 1.27568 | Validation accuracy: 57.91%\n",
      "\n",
      "Epoch 36\n",
      "-------------------------------\n",
      "Train loss: 0.84315 | Train accuracy: 70.03%\n",
      "Validation loss: 1.26539 | Validation accuracy: 58.14%\n",
      "\n",
      "Epoch 37\n",
      "-------------------------------\n",
      "Train loss: 0.82449 | Train accuracy: 70.75%\n",
      "Validation loss: 1.30017 | Validation accuracy: 57.50%\n",
      "\n",
      "Epoch 38\n",
      "-------------------------------\n",
      "Train loss: 0.80780 | Train accuracy: 71.46%\n",
      "Validation loss: 1.29445 | Validation accuracy: 57.66%\n",
      "\n",
      "Epoch 39\n",
      "-------------------------------\n",
      "Train loss: 0.78920 | Train accuracy: 72.23%\n",
      "Validation loss: 1.33896 | Validation accuracy: 56.88%\n",
      "\n",
      "Epoch 40\n",
      "-------------------------------\n",
      "Train loss: 0.77154 | Train accuracy: 72.76%\n",
      "Validation loss: 1.37056 | Validation accuracy: 56.93%\n",
      "\n",
      "Epoch 41\n",
      "-------------------------------\n",
      "Train loss: 0.75514 | Train accuracy: 73.28%\n",
      "Validation loss: 1.33876 | Validation accuracy: 57.15%\n",
      "\n",
      "Epoch 42\n",
      "-------------------------------\n",
      "Train loss: 0.73849 | Train accuracy: 74.00%\n",
      "Validation loss: 1.36412 | Validation accuracy: 57.02%\n",
      "\n",
      "Epoch 43\n",
      "-------------------------------\n",
      "Train loss: 0.72229 | Train accuracy: 74.14%\n",
      "Validation loss: 1.39175 | Validation accuracy: 57.46%\n",
      "\n",
      "Epoch 44\n",
      "-------------------------------\n",
      "Train loss: 0.70736 | Train accuracy: 75.13%\n",
      "Validation loss: 1.41651 | Validation accuracy: 56.51%\n",
      "\n",
      "Epoch 45\n",
      "-------------------------------\n",
      "Train loss: 0.69137 | Train accuracy: 75.38%\n",
      "Validation loss: 1.40844 | Validation accuracy: 57.36%\n",
      "\n",
      "Epoch 46\n",
      "-------------------------------\n",
      "Train loss: 0.67497 | Train accuracy: 76.10%\n",
      "Validation loss: 1.43713 | Validation accuracy: 57.32%\n",
      "\n",
      "Epoch 47\n",
      "-------------------------------\n",
      "Train loss: 0.65978 | Train accuracy: 76.53%\n",
      "Validation loss: 1.44178 | Validation accuracy: 57.17%\n",
      "\n",
      "Epoch 48\n",
      "-------------------------------\n",
      "Train loss: 0.64284 | Train accuracy: 77.11%\n",
      "Validation loss: 1.44941 | Validation accuracy: 57.10%\n",
      "\n",
      "Epoch 49\n",
      "-------------------------------\n",
      "Train loss: 0.62892 | Train accuracy: 77.45%\n",
      "Validation loss: 1.49562 | Validation accuracy: 56.86%\n",
      "\n",
      "Epoch 50\n",
      "-------------------------------\n",
      "Train loss: 0.61264 | Train accuracy: 78.21%\n",
      "Validation loss: 1.53577 | Validation accuracy: 56.42%\n",
      "\n",
      "Epoch 51\n",
      "-------------------------------\n",
      "Train loss: 0.60044 | Train accuracy: 78.49%\n",
      "Validation loss: 1.52015 | Validation accuracy: 56.76%\n",
      "\n",
      "Epoch 52\n",
      "-------------------------------\n",
      "Train loss: 0.58213 | Train accuracy: 79.05%\n",
      "Validation loss: 1.55355 | Validation accuracy: 56.79%\n",
      "\n",
      "Epoch 53\n",
      "-------------------------------\n",
      "Train loss: 0.57138 | Train accuracy: 79.59%\n",
      "Validation loss: 1.58162 | Validation accuracy: 56.49%\n",
      "\n",
      "Epoch 54\n",
      "-------------------------------\n",
      "Train loss: 0.55412 | Train accuracy: 80.35%\n",
      "Validation loss: 1.67844 | Validation accuracy: 55.29%\n",
      "\n",
      "Epoch 55\n",
      "-------------------------------\n",
      "Train loss: 0.54353 | Train accuracy: 80.68%\n",
      "Validation loss: 1.65661 | Validation accuracy: 56.00%\n",
      "\n",
      "Epoch 56\n",
      "-------------------------------\n",
      "Train loss: 0.52785 | Train accuracy: 81.21%\n",
      "Validation loss: 1.69972 | Validation accuracy: 57.00%\n",
      "\n",
      "Epoch 57\n",
      "-------------------------------\n",
      "Train loss: 0.51544 | Train accuracy: 81.54%\n",
      "Validation loss: 1.68572 | Validation accuracy: 56.16%\n",
      "\n",
      "Epoch 58\n",
      "-------------------------------\n",
      "Train loss: 0.50630 | Train accuracy: 81.84%\n",
      "Validation loss: 1.74333 | Validation accuracy: 56.11%\n",
      "\n",
      "Epoch 59\n",
      "-------------------------------\n",
      "Train loss: 0.49219 | Train accuracy: 82.33%\n",
      "Validation loss: 1.74172 | Validation accuracy: 56.43%\n",
      "\n",
      "Epoch 60\n",
      "-------------------------------\n",
      "Train loss: 0.47832 | Train accuracy: 82.78%\n",
      "Validation loss: 1.78126 | Validation accuracy: 56.65%\n",
      "\n",
      "Epoch 61\n",
      "-------------------------------\n",
      "Train loss: 0.46539 | Train accuracy: 83.28%\n",
      "Validation loss: 1.79698 | Validation accuracy: 56.22%\n",
      "\n",
      "Epoch 62\n",
      "-------------------------------\n",
      "Train loss: 0.45606 | Train accuracy: 83.76%\n",
      "Validation loss: 1.85053 | Validation accuracy: 55.87%\n",
      "\n",
      "Epoch 63\n",
      "-------------------------------\n",
      "Train loss: 0.43679 | Train accuracy: 84.26%\n",
      "Validation loss: 1.94040 | Validation accuracy: 55.41%\n",
      "\n",
      "Epoch 64\n",
      "-------------------------------\n",
      "Train loss: 0.42922 | Train accuracy: 84.59%\n",
      "Validation loss: 1.91174 | Validation accuracy: 54.81%\n",
      "\n",
      "Epoch 65\n",
      "-------------------------------\n",
      "Train loss: 0.41899 | Train accuracy: 84.86%\n",
      "Validation loss: 1.92459 | Validation accuracy: 55.85%\n",
      "\n",
      "Epoch 66\n",
      "-------------------------------\n",
      "Train loss: 0.40927 | Train accuracy: 85.37%\n",
      "Validation loss: 1.96802 | Validation accuracy: 56.09%\n",
      "\n",
      "Epoch 67\n",
      "-------------------------------\n",
      "Train loss: 0.39147 | Train accuracy: 85.78%\n",
      "Validation loss: 2.04938 | Validation accuracy: 56.48%\n",
      "\n",
      "Epoch 68\n",
      "-------------------------------\n",
      "Train loss: 0.38725 | Train accuracy: 86.08%\n",
      "Validation loss: 2.06278 | Validation accuracy: 55.76%\n",
      "\n",
      "Epoch 69\n",
      "-------------------------------\n",
      "Train loss: 0.37809 | Train accuracy: 86.38%\n",
      "Validation loss: 2.10039 | Validation accuracy: 55.23%\n",
      "\n",
      "Epoch 70\n",
      "-------------------------------\n",
      "Train loss: 0.36859 | Train accuracy: 86.71%\n",
      "Validation loss: 2.12337 | Validation accuracy: 55.66%\n",
      "\n",
      "Epoch 71\n",
      "-------------------------------\n",
      "Train loss: 0.35842 | Train accuracy: 87.14%\n",
      "Validation loss: 2.19083 | Validation accuracy: 55.04%\n",
      "\n",
      "Epoch 72\n",
      "-------------------------------\n",
      "Train loss: 0.34597 | Train accuracy: 87.46%\n",
      "Validation loss: 2.22755 | Validation accuracy: 55.66%\n",
      "\n",
      "Epoch 73\n",
      "-------------------------------\n",
      "Train loss: 0.34244 | Train accuracy: 87.47%\n",
      "Validation loss: 2.25849 | Validation accuracy: 55.52%\n",
      "\n",
      "Epoch 74\n",
      "-------------------------------\n",
      "Train loss: 0.32304 | Train accuracy: 88.40%\n",
      "Validation loss: 2.33801 | Validation accuracy: 55.00%\n",
      "\n",
      "Epoch 75\n",
      "-------------------------------\n",
      "Train loss: 0.32626 | Train accuracy: 88.08%\n",
      "Validation loss: 2.36086 | Validation accuracy: 55.11%\n",
      "\n",
      "Epoch 76\n",
      "-------------------------------\n",
      "Train loss: 0.32029 | Train accuracy: 88.34%\n",
      "Validation loss: 2.39223 | Validation accuracy: 55.15%\n",
      "\n",
      "Epoch 77\n",
      "-------------------------------\n",
      "Train loss: 0.30456 | Train accuracy: 88.95%\n",
      "Validation loss: 2.43536 | Validation accuracy: 55.28%\n",
      "\n",
      "Epoch 78\n",
      "-------------------------------\n",
      "Train loss: 0.28901 | Train accuracy: 89.61%\n",
      "Validation loss: 2.67083 | Validation accuracy: 53.52%\n",
      "\n",
      "Epoch 79\n",
      "-------------------------------\n",
      "Train loss: 0.29782 | Train accuracy: 89.27%\n",
      "Validation loss: 2.51867 | Validation accuracy: 54.84%\n",
      "\n",
      "Epoch 80\n",
      "-------------------------------\n",
      "Train loss: 0.27786 | Train accuracy: 89.76%\n",
      "Validation loss: 2.69153 | Validation accuracy: 54.96%\n",
      "\n",
      "Epoch 81\n",
      "-------------------------------\n",
      "Train loss: 0.27603 | Train accuracy: 89.94%\n",
      "Validation loss: 2.67794 | Validation accuracy: 54.75%\n",
      "\n",
      "Epoch 82\n",
      "-------------------------------\n",
      "Train loss: 0.26934 | Train accuracy: 90.20%\n",
      "Validation loss: 2.75635 | Validation accuracy: 55.25%\n",
      "\n",
      "Epoch 83\n",
      "-------------------------------\n",
      "Train loss: 0.26208 | Train accuracy: 90.49%\n",
      "Validation loss: 2.77482 | Validation accuracy: 54.88%\n",
      "\n",
      "Epoch 84\n",
      "-------------------------------\n",
      "Train loss: 0.25507 | Train accuracy: 90.81%\n",
      "Validation loss: 2.79199 | Validation accuracy: 54.78%\n",
      "\n",
      "Epoch 85\n",
      "-------------------------------\n",
      "Train loss: 0.25604 | Train accuracy: 90.70%\n",
      "Validation loss: 2.80207 | Validation accuracy: 54.61%\n",
      "\n",
      "Epoch 86\n",
      "-------------------------------\n",
      "Train loss: 0.25768 | Train accuracy: 90.58%\n",
      "Validation loss: 2.87960 | Validation accuracy: 54.43%\n",
      "\n",
      "Epoch 87\n",
      "-------------------------------\n",
      "Train loss: 0.23740 | Train accuracy: 91.38%\n",
      "Validation loss: 3.04114 | Validation accuracy: 53.47%\n",
      "\n",
      "Epoch 88\n",
      "-------------------------------\n",
      "Train loss: 0.22718 | Train accuracy: 91.85%\n",
      "Validation loss: 2.91947 | Validation accuracy: 55.16%\n",
      "\n",
      "Epoch 89\n",
      "-------------------------------\n",
      "Train loss: 0.22151 | Train accuracy: 92.04%\n",
      "Validation loss: 3.01216 | Validation accuracy: 54.74%\n",
      "\n",
      "Epoch 90\n",
      "-------------------------------\n",
      "Train loss: 0.23192 | Train accuracy: 91.34%\n",
      "Validation loss: 3.11796 | Validation accuracy: 54.49%\n",
      "\n",
      "Epoch 91\n",
      "-------------------------------\n",
      "Train loss: 0.22176 | Train accuracy: 92.06%\n",
      "Validation loss: 3.04740 | Validation accuracy: 54.92%\n",
      "\n",
      "Epoch 92\n",
      "-------------------------------\n",
      "Train loss: 0.20446 | Train accuracy: 92.67%\n",
      "Validation loss: 3.16625 | Validation accuracy: 54.30%\n",
      "\n",
      "Epoch 93\n",
      "-------------------------------\n",
      "Train loss: 0.20539 | Train accuracy: 92.50%\n",
      "Validation loss: 3.18689 | Validation accuracy: 53.89%\n",
      "\n",
      "Epoch 94\n",
      "-------------------------------\n",
      "Train loss: 0.19959 | Train accuracy: 92.78%\n",
      "Validation loss: 3.24795 | Validation accuracy: 54.65%\n",
      "\n",
      "Epoch 95\n",
      "-------------------------------\n",
      "Train loss: 0.20785 | Train accuracy: 92.43%\n",
      "Validation loss: 3.36435 | Validation accuracy: 54.39%\n",
      "\n",
      "Epoch 96\n",
      "-------------------------------\n",
      "Train loss: 0.20067 | Train accuracy: 92.57%\n",
      "Validation loss: 3.28131 | Validation accuracy: 54.62%\n",
      "\n",
      "Epoch 97\n",
      "-------------------------------\n",
      "Train loss: 0.18661 | Train accuracy: 93.27%\n",
      "Validation loss: 3.38990 | Validation accuracy: 53.93%\n",
      "\n",
      "Epoch 98\n",
      "-------------------------------\n",
      "Train loss: 0.17986 | Train accuracy: 93.39%\n",
      "Validation loss: 3.46277 | Validation accuracy: 54.26%\n",
      "\n",
      "Epoch 99\n",
      "-------------------------------\n",
      "Train loss: 0.19158 | Train accuracy: 93.05%\n",
      "Validation loss: 3.40784 | Validation accuracy: 54.70%\n",
      "\n",
      "Epoch 100\n",
      "-------------------------------\n",
      "Train loss: 0.18473 | Train accuracy: 93.32%\n",
      "Validation loss: 3.55717 | Validation accuracy: 54.94%\n",
      "\n",
      "Finished training\n",
      "CPU times: total: 2h 14min 12s\n",
      "Wall time: 16min 52s\n"
     ]
    },
    {
     "data": {
      "image/png": "[encoded data removed]",
      "text/plain": [
       "<Figure size 640x480 with 1 Axes>"
      ]
     },
     "metadata": {},
     "output_type": "display_data"
    }
   ],
   "source": [
    "%%time\n",
    "loss = nn.CrossEntropyLoss()\n",
    "optimizer = optim.SGD(model.parameters(), lr=0.01)\n",
    "\n",
    "train(model, loss, optimizer, train_dataloader, val_dataloader, num_epochs=100, device=device)"
   ]
  },
  {
   "cell_type": "markdown",
   "metadata": {},
   "source": [
    "### 添加了BatchNorm和数据增强"
   ]
  },
  {
   "cell_type": "code",
   "execution_count": 16,
   "metadata": {},
   "outputs": [
    {
     "name": "stdout",
     "output_type": "stream",
     "text": [
      "Sequential output shape:\t torch.Size([1, 6, 32, 32])\n",
      "AvgPool2d output shape:\t torch.Size([1, 6, 16, 16])\n",
      "Sequential output shape:\t torch.Size([1, 6, 16, 16])\n",
      "AvgPool2d output shape:\t torch.Size([1, 6, 8, 8])\n",
      "Sequential output shape:\t torch.Size([1, 6, 8, 8])\n",
      "AvgPool2d output shape:\t torch.Size([1, 6, 4, 4])\n",
      "Flatten output shape:\t torch.Size([1, 96])\n",
      "Linear output shape:\t torch.Size([1, 120])\n",
      "ReLU output shape:\t torch.Size([1, 120])\n",
      "Linear output shape:\t torch.Size([1, 84])\n",
      "ReLU output shape:\t torch.Size([1, 84])\n",
      "Linear output shape:\t torch.Size([1, 10])\n"
     ]
    }
   ],
   "source": [
    "def conv_block(num_channels):\n",
    "    return nn.Sequential(\n",
    "        nn.LazyBatchNorm2d(), nn.ReLU(),\n",
    "        nn.LazyConv2d(num_channels, kernel_size=3, padding=1))\n",
    "\n",
    "class LeNet_with_norm(nn.Module):\n",
    "    def __init__(self, num_classes=10):\n",
    "        super().__init__()\n",
    "        self.num_classes = num_classes\n",
    "        self.net = nn.Sequential(\n",
    "            conv_block(6),\n",
    "            nn.AvgPool2d(kernel_size=2, stride=2),\n",
    "            conv_block(6),\n",
    "            nn.AvgPool2d(kernel_size=2, stride=2),\n",
    "            conv_block(6),\n",
    "            nn.AvgPool2d(kernel_size=2, stride=2),\n",
    "            nn.Flatten(),\n",
    "            nn.LazyLinear(120), nn.ReLU(),\n",
    "            nn.LazyLinear(84), nn.ReLU(),\n",
    "            nn.LazyLinear(num_classes))\n",
    "        init_cnn(self.net)\n",
    "    \n",
    "    def forward(self, X):\n",
    "        return self.net(X)\n",
    "    \n",
    "model = LeNet_with_norm()\n",
    "X = torch.randn(1, 3, 32, 32)\n",
    "layer_summary(model, X.shape)"
   ]
  },
  {
   "cell_type": "code",
   "execution_count": 42,
   "metadata": {},
   "outputs": [
    {
     "data": {
      "application/vnd.jupyter.widget-view+json": {
       "model_id": "54e1d0ec113041af8ea5c371538e9008",
       "version_major": 2,
       "version_minor": 0
      },
      "text/plain": [
       "  0%|          | 0/100 [00:00<?, ?it/s]"
      ]
     },
     "metadata": {},
     "output_type": "display_data"
    },
    {
     "name": "stdout",
     "output_type": "stream",
     "text": [
      "Epoch 1\n",
      "-------------------------------\n",
      "Train loss: 2.23751 | Train accuracy: 16.68%\n",
      "Validation loss: 2.17876 | Validation accuracy: 20.07%\n",
      "\n",
      "Epoch 2\n",
      "-------------------------------\n",
      "Train loss: 2.12535 | Train accuracy: 22.09%\n",
      "Validation loss: 2.09853 | Validation accuracy: 23.58%\n",
      "\n",
      "Epoch 3\n",
      "-------------------------------\n",
      "Train loss: 2.03220 | Train accuracy: 26.60%\n",
      "Validation loss: 2.04043 | Validation accuracy: 26.73%\n",
      "\n",
      "Epoch 4\n",
      "-------------------------------\n",
      "Train loss: 1.95747 | Train accuracy: 29.39%\n",
      "Validation loss: 1.94420 | Validation accuracy: 30.40%\n",
      "\n",
      "Epoch 5\n",
      "-------------------------------\n",
      "Train loss: 1.90240 | Train accuracy: 31.70%\n",
      "Validation loss: 1.87428 | Validation accuracy: 33.41%\n",
      "\n",
      "Epoch 6\n",
      "-------------------------------\n",
      "Train loss: 1.87106 | Train accuracy: 33.16%\n",
      "Validation loss: 1.86206 | Validation accuracy: 33.56%\n",
      "\n",
      "Epoch 7\n",
      "-------------------------------\n",
      "Train loss: 1.84572 | Train accuracy: 33.93%\n",
      "Validation loss: 1.81660 | Validation accuracy: 34.38%\n",
      "\n",
      "Epoch 8\n",
      "-------------------------------\n",
      "Train loss: 1.80821 | Train accuracy: 35.40%\n",
      "Validation loss: 1.81569 | Validation accuracy: 34.19%\n",
      "\n",
      "Epoch 9\n",
      "-------------------------------\n",
      "Train loss: 1.79134 | Train accuracy: 36.33%\n",
      "Validation loss: 1.82133 | Validation accuracy: 34.49%\n",
      "\n",
      "Epoch 10\n",
      "-------------------------------\n",
      "Train loss: 1.76889 | Train accuracy: 36.85%\n",
      "Validation loss: 1.77600 | Validation accuracy: 36.08%\n",
      "\n",
      "Epoch 11\n",
      "-------------------------------\n",
      "Train loss: 1.75056 | Train accuracy: 37.44%\n",
      "Validation loss: 1.75331 | Validation accuracy: 36.92%\n",
      "\n",
      "Epoch 12\n",
      "-------------------------------\n",
      "Train loss: 1.74003 | Train accuracy: 38.08%\n",
      "Validation loss: 1.75137 | Validation accuracy: 37.38%\n",
      "\n",
      "Epoch 13\n",
      "-------------------------------\n",
      "Train loss: 1.72746 | Train accuracy: 38.50%\n",
      "Validation loss: 1.73325 | Validation accuracy: 38.01%\n",
      "\n",
      "Epoch 14\n",
      "-------------------------------\n",
      "Train loss: 1.70959 | Train accuracy: 39.13%\n",
      "Validation loss: 1.73352 | Validation accuracy: 37.94%\n",
      "\n",
      "Epoch 15\n",
      "-------------------------------\n",
      "Train loss: 1.69937 | Train accuracy: 39.22%\n",
      "Validation loss: 1.71446 | Validation accuracy: 38.99%\n",
      "\n",
      "Epoch 16\n",
      "-------------------------------\n",
      "Train loss: 1.68639 | Train accuracy: 39.90%\n",
      "Validation loss: 1.69673 | Validation accuracy: 39.55%\n",
      "\n",
      "Epoch 17\n",
      "-------------------------------\n",
      "Train loss: 1.67201 | Train accuracy: 40.21%\n",
      "Validation loss: 1.69489 | Validation accuracy: 39.33%\n",
      "\n",
      "Epoch 18\n",
      "-------------------------------\n",
      "Train loss: 1.65832 | Train accuracy: 40.97%\n",
      "Validation loss: 1.67396 | Validation accuracy: 40.88%\n",
      "\n",
      "Epoch 19\n",
      "-------------------------------\n",
      "Train loss: 1.64720 | Train accuracy: 41.20%\n",
      "Validation loss: 1.66632 | Validation accuracy: 40.76%\n",
      "\n",
      "Epoch 20\n",
      "-------------------------------\n",
      "Train loss: 1.64082 | Train accuracy: 41.55%\n",
      "Validation loss: 1.65827 | Validation accuracy: 40.65%\n",
      "\n",
      "Epoch 21\n",
      "-------------------------------\n",
      "Train loss: 1.63320 | Train accuracy: 41.72%\n",
      "Validation loss: 1.68640 | Validation accuracy: 39.94%\n",
      "\n",
      "Epoch 22\n",
      "-------------------------------\n",
      "Train loss: 1.62623 | Train accuracy: 41.87%\n",
      "Validation loss: 1.65692 | Validation accuracy: 41.08%\n",
      "\n",
      "Epoch 23\n",
      "-------------------------------\n",
      "Train loss: 1.61920 | Train accuracy: 42.50%\n",
      "Validation loss: 1.65922 | Validation accuracy: 40.39%\n",
      "\n",
      "Epoch 24\n",
      "-------------------------------\n",
      "Train loss: 1.60408 | Train accuracy: 42.95%\n",
      "Validation loss: 1.68603 | Validation accuracy: 40.62%\n",
      "\n",
      "Epoch 25\n",
      "-------------------------------\n",
      "Train loss: 1.58619 | Train accuracy: 43.45%\n",
      "Validation loss: 1.62371 | Validation accuracy: 42.33%\n",
      "\n",
      "Epoch 26\n",
      "-------------------------------\n",
      "Train loss: 1.58471 | Train accuracy: 43.66%\n",
      "Validation loss: 1.61728 | Validation accuracy: 41.99%\n",
      "\n",
      "Epoch 27\n",
      "-------------------------------\n",
      "Train loss: 1.58080 | Train accuracy: 43.48%\n",
      "Validation loss: 1.62980 | Validation accuracy: 42.20%\n",
      "\n",
      "Epoch 28\n",
      "-------------------------------\n",
      "Train loss: 1.58511 | Train accuracy: 43.48%\n",
      "Validation loss: 1.59914 | Validation accuracy: 42.71%\n",
      "\n",
      "Epoch 29\n",
      "-------------------------------\n",
      "Train loss: 1.56434 | Train accuracy: 44.36%\n",
      "Validation loss: 1.58951 | Validation accuracy: 42.93%\n",
      "\n",
      "Epoch 30\n",
      "-------------------------------\n",
      "Train loss: 1.56036 | Train accuracy: 44.43%\n",
      "Validation loss: 1.60578 | Validation accuracy: 42.39%\n",
      "\n",
      "Epoch 31\n",
      "-------------------------------\n",
      "Train loss: 1.54152 | Train accuracy: 45.05%\n",
      "Validation loss: 1.59959 | Validation accuracy: 43.14%\n",
      "\n",
      "Epoch 32\n",
      "-------------------------------\n",
      "Train loss: 1.54405 | Train accuracy: 45.25%\n",
      "Validation loss: 1.59790 | Validation accuracy: 43.44%\n",
      "\n",
      "Epoch 33\n",
      "-------------------------------\n",
      "Train loss: 1.53681 | Train accuracy: 45.62%\n",
      "Validation loss: 1.58713 | Validation accuracy: 43.38%\n",
      "\n",
      "Epoch 34\n",
      "-------------------------------\n",
      "Train loss: 1.53436 | Train accuracy: 45.36%\n",
      "Validation loss: 1.58514 | Validation accuracy: 43.71%\n",
      "\n",
      "Epoch 35\n",
      "-------------------------------\n",
      "Train loss: 1.52020 | Train accuracy: 46.12%\n",
      "Validation loss: 1.57289 | Validation accuracy: 43.88%\n",
      "\n",
      "Epoch 36\n",
      "-------------------------------\n",
      "Train loss: 1.52126 | Train accuracy: 46.03%\n",
      "Validation loss: 1.57837 | Validation accuracy: 44.09%\n",
      "\n",
      "Epoch 37\n",
      "-------------------------------\n",
      "Train loss: 1.51390 | Train accuracy: 46.38%\n",
      "Validation loss: 1.56210 | Validation accuracy: 44.11%\n",
      "\n",
      "Epoch 38\n",
      "-------------------------------\n",
      "Train loss: 1.50218 | Train accuracy: 46.63%\n",
      "Validation loss: 1.56626 | Validation accuracy: 45.01%\n",
      "\n",
      "Epoch 39\n",
      "-------------------------------\n",
      "Train loss: 1.51042 | Train accuracy: 46.28%\n",
      "Validation loss: 1.54787 | Validation accuracy: 44.60%\n",
      "\n",
      "Epoch 40\n",
      "-------------------------------\n",
      "Train loss: 1.49498 | Train accuracy: 46.48%\n",
      "Validation loss: 1.54535 | Validation accuracy: 44.88%\n",
      "\n",
      "Epoch 41\n",
      "-------------------------------\n",
      "Train loss: 1.49679 | Train accuracy: 46.72%\n",
      "Validation loss: 1.56730 | Validation accuracy: 44.37%\n",
      "\n",
      "Epoch 42\n",
      "-------------------------------\n",
      "Train loss: 1.48696 | Train accuracy: 47.42%\n",
      "Validation loss: 1.53054 | Validation accuracy: 44.80%\n",
      "\n",
      "Epoch 43\n",
      "-------------------------------\n",
      "Train loss: 1.48020 | Train accuracy: 47.28%\n",
      "Validation loss: 1.59562 | Validation accuracy: 43.03%\n",
      "\n",
      "Epoch 44\n",
      "-------------------------------\n",
      "Train loss: 1.47243 | Train accuracy: 47.69%\n",
      "Validation loss: 1.55619 | Validation accuracy: 44.63%\n",
      "\n",
      "Epoch 45\n",
      "-------------------------------\n",
      "Train loss: 1.47022 | Train accuracy: 47.75%\n",
      "Validation loss: 1.51800 | Validation accuracy: 45.97%\n",
      "\n",
      "Epoch 46\n",
      "-------------------------------\n",
      "Train loss: 1.46809 | Train accuracy: 47.33%\n",
      "Validation loss: 1.54175 | Validation accuracy: 45.62%\n",
      "\n",
      "Epoch 47\n",
      "-------------------------------\n",
      "Train loss: 1.46002 | Train accuracy: 48.27%\n",
      "Validation loss: 1.54827 | Validation accuracy: 45.28%\n",
      "\n",
      "Epoch 48\n",
      "-------------------------------\n",
      "Train loss: 1.45435 | Train accuracy: 48.38%\n",
      "Validation loss: 1.51835 | Validation accuracy: 45.41%\n",
      "\n",
      "Epoch 49\n",
      "-------------------------------\n",
      "Train loss: 1.45711 | Train accuracy: 48.40%\n",
      "Validation loss: 1.53633 | Validation accuracy: 45.04%\n",
      "\n",
      "Epoch 50\n",
      "-------------------------------\n",
      "Train loss: 1.44839 | Train accuracy: 48.72%\n",
      "Validation loss: 1.53666 | Validation accuracy: 44.96%\n",
      "\n",
      "Epoch 51\n",
      "-------------------------------\n",
      "Train loss: 1.44985 | Train accuracy: 48.75%\n",
      "Validation loss: 1.51818 | Validation accuracy: 46.32%\n",
      "\n",
      "Epoch 52\n",
      "-------------------------------\n",
      "Train loss: 1.44090 | Train accuracy: 48.95%\n",
      "Validation loss: 1.53249 | Validation accuracy: 45.58%\n",
      "\n",
      "Epoch 53\n",
      "-------------------------------\n",
      "Train loss: 1.43979 | Train accuracy: 48.79%\n",
      "Validation loss: 1.49078 | Validation accuracy: 46.79%\n",
      "\n",
      "Epoch 54\n",
      "-------------------------------\n",
      "Train loss: 1.43637 | Train accuracy: 49.23%\n",
      "Validation loss: 1.51741 | Validation accuracy: 45.94%\n",
      "\n",
      "Epoch 55\n",
      "-------------------------------\n",
      "Train loss: 1.43001 | Train accuracy: 49.49%\n",
      "Validation loss: 1.51913 | Validation accuracy: 45.76%\n",
      "\n",
      "Epoch 56\n",
      "-------------------------------\n",
      "Train loss: 1.42394 | Train accuracy: 49.79%\n",
      "Validation loss: 1.54787 | Validation accuracy: 45.51%\n",
      "\n",
      "Epoch 57\n",
      "-------------------------------\n",
      "Train loss: 1.43370 | Train accuracy: 49.39%\n",
      "Validation loss: 1.49831 | Validation accuracy: 46.57%\n",
      "\n",
      "Epoch 58\n",
      "-------------------------------\n",
      "Train loss: 1.42049 | Train accuracy: 49.77%\n",
      "Validation loss: 1.51592 | Validation accuracy: 46.04%\n",
      "\n",
      "Epoch 59\n",
      "-------------------------------\n",
      "Train loss: 1.42189 | Train accuracy: 49.64%\n",
      "Validation loss: 1.50556 | Validation accuracy: 46.86%\n",
      "\n",
      "Epoch 60\n",
      "-------------------------------\n",
      "Train loss: 1.41398 | Train accuracy: 49.84%\n",
      "Validation loss: 1.50016 | Validation accuracy: 46.09%\n",
      "\n",
      "Epoch 61\n",
      "-------------------------------\n",
      "Train loss: 1.41648 | Train accuracy: 49.70%\n",
      "Validation loss: 1.49258 | Validation accuracy: 47.01%\n",
      "\n",
      "Epoch 62\n",
      "-------------------------------\n",
      "Train loss: 1.41164 | Train accuracy: 50.17%\n",
      "Validation loss: 1.49074 | Validation accuracy: 46.90%\n",
      "\n",
      "Epoch 63\n",
      "-------------------------------\n",
      "Train loss: 1.40493 | Train accuracy: 50.01%\n",
      "Validation loss: 1.48987 | Validation accuracy: 47.04%\n",
      "\n",
      "Epoch 64\n",
      "-------------------------------\n",
      "Train loss: 1.39867 | Train accuracy: 50.30%\n",
      "Validation loss: 1.48609 | Validation accuracy: 46.92%\n",
      "\n",
      "Epoch 65\n",
      "-------------------------------\n",
      "Train loss: 1.40455 | Train accuracy: 50.06%\n",
      "Validation loss: 1.51025 | Validation accuracy: 47.02%\n",
      "\n",
      "Epoch 66\n",
      "-------------------------------\n",
      "Train loss: 1.40372 | Train accuracy: 50.32%\n",
      "Validation loss: 1.51657 | Validation accuracy: 46.48%\n",
      "\n",
      "Epoch 67\n",
      "-------------------------------\n",
      "Train loss: 1.39099 | Train accuracy: 50.54%\n",
      "Validation loss: 1.48726 | Validation accuracy: 47.44%\n",
      "\n",
      "Epoch 68\n",
      "-------------------------------\n",
      "Train loss: 1.38760 | Train accuracy: 50.72%\n",
      "Validation loss: 1.50970 | Validation accuracy: 46.38%\n",
      "\n",
      "Epoch 69\n",
      "-------------------------------\n",
      "Train loss: 1.39012 | Train accuracy: 50.66%\n",
      "Validation loss: 1.50479 | Validation accuracy: 46.71%\n",
      "\n",
      "Epoch 70\n",
      "-------------------------------\n",
      "Train loss: 1.39249 | Train accuracy: 50.45%\n",
      "Validation loss: 1.50416 | Validation accuracy: 46.94%\n",
      "\n",
      "Epoch 71\n",
      "-------------------------------\n",
      "Train loss: 1.38211 | Train accuracy: 51.05%\n",
      "Validation loss: 1.47657 | Validation accuracy: 48.08%\n",
      "\n",
      "Epoch 72\n",
      "-------------------------------\n",
      "Train loss: 1.38047 | Train accuracy: 51.13%\n",
      "Validation loss: 1.48196 | Validation accuracy: 47.14%\n",
      "\n",
      "Epoch 73\n",
      "-------------------------------\n",
      "Train loss: 1.38286 | Train accuracy: 50.80%\n",
      "Validation loss: 1.47565 | Validation accuracy: 47.65%\n",
      "\n",
      "Epoch 74\n",
      "-------------------------------\n",
      "Train loss: 1.37420 | Train accuracy: 51.25%\n",
      "Validation loss: 1.48244 | Validation accuracy: 47.36%\n",
      "\n",
      "Epoch 75\n",
      "-------------------------------\n",
      "Train loss: 1.36340 | Train accuracy: 51.80%\n",
      "Validation loss: 1.47225 | Validation accuracy: 48.08%\n",
      "\n",
      "Epoch 76\n",
      "-------------------------------\n",
      "Train loss: 1.37232 | Train accuracy: 51.41%\n",
      "Validation loss: 1.47739 | Validation accuracy: 47.14%\n",
      "\n",
      "Epoch 77\n",
      "-------------------------------\n",
      "Train loss: 1.36480 | Train accuracy: 51.78%\n",
      "Validation loss: 1.48762 | Validation accuracy: 46.73%\n",
      "\n",
      "Epoch 78\n",
      "-------------------------------\n",
      "Train loss: 1.36627 | Train accuracy: 51.24%\n",
      "Validation loss: 1.47334 | Validation accuracy: 47.53%\n",
      "\n",
      "Epoch 79\n",
      "-------------------------------\n",
      "Train loss: 1.36031 | Train accuracy: 51.85%\n",
      "Validation loss: 1.48410 | Validation accuracy: 47.22%\n",
      "\n",
      "Epoch 80\n",
      "-------------------------------\n",
      "Train loss: 1.36815 | Train accuracy: 51.59%\n",
      "Validation loss: 1.48154 | Validation accuracy: 47.56%\n",
      "\n",
      "Epoch 81\n",
      "-------------------------------\n",
      "Train loss: 1.36098 | Train accuracy: 51.40%\n",
      "Validation loss: 1.49060 | Validation accuracy: 46.75%\n",
      "\n",
      "Epoch 82\n",
      "-------------------------------\n",
      "Train loss: 1.35406 | Train accuracy: 51.76%\n",
      "Validation loss: 1.46093 | Validation accuracy: 47.31%\n",
      "\n",
      "Epoch 83\n",
      "-------------------------------\n",
      "Train loss: 1.35593 | Train accuracy: 51.73%\n",
      "Validation loss: 1.49025 | Validation accuracy: 47.23%\n",
      "\n",
      "Epoch 84\n",
      "-------------------------------\n",
      "Train loss: 1.35356 | Train accuracy: 52.15%\n",
      "Validation loss: 1.46619 | Validation accuracy: 47.18%\n",
      "\n",
      "Epoch 85\n",
      "-------------------------------\n",
      "Train loss: 1.35167 | Train accuracy: 51.97%\n",
      "Validation loss: 1.49040 | Validation accuracy: 48.06%\n",
      "\n",
      "Epoch 86\n",
      "-------------------------------\n",
      "Train loss: 1.35379 | Train accuracy: 51.93%\n",
      "Validation loss: 1.50389 | Validation accuracy: 47.48%\n",
      "\n",
      "Epoch 87\n",
      "-------------------------------\n",
      "Train loss: 1.34726 | Train accuracy: 52.33%\n",
      "Validation loss: 1.49182 | Validation accuracy: 46.44%\n",
      "\n",
      "Epoch 88\n",
      "-------------------------------\n",
      "Train loss: 1.34796 | Train accuracy: 52.15%\n",
      "Validation loss: 1.47974 | Validation accuracy: 47.94%\n",
      "\n",
      "Epoch 89\n",
      "-------------------------------\n",
      "Train loss: 1.34623 | Train accuracy: 52.05%\n",
      "Validation loss: 1.46239 | Validation accuracy: 48.26%\n",
      "\n",
      "Epoch 90\n",
      "-------------------------------\n",
      "Train loss: 1.34066 | Train accuracy: 52.60%\n",
      "Validation loss: 1.47387 | Validation accuracy: 47.82%\n",
      "\n",
      "Epoch 91\n",
      "-------------------------------\n",
      "Train loss: 1.33943 | Train accuracy: 52.41%\n",
      "Validation loss: 1.45079 | Validation accuracy: 48.64%\n",
      "\n",
      "Epoch 92\n",
      "-------------------------------\n",
      "Train loss: 1.34525 | Train accuracy: 52.27%\n",
      "Validation loss: 1.45051 | Validation accuracy: 48.77%\n",
      "\n",
      "Epoch 93\n",
      "-------------------------------\n",
      "Train loss: 1.34181 | Train accuracy: 52.57%\n",
      "Validation loss: 1.48983 | Validation accuracy: 47.65%\n",
      "\n",
      "Epoch 94\n",
      "-------------------------------\n",
      "Train loss: 1.33172 | Train accuracy: 52.53%\n",
      "Validation loss: 1.46129 | Validation accuracy: 48.08%\n",
      "\n",
      "Epoch 95\n",
      "-------------------------------\n",
      "Train loss: 1.33999 | Train accuracy: 52.63%\n",
      "Validation loss: 1.44901 | Validation accuracy: 48.41%\n",
      "\n",
      "Epoch 96\n",
      "-------------------------------\n",
      "Train loss: 1.34099 | Train accuracy: 52.30%\n",
      "Validation loss: 1.45486 | Validation accuracy: 48.24%\n",
      "\n",
      "Epoch 97\n",
      "-------------------------------\n",
      "Train loss: 1.33783 | Train accuracy: 52.62%\n",
      "Validation loss: 1.45981 | Validation accuracy: 47.99%\n",
      "\n",
      "Epoch 98\n",
      "-------------------------------\n",
      "Train loss: 1.33465 | Train accuracy: 52.59%\n",
      "Validation loss: 1.46801 | Validation accuracy: 48.01%\n",
      "\n",
      "Epoch 99\n",
      "-------------------------------\n",
      "Train loss: 1.32797 | Train accuracy: 53.09%\n",
      "Validation loss: 1.47023 | Validation accuracy: 47.94%\n",
      "\n",
      "Epoch 100\n",
      "-------------------------------\n",
      "Train loss: 1.33992 | Train accuracy: 52.22%\n",
      "Validation loss: 1.45287 | Validation accuracy: 48.43%\n",
      "\n",
      "Finished training\n",
      "CPU times: total: 6h 30min 55s\n",
      "Wall time: 49min 19s\n"
     ]
    },
    {
     "data": {
      "image/png": "[encoded data removed]",
      "text/plain": [
       "<Figure size 640x480 with 1 Axes>"
      ]
     },
     "metadata": {},
     "output_type": "display_data"
    }
   ],
   "source": [
    "%%time\n",
    "loss = nn.CrossEntropyLoss()\n",
    "optimizer = optim.SGD(model.parameters(), lr=0.01)\n",
    "train(model, loss, optimizer, train_dataloader, val_dataloader, num_epochs=100, device=device)"
   ]
  },
  {
   "cell_type": "markdown",
   "metadata": {},
   "source": [
    "### 保存"
   ]
  },
  {
   "cell_type": "code",
   "execution_count": 16,
   "metadata": {},
   "outputs": [],
   "source": [
    "MODEL_NAME = \"lenet_cifar10.pth\"\n",
    "MODEL_SAVE_PATH = MODEL_PATH / MODEL_NAME\n",
    "torch.save(obj=model.state_dict(), \n",
    "           f=MODEL_SAVE_PATH)"
   ]
  },
  {
   "cell_type": "markdown",
   "metadata": {},
   "source": [
    "## ResNet\n",
    "### 定义\n",
    "模仿了ResNet18的结构，但是ResNet18是在ImageNet上训练的，CIFAR-10的分辨率低很多，所以第一个 $7*7$ 卷积换成了 $5*5$ 的。"
   ]
  },
  {
   "cell_type": "code",
   "execution_count": 6,
   "metadata": {
    "tags": []
   },
   "outputs": [
    {
     "name": "stderr",
     "output_type": "stream",
     "text": [
      "/usr/local/lib/python3.11/dist-packages/torch/nn/modules/lazy.py:181: UserWarning: Lazy modules are a new feature under heavy development so changes to the API or functionality can happen at any moment.\n",
      "  warnings.warn('Lazy modules are a new feature under heavy development '\n"
     ]
    },
    {
     "name": "stdout",
     "output_type": "stream",
     "text": [
      "Sequential output shape:\t torch.Size([1, 64, 18, 18])\n",
      "Sequential output shape:\t torch.Size([1, 64, 18, 18])\n",
      "Sequential output shape:\t torch.Size([1, 128, 9, 9])\n",
      "Sequential output shape:\t torch.Size([1, 256, 5, 5])\n",
      "Sequential output shape:\t torch.Size([1, 512, 3, 3])\n",
      "Sequential output shape:\t torch.Size([1, 10])\n"
     ]
    }
   ],
   "source": [
    "class ResidualBlock(nn.Module):\n",
    "    def __init__(self, num_channels, dropout, use_1x1conv=False, strides=1):\n",
    "        super().__init__()\n",
    "        self.dropout = dropout\n",
    "        self.conv1 = nn.LazyConv2d(num_channels, kernel_size=3, padding=1,\n",
    "                                   stride=strides)\n",
    "        self.conv2 = nn.LazyConv2d(num_channels, kernel_size=3, padding=1)\n",
    "        if use_1x1conv:\n",
    "            self.conv3 = nn.LazyConv2d(num_channels, kernel_size=1,\n",
    "                                       stride=strides)\n",
    "        else:\n",
    "            self.conv3 = None\n",
    "        self.bn1 = nn.LazyBatchNorm2d()\n",
    "        self.bn2 = nn.LazyBatchNorm2d()\n",
    "    def forward(self, X):\n",
    "        Y = F.relu(self.bn1(self.conv1(X)))\n",
    "        if self.dropout != 0:\n",
    "            Y = nn.Dropout2d(self.dropout)(Y)\n",
    "        Y = self.bn2(self.conv2(Y))\n",
    "        if self.conv3:\n",
    "            X = self.conv3(X)\n",
    "        Y += X\n",
    "        return F.relu(Y)\n",
    "\n",
    "class ResNet(nn.Module):\n",
    "    def __init__(self, arch, num_classes=10, dropout=0):\n",
    "        super().__init__()\n",
    "        self.dropout = dropout\n",
    "        self.net = nn.Sequential(self.b1())\n",
    "        for i, b in enumerate(arch):\n",
    "            self.net.add_module(f\"b{i+2}\", self.block(*b, first_block=(i==0)))\n",
    "        \n",
    "        self.net.add_module(\"last\", nn.Sequential(      \n",
    "            nn.AdaptiveAvgPool2d((1, 1)),\n",
    "            nn.Flatten(),\n",
    "            nn.LazyLinear(num_classes)\n",
    "        ))\n",
    "\n",
    "        init_cnn(self.net)\n",
    "\n",
    "    def block(self, num_residuals, num_channels, first_block=False):\n",
    "        blk = []\n",
    "        for i in range(num_residuals):\n",
    "            if i == 0 and not first_block:\n",
    "                blk.append(ResidualBlock(num_channels, use_1x1conv=True, strides=2, dropout=self.dropout))\n",
    "            else:\n",
    "                blk.append(ResidualBlock(num_channels, dropout=self.dropout))\n",
    "        return nn.Sequential(*blk)\n",
    "\n",
    "    def b1(self):\n",
    "        return nn.Sequential(\n",
    "            nn.LazyConv2d(64, kernel_size=3, stride=2, padding=3),\n",
    "            nn.LazyBatchNorm2d(), nn.ReLU(),\n",
    "            #nn.MaxPool2d(kernel_size=3, stride=2, padding=1)\n",
    "            )\n",
    "\n",
    "    def forward(self, X):\n",
    "        return self.net(X)\n",
    "    \n",
    "model = ResNet(arch=[[2, 64], [2, 128], [2, 256], [2, 512]], num_classes=10)\n",
    "layer_summary(model, (1, 3, 32, 32))"
   ]
  },
  {
   "cell_type": "markdown",
   "metadata": {},
   "source": [
    "### 训练"
   ]
  },
  {
   "cell_type": "code",
   "execution_count": 6,
   "metadata": {
    "tags": []
   },
   "outputs": [
    {
     "name": "stderr",
     "output_type": "stream",
     "text": [
      "  0%|          | 0/200 [00:00<?, ?it/s]"
     ]
    },
    {
     "name": "stdout",
     "output_type": "stream",
     "text": [
      "Epoch 1\n",
      "-------------------------------\n",
      "Train loss: 1.94363 | Train accuracy: 27.66%\n"
     ]
    },
    {
     "name": "stderr",
     "output_type": "stream",
     "text": [
      "  0%|          | 1/200 [00:11<38:02, 11.47s/it]"
     ]
    },
    {
     "name": "stdout",
     "output_type": "stream",
     "text": [
      "Validation loss: 1.90655 | Validation accuracy: 30.43%\n",
      "\n",
      "Epoch 2\n",
      "-------------------------------\n",
      "Train loss: 2.12716 | Train accuracy: 20.61%\n"
     ]
    },
    {
     "name": "stderr",
     "output_type": "stream",
     "text": [
      "  1%|          | 2/200 [00:18<30:11,  9.15s/it]"
     ]
    },
    {
     "name": "stdout",
     "output_type": "stream",
     "text": [
      "Validation loss: 1.96851 | Validation accuracy: 27.44%\n",
      "\n",
      "Epoch 3\n",
      "-------------------------------\n",
      "Train loss: 1.86694 | Train accuracy: 30.47%\n"
     ]
    },
    {
     "name": "stderr",
     "output_type": "stream",
     "text": [
      "  2%|▏         | 3/200 [00:26<27:46,  8.46s/it]"
     ]
    },
    {
     "name": "stdout",
     "output_type": "stream",
     "text": [
      "Validation loss: 1.73819 | Validation accuracy: 35.32%\n",
      "\n",
      "Epoch 4\n",
      "-------------------------------\n",
      "Train loss: 1.70987 | Train accuracy: 37.02%\n"
     ]
    },
    {
     "name": "stderr",
     "output_type": "stream",
     "text": [
      "  2%|▏         | 4/200 [00:34<26:31,  8.12s/it]"
     ]
    },
    {
     "name": "stdout",
     "output_type": "stream",
     "text": [
      "Validation loss: 1.63243 | Validation accuracy: 39.45%\n",
      "\n",
      "Epoch 5\n",
      "-------------------------------\n",
      "Train loss: 1.60135 | Train accuracy: 41.85%\n"
     ]
    },
    {
     "name": "stderr",
     "output_type": "stream",
     "text": [
      "  2%|▎         | 5/200 [00:41<25:38,  7.89s/it]"
     ]
    },
    {
     "name": "stdout",
     "output_type": "stream",
     "text": [
      "Validation loss: 1.55087 | Validation accuracy: 42.66%\n",
      "\n",
      "Epoch 6\n",
      "-------------------------------\n",
      "Train loss: 1.51529 | Train accuracy: 44.72%\n"
     ]
    },
    {
     "name": "stderr",
     "output_type": "stream",
     "text": [
      "  3%|▎         | 6/200 [00:49<25:14,  7.81s/it]"
     ]
    },
    {
     "name": "stdout",
     "output_type": "stream",
     "text": [
      "Validation loss: 1.47765 | Validation accuracy: 45.92%\n",
      "\n",
      "Epoch 7\n",
      "-------------------------------\n",
      "Train loss: 1.45873 | Train accuracy: 46.64%\n"
     ]
    },
    {
     "name": "stderr",
     "output_type": "stream",
     "text": [
      "  4%|▎         | 7/200 [00:57<25:11,  7.83s/it]"
     ]
    },
    {
     "name": "stdout",
     "output_type": "stream",
     "text": [
      "Validation loss: 1.42584 | Validation accuracy: 47.57%\n",
      "\n",
      "Epoch 8\n",
      "-------------------------------\n",
      "Train loss: 1.42626 | Train accuracy: 47.87%\n"
     ]
    },
    {
     "name": "stderr",
     "output_type": "stream",
     "text": [
      "  4%|▍         | 8/200 [01:04<24:57,  7.80s/it]"
     ]
    },
    {
     "name": "stdout",
     "output_type": "stream",
     "text": [
      "Validation loss: 1.38695 | Validation accuracy: 49.11%\n",
      "\n",
      "Epoch 9\n",
      "-------------------------------\n",
      "Train loss: 1.38230 | Train accuracy: 49.49%\n"
     ]
    },
    {
     "name": "stderr",
     "output_type": "stream",
     "text": [
      "  4%|▍         | 9/200 [01:12<24:41,  7.76s/it]"
     ]
    },
    {
     "name": "stdout",
     "output_type": "stream",
     "text": [
      "Validation loss: 1.44079 | Validation accuracy: 47.77%\n",
      "\n",
      "Epoch 10\n",
      "-------------------------------\n",
      "Train loss: 1.35741 | Train accuracy: 50.58%\n"
     ]
    },
    {
     "name": "stderr",
     "output_type": "stream",
     "text": [
      "  5%|▌         | 10/200 [01:20<24:26,  7.72s/it]"
     ]
    },
    {
     "name": "stdout",
     "output_type": "stream",
     "text": [
      "Validation loss: 1.33217 | Validation accuracy: 51.17%\n",
      "\n",
      "Epoch 11\n",
      "-------------------------------\n",
      "Train loss: 1.31042 | Train accuracy: 52.16%\n"
     ]
    },
    {
     "name": "stderr",
     "output_type": "stream",
     "text": [
      "  6%|▌         | 11/200 [01:27<23:57,  7.60s/it]"
     ]
    },
    {
     "name": "stdout",
     "output_type": "stream",
     "text": [
      "Validation loss: 1.32498 | Validation accuracy: 52.47%\n",
      "\n",
      "Epoch 12\n",
      "-------------------------------\n",
      "Train loss: 1.27175 | Train accuracy: 53.96%\n"
     ]
    },
    {
     "name": "stderr",
     "output_type": "stream",
     "text": [
      "  6%|▌         | 12/200 [01:35<23:48,  7.60s/it]"
     ]
    },
    {
     "name": "stdout",
     "output_type": "stream",
     "text": [
      "Validation loss: 1.29366 | Validation accuracy: 53.20%\n",
      "\n",
      "Epoch 13\n",
      "-------------------------------\n",
      "Train loss: 1.25359 | Train accuracy: 54.77%\n"
     ]
    },
    {
     "name": "stderr",
     "output_type": "stream",
     "text": [
      "  6%|▋         | 13/200 [01:42<23:38,  7.58s/it]"
     ]
    },
    {
     "name": "stdout",
     "output_type": "stream",
     "text": [
      "Validation loss: 1.26155 | Validation accuracy: 54.28%\n",
      "\n",
      "Epoch 14\n",
      "-------------------------------\n",
      "Train loss: 1.22091 | Train accuracy: 55.94%\n"
     ]
    },
    {
     "name": "stderr",
     "output_type": "stream",
     "text": [
      "  7%|▋         | 14/200 [01:50<23:42,  7.65s/it]"
     ]
    },
    {
     "name": "stdout",
     "output_type": "stream",
     "text": [
      "Validation loss: 1.20019 | Validation accuracy: 56.16%\n",
      "\n",
      "Epoch 15\n",
      "-------------------------------\n",
      "Train loss: 1.21156 | Train accuracy: 56.21%\n"
     ]
    },
    {
     "name": "stderr",
     "output_type": "stream",
     "text": [
      "  8%|▊         | 15/200 [01:58<23:40,  7.68s/it]"
     ]
    },
    {
     "name": "stdout",
     "output_type": "stream",
     "text": [
      "Validation loss: 1.23731 | Validation accuracy: 55.55%\n",
      "\n",
      "Epoch 16\n",
      "-------------------------------\n",
      "Train loss: 1.16176 | Train accuracy: 57.87%\n"
     ]
    },
    {
     "name": "stderr",
     "output_type": "stream",
     "text": [
      "  8%|▊         | 16/200 [02:05<23:27,  7.65s/it]"
     ]
    },
    {
     "name": "stdout",
     "output_type": "stream",
     "text": [
      "Validation loss: 1.17457 | Validation accuracy: 57.88%\n",
      "\n",
      "Epoch 17\n",
      "-------------------------------\n",
      "Train loss: 1.12837 | Train accuracy: 59.24%\n"
     ]
    },
    {
     "name": "stderr",
     "output_type": "stream",
     "text": [
      "  8%|▊         | 17/200 [02:13<23:24,  7.67s/it]"
     ]
    },
    {
     "name": "stdout",
     "output_type": "stream",
     "text": [
      "Validation loss: 1.14323 | Validation accuracy: 59.24%\n",
      "\n",
      "Epoch 18\n",
      "-------------------------------\n",
      "Train loss: 1.12281 | Train accuracy: 59.49%\n"
     ]
    },
    {
     "name": "stderr",
     "output_type": "stream",
     "text": [
      "  9%|▉         | 18/200 [02:21<23:04,  7.60s/it]"
     ]
    },
    {
     "name": "stdout",
     "output_type": "stream",
     "text": [
      "Validation loss: 1.12994 | Validation accuracy: 59.24%\n",
      "\n",
      "Epoch 19\n",
      "-------------------------------\n",
      "Train loss: 1.10018 | Train accuracy: 60.64%\n"
     ]
    },
    {
     "name": "stderr",
     "output_type": "stream",
     "text": [
      " 10%|▉         | 19/200 [02:28<23:09,  7.68s/it]"
     ]
    },
    {
     "name": "stdout",
     "output_type": "stream",
     "text": [
      "Validation loss: 1.11276 | Validation accuracy: 60.10%\n",
      "\n",
      "Epoch 20\n",
      "-------------------------------\n",
      "Train loss: 1.06904 | Train accuracy: 61.31%\n"
     ]
    },
    {
     "name": "stderr",
     "output_type": "stream",
     "text": [
      " 10%|█         | 20/200 [02:36<22:58,  7.66s/it]"
     ]
    },
    {
     "name": "stdout",
     "output_type": "stream",
     "text": [
      "Validation loss: 1.10401 | Validation accuracy: 60.77%\n",
      "\n",
      "Epoch 21\n",
      "-------------------------------\n",
      "Train loss: 1.04661 | Train accuracy: 62.77%\n"
     ]
    },
    {
     "name": "stderr",
     "output_type": "stream",
     "text": [
      " 10%|█         | 21/200 [02:44<22:47,  7.64s/it]"
     ]
    },
    {
     "name": "stdout",
     "output_type": "stream",
     "text": [
      "Validation loss: 1.08600 | Validation accuracy: 61.36%\n",
      "\n",
      "Epoch 22\n",
      "-------------------------------\n",
      "Train loss: 1.02186 | Train accuracy: 63.34%\n"
     ]
    },
    {
     "name": "stderr",
     "output_type": "stream",
     "text": [
      " 11%|█         | 22/200 [02:51<22:44,  7.67s/it]"
     ]
    },
    {
     "name": "stdout",
     "output_type": "stream",
     "text": [
      "Validation loss: 1.04716 | Validation accuracy: 61.98%\n",
      "\n",
      "Epoch 23\n",
      "-------------------------------\n",
      "Train loss: 0.99433 | Train accuracy: 64.29%\n"
     ]
    },
    {
     "name": "stderr",
     "output_type": "stream",
     "text": [
      " 12%|█▏        | 23/200 [02:59<22:39,  7.68s/it]"
     ]
    },
    {
     "name": "stdout",
     "output_type": "stream",
     "text": [
      "Validation loss: 1.07051 | Validation accuracy: 62.03%\n",
      "\n",
      "Epoch 24\n",
      "-------------------------------\n",
      "Train loss: 0.98634 | Train accuracy: 64.44%\n"
     ]
    },
    {
     "name": "stderr",
     "output_type": "stream",
     "text": [
      " 12%|█▏        | 24/200 [03:07<22:36,  7.70s/it]"
     ]
    },
    {
     "name": "stdout",
     "output_type": "stream",
     "text": [
      "Validation loss: 1.03211 | Validation accuracy: 63.25%\n",
      "\n",
      "Epoch 25\n",
      "-------------------------------\n",
      "Train loss: 0.97426 | Train accuracy: 65.19%\n"
     ]
    },
    {
     "name": "stderr",
     "output_type": "stream",
     "text": [
      " 12%|█▎        | 25/200 [03:15<22:31,  7.72s/it]"
     ]
    },
    {
     "name": "stdout",
     "output_type": "stream",
     "text": [
      "Validation loss: 1.03078 | Validation accuracy: 63.56%\n",
      "\n",
      "Epoch 26\n",
      "-------------------------------\n",
      "Train loss: 0.94184 | Train accuracy: 66.21%\n"
     ]
    },
    {
     "name": "stderr",
     "output_type": "stream",
     "text": [
      " 13%|█▎        | 26/200 [03:22<22:21,  7.71s/it]"
     ]
    },
    {
     "name": "stdout",
     "output_type": "stream",
     "text": [
      "Validation loss: 1.01831 | Validation accuracy: 64.08%\n",
      "\n",
      "Epoch 27\n",
      "-------------------------------\n",
      "Train loss: 0.92773 | Train accuracy: 66.87%\n"
     ]
    },
    {
     "name": "stderr",
     "output_type": "stream",
     "text": [
      " 14%|█▎        | 27/200 [03:30<22:11,  7.69s/it]"
     ]
    },
    {
     "name": "stdout",
     "output_type": "stream",
     "text": [
      "Validation loss: 0.96822 | Validation accuracy: 65.46%\n",
      "\n",
      "Epoch 28\n",
      "-------------------------------\n",
      "Train loss: 0.91800 | Train accuracy: 67.37%\n"
     ]
    },
    {
     "name": "stderr",
     "output_type": "stream",
     "text": [
      " 14%|█▍        | 28/200 [03:38<22:02,  7.69s/it]"
     ]
    },
    {
     "name": "stdout",
     "output_type": "stream",
     "text": [
      "Validation loss: 0.96975 | Validation accuracy: 65.70%\n",
      "\n",
      "Epoch 29\n",
      "-------------------------------\n",
      "Train loss: 0.90596 | Train accuracy: 67.72%\n"
     ]
    },
    {
     "name": "stderr",
     "output_type": "stream",
     "text": [
      " 14%|█▍        | 29/200 [03:45<21:49,  7.66s/it]"
     ]
    },
    {
     "name": "stdout",
     "output_type": "stream",
     "text": [
      "Validation loss: 0.93039 | Validation accuracy: 66.71%\n",
      "\n",
      "Epoch 30\n",
      "-------------------------------\n",
      "Train loss: 0.89060 | Train accuracy: 68.55%\n"
     ]
    },
    {
     "name": "stderr",
     "output_type": "stream",
     "text": [
      " 15%|█▌        | 30/200 [03:53<21:39,  7.65s/it]"
     ]
    },
    {
     "name": "stdout",
     "output_type": "stream",
     "text": [
      "Validation loss: 0.94539 | Validation accuracy: 66.61%\n",
      "\n",
      "Epoch 31\n",
      "-------------------------------\n",
      "Train loss: 0.86205 | Train accuracy: 69.37%\n"
     ]
    },
    {
     "name": "stderr",
     "output_type": "stream",
     "text": [
      " 16%|█▌        | 31/200 [04:01<21:38,  7.68s/it]"
     ]
    },
    {
     "name": "stdout",
     "output_type": "stream",
     "text": [
      "Validation loss: 0.91702 | Validation accuracy: 67.30%\n",
      "\n",
      "Epoch 32\n",
      "-------------------------------\n",
      "Train loss: 0.85535 | Train accuracy: 69.69%\n"
     ]
    },
    {
     "name": "stderr",
     "output_type": "stream",
     "text": [
      " 16%|█▌        | 32/200 [04:08<21:33,  7.70s/it]"
     ]
    },
    {
     "name": "stdout",
     "output_type": "stream",
     "text": [
      "Validation loss: 0.94617 | Validation accuracy: 66.71%\n",
      "\n",
      "Epoch 33\n",
      "-------------------------------\n",
      "Train loss: 0.84963 | Train accuracy: 69.80%\n"
     ]
    },
    {
     "name": "stderr",
     "output_type": "stream",
     "text": [
      " 16%|█▋        | 33/200 [04:16<21:16,  7.64s/it]"
     ]
    },
    {
     "name": "stdout",
     "output_type": "stream",
     "text": [
      "Validation loss: 0.90877 | Validation accuracy: 67.74%\n",
      "\n",
      "Epoch 34\n",
      "-------------------------------\n",
      "Train loss: 0.83504 | Train accuracy: 70.48%\n"
     ]
    },
    {
     "name": "stderr",
     "output_type": "stream",
     "text": [
      " 17%|█▋        | 34/200 [04:23<21:10,  7.65s/it]"
     ]
    },
    {
     "name": "stdout",
     "output_type": "stream",
     "text": [
      "Validation loss: 0.90655 | Validation accuracy: 68.42%\n",
      "\n",
      "Epoch 35\n",
      "-------------------------------\n",
      "Train loss: 0.82407 | Train accuracy: 70.84%\n"
     ]
    },
    {
     "name": "stderr",
     "output_type": "stream",
     "text": [
      " 18%|█▊        | 35/200 [04:31<21:12,  7.71s/it]"
     ]
    },
    {
     "name": "stdout",
     "output_type": "stream",
     "text": [
      "Validation loss: 0.92828 | Validation accuracy: 66.66%\n",
      "\n",
      "Epoch 36\n",
      "-------------------------------\n",
      "Train loss: 0.81184 | Train accuracy: 71.29%\n"
     ]
    },
    {
     "name": "stderr",
     "output_type": "stream",
     "text": [
      " 18%|█▊        | 36/200 [04:39<21:08,  7.74s/it]"
     ]
    },
    {
     "name": "stdout",
     "output_type": "stream",
     "text": [
      "Validation loss: 1.02249 | Validation accuracy: 64.25%\n",
      "\n",
      "Epoch 37\n",
      "-------------------------------\n",
      "Train loss: 0.79345 | Train accuracy: 71.85%\n"
     ]
    },
    {
     "name": "stderr",
     "output_type": "stream",
     "text": [
      " 18%|█▊        | 37/200 [04:47<20:53,  7.69s/it]"
     ]
    },
    {
     "name": "stdout",
     "output_type": "stream",
     "text": [
      "Validation loss: 0.86513 | Validation accuracy: 69.50%\n",
      "\n",
      "Epoch 38\n",
      "-------------------------------\n",
      "Train loss: 0.78881 | Train accuracy: 72.15%\n"
     ]
    },
    {
     "name": "stderr",
     "output_type": "stream",
     "text": [
      " 19%|█▉        | 38/200 [04:54<20:35,  7.63s/it]"
     ]
    },
    {
     "name": "stdout",
     "output_type": "stream",
     "text": [
      "Validation loss: 0.87203 | Validation accuracy: 69.22%\n",
      "\n",
      "Epoch 39\n",
      "-------------------------------\n",
      "Train loss: 0.78264 | Train accuracy: 72.39%\n"
     ]
    },
    {
     "name": "stderr",
     "output_type": "stream",
     "text": [
      " 20%|█▉        | 39/200 [05:02<20:25,  7.61s/it]"
     ]
    },
    {
     "name": "stdout",
     "output_type": "stream",
     "text": [
      "Validation loss: 0.84686 | Validation accuracy: 70.22%\n",
      "\n",
      "Epoch 40\n",
      "-------------------------------\n",
      "Train loss: 0.77299 | Train accuracy: 72.68%\n"
     ]
    },
    {
     "name": "stderr",
     "output_type": "stream",
     "text": [
      " 20%|██        | 40/200 [05:09<20:21,  7.63s/it]"
     ]
    },
    {
     "name": "stdout",
     "output_type": "stream",
     "text": [
      "Validation loss: 0.86833 | Validation accuracy: 69.36%\n",
      "\n",
      "Epoch 41\n",
      "-------------------------------\n",
      "Train loss: 0.76018 | Train accuracy: 72.91%\n"
     ]
    },
    {
     "name": "stderr",
     "output_type": "stream",
     "text": [
      " 20%|██        | 41/200 [05:17<20:24,  7.70s/it]"
     ]
    },
    {
     "name": "stdout",
     "output_type": "stream",
     "text": [
      "Validation loss: 0.84700 | Validation accuracy: 70.49%\n",
      "\n",
      "Epoch 42\n",
      "-------------------------------\n",
      "Train loss: 0.74886 | Train accuracy: 73.32%\n"
     ]
    },
    {
     "name": "stderr",
     "output_type": "stream",
     "text": [
      " 21%|██        | 42/200 [05:25<20:16,  7.70s/it]"
     ]
    },
    {
     "name": "stdout",
     "output_type": "stream",
     "text": [
      "Validation loss: 0.87449 | Validation accuracy: 69.54%\n",
      "\n",
      "Epoch 43\n",
      "-------------------------------\n",
      "Train loss: 0.73604 | Train accuracy: 74.02%\n"
     ]
    },
    {
     "name": "stderr",
     "output_type": "stream",
     "text": [
      " 22%|██▏       | 43/200 [05:33<20:12,  7.72s/it]"
     ]
    },
    {
     "name": "stdout",
     "output_type": "stream",
     "text": [
      "Validation loss: 0.84385 | Validation accuracy: 70.49%\n",
      "\n",
      "Epoch 44\n",
      "-------------------------------\n",
      "Train loss: 0.73657 | Train accuracy: 74.00%\n"
     ]
    },
    {
     "name": "stderr",
     "output_type": "stream",
     "text": [
      " 22%|██▏       | 44/200 [05:40<19:54,  7.66s/it]"
     ]
    },
    {
     "name": "stdout",
     "output_type": "stream",
     "text": [
      "Validation loss: 0.83349 | Validation accuracy: 70.38%\n",
      "\n",
      "Epoch 45\n",
      "-------------------------------\n",
      "Train loss: 0.72936 | Train accuracy: 74.12%\n"
     ]
    },
    {
     "name": "stderr",
     "output_type": "stream",
     "text": [
      " 22%|██▎       | 45/200 [05:48<19:49,  7.67s/it]"
     ]
    },
    {
     "name": "stdout",
     "output_type": "stream",
     "text": [
      "Validation loss: 0.83051 | Validation accuracy: 70.99%\n",
      "\n",
      "Epoch 46\n",
      "-------------------------------\n",
      "Train loss: 0.70765 | Train accuracy: 75.02%\n"
     ]
    },
    {
     "name": "stderr",
     "output_type": "stream",
     "text": [
      " 23%|██▎       | 46/200 [05:56<19:38,  7.66s/it]"
     ]
    },
    {
     "name": "stdout",
     "output_type": "stream",
     "text": [
      "Validation loss: 0.81925 | Validation accuracy: 71.53%\n",
      "\n",
      "Epoch 47\n",
      "-------------------------------\n",
      "Train loss: 0.71396 | Train accuracy: 74.71%\n"
     ]
    },
    {
     "name": "stderr",
     "output_type": "stream",
     "text": [
      " 24%|██▎       | 47/200 [06:03<19:26,  7.62s/it]"
     ]
    },
    {
     "name": "stdout",
     "output_type": "stream",
     "text": [
      "Validation loss: 0.83848 | Validation accuracy: 70.79%\n",
      "\n",
      "Epoch 48\n",
      "-------------------------------\n",
      "Train loss: 0.70249 | Train accuracy: 75.09%\n"
     ]
    },
    {
     "name": "stderr",
     "output_type": "stream",
     "text": [
      " 24%|██▍       | 48/200 [06:11<19:25,  7.67s/it]"
     ]
    },
    {
     "name": "stdout",
     "output_type": "stream",
     "text": [
      "Validation loss: 0.81430 | Validation accuracy: 71.52%\n",
      "\n",
      "Epoch 49\n",
      "-------------------------------\n",
      "Train loss: 0.69667 | Train accuracy: 75.41%\n"
     ]
    },
    {
     "name": "stderr",
     "output_type": "stream",
     "text": [
      " 24%|██▍       | 49/200 [06:19<19:19,  7.68s/it]"
     ]
    },
    {
     "name": "stdout",
     "output_type": "stream",
     "text": [
      "Validation loss: 0.84322 | Validation accuracy: 71.29%\n",
      "\n",
      "Epoch 50\n",
      "-------------------------------\n",
      "Train loss: 0.68660 | Train accuracy: 75.58%\n"
     ]
    },
    {
     "name": "stderr",
     "output_type": "stream",
     "text": [
      " 25%|██▌       | 50/200 [06:26<19:12,  7.68s/it]"
     ]
    },
    {
     "name": "stdout",
     "output_type": "stream",
     "text": [
      "Validation loss: 0.81893 | Validation accuracy: 71.32%\n",
      "\n",
      "Epoch 51\n",
      "-------------------------------\n",
      "Train loss: 0.67470 | Train accuracy: 76.01%\n"
     ]
    },
    {
     "name": "stderr",
     "output_type": "stream",
     "text": [
      " 26%|██▌       | 51/200 [06:34<19:04,  7.68s/it]"
     ]
    },
    {
     "name": "stdout",
     "output_type": "stream",
     "text": [
      "Validation loss: 0.82114 | Validation accuracy: 71.39%\n",
      "\n",
      "Epoch 52\n",
      "-------------------------------\n",
      "Train loss: 0.67052 | Train accuracy: 76.23%\n"
     ]
    },
    {
     "name": "stderr",
     "output_type": "stream",
     "text": [
      " 26%|██▌       | 52/200 [06:42<18:59,  7.70s/it]"
     ]
    },
    {
     "name": "stdout",
     "output_type": "stream",
     "text": [
      "Validation loss: 0.80969 | Validation accuracy: 72.04%\n",
      "\n",
      "Epoch 53\n",
      "-------------------------------\n",
      "Train loss: 0.66655 | Train accuracy: 76.56%\n"
     ]
    },
    {
     "name": "stderr",
     "output_type": "stream",
     "text": [
      " 26%|██▋       | 53/200 [06:49<18:52,  7.70s/it]"
     ]
    },
    {
     "name": "stdout",
     "output_type": "stream",
     "text": [
      "Validation loss: 0.82165 | Validation accuracy: 71.21%\n",
      "\n",
      "Epoch 54\n",
      "-------------------------------\n",
      "Train loss: 0.65077 | Train accuracy: 76.94%\n"
     ]
    },
    {
     "name": "stderr",
     "output_type": "stream",
     "text": [
      " 27%|██▋       | 54/200 [06:57<18:46,  7.72s/it]"
     ]
    },
    {
     "name": "stdout",
     "output_type": "stream",
     "text": [
      "Validation loss: 0.81269 | Validation accuracy: 72.17%\n",
      "\n",
      "Epoch 55\n",
      "-------------------------------\n",
      "Train loss: 0.65433 | Train accuracy: 76.74%\n"
     ]
    },
    {
     "name": "stderr",
     "output_type": "stream",
     "text": [
      " 28%|██▊       | 55/200 [07:04<18:11,  7.53s/it]"
     ]
    },
    {
     "name": "stdout",
     "output_type": "stream",
     "text": [
      "Validation loss: 0.80650 | Validation accuracy: 72.55%\n",
      "\n",
      "Epoch 56\n",
      "-------------------------------\n",
      "Train loss: 0.64129 | Train accuracy: 77.27%\n"
     ]
    },
    {
     "name": "stderr",
     "output_type": "stream",
     "text": [
      " 28%|██▊       | 56/200 [07:12<18:13,  7.59s/it]"
     ]
    },
    {
     "name": "stdout",
     "output_type": "stream",
     "text": [
      "Validation loss: 0.78680 | Validation accuracy: 72.93%\n",
      "\n",
      "Epoch 57\n",
      "-------------------------------\n",
      "Train loss: 0.63726 | Train accuracy: 77.48%\n"
     ]
    },
    {
     "name": "stderr",
     "output_type": "stream",
     "text": [
      " 28%|██▊       | 57/200 [07:20<18:15,  7.66s/it]"
     ]
    },
    {
     "name": "stdout",
     "output_type": "stream",
     "text": [
      "Validation loss: 0.79485 | Validation accuracy: 72.64%\n",
      "\n",
      "Epoch 58\n",
      "-------------------------------\n",
      "Train loss: 0.62823 | Train accuracy: 77.64%\n"
     ]
    },
    {
     "name": "stderr",
     "output_type": "stream",
     "text": [
      " 29%|██▉       | 58/200 [07:28<18:12,  7.69s/it]"
     ]
    },
    {
     "name": "stdout",
     "output_type": "stream",
     "text": [
      "Validation loss: 0.82509 | Validation accuracy: 71.65%\n",
      "\n",
      "Epoch 59\n",
      "-------------------------------\n",
      "Train loss: 0.62485 | Train accuracy: 77.95%\n"
     ]
    },
    {
     "name": "stderr",
     "output_type": "stream",
     "text": [
      " 30%|██▉       | 59/200 [07:35<18:07,  7.71s/it]"
     ]
    },
    {
     "name": "stdout",
     "output_type": "stream",
     "text": [
      "Validation loss: 0.80230 | Validation accuracy: 72.48%\n",
      "\n",
      "Epoch 60\n",
      "-------------------------------\n",
      "Train loss: 0.62558 | Train accuracy: 77.84%\n"
     ]
    },
    {
     "name": "stderr",
     "output_type": "stream",
     "text": [
      " 30%|███       | 60/200 [07:43<18:01,  7.72s/it]"
     ]
    },
    {
     "name": "stdout",
     "output_type": "stream",
     "text": [
      "Validation loss: 0.78613 | Validation accuracy: 73.31%\n",
      "\n",
      "Epoch 61\n",
      "-------------------------------\n",
      "Train loss: 0.60386 | Train accuracy: 78.63%\n"
     ]
    },
    {
     "name": "stderr",
     "output_type": "stream",
     "text": [
      " 30%|███       | 61/200 [07:51<17:57,  7.75s/it]"
     ]
    },
    {
     "name": "stdout",
     "output_type": "stream",
     "text": [
      "Validation loss: 0.77900 | Validation accuracy: 73.22%\n",
      "\n",
      "Epoch 62\n",
      "-------------------------------\n",
      "Train loss: 0.60244 | Train accuracy: 78.65%\n"
     ]
    },
    {
     "name": "stderr",
     "output_type": "stream",
     "text": [
      " 31%|███       | 62/200 [07:59<17:45,  7.72s/it]"
     ]
    },
    {
     "name": "stdout",
     "output_type": "stream",
     "text": [
      "Validation loss: 0.79274 | Validation accuracy: 73.12%\n",
      "\n",
      "Epoch 63\n",
      "-------------------------------\n",
      "Train loss: 0.59869 | Train accuracy: 78.66%\n"
     ]
    },
    {
     "name": "stderr",
     "output_type": "stream",
     "text": [
      " 32%|███▏      | 63/200 [08:06<17:42,  7.76s/it]"
     ]
    },
    {
     "name": "stdout",
     "output_type": "stream",
     "text": [
      "Validation loss: 0.78562 | Validation accuracy: 73.00%\n",
      "\n",
      "Epoch 64\n",
      "-------------------------------\n",
      "Train loss: 0.60267 | Train accuracy: 78.66%\n"
     ]
    },
    {
     "name": "stderr",
     "output_type": "stream",
     "text": [
      " 32%|███▏      | 64/200 [08:14<17:46,  7.84s/it]"
     ]
    },
    {
     "name": "stdout",
     "output_type": "stream",
     "text": [
      "Validation loss: 0.78124 | Validation accuracy: 73.47%\n",
      "\n",
      "Epoch 65\n",
      "-------------------------------\n",
      "Train loss: 0.59391 | Train accuracy: 78.88%\n"
     ]
    },
    {
     "name": "stderr",
     "output_type": "stream",
     "text": [
      " 32%|███▎      | 65/200 [08:22<17:44,  7.88s/it]"
     ]
    },
    {
     "name": "stdout",
     "output_type": "stream",
     "text": [
      "Validation loss: 0.75689 | Validation accuracy: 73.83%\n",
      "\n",
      "Epoch 66\n",
      "-------------------------------\n",
      "Train loss: 0.57794 | Train accuracy: 79.27%\n"
     ]
    },
    {
     "name": "stderr",
     "output_type": "stream",
     "text": [
      " 33%|███▎      | 66/200 [08:31<17:43,  7.94s/it]"
     ]
    },
    {
     "name": "stdout",
     "output_type": "stream",
     "text": [
      "Validation loss: 0.78006 | Validation accuracy: 73.70%\n",
      "\n",
      "Epoch 67\n",
      "-------------------------------\n",
      "Train loss: 0.57455 | Train accuracy: 79.52%\n"
     ]
    },
    {
     "name": "stderr",
     "output_type": "stream",
     "text": [
      " 34%|███▎      | 67/200 [08:39<17:43,  8.00s/it]"
     ]
    },
    {
     "name": "stdout",
     "output_type": "stream",
     "text": [
      "Validation loss: 0.78428 | Validation accuracy: 72.88%\n",
      "\n",
      "Epoch 68\n",
      "-------------------------------\n",
      "Train loss: 0.56906 | Train accuracy: 79.81%\n"
     ]
    },
    {
     "name": "stderr",
     "output_type": "stream",
     "text": [
      " 34%|███▍      | 68/200 [08:47<17:38,  8.02s/it]"
     ]
    },
    {
     "name": "stdout",
     "output_type": "stream",
     "text": [
      "Validation loss: 0.78417 | Validation accuracy: 73.46%\n",
      "\n",
      "Epoch 69\n",
      "-------------------------------\n",
      "Train loss: 0.56300 | Train accuracy: 79.96%\n"
     ]
    },
    {
     "name": "stderr",
     "output_type": "stream",
     "text": [
      " 34%|███▍      | 69/200 [08:55<17:30,  8.02s/it]"
     ]
    },
    {
     "name": "stdout",
     "output_type": "stream",
     "text": [
      "Validation loss: 0.78294 | Validation accuracy: 73.57%\n",
      "\n",
      "Epoch 70\n",
      "-------------------------------\n",
      "Train loss: 0.56500 | Train accuracy: 79.94%\n"
     ]
    },
    {
     "name": "stderr",
     "output_type": "stream",
     "text": [
      " 35%|███▌      | 70/200 [09:03<17:17,  7.98s/it]"
     ]
    },
    {
     "name": "stdout",
     "output_type": "stream",
     "text": [
      "Validation loss: 0.75728 | Validation accuracy: 74.16%\n",
      "\n",
      "Epoch 71\n",
      "-------------------------------\n",
      "Train loss: 0.55022 | Train accuracy: 80.57%\n"
     ]
    },
    {
     "name": "stderr",
     "output_type": "stream",
     "text": [
      " 36%|███▌      | 71/200 [09:11<17:15,  8.03s/it]"
     ]
    },
    {
     "name": "stdout",
     "output_type": "stream",
     "text": [
      "Validation loss: 0.74742 | Validation accuracy: 74.41%\n",
      "\n",
      "Epoch 72\n",
      "-------------------------------\n",
      "Train loss: 0.54407 | Train accuracy: 80.53%\n"
     ]
    },
    {
     "name": "stderr",
     "output_type": "stream",
     "text": [
      " 36%|███▌      | 72/200 [09:19<17:08,  8.03s/it]"
     ]
    },
    {
     "name": "stdout",
     "output_type": "stream",
     "text": [
      "Validation loss: 0.77440 | Validation accuracy: 74.05%\n",
      "\n",
      "Epoch 73\n",
      "-------------------------------\n",
      "Train loss: 0.54588 | Train accuracy: 80.50%\n"
     ]
    },
    {
     "name": "stderr",
     "output_type": "stream",
     "text": [
      " 36%|███▋      | 73/200 [09:27<17:04,  8.07s/it]"
     ]
    },
    {
     "name": "stdout",
     "output_type": "stream",
     "text": [
      "Validation loss: 0.76257 | Validation accuracy: 74.49%\n",
      "\n",
      "Epoch 74\n",
      "-------------------------------\n",
      "Train loss: 0.53365 | Train accuracy: 80.89%\n"
     ]
    },
    {
     "name": "stderr",
     "output_type": "stream",
     "text": [
      " 37%|███▋      | 74/200 [09:35<16:53,  8.05s/it]"
     ]
    },
    {
     "name": "stdout",
     "output_type": "stream",
     "text": [
      "Validation loss: 0.78231 | Validation accuracy: 73.53%\n",
      "\n",
      "Epoch 75\n",
      "-------------------------------\n",
      "Train loss: 0.53378 | Train accuracy: 80.98%\n"
     ]
    },
    {
     "name": "stderr",
     "output_type": "stream",
     "text": [
      " 38%|███▊      | 75/200 [09:43<16:46,  8.05s/it]"
     ]
    },
    {
     "name": "stdout",
     "output_type": "stream",
     "text": [
      "Validation loss: 0.79117 | Validation accuracy: 73.37%\n",
      "\n",
      "Epoch 76\n",
      "-------------------------------\n",
      "Train loss: 0.52694 | Train accuracy: 81.16%\n"
     ]
    },
    {
     "name": "stderr",
     "output_type": "stream",
     "text": [
      " 38%|███▊      | 76/200 [09:51<16:36,  8.04s/it]"
     ]
    },
    {
     "name": "stdout",
     "output_type": "stream",
     "text": [
      "Validation loss: 0.77962 | Validation accuracy: 74.19%\n",
      "\n",
      "Epoch 77\n",
      "-------------------------------\n",
      "Train loss: 0.51669 | Train accuracy: 81.61%\n"
     ]
    },
    {
     "name": "stderr",
     "output_type": "stream",
     "text": [
      " 38%|███▊      | 77/200 [09:59<16:37,  8.11s/it]"
     ]
    },
    {
     "name": "stdout",
     "output_type": "stream",
     "text": [
      "Validation loss: 0.76228 | Validation accuracy: 74.35%\n",
      "\n",
      "Epoch 78\n",
      "-------------------------------\n",
      "Train loss: 0.51591 | Train accuracy: 81.61%\n"
     ]
    },
    {
     "name": "stderr",
     "output_type": "stream",
     "text": [
      " 39%|███▉      | 78/200 [10:07<16:21,  8.05s/it]"
     ]
    },
    {
     "name": "stdout",
     "output_type": "stream",
     "text": [
      "Validation loss: 0.76276 | Validation accuracy: 74.62%\n",
      "\n",
      "Epoch 79\n",
      "-------------------------------\n",
      "Train loss: 0.51190 | Train accuracy: 81.64%\n"
     ]
    },
    {
     "name": "stderr",
     "output_type": "stream",
     "text": [
      " 40%|███▉      | 79/200 [10:15<16:09,  8.01s/it]"
     ]
    },
    {
     "name": "stdout",
     "output_type": "stream",
     "text": [
      "Validation loss: 0.75626 | Validation accuracy: 74.76%\n",
      "\n",
      "Epoch 80\n",
      "-------------------------------\n",
      "Train loss: 0.51394 | Train accuracy: 81.63%\n"
     ]
    },
    {
     "name": "stderr",
     "output_type": "stream",
     "text": [
      " 40%|████      | 80/200 [10:23<16:05,  8.04s/it]"
     ]
    },
    {
     "name": "stdout",
     "output_type": "stream",
     "text": [
      "Validation loss: 0.77771 | Validation accuracy: 74.41%\n",
      "\n",
      "Epoch 81\n",
      "-------------------------------\n",
      "Train loss: 0.49959 | Train accuracy: 82.30%\n"
     ]
    },
    {
     "name": "stderr",
     "output_type": "stream",
     "text": [
      " 40%|████      | 81/200 [10:31<15:52,  8.00s/it]"
     ]
    },
    {
     "name": "stdout",
     "output_type": "stream",
     "text": [
      "Validation loss: 0.77598 | Validation accuracy: 74.08%\n",
      "\n",
      "Epoch 82\n",
      "-------------------------------\n",
      "Train loss: 0.49523 | Train accuracy: 82.22%\n"
     ]
    },
    {
     "name": "stderr",
     "output_type": "stream",
     "text": [
      " 41%|████      | 82/200 [10:39<15:46,  8.02s/it]"
     ]
    },
    {
     "name": "stdout",
     "output_type": "stream",
     "text": [
      "Validation loss: 0.77543 | Validation accuracy: 74.32%\n",
      "\n",
      "Epoch 83\n",
      "-------------------------------\n",
      "Train loss: 0.49456 | Train accuracy: 82.13%\n"
     ]
    },
    {
     "name": "stderr",
     "output_type": "stream",
     "text": [
      " 42%|████▏     | 83/200 [10:47<15:41,  8.04s/it]"
     ]
    },
    {
     "name": "stdout",
     "output_type": "stream",
     "text": [
      "Validation loss: 0.76120 | Validation accuracy: 74.07%\n",
      "\n",
      "Epoch 84\n",
      "-------------------------------\n",
      "Train loss: 0.48960 | Train accuracy: 82.65%\n"
     ]
    },
    {
     "name": "stderr",
     "output_type": "stream",
     "text": [
      " 42%|████▏     | 84/200 [10:55<15:28,  8.00s/it]"
     ]
    },
    {
     "name": "stdout",
     "output_type": "stream",
     "text": [
      "Validation loss: 0.77416 | Validation accuracy: 74.44%\n",
      "\n",
      "Epoch 85\n",
      "-------------------------------\n",
      "Train loss: 0.48439 | Train accuracy: 82.67%\n"
     ]
    },
    {
     "name": "stderr",
     "output_type": "stream",
     "text": [
      " 42%|████▎     | 85/200 [11:03<15:13,  7.95s/it]"
     ]
    },
    {
     "name": "stdout",
     "output_type": "stream",
     "text": [
      "Validation loss: 0.76093 | Validation accuracy: 75.20%\n",
      "\n",
      "Epoch 86\n",
      "-------------------------------\n",
      "Train loss: 0.47518 | Train accuracy: 82.80%\n"
     ]
    },
    {
     "name": "stderr",
     "output_type": "stream",
     "text": [
      " 43%|████▎     | 86/200 [11:11<15:12,  8.00s/it]"
     ]
    },
    {
     "name": "stdout",
     "output_type": "stream",
     "text": [
      "Validation loss: 0.78575 | Validation accuracy: 74.42%\n",
      "\n",
      "Epoch 87\n",
      "-------------------------------\n",
      "Train loss: 0.47239 | Train accuracy: 83.11%\n"
     ]
    },
    {
     "name": "stderr",
     "output_type": "stream",
     "text": [
      " 44%|████▎     | 87/200 [11:19<15:06,  8.02s/it]"
     ]
    },
    {
     "name": "stdout",
     "output_type": "stream",
     "text": [
      "Validation loss: 0.78247 | Validation accuracy: 74.35%\n",
      "\n",
      "Epoch 88\n",
      "-------------------------------\n",
      "Train loss: 0.46611 | Train accuracy: 83.35%\n"
     ]
    },
    {
     "name": "stderr",
     "output_type": "stream",
     "text": [
      " 44%|████▍     | 88/200 [11:27<14:55,  8.00s/it]"
     ]
    },
    {
     "name": "stdout",
     "output_type": "stream",
     "text": [
      "Validation loss: 0.78432 | Validation accuracy: 74.70%\n",
      "\n",
      "Epoch 89\n",
      "-------------------------------\n",
      "Train loss: 0.47424 | Train accuracy: 82.97%\n"
     ]
    },
    {
     "name": "stderr",
     "output_type": "stream",
     "text": [
      " 44%|████▍     | 89/200 [11:35<14:46,  7.99s/it]"
     ]
    },
    {
     "name": "stdout",
     "output_type": "stream",
     "text": [
      "Validation loss: 0.77814 | Validation accuracy: 74.67%\n",
      "\n",
      "Epoch 90\n",
      "-------------------------------\n",
      "Train loss: 0.46344 | Train accuracy: 83.35%\n"
     ]
    },
    {
     "name": "stderr",
     "output_type": "stream",
     "text": [
      " 45%|████▌     | 90/200 [11:43<14:39,  8.00s/it]"
     ]
    },
    {
     "name": "stdout",
     "output_type": "stream",
     "text": [
      "Validation loss: 0.79297 | Validation accuracy: 74.34%\n",
      "\n",
      "Epoch 91\n",
      "-------------------------------\n",
      "Train loss: 0.45358 | Train accuracy: 83.69%\n"
     ]
    },
    {
     "name": "stderr",
     "output_type": "stream",
     "text": [
      " 46%|████▌     | 91/200 [11:51<14:31,  7.99s/it]"
     ]
    },
    {
     "name": "stdout",
     "output_type": "stream",
     "text": [
      "Validation loss: 0.79293 | Validation accuracy: 74.70%\n",
      "\n",
      "Epoch 92\n",
      "-------------------------------\n",
      "Train loss: 0.45095 | Train accuracy: 83.88%\n"
     ]
    },
    {
     "name": "stderr",
     "output_type": "stream",
     "text": [
      " 46%|████▌     | 92/200 [11:59<14:20,  7.96s/it]"
     ]
    },
    {
     "name": "stdout",
     "output_type": "stream",
     "text": [
      "Validation loss: 0.76277 | Validation accuracy: 75.46%\n",
      "\n",
      "Epoch 93\n",
      "-------------------------------\n",
      "Train loss: 0.44806 | Train accuracy: 83.89%\n"
     ]
    },
    {
     "name": "stderr",
     "output_type": "stream",
     "text": [
      " 46%|████▋     | 93/200 [12:07<14:07,  7.92s/it]"
     ]
    },
    {
     "name": "stdout",
     "output_type": "stream",
     "text": [
      "Validation loss: 0.80421 | Validation accuracy: 74.68%\n",
      "\n",
      "Epoch 94\n",
      "-------------------------------\n",
      "Train loss: 0.44664 | Train accuracy: 83.98%\n"
     ]
    },
    {
     "name": "stderr",
     "output_type": "stream",
     "text": [
      " 47%|████▋     | 94/200 [12:15<13:58,  7.91s/it]"
     ]
    },
    {
     "name": "stdout",
     "output_type": "stream",
     "text": [
      "Validation loss: 0.77208 | Validation accuracy: 75.07%\n",
      "\n",
      "Epoch 95\n",
      "-------------------------------\n",
      "Train loss: 0.44387 | Train accuracy: 84.09%\n"
     ]
    },
    {
     "name": "stderr",
     "output_type": "stream",
     "text": [
      " 48%|████▊     | 95/200 [12:23<13:50,  7.91s/it]"
     ]
    },
    {
     "name": "stdout",
     "output_type": "stream",
     "text": [
      "Validation loss: 0.79323 | Validation accuracy: 74.83%\n",
      "\n",
      "Epoch 96\n",
      "-------------------------------\n",
      "Train loss: 0.43170 | Train accuracy: 84.54%\n"
     ]
    },
    {
     "name": "stderr",
     "output_type": "stream",
     "text": [
      " 48%|████▊     | 96/200 [12:31<13:45,  7.94s/it]"
     ]
    },
    {
     "name": "stdout",
     "output_type": "stream",
     "text": [
      "Validation loss: 0.80054 | Validation accuracy: 75.14%\n",
      "\n",
      "Epoch 97\n",
      "-------------------------------\n",
      "Train loss: 0.42795 | Train accuracy: 84.58%\n"
     ]
    },
    {
     "name": "stderr",
     "output_type": "stream",
     "text": [
      " 48%|████▊     | 97/200 [12:39<13:38,  7.95s/it]"
     ]
    },
    {
     "name": "stdout",
     "output_type": "stream",
     "text": [
      "Validation loss: 0.80751 | Validation accuracy: 74.70%\n",
      "\n",
      "Epoch 98\n",
      "-------------------------------\n",
      "Train loss: 0.42715 | Train accuracy: 84.75%\n"
     ]
    },
    {
     "name": "stderr",
     "output_type": "stream",
     "text": [
      " 49%|████▉     | 98/200 [12:47<13:29,  7.94s/it]"
     ]
    },
    {
     "name": "stdout",
     "output_type": "stream",
     "text": [
      "Validation loss: 0.78677 | Validation accuracy: 74.72%\n",
      "\n",
      "Epoch 99\n",
      "-------------------------------\n",
      "Train loss: 0.41988 | Train accuracy: 84.90%\n"
     ]
    },
    {
     "name": "stderr",
     "output_type": "stream",
     "text": [
      " 50%|████▉     | 99/200 [12:55<13:23,  7.95s/it]"
     ]
    },
    {
     "name": "stdout",
     "output_type": "stream",
     "text": [
      "Validation loss: 0.80810 | Validation accuracy: 75.28%\n",
      "\n",
      "Epoch 100\n",
      "-------------------------------\n",
      "Train loss: 0.42661 | Train accuracy: 84.62%\n"
     ]
    },
    {
     "name": "stderr",
     "output_type": "stream",
     "text": [
      " 50%|█████     | 100/200 [13:03<13:15,  7.95s/it]"
     ]
    },
    {
     "name": "stdout",
     "output_type": "stream",
     "text": [
      "Validation loss: 0.79679 | Validation accuracy: 74.59%\n",
      "\n",
      "Epoch 101\n",
      "-------------------------------\n",
      "Train loss: 0.41953 | Train accuracy: 84.79%\n"
     ]
    },
    {
     "name": "stderr",
     "output_type": "stream",
     "text": [
      " 50%|█████     | 101/200 [13:10<13:06,  7.95s/it]"
     ]
    },
    {
     "name": "stdout",
     "output_type": "stream",
     "text": [
      "Validation loss: 0.79114 | Validation accuracy: 75.29%\n",
      "\n",
      "Epoch 102\n",
      "-------------------------------\n",
      "Train loss: 0.40690 | Train accuracy: 85.22%\n"
     ]
    },
    {
     "name": "stderr",
     "output_type": "stream",
     "text": [
      " 50%|█████     | 101/200 [13:18<13:03,  7.91s/it]"
     ]
    },
    {
     "name": "stdout",
     "output_type": "stream",
     "text": [
      "Validation loss: 0.79639 | Validation accuracy: 75.16%\n",
      "\n",
      "Early stopping at epoch 102\n",
      "Finished training\n"
     ]
    },
    {
     "name": "stderr",
     "output_type": "stream",
     "text": [
      "\n"
     ]
    },
    {
     "name": "stdout",
     "output_type": "stream",
     "text": [
      "CPU times: user 13min 34s, sys: 59.5 s, total: 14min 33s\n",
      "Wall time: 13min 21s\n"
     ]
    },
    {
     "data": {
      "image/png": "[encoded data removed]",
      "text/plain": [
       "<Figure size 640x480 with 1 Axes>"
      ]
     },
     "metadata": {},
     "output_type": "display_data"
    }
   ],
   "source": [
    "%%time\n",
    "model = ResNet(arch=[[2, 64], [2, 128], [2, 256], [2, 512]], num_classes=10)\n",
    "loss = nn.CrossEntropyLoss()\n",
    "optimizer = optim.Adam(model.parameters(), lr=0.01)\n",
    "scheduler = torch.optim.lr_scheduler.StepLR(optimizer, step_size=5, gamma=0.9, last_epoch=-1)\n",
    "train(model, loss, optimizer, train_dataloader, val_dataloader, scheduler=scheduler,  device=device,\n",
    "      num_epochs=200, early_stopper=EarlyStopper(patience=10, min_delta=0.01))"
   ]
  },
  {
   "cell_type": "markdown",
   "metadata": {},
   "source": [
    "### Dropout"
   ]
  },
  {
   "cell_type": "code",
   "execution_count": 6,
   "metadata": {},
   "outputs": [
    {
     "name": "stderr",
     "output_type": "stream",
     "text": [
      "/usr/local/lib/python3.11/dist-packages/torch/optim/lr_scheduler.py:28: UserWarning: The verbose parameter is deprecated. Please use get_last_lr() to access the learning rate.\n",
      "  warnings.warn(\"The verbose parameter is deprecated. Please use get_last_lr() \"\n",
      "  0%|          | 0/200 [00:00<?, ?it/s]"
     ]
    },
    {
     "name": "stdout",
     "output_type": "stream",
     "text": [
      "Epoch 1\n",
      "-------------------------------\n",
      "Train loss: 2.16264 | Train accuracy: 20.87%\n"
     ]
    },
    {
     "name": "stderr",
     "output_type": "stream",
     "text": [
      "  0%|          | 1/200 [00:18<1:01:28, 18.54s/it]"
     ]
    },
    {
     "name": "stdout",
     "output_type": "stream",
     "text": [
      "Validation loss: 1.94787 | Validation accuracy: 27.43%\n",
      "\n",
      "Epoch 2\n",
      "-------------------------------\n",
      "Train loss: 1.87066 | Train accuracy: 30.67%\n"
     ]
    },
    {
     "name": "stderr",
     "output_type": "stream",
     "text": [
      "  1%|          | 2/200 [00:30<49:11, 14.91s/it]  "
     ]
    },
    {
     "name": "stdout",
     "output_type": "stream",
     "text": [
      "Validation loss: 1.79516 | Validation accuracy: 32.73%\n",
      "\n",
      "Epoch 3\n",
      "-------------------------------\n",
      "Train loss: 1.72425 | Train accuracy: 36.41%\n"
     ]
    },
    {
     "name": "stderr",
     "output_type": "stream",
     "text": [
      "  2%|▏         | 3/200 [00:43<45:12, 13.77s/it]"
     ]
    },
    {
     "name": "stdout",
     "output_type": "stream",
     "text": [
      "Validation loss: 1.66396 | Validation accuracy: 38.60%\n",
      "\n",
      "Epoch 4\n",
      "-------------------------------\n",
      "Train loss: 1.62312 | Train accuracy: 40.06%\n"
     ]
    },
    {
     "name": "stderr",
     "output_type": "stream",
     "text": [
      "  2%|▏         | 4/200 [00:55<43:02, 13.18s/it]"
     ]
    },
    {
     "name": "stdout",
     "output_type": "stream",
     "text": [
      "Validation loss: 1.59927 | Validation accuracy: 40.72%\n",
      "\n",
      "Epoch 5\n",
      "-------------------------------\n",
      "Train loss: 1.53738 | Train accuracy: 43.33%\n"
     ]
    },
    {
     "name": "stderr",
     "output_type": "stream",
     "text": [
      "  2%|▎         | 5/200 [01:07<41:53, 12.89s/it]"
     ]
    },
    {
     "name": "stdout",
     "output_type": "stream",
     "text": [
      "Validation loss: 1.48320 | Validation accuracy: 46.29%\n",
      "\n",
      "Epoch 6\n",
      "-------------------------------\n",
      "Train loss: 1.47945 | Train accuracy: 45.59%\n"
     ]
    },
    {
     "name": "stderr",
     "output_type": "stream",
     "text": [
      "  3%|▎         | 6/200 [01:20<40:56, 12.66s/it]"
     ]
    },
    {
     "name": "stdout",
     "output_type": "stream",
     "text": [
      "Validation loss: 1.42330 | Validation accuracy: 48.05%\n",
      "\n",
      "Epoch 7\n",
      "-------------------------------\n",
      "Train loss: 1.36922 | Train accuracy: 49.61%\n"
     ]
    },
    {
     "name": "stderr",
     "output_type": "stream",
     "text": [
      "  4%|▎         | 7/200 [01:32<40:23, 12.56s/it]"
     ]
    },
    {
     "name": "stdout",
     "output_type": "stream",
     "text": [
      "Validation loss: 1.36357 | Validation accuracy: 50.57%\n",
      "\n",
      "Epoch 8\n",
      "-------------------------------\n",
      "Train loss: 1.31480 | Train accuracy: 52.05%\n"
     ]
    },
    {
     "name": "stderr",
     "output_type": "stream",
     "text": [
      "  4%|▍         | 8/200 [01:44<40:05, 12.53s/it]"
     ]
    },
    {
     "name": "stdout",
     "output_type": "stream",
     "text": [
      "Validation loss: 1.29838 | Validation accuracy: 53.31%\n",
      "\n",
      "Epoch 9\n",
      "-------------------------------\n",
      "Train loss: 1.27815 | Train accuracy: 53.59%\n"
     ]
    },
    {
     "name": "stderr",
     "output_type": "stream",
     "text": [
      "  4%|▍         | 9/200 [01:57<39:52, 12.53s/it]"
     ]
    },
    {
     "name": "stdout",
     "output_type": "stream",
     "text": [
      "Validation loss: 1.26713 | Validation accuracy: 53.63%\n",
      "\n",
      "Epoch 10\n",
      "-------------------------------\n",
      "Train loss: 1.24281 | Train accuracy: 55.16%\n"
     ]
    },
    {
     "name": "stderr",
     "output_type": "stream",
     "text": [
      "  5%|▌         | 10/200 [02:09<39:36, 12.51s/it]"
     ]
    },
    {
     "name": "stdout",
     "output_type": "stream",
     "text": [
      "Validation loss: 1.24705 | Validation accuracy: 54.90%\n",
      "\n",
      "Epoch 11\n",
      "-------------------------------\n",
      "Train loss: 1.20856 | Train accuracy: 56.22%\n"
     ]
    },
    {
     "name": "stderr",
     "output_type": "stream",
     "text": [
      "  6%|▌         | 11/200 [02:22<39:13, 12.45s/it]"
     ]
    },
    {
     "name": "stdout",
     "output_type": "stream",
     "text": [
      "Validation loss: 1.21802 | Validation accuracy: 56.10%\n",
      "\n",
      "Epoch 12\n",
      "-------------------------------\n",
      "Train loss: 1.16620 | Train accuracy: 57.84%\n"
     ]
    },
    {
     "name": "stderr",
     "output_type": "stream",
     "text": [
      "  6%|▌         | 12/200 [02:34<38:52, 12.41s/it]"
     ]
    },
    {
     "name": "stdout",
     "output_type": "stream",
     "text": [
      "Validation loss: 1.15424 | Validation accuracy: 58.39%\n",
      "\n",
      "Epoch 13\n",
      "-------------------------------\n",
      "Train loss: 1.13729 | Train accuracy: 59.36%\n"
     ]
    },
    {
     "name": "stderr",
     "output_type": "stream",
     "text": [
      "  6%|▋         | 13/200 [02:47<38:39, 12.41s/it]"
     ]
    },
    {
     "name": "stdout",
     "output_type": "stream",
     "text": [
      "Validation loss: 1.17543 | Validation accuracy: 57.74%\n",
      "\n",
      "Epoch 14\n",
      "-------------------------------\n",
      "Train loss: 1.10495 | Train accuracy: 60.45%\n"
     ]
    },
    {
     "name": "stderr",
     "output_type": "stream",
     "text": [
      "  7%|▋         | 14/200 [02:59<38:22, 12.38s/it]"
     ]
    },
    {
     "name": "stdout",
     "output_type": "stream",
     "text": [
      "Validation loss: 1.10794 | Validation accuracy: 60.21%\n",
      "\n",
      "Epoch 15\n",
      "-------------------------------\n",
      "Train loss: 1.07985 | Train accuracy: 61.05%\n"
     ]
    },
    {
     "name": "stderr",
     "output_type": "stream",
     "text": [
      "  8%|▊         | 15/200 [03:11<38:14, 12.41s/it]"
     ]
    },
    {
     "name": "stdout",
     "output_type": "stream",
     "text": [
      "Validation loss: 1.09721 | Validation accuracy: 60.39%\n",
      "\n",
      "Epoch 16\n",
      "-------------------------------\n",
      "Train loss: 1.01246 | Train accuracy: 63.65%\n"
     ]
    },
    {
     "name": "stderr",
     "output_type": "stream",
     "text": [
      "  8%|▊         | 16/200 [03:24<37:59, 12.39s/it]"
     ]
    },
    {
     "name": "stdout",
     "output_type": "stream",
     "text": [
      "Validation loss: 1.05774 | Validation accuracy: 62.20%\n",
      "\n",
      "Epoch 17\n",
      "-------------------------------\n",
      "Train loss: 0.98629 | Train accuracy: 64.74%\n"
     ]
    },
    {
     "name": "stderr",
     "output_type": "stream",
     "text": [
      "  8%|▊         | 17/200 [03:36<37:51, 12.41s/it]"
     ]
    },
    {
     "name": "stdout",
     "output_type": "stream",
     "text": [
      "Validation loss: 1.01218 | Validation accuracy: 64.09%\n",
      "\n",
      "Epoch 18\n",
      "-------------------------------\n",
      "Train loss: 0.96189 | Train accuracy: 65.51%\n"
     ]
    },
    {
     "name": "stderr",
     "output_type": "stream",
     "text": [
      "  9%|▉         | 18/200 [03:49<37:42, 12.43s/it]"
     ]
    },
    {
     "name": "stdout",
     "output_type": "stream",
     "text": [
      "Validation loss: 0.99233 | Validation accuracy: 64.73%\n",
      "\n",
      "Epoch 19\n",
      "-------------------------------\n",
      "Train loss: 0.94100 | Train accuracy: 66.52%\n"
     ]
    },
    {
     "name": "stderr",
     "output_type": "stream",
     "text": [
      " 10%|▉         | 19/200 [04:01<37:34, 12.45s/it]"
     ]
    },
    {
     "name": "stdout",
     "output_type": "stream",
     "text": [
      "Validation loss: 0.96163 | Validation accuracy: 65.69%\n",
      "\n",
      "Epoch 20\n",
      "-------------------------------\n",
      "Train loss: 0.92728 | Train accuracy: 66.92%\n"
     ]
    },
    {
     "name": "stderr",
     "output_type": "stream",
     "text": [
      " 10%|█         | 20/200 [04:14<37:20, 12.45s/it]"
     ]
    },
    {
     "name": "stdout",
     "output_type": "stream",
     "text": [
      "Validation loss: 0.96578 | Validation accuracy: 65.62%\n",
      "\n",
      "Epoch 21\n",
      "-------------------------------\n",
      "Train loss: 0.91286 | Train accuracy: 67.49%\n"
     ]
    },
    {
     "name": "stderr",
     "output_type": "stream",
     "text": [
      " 10%|█         | 21/200 [04:26<37:06, 12.44s/it]"
     ]
    },
    {
     "name": "stdout",
     "output_type": "stream",
     "text": [
      "Validation loss: 0.93887 | Validation accuracy: 67.11%\n",
      "\n",
      "Epoch 22\n",
      "-------------------------------\n",
      "Train loss: 0.89803 | Train accuracy: 67.67%\n"
     ]
    },
    {
     "name": "stderr",
     "output_type": "stream",
     "text": [
      " 11%|█         | 22/200 [04:38<36:56, 12.45s/it]"
     ]
    },
    {
     "name": "stdout",
     "output_type": "stream",
     "text": [
      "Validation loss: 0.94689 | Validation accuracy: 66.67%\n",
      "\n",
      "Epoch 23\n",
      "-------------------------------\n",
      "Train loss: 0.88330 | Train accuracy: 68.32%\n"
     ]
    },
    {
     "name": "stderr",
     "output_type": "stream",
     "text": [
      " 12%|█▏        | 23/200 [04:51<36:41, 12.44s/it]"
     ]
    },
    {
     "name": "stdout",
     "output_type": "stream",
     "text": [
      "Validation loss: 0.94030 | Validation accuracy: 66.93%\n",
      "\n",
      "Epoch 24\n",
      "-------------------------------\n",
      "Train loss: 0.87411 | Train accuracy: 68.58%\n"
     ]
    },
    {
     "name": "stderr",
     "output_type": "stream",
     "text": [
      " 12%|█▏        | 24/200 [05:03<36:32, 12.46s/it]"
     ]
    },
    {
     "name": "stdout",
     "output_type": "stream",
     "text": [
      "Validation loss: 0.92655 | Validation accuracy: 67.43%\n",
      "\n",
      "Epoch 25\n",
      "-------------------------------\n",
      "Train loss: 0.84088 | Train accuracy: 70.12%\n"
     ]
    },
    {
     "name": "stderr",
     "output_type": "stream",
     "text": [
      " 12%|█▎        | 25/200 [05:16<36:20, 12.46s/it]"
     ]
    },
    {
     "name": "stdout",
     "output_type": "stream",
     "text": [
      "Validation loss: 0.88671 | Validation accuracy: 68.51%\n",
      "\n",
      "Epoch 26\n",
      "-------------------------------\n",
      "Train loss: 0.82647 | Train accuracy: 70.41%\n"
     ]
    },
    {
     "name": "stderr",
     "output_type": "stream",
     "text": [
      " 13%|█▎        | 26/200 [05:28<36:02, 12.43s/it]"
     ]
    },
    {
     "name": "stdout",
     "output_type": "stream",
     "text": [
      "Validation loss: 0.88327 | Validation accuracy: 68.51%\n",
      "\n",
      "Epoch 27\n",
      "-------------------------------\n",
      "Train loss: 0.81277 | Train accuracy: 71.20%\n"
     ]
    },
    {
     "name": "stderr",
     "output_type": "stream",
     "text": [
      " 14%|█▎        | 27/200 [05:41<35:46, 12.41s/it]"
     ]
    },
    {
     "name": "stdout",
     "output_type": "stream",
     "text": [
      "Validation loss: 0.87607 | Validation accuracy: 69.08%\n",
      "\n",
      "Epoch 28\n",
      "-------------------------------\n",
      "Train loss: 0.81090 | Train accuracy: 71.03%\n"
     ]
    },
    {
     "name": "stderr",
     "output_type": "stream",
     "text": [
      " 14%|█▍        | 28/200 [05:53<35:34, 12.41s/it]"
     ]
    },
    {
     "name": "stdout",
     "output_type": "stream",
     "text": [
      "Validation loss: 0.86549 | Validation accuracy: 69.32%\n",
      "\n",
      "Epoch 29\n",
      "-------------------------------\n",
      "Train loss: 0.79771 | Train accuracy: 71.62%\n"
     ]
    },
    {
     "name": "stderr",
     "output_type": "stream",
     "text": [
      " 14%|█▍        | 29/200 [06:05<35:24, 12.42s/it]"
     ]
    },
    {
     "name": "stdout",
     "output_type": "stream",
     "text": [
      "Validation loss: 0.86953 | Validation accuracy: 69.69%\n",
      "\n",
      "Epoch 30\n",
      "-------------------------------\n",
      "Train loss: 0.79014 | Train accuracy: 72.00%\n"
     ]
    },
    {
     "name": "stderr",
     "output_type": "stream",
     "text": [
      " 15%|█▌        | 30/200 [06:18<35:08, 12.40s/it]"
     ]
    },
    {
     "name": "stdout",
     "output_type": "stream",
     "text": [
      "Validation loss: 0.85247 | Validation accuracy: 69.83%\n",
      "\n",
      "Epoch 31\n",
      "-------------------------------\n",
      "Train loss: 0.78537 | Train accuracy: 71.91%\n"
     ]
    },
    {
     "name": "stderr",
     "output_type": "stream",
     "text": [
      " 16%|█▌        | 31/200 [06:30<34:54, 12.39s/it]"
     ]
    },
    {
     "name": "stdout",
     "output_type": "stream",
     "text": [
      "Validation loss: 0.85370 | Validation accuracy: 70.03%\n",
      "\n",
      "Epoch 32\n",
      "-------------------------------\n",
      "Train loss: 0.77640 | Train accuracy: 72.55%\n"
     ]
    },
    {
     "name": "stderr",
     "output_type": "stream",
     "text": [
      " 16%|█▌        | 32/200 [06:42<34:41, 12.39s/it]"
     ]
    },
    {
     "name": "stdout",
     "output_type": "stream",
     "text": [
      "Validation loss: 0.85773 | Validation accuracy: 69.43%\n",
      "\n",
      "Epoch 33\n",
      "-------------------------------\n",
      "Train loss: 0.76971 | Train accuracy: 72.66%\n"
     ]
    },
    {
     "name": "stderr",
     "output_type": "stream",
     "text": [
      " 16%|█▋        | 33/200 [06:55<34:29, 12.39s/it]"
     ]
    },
    {
     "name": "stdout",
     "output_type": "stream",
     "text": [
      "Validation loss: 0.83902 | Validation accuracy: 70.42%\n",
      "\n",
      "Epoch 34\n",
      "-------------------------------\n",
      "Train loss: 0.75208 | Train accuracy: 73.24%\n"
     ]
    },
    {
     "name": "stderr",
     "output_type": "stream",
     "text": [
      " 17%|█▋        | 34/200 [07:07<34:12, 12.37s/it]"
     ]
    },
    {
     "name": "stdout",
     "output_type": "stream",
     "text": [
      "Validation loss: 0.83859 | Validation accuracy: 70.57%\n",
      "\n",
      "Epoch 35\n",
      "-------------------------------\n",
      "Train loss: 0.74489 | Train accuracy: 73.49%\n"
     ]
    },
    {
     "name": "stderr",
     "output_type": "stream",
     "text": [
      " 18%|█▊        | 35/200 [07:20<34:04, 12.39s/it]"
     ]
    },
    {
     "name": "stdout",
     "output_type": "stream",
     "text": [
      "Validation loss: 0.82683 | Validation accuracy: 70.66%\n",
      "\n",
      "Epoch 36\n",
      "-------------------------------\n",
      "Train loss: 0.73931 | Train accuracy: 73.82%\n"
     ]
    },
    {
     "name": "stderr",
     "output_type": "stream",
     "text": [
      " 18%|█▊        | 36/200 [07:32<33:57, 12.42s/it]"
     ]
    },
    {
     "name": "stdout",
     "output_type": "stream",
     "text": [
      "Validation loss: 0.82025 | Validation accuracy: 71.12%\n",
      "\n",
      "Epoch 37\n",
      "-------------------------------\n",
      "Train loss: 0.73447 | Train accuracy: 73.94%\n"
     ]
    },
    {
     "name": "stderr",
     "output_type": "stream",
     "text": [
      " 18%|█▊        | 37/200 [07:45<33:48, 12.45s/it]"
     ]
    },
    {
     "name": "stdout",
     "output_type": "stream",
     "text": [
      "Validation loss: 0.83003 | Validation accuracy: 70.52%\n",
      "\n",
      "Epoch 38\n",
      "-------------------------------\n",
      "Train loss: 0.73086 | Train accuracy: 73.65%\n"
     ]
    },
    {
     "name": "stderr",
     "output_type": "stream",
     "text": [
      " 19%|█▉        | 38/200 [07:57<33:40, 12.47s/it]"
     ]
    },
    {
     "name": "stdout",
     "output_type": "stream",
     "text": [
      "Validation loss: 0.81736 | Validation accuracy: 71.39%\n",
      "\n",
      "Epoch 39\n",
      "-------------------------------\n",
      "Train loss: 0.72806 | Train accuracy: 74.03%\n"
     ]
    },
    {
     "name": "stderr",
     "output_type": "stream",
     "text": [
      " 20%|█▉        | 39/200 [08:10<33:26, 12.46s/it]"
     ]
    },
    {
     "name": "stdout",
     "output_type": "stream",
     "text": [
      "Validation loss: 0.81405 | Validation accuracy: 71.45%\n",
      "\n",
      "Epoch 40\n",
      "-------------------------------\n",
      "Train loss: 0.71966 | Train accuracy: 74.52%\n"
     ]
    },
    {
     "name": "stderr",
     "output_type": "stream",
     "text": [
      " 20%|██        | 40/200 [08:22<33:11, 12.44s/it]"
     ]
    },
    {
     "name": "stdout",
     "output_type": "stream",
     "text": [
      "Validation loss: 0.80864 | Validation accuracy: 71.38%\n",
      "\n",
      "Epoch 41\n",
      "-------------------------------\n",
      "Train loss: 0.71803 | Train accuracy: 74.61%\n"
     ]
    },
    {
     "name": "stderr",
     "output_type": "stream",
     "text": [
      " 20%|██        | 41/200 [08:34<32:57, 12.44s/it]"
     ]
    },
    {
     "name": "stdout",
     "output_type": "stream",
     "text": [
      "Validation loss: 0.80400 | Validation accuracy: 71.71%\n",
      "\n",
      "Epoch 42\n",
      "-------------------------------\n",
      "Train loss: 0.71473 | Train accuracy: 74.39%\n"
     ]
    },
    {
     "name": "stderr",
     "output_type": "stream",
     "text": [
      " 21%|██        | 42/200 [08:47<32:46, 12.45s/it]"
     ]
    },
    {
     "name": "stdout",
     "output_type": "stream",
     "text": [
      "Validation loss: 0.80818 | Validation accuracy: 71.70%\n",
      "\n",
      "Epoch 43\n",
      "-------------------------------\n",
      "Train loss: 0.70037 | Train accuracy: 74.89%\n"
     ]
    },
    {
     "name": "stderr",
     "output_type": "stream",
     "text": [
      " 22%|██▏       | 43/200 [08:59<32:32, 12.43s/it]"
     ]
    },
    {
     "name": "stdout",
     "output_type": "stream",
     "text": [
      "Validation loss: 0.78975 | Validation accuracy: 72.19%\n",
      "\n",
      "Epoch 44\n",
      "-------------------------------\n",
      "Train loss: 0.69888 | Train accuracy: 75.17%\n"
     ]
    },
    {
     "name": "stderr",
     "output_type": "stream",
     "text": [
      " 22%|██▏       | 44/200 [09:12<32:26, 12.48s/it]"
     ]
    },
    {
     "name": "stdout",
     "output_type": "stream",
     "text": [
      "Validation loss: 0.78800 | Validation accuracy: 72.26%\n",
      "\n",
      "Epoch 45\n",
      "-------------------------------\n",
      "Train loss: 0.69598 | Train accuracy: 75.34%\n"
     ]
    },
    {
     "name": "stderr",
     "output_type": "stream",
     "text": [
      " 22%|██▎       | 45/200 [09:24<32:07, 12.44s/it]"
     ]
    },
    {
     "name": "stdout",
     "output_type": "stream",
     "text": [
      "Validation loss: 0.78851 | Validation accuracy: 72.14%\n",
      "\n",
      "Epoch 46\n",
      "-------------------------------\n",
      "Train loss: 0.69505 | Train accuracy: 75.36%\n"
     ]
    },
    {
     "name": "stderr",
     "output_type": "stream",
     "text": [
      " 23%|██▎       | 46/200 [09:37<31:56, 12.45s/it]"
     ]
    },
    {
     "name": "stdout",
     "output_type": "stream",
     "text": [
      "Validation loss: 0.80765 | Validation accuracy: 72.26%\n",
      "\n",
      "Epoch 47\n",
      "-------------------------------\n",
      "Train loss: 0.69800 | Train accuracy: 75.13%\n"
     ]
    },
    {
     "name": "stderr",
     "output_type": "stream",
     "text": [
      " 24%|██▎       | 47/200 [09:49<31:43, 12.44s/it]"
     ]
    },
    {
     "name": "stdout",
     "output_type": "stream",
     "text": [
      "Validation loss: 0.79027 | Validation accuracy: 72.52%\n",
      "\n",
      "Epoch 48\n",
      "-------------------------------\n",
      "Train loss: 0.69399 | Train accuracy: 75.31%\n"
     ]
    },
    {
     "name": "stderr",
     "output_type": "stream",
     "text": [
      " 24%|██▍       | 48/200 [10:02<31:33, 12.45s/it]"
     ]
    },
    {
     "name": "stdout",
     "output_type": "stream",
     "text": [
      "Validation loss: 0.79666 | Validation accuracy: 71.95%\n",
      "\n",
      "Epoch 49\n",
      "-------------------------------\n",
      "Train loss: 0.68768 | Train accuracy: 75.43%\n"
     ]
    },
    {
     "name": "stderr",
     "output_type": "stream",
     "text": [
      " 24%|██▍       | 49/200 [10:14<31:16, 12.43s/it]"
     ]
    },
    {
     "name": "stdout",
     "output_type": "stream",
     "text": [
      "Validation loss: 0.79093 | Validation accuracy: 72.04%\n",
      "\n",
      "Epoch 50\n",
      "-------------------------------\n",
      "Train loss: 0.68596 | Train accuracy: 75.70%\n"
     ]
    },
    {
     "name": "stderr",
     "output_type": "stream",
     "text": [
      " 25%|██▌       | 50/200 [10:26<30:58, 12.39s/it]"
     ]
    },
    {
     "name": "stdout",
     "output_type": "stream",
     "text": [
      "Validation loss: 0.77398 | Validation accuracy: 72.74%\n",
      "\n",
      "Epoch 51\n",
      "-------------------------------\n",
      "Train loss: 0.68697 | Train accuracy: 75.34%\n"
     ]
    },
    {
     "name": "stderr",
     "output_type": "stream",
     "text": [
      " 26%|██▌       | 51/200 [10:39<30:42, 12.36s/it]"
     ]
    },
    {
     "name": "stdout",
     "output_type": "stream",
     "text": [
      "Validation loss: 0.77653 | Validation accuracy: 72.38%\n",
      "\n",
      "Epoch 52\n",
      "-------------------------------\n",
      "Train loss: 0.67823 | Train accuracy: 75.81%\n"
     ]
    },
    {
     "name": "stderr",
     "output_type": "stream",
     "text": [
      " 26%|██▌       | 52/200 [10:51<30:27, 12.35s/it]"
     ]
    },
    {
     "name": "stdout",
     "output_type": "stream",
     "text": [
      "Validation loss: 0.77705 | Validation accuracy: 72.60%\n",
      "\n",
      "Epoch 53\n",
      "-------------------------------\n",
      "Train loss: 0.67777 | Train accuracy: 75.88%\n"
     ]
    },
    {
     "name": "stderr",
     "output_type": "stream",
     "text": [
      " 26%|██▋       | 53/200 [11:03<30:14, 12.35s/it]"
     ]
    },
    {
     "name": "stdout",
     "output_type": "stream",
     "text": [
      "Validation loss: 0.78180 | Validation accuracy: 72.90%\n",
      "\n",
      "Epoch 54\n",
      "-------------------------------\n",
      "Train loss: 0.67987 | Train accuracy: 75.82%\n"
     ]
    },
    {
     "name": "stderr",
     "output_type": "stream",
     "text": [
      " 27%|██▋       | 54/200 [11:16<30:02, 12.35s/it]"
     ]
    },
    {
     "name": "stdout",
     "output_type": "stream",
     "text": [
      "Validation loss: 0.77326 | Validation accuracy: 72.86%\n",
      "\n",
      "Epoch 55\n",
      "-------------------------------\n",
      "Train loss: 0.68112 | Train accuracy: 75.62%\n"
     ]
    },
    {
     "name": "stderr",
     "output_type": "stream",
     "text": [
      " 28%|██▊       | 55/200 [11:28<29:50, 12.35s/it]"
     ]
    },
    {
     "name": "stdout",
     "output_type": "stream",
     "text": [
      "Validation loss: 0.77904 | Validation accuracy: 72.33%\n",
      "\n",
      "Epoch 56\n",
      "-------------------------------\n",
      "Train loss: 0.67469 | Train accuracy: 75.97%\n"
     ]
    },
    {
     "name": "stderr",
     "output_type": "stream",
     "text": [
      " 28%|██▊       | 56/200 [11:40<29:40, 12.36s/it]"
     ]
    },
    {
     "name": "stdout",
     "output_type": "stream",
     "text": [
      "Validation loss: 0.76725 | Validation accuracy: 73.07%\n",
      "\n",
      "Epoch 57\n",
      "-------------------------------\n",
      "Train loss: 0.67279 | Train accuracy: 75.93%\n"
     ]
    },
    {
     "name": "stderr",
     "output_type": "stream",
     "text": [
      " 28%|██▊       | 57/200 [11:53<29:37, 12.43s/it]"
     ]
    },
    {
     "name": "stdout",
     "output_type": "stream",
     "text": [
      "Validation loss: 0.77775 | Validation accuracy: 72.69%\n",
      "\n",
      "Epoch 58\n",
      "-------------------------------\n",
      "Train loss: 0.66867 | Train accuracy: 76.21%\n"
     ]
    },
    {
     "name": "stderr",
     "output_type": "stream",
     "text": [
      " 29%|██▉       | 58/200 [12:05<29:27, 12.45s/it]"
     ]
    },
    {
     "name": "stdout",
     "output_type": "stream",
     "text": [
      "Validation loss: 0.77709 | Validation accuracy: 72.53%\n",
      "\n",
      "Epoch 59\n",
      "-------------------------------\n",
      "Train loss: 0.66479 | Train accuracy: 76.39%\n"
     ]
    },
    {
     "name": "stderr",
     "output_type": "stream",
     "text": [
      " 30%|██▉       | 59/200 [12:18<29:12, 12.43s/it]"
     ]
    },
    {
     "name": "stdout",
     "output_type": "stream",
     "text": [
      "Validation loss: 0.78398 | Validation accuracy: 72.89%\n",
      "\n",
      "Epoch 60\n",
      "-------------------------------\n",
      "Train loss: 0.66756 | Train accuracy: 76.00%\n"
     ]
    },
    {
     "name": "stderr",
     "output_type": "stream",
     "text": [
      " 30%|███       | 60/200 [12:30<28:54, 12.39s/it]"
     ]
    },
    {
     "name": "stdout",
     "output_type": "stream",
     "text": [
      "Validation loss: 0.76794 | Validation accuracy: 73.06%\n",
      "\n",
      "Epoch 61\n",
      "-------------------------------\n",
      "Train loss: 0.67498 | Train accuracy: 75.75%\n"
     ]
    },
    {
     "name": "stderr",
     "output_type": "stream",
     "text": [
      " 30%|███       | 61/200 [12:42<28:33, 12.33s/it]"
     ]
    },
    {
     "name": "stdout",
     "output_type": "stream",
     "text": [
      "Validation loss: 0.76912 | Validation accuracy: 73.48%\n",
      "\n",
      "Epoch 62\n",
      "-------------------------------\n",
      "Train loss: 0.66927 | Train accuracy: 76.19%\n"
     ]
    },
    {
     "name": "stderr",
     "output_type": "stream",
     "text": [
      " 31%|███       | 62/200 [12:55<28:26, 12.36s/it]"
     ]
    },
    {
     "name": "stdout",
     "output_type": "stream",
     "text": [
      "Validation loss: 0.77748 | Validation accuracy: 72.92%\n",
      "\n",
      "Epoch 63\n",
      "-------------------------------\n",
      "Train loss: 0.66611 | Train accuracy: 76.11%\n"
     ]
    },
    {
     "name": "stderr",
     "output_type": "stream",
     "text": [
      " 32%|███▏      | 63/200 [13:07<28:18, 12.40s/it]"
     ]
    },
    {
     "name": "stdout",
     "output_type": "stream",
     "text": [
      "Validation loss: 0.77320 | Validation accuracy: 72.95%\n",
      "\n",
      "Epoch 64\n",
      "-------------------------------\n",
      "Train loss: 0.66396 | Train accuracy: 76.22%\n"
     ]
    },
    {
     "name": "stderr",
     "output_type": "stream",
     "text": [
      " 32%|███▏      | 64/200 [13:20<28:07, 12.40s/it]"
     ]
    },
    {
     "name": "stdout",
     "output_type": "stream",
     "text": [
      "Validation loss: 0.76522 | Validation accuracy: 73.06%\n",
      "\n",
      "Epoch 65\n",
      "-------------------------------\n",
      "Train loss: 0.65925 | Train accuracy: 76.45%\n"
     ]
    },
    {
     "name": "stderr",
     "output_type": "stream",
     "text": [
      " 32%|███▎      | 65/200 [13:32<27:58, 12.43s/it]"
     ]
    },
    {
     "name": "stdout",
     "output_type": "stream",
     "text": [
      "Validation loss: 0.77545 | Validation accuracy: 72.99%\n",
      "\n",
      "Epoch 66\n",
      "-------------------------------\n",
      "Train loss: 0.66187 | Train accuracy: 76.46%\n"
     ]
    },
    {
     "name": "stderr",
     "output_type": "stream",
     "text": [
      " 33%|███▎      | 66/200 [13:45<27:45, 12.43s/it]"
     ]
    },
    {
     "name": "stdout",
     "output_type": "stream",
     "text": [
      "Validation loss: 0.77897 | Validation accuracy: 73.17%\n",
      "\n",
      "Epoch 67\n",
      "-------------------------------\n",
      "Train loss: 0.66568 | Train accuracy: 76.29%\n"
     ]
    },
    {
     "name": "stderr",
     "output_type": "stream",
     "text": [
      " 34%|███▎      | 67/200 [13:57<27:34, 12.44s/it]"
     ]
    },
    {
     "name": "stdout",
     "output_type": "stream",
     "text": [
      "Validation loss: 0.77155 | Validation accuracy: 72.79%\n",
      "\n",
      "Epoch 68\n",
      "-------------------------------\n",
      "Train loss: 0.65885 | Train accuracy: 76.49%\n"
     ]
    },
    {
     "name": "stderr",
     "output_type": "stream",
     "text": [
      " 34%|███▍      | 68/200 [14:09<27:23, 12.45s/it]"
     ]
    },
    {
     "name": "stdout",
     "output_type": "stream",
     "text": [
      "Validation loss: 0.77755 | Validation accuracy: 72.68%\n",
      "\n",
      "Epoch 69\n",
      "-------------------------------\n",
      "Train loss: 0.66118 | Train accuracy: 76.47%\n"
     ]
    },
    {
     "name": "stderr",
     "output_type": "stream",
     "text": [
      " 34%|███▍      | 69/200 [14:22<27:10, 12.44s/it]"
     ]
    },
    {
     "name": "stdout",
     "output_type": "stream",
     "text": [
      "Validation loss: 0.76945 | Validation accuracy: 73.05%\n",
      "\n",
      "Epoch 70\n",
      "-------------------------------\n",
      "Train loss: 0.66205 | Train accuracy: 76.26%\n"
     ]
    },
    {
     "name": "stderr",
     "output_type": "stream",
     "text": [
      " 35%|███▌      | 70/200 [14:34<26:57, 12.44s/it]"
     ]
    },
    {
     "name": "stdout",
     "output_type": "stream",
     "text": [
      "Validation loss: 0.76514 | Validation accuracy: 73.02%\n",
      "\n",
      "Epoch 71\n",
      "-------------------------------\n",
      "Train loss: 0.66169 | Train accuracy: 76.34%\n"
     ]
    },
    {
     "name": "stderr",
     "output_type": "stream",
     "text": [
      " 35%|███▌      | 70/200 [14:47<27:27, 12.68s/it]"
     ]
    },
    {
     "name": "stdout",
     "output_type": "stream",
     "text": [
      "Validation loss: 0.76953 | Validation accuracy: 73.01%\n",
      "\n",
      "Early stopping at epoch 71\n",
      "Finished training\n"
     ]
    },
    {
     "name": "stderr",
     "output_type": "stream",
     "text": [
      "\n"
     ]
    },
    {
     "name": "stdout",
     "output_type": "stream",
     "text": [
      "CPU times: user 11min 41s, sys: 43.5 s, total: 12min 25s\n",
      "Wall time: 14min 49s\n"
     ]
    },
    {
     "data": {
      "image/png": "[encoded data removed]",
      "text/plain": [
       "<Figure size 640x480 with 1 Axes>"
      ]
     },
     "metadata": {},
     "output_type": "display_data"
    }
   ],
   "source": [
    "%%time\n",
    "model = ResNet(arch=[[2, 64], [2, 128], [2, 256], [2, 512]], num_classes=10, dropout=0.5)\n",
    "loss = nn.CrossEntropyLoss()\n",
    "optimizer = optim.Adam(model.parameters(), lr=0.01)\n",
    "scheduler = torch.optim.lr_scheduler.ReduceLROnPlateau(optimizer, mode='max', factor=0.5, patience=4, verbose=True, cooldown=4)\n",
    "train(model, loss, optimizer, train_dataloader, val_dataloader, scheduler=scheduler,  device=device,\n",
    "      num_epochs=200, early_stopper=EarlyStopper(patience=10, min_delta=0.01))"
   ]
  },
  {
   "cell_type": "markdown",
   "metadata": {},
   "source": [
    "#### 换到resnet34\n",
    "resnet18虽然过拟合得到了控制，但最终结果不好"
   ]
  },
  {
   "cell_type": "code",
   "execution_count": 11,
   "metadata": {},
   "outputs": [
    {
     "name": "stderr",
     "output_type": "stream",
     "text": [
      "  0%|          | 0/200 [00:00<?, ?it/s]"
     ]
    },
    {
     "name": "stdout",
     "output_type": "stream",
     "text": [
      "Epoch 1\n",
      "-------------------------------\n",
      "Train loss: 2.30893 | Train accuracy: 17.34%\n"
     ]
    },
    {
     "name": "stderr",
     "output_type": "stream",
     "text": [
      "  0%|          | 1/200 [00:21<1:10:44, 21.33s/it]"
     ]
    },
    {
     "name": "stdout",
     "output_type": "stream",
     "text": [
      "Validation loss: 1.98387 | Validation accuracy: 27.62%\n",
      "\n",
      "Epoch 2\n",
      "-------------------------------\n",
      "Train loss: 1.90404 | Train accuracy: 29.16%\n"
     ]
    },
    {
     "name": "stderr",
     "output_type": "stream",
     "text": [
      "  1%|          | 2/200 [00:42<1:09:11, 20.97s/it]"
     ]
    },
    {
     "name": "stdout",
     "output_type": "stream",
     "text": [
      "Validation loss: 1.79078 | Validation accuracy: 32.44%\n",
      "\n",
      "Epoch 3\n",
      "-------------------------------\n",
      "Train loss: 1.76671 | Train accuracy: 34.85%\n"
     ]
    },
    {
     "name": "stderr",
     "output_type": "stream",
     "text": [
      "  2%|▏         | 3/200 [01:02<1:08:27, 20.85s/it]"
     ]
    },
    {
     "name": "stdout",
     "output_type": "stream",
     "text": [
      "Validation loss: 1.73850 | Validation accuracy: 36.43%\n",
      "\n",
      "Epoch 4\n",
      "-------------------------------\n",
      "Train loss: 1.65586 | Train accuracy: 38.90%\n"
     ]
    },
    {
     "name": "stderr",
     "output_type": "stream",
     "text": [
      "  2%|▏         | 4/200 [01:23<1:08:07, 20.85s/it]"
     ]
    },
    {
     "name": "stdout",
     "output_type": "stream",
     "text": [
      "Validation loss: 1.61176 | Validation accuracy: 40.45%\n",
      "\n",
      "Epoch 5\n",
      "-------------------------------\n",
      "Train loss: 1.57095 | Train accuracy: 42.28%\n"
     ]
    },
    {
     "name": "stderr",
     "output_type": "stream",
     "text": [
      "  2%|▎         | 5/200 [01:44<1:07:28, 20.76s/it]"
     ]
    },
    {
     "name": "stdout",
     "output_type": "stream",
     "text": [
      "Validation loss: 1.52577 | Validation accuracy: 44.16%\n",
      "\n",
      "Epoch 6\n",
      "-------------------------------\n",
      "Train loss: 1.49531 | Train accuracy: 44.94%\n"
     ]
    },
    {
     "name": "stderr",
     "output_type": "stream",
     "text": [
      "  3%|▎         | 6/200 [02:04<1:07:06, 20.75s/it]"
     ]
    },
    {
     "name": "stdout",
     "output_type": "stream",
     "text": [
      "Validation loss: 1.47766 | Validation accuracy: 46.13%\n",
      "\n",
      "Epoch 7\n",
      "-------------------------------\n",
      "Train loss: 1.43823 | Train accuracy: 47.21%\n"
     ]
    },
    {
     "name": "stderr",
     "output_type": "stream",
     "text": [
      "  4%|▎         | 7/200 [02:25<1:06:34, 20.70s/it]"
     ]
    },
    {
     "name": "stdout",
     "output_type": "stream",
     "text": [
      "Validation loss: 1.45007 | Validation accuracy: 47.11%\n",
      "\n",
      "Epoch 8\n",
      "-------------------------------\n",
      "Train loss: 1.38281 | Train accuracy: 49.36%\n"
     ]
    },
    {
     "name": "stderr",
     "output_type": "stream",
     "text": [
      "  4%|▍         | 8/200 [02:46<1:06:26, 20.76s/it]"
     ]
    },
    {
     "name": "stdout",
     "output_type": "stream",
     "text": [
      "Validation loss: 1.34411 | Validation accuracy: 51.82%\n",
      "\n",
      "Epoch 9\n",
      "-------------------------------\n",
      "Train loss: 1.34216 | Train accuracy: 51.24%\n"
     ]
    },
    {
     "name": "stderr",
     "output_type": "stream",
     "text": [
      "  4%|▍         | 9/200 [03:07<1:06:00, 20.74s/it]"
     ]
    },
    {
     "name": "stdout",
     "output_type": "stream",
     "text": [
      "Validation loss: 1.30856 | Validation accuracy: 52.17%\n",
      "\n",
      "Epoch 10\n",
      "-------------------------------\n",
      "Train loss: 1.29780 | Train accuracy: 53.01%\n"
     ]
    },
    {
     "name": "stderr",
     "output_type": "stream",
     "text": [
      "  5%|▌         | 10/200 [03:27<1:05:37, 20.73s/it]"
     ]
    },
    {
     "name": "stdout",
     "output_type": "stream",
     "text": [
      "Validation loss: 1.24639 | Validation accuracy: 55.51%\n",
      "\n",
      "Epoch 11\n",
      "-------------------------------\n",
      "Train loss: 1.25930 | Train accuracy: 54.57%\n"
     ]
    },
    {
     "name": "stderr",
     "output_type": "stream",
     "text": [
      "  6%|▌         | 11/200 [03:48<1:05:15, 20.72s/it]"
     ]
    },
    {
     "name": "stdout",
     "output_type": "stream",
     "text": [
      "Validation loss: 1.24287 | Validation accuracy: 56.02%\n",
      "\n",
      "Epoch 12\n",
      "-------------------------------\n",
      "Train loss: 1.21649 | Train accuracy: 56.10%\n"
     ]
    },
    {
     "name": "stderr",
     "output_type": "stream",
     "text": [
      "  6%|▌         | 12/200 [04:09<1:04:49, 20.69s/it]"
     ]
    },
    {
     "name": "stdout",
     "output_type": "stream",
     "text": [
      "Validation loss: 1.21956 | Validation accuracy: 55.96%\n",
      "\n",
      "Epoch 13\n",
      "-------------------------------\n",
      "Train loss: 1.18118 | Train accuracy: 57.43%\n"
     ]
    },
    {
     "name": "stderr",
     "output_type": "stream",
     "text": [
      "  6%|▋         | 13/200 [04:29<1:04:28, 20.69s/it]"
     ]
    },
    {
     "name": "stdout",
     "output_type": "stream",
     "text": [
      "Validation loss: 1.16522 | Validation accuracy: 58.03%\n",
      "\n",
      "Epoch 14\n",
      "-------------------------------\n",
      "Train loss: 1.15060 | Train accuracy: 58.79%\n"
     ]
    },
    {
     "name": "stderr",
     "output_type": "stream",
     "text": [
      "  7%|▋         | 14/200 [04:50<1:04:22, 20.77s/it]"
     ]
    },
    {
     "name": "stdout",
     "output_type": "stream",
     "text": [
      "Validation loss: 1.13655 | Validation accuracy: 58.81%\n",
      "\n",
      "Epoch 15\n",
      "-------------------------------\n",
      "Train loss: 1.11612 | Train accuracy: 60.13%\n"
     ]
    },
    {
     "name": "stderr",
     "output_type": "stream",
     "text": [
      "  8%|▊         | 15/200 [05:12<1:04:39, 20.97s/it]"
     ]
    },
    {
     "name": "stdout",
     "output_type": "stream",
     "text": [
      "Validation loss: 1.09938 | Validation accuracy: 60.96%\n",
      "\n",
      "Epoch 16\n",
      "-------------------------------\n",
      "Train loss: 1.08908 | Train accuracy: 61.36%\n"
     ]
    },
    {
     "name": "stderr",
     "output_type": "stream",
     "text": [
      "  8%|▊         | 16/200 [05:34<1:05:07, 21.23s/it]"
     ]
    },
    {
     "name": "stdout",
     "output_type": "stream",
     "text": [
      "Validation loss: 1.12337 | Validation accuracy: 60.92%\n",
      "\n",
      "Epoch 17\n",
      "-------------------------------\n",
      "Train loss: 1.06682 | Train accuracy: 62.04%\n"
     ]
    },
    {
     "name": "stderr",
     "output_type": "stream",
     "text": [
      "  8%|▊         | 17/200 [05:55<1:04:32, 21.16s/it]"
     ]
    },
    {
     "name": "stdout",
     "output_type": "stream",
     "text": [
      "Validation loss: 1.05957 | Validation accuracy: 61.97%\n",
      "\n",
      "Epoch 18\n",
      "-------------------------------\n",
      "Train loss: 1.04323 | Train accuracy: 63.03%\n"
     ]
    },
    {
     "name": "stderr",
     "output_type": "stream",
     "text": [
      "  9%|▉         | 18/200 [06:15<1:03:55, 21.07s/it]"
     ]
    },
    {
     "name": "stdout",
     "output_type": "stream",
     "text": [
      "Validation loss: 1.06244 | Validation accuracy: 62.17%\n",
      "\n",
      "Epoch 19\n",
      "-------------------------------\n",
      "Train loss: 1.02303 | Train accuracy: 63.72%\n"
     ]
    },
    {
     "name": "stderr",
     "output_type": "stream",
     "text": [
      " 10%|▉         | 19/200 [06:36<1:03:18, 20.99s/it]"
     ]
    },
    {
     "name": "stdout",
     "output_type": "stream",
     "text": [
      "Validation loss: 1.03578 | Validation accuracy: 63.95%\n",
      "\n",
      "Epoch 20\n",
      "-------------------------------\n",
      "Train loss: 1.00178 | Train accuracy: 64.53%\n"
     ]
    },
    {
     "name": "stderr",
     "output_type": "stream",
     "text": [
      " 10%|█         | 20/200 [06:57<1:02:49, 20.94s/it]"
     ]
    },
    {
     "name": "stdout",
     "output_type": "stream",
     "text": [
      "Validation loss: 1.01044 | Validation accuracy: 64.12%\n",
      "\n",
      "Epoch 21\n",
      "-------------------------------\n",
      "Train loss: 0.98476 | Train accuracy: 65.09%\n"
     ]
    },
    {
     "name": "stderr",
     "output_type": "stream",
     "text": [
      " 10%|█         | 21/200 [07:18<1:02:05, 20.81s/it]"
     ]
    },
    {
     "name": "stdout",
     "output_type": "stream",
     "text": [
      "Validation loss: 1.00489 | Validation accuracy: 65.10%\n",
      "\n",
      "Epoch 22\n",
      "-------------------------------\n",
      "Train loss: 0.96254 | Train accuracy: 65.76%\n"
     ]
    },
    {
     "name": "stderr",
     "output_type": "stream",
     "text": [
      " 11%|█         | 22/200 [07:38<1:01:38, 20.78s/it]"
     ]
    },
    {
     "name": "stdout",
     "output_type": "stream",
     "text": [
      "Validation loss: 0.94886 | Validation accuracy: 65.59%\n",
      "\n",
      "Epoch 23\n",
      "-------------------------------\n",
      "Train loss: 0.95225 | Train accuracy: 66.24%\n"
     ]
    },
    {
     "name": "stderr",
     "output_type": "stream",
     "text": [
      " 12%|█▏        | 23/200 [07:59<1:01:12, 20.75s/it]"
     ]
    },
    {
     "name": "stdout",
     "output_type": "stream",
     "text": [
      "Validation loss: 0.95872 | Validation accuracy: 66.25%\n",
      "\n",
      "Epoch 24\n",
      "-------------------------------\n",
      "Train loss: 0.93168 | Train accuracy: 67.11%\n"
     ]
    },
    {
     "name": "stderr",
     "output_type": "stream",
     "text": [
      " 12%|█▏        | 24/200 [08:19<1:00:40, 20.68s/it]"
     ]
    },
    {
     "name": "stdout",
     "output_type": "stream",
     "text": [
      "Validation loss: 0.93313 | Validation accuracy: 67.68%\n",
      "\n",
      "Epoch 25\n",
      "-------------------------------\n",
      "Train loss: 0.92118 | Train accuracy: 67.66%\n"
     ]
    },
    {
     "name": "stderr",
     "output_type": "stream",
     "text": [
      " 12%|█▎        | 25/200 [08:40<1:00:11, 20.64s/it]"
     ]
    },
    {
     "name": "stdout",
     "output_type": "stream",
     "text": [
      "Validation loss: 0.95319 | Validation accuracy: 66.64%\n",
      "\n",
      "Epoch 26\n",
      "-------------------------------\n",
      "Train loss: 0.90285 | Train accuracy: 67.91%\n"
     ]
    },
    {
     "name": "stderr",
     "output_type": "stream",
     "text": [
      " 13%|█▎        | 26/200 [09:00<59:34, 20.54s/it]  "
     ]
    },
    {
     "name": "stdout",
     "output_type": "stream",
     "text": [
      "Validation loss: 0.90604 | Validation accuracy: 68.22%\n",
      "\n",
      "Epoch 27\n",
      "-------------------------------\n",
      "Train loss: 0.89377 | Train accuracy: 68.77%\n"
     ]
    },
    {
     "name": "stderr",
     "output_type": "stream",
     "text": [
      " 14%|█▎        | 27/200 [09:21<59:23, 20.60s/it]"
     ]
    },
    {
     "name": "stdout",
     "output_type": "stream",
     "text": [
      "Validation loss: 0.90095 | Validation accuracy: 68.03%\n",
      "\n",
      "Epoch 28\n",
      "-------------------------------\n",
      "Train loss: 0.88383 | Train accuracy: 69.06%\n"
     ]
    },
    {
     "name": "stderr",
     "output_type": "stream",
     "text": [
      " 14%|█▍        | 28/200 [09:42<58:56, 20.56s/it]"
     ]
    },
    {
     "name": "stdout",
     "output_type": "stream",
     "text": [
      "Validation loss: 0.88687 | Validation accuracy: 68.75%\n",
      "\n",
      "Epoch 29\n",
      "-------------------------------\n",
      "Train loss: 0.86579 | Train accuracy: 69.68%\n"
     ]
    },
    {
     "name": "stderr",
     "output_type": "stream",
     "text": [
      " 14%|█▍        | 29/200 [10:02<58:33, 20.54s/it]"
     ]
    },
    {
     "name": "stdout",
     "output_type": "stream",
     "text": [
      "Validation loss: 0.88415 | Validation accuracy: 69.08%\n",
      "\n",
      "Epoch 30\n",
      "-------------------------------\n",
      "Train loss: 0.84901 | Train accuracy: 70.39%\n"
     ]
    },
    {
     "name": "stderr",
     "output_type": "stream",
     "text": [
      " 15%|█▌        | 30/200 [10:23<58:17, 20.57s/it]"
     ]
    },
    {
     "name": "stdout",
     "output_type": "stream",
     "text": [
      "Validation loss: 0.87756 | Validation accuracy: 68.95%\n",
      "\n",
      "Epoch 31\n",
      "-------------------------------\n",
      "Train loss: 0.84950 | Train accuracy: 70.45%\n"
     ]
    },
    {
     "name": "stderr",
     "output_type": "stream",
     "text": [
      " 16%|█▌        | 31/200 [10:44<58:16, 20.69s/it]"
     ]
    },
    {
     "name": "stdout",
     "output_type": "stream",
     "text": [
      "Validation loss: 0.86558 | Validation accuracy: 70.49%\n",
      "\n",
      "Epoch 32\n",
      "-------------------------------\n",
      "Train loss: 0.83562 | Train accuracy: 70.72%\n"
     ]
    },
    {
     "name": "stderr",
     "output_type": "stream",
     "text": [
      " 16%|█▌        | 32/200 [11:04<57:55, 20.69s/it]"
     ]
    },
    {
     "name": "stdout",
     "output_type": "stream",
     "text": [
      "Validation loss: 0.85241 | Validation accuracy: 70.31%\n",
      "\n",
      "Epoch 33\n",
      "-------------------------------\n",
      "Train loss: 0.82410 | Train accuracy: 71.03%\n"
     ]
    },
    {
     "name": "stderr",
     "output_type": "stream",
     "text": [
      " 16%|█▋        | 33/200 [11:25<57:20, 20.60s/it]"
     ]
    },
    {
     "name": "stdout",
     "output_type": "stream",
     "text": [
      "Validation loss: 0.83939 | Validation accuracy: 70.98%\n",
      "\n",
      "Epoch 34\n",
      "-------------------------------\n",
      "Train loss: 0.81077 | Train accuracy: 71.60%\n"
     ]
    },
    {
     "name": "stderr",
     "output_type": "stream",
     "text": [
      " 17%|█▋        | 34/200 [11:46<57:12, 20.68s/it]"
     ]
    },
    {
     "name": "stdout",
     "output_type": "stream",
     "text": [
      "Validation loss: 0.82705 | Validation accuracy: 70.62%\n",
      "\n",
      "Epoch 35\n",
      "-------------------------------\n",
      "Train loss: 0.80680 | Train accuracy: 71.88%\n"
     ]
    },
    {
     "name": "stderr",
     "output_type": "stream",
     "text": [
      " 18%|█▊        | 35/200 [12:06<56:40, 20.61s/it]"
     ]
    },
    {
     "name": "stdout",
     "output_type": "stream",
     "text": [
      "Validation loss: 0.86839 | Validation accuracy: 69.82%\n",
      "\n",
      "Epoch 36\n",
      "-------------------------------\n",
      "Train loss: 0.80064 | Train accuracy: 72.05%\n"
     ]
    },
    {
     "name": "stderr",
     "output_type": "stream",
     "text": [
      " 18%|█▊        | 36/200 [12:27<56:26, 20.65s/it]"
     ]
    },
    {
     "name": "stdout",
     "output_type": "stream",
     "text": [
      "Validation loss: 0.83096 | Validation accuracy: 71.37%\n",
      "\n",
      "Epoch 37\n",
      "-------------------------------\n",
      "Train loss: 0.78648 | Train accuracy: 72.47%\n"
     ]
    },
    {
     "name": "stderr",
     "output_type": "stream",
     "text": [
      " 18%|█▊        | 37/200 [12:47<56:10, 20.68s/it]"
     ]
    },
    {
     "name": "stdout",
     "output_type": "stream",
     "text": [
      "Validation loss: 0.79949 | Validation accuracy: 72.17%\n",
      "\n",
      "Epoch 38\n",
      "-------------------------------\n",
      "Train loss: 0.78850 | Train accuracy: 72.51%\n"
     ]
    },
    {
     "name": "stderr",
     "output_type": "stream",
     "text": [
      " 19%|█▉        | 38/200 [13:08<55:35, 20.59s/it]"
     ]
    },
    {
     "name": "stdout",
     "output_type": "stream",
     "text": [
      "Validation loss: 0.81356 | Validation accuracy: 71.88%\n",
      "\n",
      "Epoch 39\n",
      "-------------------------------\n",
      "Train loss: 0.78097 | Train accuracy: 72.90%\n"
     ]
    },
    {
     "name": "stderr",
     "output_type": "stream",
     "text": [
      " 20%|█▉        | 39/200 [13:29<55:22, 20.63s/it]"
     ]
    },
    {
     "name": "stdout",
     "output_type": "stream",
     "text": [
      "Validation loss: 0.79227 | Validation accuracy: 72.62%\n",
      "\n",
      "Epoch 40\n",
      "-------------------------------\n",
      "Train loss: 0.76474 | Train accuracy: 73.49%\n"
     ]
    },
    {
     "name": "stderr",
     "output_type": "stream",
     "text": [
      " 20%|██        | 40/200 [13:49<55:00, 20.63s/it]"
     ]
    },
    {
     "name": "stdout",
     "output_type": "stream",
     "text": [
      "Validation loss: 0.83841 | Validation accuracy: 71.21%\n",
      "\n",
      "Epoch 41\n",
      "-------------------------------\n",
      "Train loss: 0.75946 | Train accuracy: 73.64%\n"
     ]
    },
    {
     "name": "stderr",
     "output_type": "stream",
     "text": [
      " 20%|██        | 41/200 [14:10<54:28, 20.56s/it]"
     ]
    },
    {
     "name": "stdout",
     "output_type": "stream",
     "text": [
      "Validation loss: 0.78941 | Validation accuracy: 72.29%\n",
      "\n",
      "Epoch 42\n",
      "-------------------------------\n",
      "Train loss: 0.75494 | Train accuracy: 73.77%\n"
     ]
    },
    {
     "name": "stderr",
     "output_type": "stream",
     "text": [
      " 21%|██        | 42/200 [14:30<54:06, 20.54s/it]"
     ]
    },
    {
     "name": "stdout",
     "output_type": "stream",
     "text": [
      "Validation loss: 0.77561 | Validation accuracy: 72.48%\n",
      "\n",
      "Epoch 43\n",
      "-------------------------------\n",
      "Train loss: 0.74148 | Train accuracy: 74.19%\n"
     ]
    },
    {
     "name": "stderr",
     "output_type": "stream",
     "text": [
      " 22%|██▏       | 43/200 [14:51<53:46, 20.55s/it]"
     ]
    },
    {
     "name": "stdout",
     "output_type": "stream",
     "text": [
      "Validation loss: 0.77919 | Validation accuracy: 73.18%\n",
      "\n",
      "Epoch 44\n",
      "-------------------------------\n",
      "Train loss: 0.74159 | Train accuracy: 74.40%\n"
     ]
    },
    {
     "name": "stderr",
     "output_type": "stream",
     "text": [
      " 22%|██▏       | 44/200 [15:11<53:00, 20.39s/it]"
     ]
    },
    {
     "name": "stdout",
     "output_type": "stream",
     "text": [
      "Validation loss: 0.75732 | Validation accuracy: 73.77%\n",
      "\n",
      "Epoch 45\n",
      "-------------------------------\n",
      "Train loss: 0.73082 | Train accuracy: 74.62%\n"
     ]
    },
    {
     "name": "stderr",
     "output_type": "stream",
     "text": [
      " 22%|██▎       | 45/200 [15:31<52:25, 20.29s/it]"
     ]
    },
    {
     "name": "stdout",
     "output_type": "stream",
     "text": [
      "Validation loss: 0.75090 | Validation accuracy: 73.96%\n",
      "\n",
      "Epoch 46\n",
      "-------------------------------\n",
      "Train loss: 0.71923 | Train accuracy: 74.90%\n"
     ]
    },
    {
     "name": "stderr",
     "output_type": "stream",
     "text": [
      " 23%|██▎       | 46/200 [15:51<51:56, 20.24s/it]"
     ]
    },
    {
     "name": "stdout",
     "output_type": "stream",
     "text": [
      "Validation loss: 0.75533 | Validation accuracy: 73.89%\n",
      "\n",
      "Epoch 47\n",
      "-------------------------------\n",
      "Train loss: 0.71228 | Train accuracy: 75.37%\n"
     ]
    },
    {
     "name": "stderr",
     "output_type": "stream",
     "text": [
      " 24%|██▎       | 47/200 [16:11<51:23, 20.15s/it]"
     ]
    },
    {
     "name": "stdout",
     "output_type": "stream",
     "text": [
      "Validation loss: 0.72520 | Validation accuracy: 75.08%\n",
      "\n",
      "Epoch 48\n",
      "-------------------------------\n",
      "Train loss: 0.70908 | Train accuracy: 75.44%\n"
     ]
    },
    {
     "name": "stderr",
     "output_type": "stream",
     "text": [
      " 24%|██▍       | 48/200 [16:31<51:00, 20.13s/it]"
     ]
    },
    {
     "name": "stdout",
     "output_type": "stream",
     "text": [
      "Validation loss: 0.75323 | Validation accuracy: 74.34%\n",
      "\n",
      "Epoch 49\n",
      "-------------------------------\n",
      "Train loss: 0.70441 | Train accuracy: 75.60%\n"
     ]
    },
    {
     "name": "stderr",
     "output_type": "stream",
     "text": [
      " 24%|██▍       | 49/200 [16:51<50:43, 20.15s/it]"
     ]
    },
    {
     "name": "stdout",
     "output_type": "stream",
     "text": [
      "Validation loss: 0.75156 | Validation accuracy: 74.75%\n",
      "\n",
      "Epoch 50\n",
      "-------------------------------\n",
      "Train loss: 0.69792 | Train accuracy: 75.94%\n"
     ]
    },
    {
     "name": "stderr",
     "output_type": "stream",
     "text": [
      " 25%|██▌       | 50/200 [17:11<50:12, 20.08s/it]"
     ]
    },
    {
     "name": "stdout",
     "output_type": "stream",
     "text": [
      "Validation loss: 0.71510 | Validation accuracy: 75.25%\n",
      "\n",
      "Epoch 51\n",
      "-------------------------------\n",
      "Train loss: 0.70006 | Train accuracy: 75.85%\n"
     ]
    },
    {
     "name": "stderr",
     "output_type": "stream",
     "text": [
      " 26%|██▌       | 51/200 [17:31<49:48, 20.06s/it]"
     ]
    },
    {
     "name": "stdout",
     "output_type": "stream",
     "text": [
      "Validation loss: 0.75716 | Validation accuracy: 74.63%\n",
      "\n",
      "Epoch 52\n",
      "-------------------------------\n",
      "Train loss: 0.68696 | Train accuracy: 76.17%\n"
     ]
    },
    {
     "name": "stderr",
     "output_type": "stream",
     "text": [
      " 26%|██▌       | 52/200 [17:51<49:23, 20.02s/it]"
     ]
    },
    {
     "name": "stdout",
     "output_type": "stream",
     "text": [
      "Validation loss: 0.73793 | Validation accuracy: 74.79%\n",
      "\n",
      "Epoch 53\n",
      "-------------------------------\n",
      "Train loss: 0.68923 | Train accuracy: 76.17%\n"
     ]
    },
    {
     "name": "stderr",
     "output_type": "stream",
     "text": [
      " 26%|██▋       | 53/200 [18:11<49:02, 20.02s/it]"
     ]
    },
    {
     "name": "stdout",
     "output_type": "stream",
     "text": [
      "Validation loss: 0.71176 | Validation accuracy: 75.70%\n",
      "\n",
      "Epoch 54\n",
      "-------------------------------\n",
      "Train loss: 0.68374 | Train accuracy: 76.41%\n"
     ]
    },
    {
     "name": "stderr",
     "output_type": "stream",
     "text": [
      " 27%|██▋       | 54/200 [18:31<48:41, 20.01s/it]"
     ]
    },
    {
     "name": "stdout",
     "output_type": "stream",
     "text": [
      "Validation loss: 0.70860 | Validation accuracy: 76.27%\n",
      "\n",
      "Epoch 55\n",
      "-------------------------------\n",
      "Train loss: 0.67449 | Train accuracy: 76.57%\n"
     ]
    },
    {
     "name": "stderr",
     "output_type": "stream",
     "text": [
      " 28%|██▊       | 55/200 [18:51<48:28, 20.06s/it]"
     ]
    },
    {
     "name": "stdout",
     "output_type": "stream",
     "text": [
      "Validation loss: 0.72657 | Validation accuracy: 74.88%\n",
      "\n",
      "Epoch 56\n",
      "-------------------------------\n",
      "Train loss: 0.67323 | Train accuracy: 76.98%\n"
     ]
    },
    {
     "name": "stderr",
     "output_type": "stream",
     "text": [
      " 28%|██▊       | 56/200 [19:11<48:06, 20.04s/it]"
     ]
    },
    {
     "name": "stdout",
     "output_type": "stream",
     "text": [
      "Validation loss: 0.69505 | Validation accuracy: 76.80%\n",
      "\n",
      "Epoch 57\n",
      "-------------------------------\n",
      "Train loss: 0.66953 | Train accuracy: 76.94%\n"
     ]
    },
    {
     "name": "stderr",
     "output_type": "stream",
     "text": [
      " 28%|██▊       | 57/200 [19:31<47:48, 20.06s/it]"
     ]
    },
    {
     "name": "stdout",
     "output_type": "stream",
     "text": [
      "Validation loss: 0.70650 | Validation accuracy: 75.51%\n",
      "\n",
      "Epoch 58\n",
      "-------------------------------\n",
      "Train loss: 0.66766 | Train accuracy: 77.05%\n"
     ]
    },
    {
     "name": "stderr",
     "output_type": "stream",
     "text": [
      " 29%|██▉       | 58/200 [19:51<47:27, 20.06s/it]"
     ]
    },
    {
     "name": "stdout",
     "output_type": "stream",
     "text": [
      "Validation loss: 0.72804 | Validation accuracy: 75.00%\n",
      "\n",
      "Epoch 59\n",
      "-------------------------------\n",
      "Train loss: 0.65675 | Train accuracy: 77.72%\n"
     ]
    },
    {
     "name": "stderr",
     "output_type": "stream",
     "text": [
      " 30%|██▉       | 59/200 [20:11<47:09, 20.07s/it]"
     ]
    },
    {
     "name": "stdout",
     "output_type": "stream",
     "text": [
      "Validation loss: 0.71375 | Validation accuracy: 75.72%\n",
      "\n",
      "Epoch 60\n",
      "-------------------------------\n",
      "Train loss: 0.65326 | Train accuracy: 77.58%\n"
     ]
    },
    {
     "name": "stderr",
     "output_type": "stream",
     "text": [
      " 30%|███       | 60/200 [20:31<46:49, 20.07s/it]"
     ]
    },
    {
     "name": "stdout",
     "output_type": "stream",
     "text": [
      "Validation loss: 0.71296 | Validation accuracy: 75.90%\n",
      "\n",
      "Epoch 61\n",
      "-------------------------------\n",
      "Train loss: 0.65235 | Train accuracy: 77.60%\n"
     ]
    },
    {
     "name": "stderr",
     "output_type": "stream",
     "text": [
      " 30%|███       | 61/200 [20:52<46:29, 20.07s/it]"
     ]
    },
    {
     "name": "stdout",
     "output_type": "stream",
     "text": [
      "Validation loss: 0.71954 | Validation accuracy: 75.10%\n",
      "\n",
      "Epoch 62\n",
      "-------------------------------\n",
      "Train loss: 0.65301 | Train accuracy: 77.50%\n"
     ]
    },
    {
     "name": "stderr",
     "output_type": "stream",
     "text": [
      " 31%|███       | 62/200 [21:12<46:09, 20.07s/it]"
     ]
    },
    {
     "name": "stdout",
     "output_type": "stream",
     "text": [
      "Validation loss: 0.70534 | Validation accuracy: 75.76%\n",
      "\n",
      "Epoch 63\n",
      "-------------------------------\n",
      "Train loss: 0.64159 | Train accuracy: 77.81%\n"
     ]
    },
    {
     "name": "stderr",
     "output_type": "stream",
     "text": [
      " 32%|███▏      | 63/200 [21:32<45:44, 20.03s/it]"
     ]
    },
    {
     "name": "stdout",
     "output_type": "stream",
     "text": [
      "Validation loss: 0.66849 | Validation accuracy: 76.89%\n",
      "\n",
      "Epoch 64\n",
      "-------------------------------\n",
      "Train loss: 0.64366 | Train accuracy: 77.77%\n"
     ]
    },
    {
     "name": "stderr",
     "output_type": "stream",
     "text": [
      " 32%|███▏      | 64/200 [21:52<45:27, 20.06s/it]"
     ]
    },
    {
     "name": "stdout",
     "output_type": "stream",
     "text": [
      "Validation loss: 0.69069 | Validation accuracy: 76.17%\n",
      "\n",
      "Epoch 65\n",
      "-------------------------------\n",
      "Train loss: 0.63900 | Train accuracy: 78.03%\n"
     ]
    },
    {
     "name": "stderr",
     "output_type": "stream",
     "text": [
      " 32%|███▎      | 65/200 [22:12<45:08, 20.06s/it]"
     ]
    },
    {
     "name": "stdout",
     "output_type": "stream",
     "text": [
      "Validation loss: 0.68417 | Validation accuracy: 77.25%\n",
      "\n",
      "Epoch 66\n",
      "-------------------------------\n",
      "Train loss: 0.63549 | Train accuracy: 78.23%\n"
     ]
    },
    {
     "name": "stderr",
     "output_type": "stream",
     "text": [
      " 33%|███▎      | 66/200 [22:32<44:52, 20.09s/it]"
     ]
    },
    {
     "name": "stdout",
     "output_type": "stream",
     "text": [
      "Validation loss: 0.67936 | Validation accuracy: 76.91%\n",
      "\n",
      "Epoch 67\n",
      "-------------------------------\n",
      "Train loss: 0.63091 | Train accuracy: 78.40%\n"
     ]
    },
    {
     "name": "stderr",
     "output_type": "stream",
     "text": [
      " 34%|███▎      | 67/200 [22:52<44:27, 20.06s/it]"
     ]
    },
    {
     "name": "stdout",
     "output_type": "stream",
     "text": [
      "Validation loss: 0.70464 | Validation accuracy: 76.52%\n",
      "\n",
      "Epoch 68\n",
      "-------------------------------\n",
      "Train loss: 0.62660 | Train accuracy: 78.29%\n"
     ]
    },
    {
     "name": "stderr",
     "output_type": "stream",
     "text": [
      " 34%|███▍      | 68/200 [23:12<44:05, 20.04s/it]"
     ]
    },
    {
     "name": "stdout",
     "output_type": "stream",
     "text": [
      "Validation loss: 0.66836 | Validation accuracy: 77.25%\n",
      "\n",
      "Epoch 69\n",
      "-------------------------------\n",
      "Train loss: 0.62158 | Train accuracy: 78.72%\n"
     ]
    },
    {
     "name": "stderr",
     "output_type": "stream",
     "text": [
      " 34%|███▍      | 69/200 [23:32<43:47, 20.06s/it]"
     ]
    },
    {
     "name": "stdout",
     "output_type": "stream",
     "text": [
      "Validation loss: 0.65157 | Validation accuracy: 77.77%\n",
      "\n",
      "Epoch 70\n",
      "-------------------------------\n",
      "Train loss: 0.62639 | Train accuracy: 78.55%\n"
     ]
    },
    {
     "name": "stderr",
     "output_type": "stream",
     "text": [
      " 35%|███▌      | 70/200 [23:52<43:28, 20.06s/it]"
     ]
    },
    {
     "name": "stdout",
     "output_type": "stream",
     "text": [
      "Validation loss: 0.69047 | Validation accuracy: 76.29%\n",
      "\n",
      "Epoch 71\n",
      "-------------------------------\n",
      "Train loss: 0.62603 | Train accuracy: 78.47%\n"
     ]
    },
    {
     "name": "stderr",
     "output_type": "stream",
     "text": [
      " 36%|███▌      | 71/200 [24:12<43:06, 20.05s/it]"
     ]
    },
    {
     "name": "stdout",
     "output_type": "stream",
     "text": [
      "Validation loss: 0.64786 | Validation accuracy: 78.54%\n",
      "\n",
      "Epoch 72\n",
      "-------------------------------\n",
      "Train loss: 0.62122 | Train accuracy: 78.76%\n"
     ]
    },
    {
     "name": "stderr",
     "output_type": "stream",
     "text": [
      " 36%|███▌      | 72/200 [24:32<42:43, 20.03s/it]"
     ]
    },
    {
     "name": "stdout",
     "output_type": "stream",
     "text": [
      "Validation loss: 0.69321 | Validation accuracy: 77.23%\n",
      "\n",
      "Epoch 73\n",
      "-------------------------------\n",
      "Train loss: 0.61165 | Train accuracy: 79.06%\n"
     ]
    },
    {
     "name": "stderr",
     "output_type": "stream",
     "text": [
      " 36%|███▋      | 73/200 [24:52<42:35, 20.12s/it]"
     ]
    },
    {
     "name": "stdout",
     "output_type": "stream",
     "text": [
      "Validation loss: 0.63976 | Validation accuracy: 77.91%\n",
      "\n",
      "Epoch 74\n",
      "-------------------------------\n",
      "Train loss: 0.61009 | Train accuracy: 78.79%\n"
     ]
    },
    {
     "name": "stderr",
     "output_type": "stream",
     "text": [
      " 37%|███▋      | 74/200 [25:12<42:13, 20.11s/it]"
     ]
    },
    {
     "name": "stdout",
     "output_type": "stream",
     "text": [
      "Validation loss: 0.66028 | Validation accuracy: 77.56%\n",
      "\n",
      "Epoch 75\n",
      "-------------------------------\n",
      "Train loss: 0.61171 | Train accuracy: 78.95%\n"
     ]
    },
    {
     "name": "stderr",
     "output_type": "stream",
     "text": [
      " 38%|███▊      | 75/200 [25:33<41:51, 20.09s/it]"
     ]
    },
    {
     "name": "stdout",
     "output_type": "stream",
     "text": [
      "Validation loss: 0.65990 | Validation accuracy: 77.50%\n",
      "\n",
      "Epoch 76\n",
      "-------------------------------\n",
      "Train loss: 0.60883 | Train accuracy: 79.15%\n"
     ]
    },
    {
     "name": "stderr",
     "output_type": "stream",
     "text": [
      " 38%|███▊      | 76/200 [25:53<41:30, 20.08s/it]"
     ]
    },
    {
     "name": "stdout",
     "output_type": "stream",
     "text": [
      "Validation loss: 0.65418 | Validation accuracy: 78.40%\n",
      "\n",
      "Epoch 77\n",
      "-------------------------------\n",
      "Train loss: 0.59607 | Train accuracy: 79.70%\n"
     ]
    },
    {
     "name": "stderr",
     "output_type": "stream",
     "text": [
      " 38%|███▊      | 77/200 [26:13<41:06, 20.06s/it]"
     ]
    },
    {
     "name": "stdout",
     "output_type": "stream",
     "text": [
      "Validation loss: 0.64955 | Validation accuracy: 77.50%\n",
      "\n",
      "Epoch 78\n",
      "-------------------------------\n",
      "Train loss: 0.59838 | Train accuracy: 79.47%\n"
     ]
    },
    {
     "name": "stderr",
     "output_type": "stream",
     "text": [
      " 39%|███▉      | 78/200 [26:33<40:48, 20.07s/it]"
     ]
    },
    {
     "name": "stdout",
     "output_type": "stream",
     "text": [
      "Validation loss: 0.65886 | Validation accuracy: 77.40%\n",
      "\n",
      "Epoch 79\n",
      "-------------------------------\n",
      "Train loss: 0.59929 | Train accuracy: 79.69%\n"
     ]
    },
    {
     "name": "stderr",
     "output_type": "stream",
     "text": [
      " 40%|███▉      | 79/200 [26:53<40:29, 20.08s/it]"
     ]
    },
    {
     "name": "stdout",
     "output_type": "stream",
     "text": [
      "Validation loss: 0.64510 | Validation accuracy: 78.36%\n",
      "\n",
      "Epoch 80\n",
      "-------------------------------\n",
      "Train loss: 0.59848 | Train accuracy: 79.58%\n"
     ]
    },
    {
     "name": "stderr",
     "output_type": "stream",
     "text": [
      " 40%|████      | 80/200 [27:13<40:09, 20.08s/it]"
     ]
    },
    {
     "name": "stdout",
     "output_type": "stream",
     "text": [
      "Validation loss: 0.66348 | Validation accuracy: 77.36%\n",
      "\n",
      "Epoch 81\n",
      "-------------------------------\n",
      "Train loss: 0.58990 | Train accuracy: 79.52%\n"
     ]
    },
    {
     "name": "stderr",
     "output_type": "stream",
     "text": [
      " 40%|████      | 81/200 [27:33<39:47, 20.07s/it]"
     ]
    },
    {
     "name": "stdout",
     "output_type": "stream",
     "text": [
      "Validation loss: 0.64483 | Validation accuracy: 78.57%\n",
      "\n",
      "Epoch 82\n",
      "-------------------------------\n",
      "Train loss: 0.59201 | Train accuracy: 79.82%\n"
     ]
    },
    {
     "name": "stderr",
     "output_type": "stream",
     "text": [
      " 41%|████      | 82/200 [27:53<39:23, 20.03s/it]"
     ]
    },
    {
     "name": "stdout",
     "output_type": "stream",
     "text": [
      "Validation loss: 0.63631 | Validation accuracy: 78.89%\n",
      "\n",
      "Epoch 83\n",
      "-------------------------------\n",
      "Train loss: 0.58697 | Train accuracy: 80.04%\n"
     ]
    },
    {
     "name": "stderr",
     "output_type": "stream",
     "text": [
      " 42%|████▏     | 83/200 [28:13<39:07, 20.07s/it]"
     ]
    },
    {
     "name": "stdout",
     "output_type": "stream",
     "text": [
      "Validation loss: 0.65638 | Validation accuracy: 79.12%\n",
      "\n",
      "Epoch 84\n",
      "-------------------------------\n",
      "Train loss: 0.58742 | Train accuracy: 79.97%\n"
     ]
    },
    {
     "name": "stderr",
     "output_type": "stream",
     "text": [
      " 42%|████▏     | 84/200 [28:33<38:45, 20.05s/it]"
     ]
    },
    {
     "name": "stdout",
     "output_type": "stream",
     "text": [
      "Validation loss: 0.64868 | Validation accuracy: 78.22%\n",
      "\n",
      "Epoch 85\n",
      "-------------------------------\n",
      "Train loss: 0.58308 | Train accuracy: 80.18%\n"
     ]
    },
    {
     "name": "stderr",
     "output_type": "stream",
     "text": [
      " 42%|████▎     | 85/200 [28:53<38:26, 20.06s/it]"
     ]
    },
    {
     "name": "stdout",
     "output_type": "stream",
     "text": [
      "Validation loss: 0.62919 | Validation accuracy: 79.38%\n",
      "\n",
      "Epoch 86\n",
      "-------------------------------\n",
      "Train loss: 0.58472 | Train accuracy: 80.08%\n"
     ]
    },
    {
     "name": "stderr",
     "output_type": "stream",
     "text": [
      " 43%|████▎     | 86/200 [29:13<38:04, 20.04s/it]"
     ]
    },
    {
     "name": "stdout",
     "output_type": "stream",
     "text": [
      "Validation loss: 0.66305 | Validation accuracy: 78.36%\n",
      "\n",
      "Epoch 87\n",
      "-------------------------------\n",
      "Train loss: 0.59182 | Train accuracy: 79.70%\n"
     ]
    },
    {
     "name": "stderr",
     "output_type": "stream",
     "text": [
      " 44%|████▎     | 87/200 [29:33<37:42, 20.02s/it]"
     ]
    },
    {
     "name": "stdout",
     "output_type": "stream",
     "text": [
      "Validation loss: 0.61965 | Validation accuracy: 79.63%\n",
      "\n",
      "Epoch 88\n",
      "-------------------------------\n",
      "Train loss: 0.57742 | Train accuracy: 80.27%\n"
     ]
    },
    {
     "name": "stderr",
     "output_type": "stream",
     "text": [
      " 44%|████▍     | 88/200 [29:53<37:22, 20.02s/it]"
     ]
    },
    {
     "name": "stdout",
     "output_type": "stream",
     "text": [
      "Validation loss: 0.60786 | Validation accuracy: 79.63%\n",
      "\n",
      "Epoch 89\n",
      "-------------------------------\n",
      "Train loss: 0.57172 | Train accuracy: 80.42%\n"
     ]
    },
    {
     "name": "stderr",
     "output_type": "stream",
     "text": [
      " 44%|████▍     | 89/200 [30:13<37:03, 20.03s/it]"
     ]
    },
    {
     "name": "stdout",
     "output_type": "stream",
     "text": [
      "Validation loss: 0.66878 | Validation accuracy: 77.77%\n",
      "\n",
      "Epoch 90\n",
      "-------------------------------\n",
      "Train loss: 0.56393 | Train accuracy: 80.69%\n"
     ]
    },
    {
     "name": "stderr",
     "output_type": "stream",
     "text": [
      " 45%|████▌     | 90/200 [30:33<36:48, 20.08s/it]"
     ]
    },
    {
     "name": "stdout",
     "output_type": "stream",
     "text": [
      "Validation loss: 0.62826 | Validation accuracy: 78.14%\n",
      "\n",
      "Epoch 91\n",
      "-------------------------------\n",
      "Train loss: 0.56494 | Train accuracy: 80.73%\n"
     ]
    },
    {
     "name": "stderr",
     "output_type": "stream",
     "text": [
      " 46%|████▌     | 91/200 [30:54<36:46, 20.24s/it]"
     ]
    },
    {
     "name": "stdout",
     "output_type": "stream",
     "text": [
      "Validation loss: 0.60231 | Validation accuracy: 80.00%\n",
      "\n",
      "Epoch 92\n",
      "-------------------------------\n",
      "Train loss: 0.56389 | Train accuracy: 80.84%\n"
     ]
    },
    {
     "name": "stderr",
     "output_type": "stream",
     "text": [
      " 46%|████▌     | 92/200 [31:15<36:42, 20.39s/it]"
     ]
    },
    {
     "name": "stdout",
     "output_type": "stream",
     "text": [
      "Validation loss: 0.63666 | Validation accuracy: 78.67%\n",
      "\n",
      "Epoch 93\n",
      "-------------------------------\n",
      "Train loss: 0.56343 | Train accuracy: 80.74%\n"
     ]
    },
    {
     "name": "stderr",
     "output_type": "stream",
     "text": [
      " 46%|████▋     | 93/200 [31:36<36:36, 20.53s/it]"
     ]
    },
    {
     "name": "stdout",
     "output_type": "stream",
     "text": [
      "Validation loss: 0.62946 | Validation accuracy: 79.04%\n",
      "\n",
      "Epoch 94\n",
      "-------------------------------\n",
      "Train loss: 0.56598 | Train accuracy: 80.70%\n"
     ]
    },
    {
     "name": "stderr",
     "output_type": "stream",
     "text": [
      " 47%|████▋     | 94/200 [31:56<36:17, 20.54s/it]"
     ]
    },
    {
     "name": "stdout",
     "output_type": "stream",
     "text": [
      "Validation loss: 0.63003 | Validation accuracy: 78.91%\n",
      "\n",
      "Epoch 95\n",
      "-------------------------------\n",
      "Train loss: 0.55926 | Train accuracy: 81.08%\n"
     ]
    },
    {
     "name": "stderr",
     "output_type": "stream",
     "text": [
      " 48%|████▊     | 95/200 [32:17<36:05, 20.62s/it]"
     ]
    },
    {
     "name": "stdout",
     "output_type": "stream",
     "text": [
      "Validation loss: 0.61715 | Validation accuracy: 79.65%\n",
      "\n",
      "Epoch 96\n",
      "-------------------------------\n",
      "Train loss: 0.55876 | Train accuracy: 81.05%\n"
     ]
    },
    {
     "name": "stderr",
     "output_type": "stream",
     "text": [
      " 48%|████▊     | 96/200 [32:38<35:49, 20.67s/it]"
     ]
    },
    {
     "name": "stdout",
     "output_type": "stream",
     "text": [
      "Validation loss: 0.62069 | Validation accuracy: 79.22%\n",
      "\n",
      "Epoch 97\n",
      "-------------------------------\n",
      "Train loss: 0.55957 | Train accuracy: 81.08%\n"
     ]
    },
    {
     "name": "stderr",
     "output_type": "stream",
     "text": [
      " 48%|████▊     | 97/200 [32:58<35:17, 20.56s/it]"
     ]
    },
    {
     "name": "stdout",
     "output_type": "stream",
     "text": [
      "Validation loss: 0.62012 | Validation accuracy: 79.38%\n",
      "\n",
      "Epoch 98\n",
      "-------------------------------\n",
      "Train loss: 0.55857 | Train accuracy: 80.94%\n"
     ]
    },
    {
     "name": "stderr",
     "output_type": "stream",
     "text": [
      " 49%|████▉     | 98/200 [33:18<34:45, 20.45s/it]"
     ]
    },
    {
     "name": "stdout",
     "output_type": "stream",
     "text": [
      "Validation loss: 0.60955 | Validation accuracy: 79.00%\n",
      "\n",
      "Epoch 99\n",
      "-------------------------------\n",
      "Train loss: 0.55514 | Train accuracy: 81.01%\n"
     ]
    },
    {
     "name": "stderr",
     "output_type": "stream",
     "text": [
      " 50%|████▉     | 99/200 [33:38<34:14, 20.35s/it]"
     ]
    },
    {
     "name": "stdout",
     "output_type": "stream",
     "text": [
      "Validation loss: 0.65739 | Validation accuracy: 78.34%\n",
      "\n",
      "Epoch 100\n",
      "-------------------------------\n",
      "Train loss: 0.55558 | Train accuracy: 81.19%\n"
     ]
    },
    {
     "name": "stderr",
     "output_type": "stream",
     "text": [
      " 50%|█████     | 100/200 [33:58<33:44, 20.25s/it]"
     ]
    },
    {
     "name": "stdout",
     "output_type": "stream",
     "text": [
      "Validation loss: 0.60721 | Validation accuracy: 79.90%\n",
      "\n",
      "Epoch 101\n",
      "-------------------------------\n",
      "Train loss: 0.54843 | Train accuracy: 81.32%\n"
     ]
    },
    {
     "name": "stderr",
     "output_type": "stream",
     "text": [
      " 50%|█████     | 100/200 [34:18<34:18, 20.59s/it]"
     ]
    },
    {
     "name": "stdout",
     "output_type": "stream",
     "text": [
      "Validation loss: 0.61166 | Validation accuracy: 79.45%\n",
      "\n",
      "Early stopping at epoch 101\n",
      "Finished training\n"
     ]
    },
    {
     "name": "stderr",
     "output_type": "stream",
     "text": [
      "\n"
     ]
    },
    {
     "name": "stdout",
     "output_type": "stream",
     "text": [
      "CPU times: user 30min 35s, sys: 1min 7s, total: 31min 42s\n",
      "Wall time: 34min 26s\n"
     ]
    },
    {
     "data": {
      "image/png": "[encoded data removed]",
      "text/plain": [
       "<Figure size 640x480 with 1 Axes>"
      ]
     },
     "metadata": {},
     "output_type": "display_data"
    }
   ],
   "source": [
    "%%time\n",
    "model = ResNet(arch=[[3, 64], [4, 128], [6, 256], [3, 512]], num_classes=10, dropout=0.5)\n",
    "loss = nn.CrossEntropyLoss()\n",
    "optimizer = optim.Adam(model.parameters(), lr=0.01)\n",
    "scheduler = torch.optim.lr_scheduler.ReduceLROnPlateau(optimizer, mode='min', factor=0.8, patience=5)\n",
    "train(model, loss, optimizer, train_dataloader, val_dataloader, scheduler=scheduler,  device=device,\n",
    "      num_epochs=200, early_stopper=EarlyStopper(patience=10, min_delta=0.01))"
   ]
  },
  {
   "cell_type": "markdown",
   "metadata": {},
   "source": [
    "### 加入正则化"
   ]
  },
  {
   "cell_type": "code",
   "execution_count": 7,
   "metadata": {},
   "outputs": [
    {
     "name": "stderr",
     "output_type": "stream",
     "text": [
      "/usr/local/lib/python3.11/dist-packages/torch/optim/lr_scheduler.py:28: UserWarning: The verbose parameter is deprecated. Please use get_last_lr() to access the learning rate.\n",
      "  warnings.warn(\"The verbose parameter is deprecated. Please use get_last_lr() \"\n",
      "  0%|          | 0/200 [00:00<?, ?it/s]"
     ]
    },
    {
     "name": "stdout",
     "output_type": "stream",
     "text": [
      "Epoch 1\n",
      "-------------------------------\n",
      "Train loss: 3.33935 | Train accuracy: 10.51%\n"
     ]
    },
    {
     "name": "stderr",
     "output_type": "stream",
     "text": [
      "  0%|          | 1/200 [00:25<1:26:09, 25.98s/it]"
     ]
    },
    {
     "name": "stdout",
     "output_type": "stream",
     "text": [
      "Validation loss: 2.31320 | Validation accuracy: 10.49%\n",
      "\n",
      "Epoch 2\n",
      "-------------------------------\n",
      "Train loss: 2.30631 | Train accuracy: 9.76%\n"
     ]
    },
    {
     "name": "stderr",
     "output_type": "stream",
     "text": [
      "  1%|          | 2/200 [00:44<1:10:28, 21.36s/it]"
     ]
    },
    {
     "name": "stdout",
     "output_type": "stream",
     "text": [
      "Validation loss: 2.30442 | Validation accuracy: 9.73%\n",
      "\n",
      "Epoch 3\n",
      "-------------------------------\n",
      "Train loss: 2.30346 | Train accuracy: 9.75%\n"
     ]
    },
    {
     "name": "stderr",
     "output_type": "stream",
     "text": [
      "  2%|▏         | 3/200 [01:02<1:05:41, 20.01s/it]"
     ]
    },
    {
     "name": "stdout",
     "output_type": "stream",
     "text": [
      "Validation loss: 2.30295 | Validation accuracy: 10.12%\n",
      "\n",
      "Epoch 4\n",
      "-------------------------------\n",
      "Train loss: 2.30327 | Train accuracy: 9.78%\n"
     ]
    },
    {
     "name": "stderr",
     "output_type": "stream",
     "text": [
      "  2%|▏         | 4/200 [01:20<1:03:03, 19.30s/it]"
     ]
    },
    {
     "name": "stdout",
     "output_type": "stream",
     "text": [
      "Validation loss: 2.30336 | Validation accuracy: 10.12%\n",
      "\n",
      "Epoch 5\n",
      "-------------------------------\n",
      "Train loss: 2.28427 | Train accuracy: 11.98%\n"
     ]
    },
    {
     "name": "stderr",
     "output_type": "stream",
     "text": [
      "  2%|▎         | 5/200 [01:38<1:01:25, 18.90s/it]"
     ]
    },
    {
     "name": "stdout",
     "output_type": "stream",
     "text": [
      "Validation loss: 2.19639 | Validation accuracy: 17.81%\n",
      "\n",
      "Epoch 6\n",
      "-------------------------------\n",
      "Train loss: 2.11796 | Train accuracy: 19.18%\n"
     ]
    },
    {
     "name": "stderr",
     "output_type": "stream",
     "text": [
      "  3%|▎         | 6/200 [01:57<1:00:27, 18.70s/it]"
     ]
    },
    {
     "name": "stdout",
     "output_type": "stream",
     "text": [
      "Validation loss: 2.05090 | Validation accuracy: 22.22%\n",
      "\n",
      "Epoch 7\n",
      "-------------------------------\n",
      "Train loss: 2.01351 | Train accuracy: 23.63%\n"
     ]
    },
    {
     "name": "stderr",
     "output_type": "stream",
     "text": [
      "  4%|▎         | 7/200 [02:15<59:53, 18.62s/it]  "
     ]
    },
    {
     "name": "stdout",
     "output_type": "stream",
     "text": [
      "Validation loss: 1.93314 | Validation accuracy: 26.30%\n",
      "\n",
      "Epoch 8\n",
      "-------------------------------\n",
      "Train loss: 1.91153 | Train accuracy: 27.74%\n"
     ]
    },
    {
     "name": "stderr",
     "output_type": "stream",
     "text": [
      "  4%|▍         | 8/200 [02:34<59:20, 18.54s/it]"
     ]
    },
    {
     "name": "stdout",
     "output_type": "stream",
     "text": [
      "Validation loss: 1.86844 | Validation accuracy: 29.01%\n",
      "\n",
      "Epoch 9\n",
      "-------------------------------\n",
      "Train loss: 1.87638 | Train accuracy: 28.90%\n"
     ]
    },
    {
     "name": "stderr",
     "output_type": "stream",
     "text": [
      "  4%|▍         | 9/200 [02:52<58:53, 18.50s/it]"
     ]
    },
    {
     "name": "stdout",
     "output_type": "stream",
     "text": [
      "Validation loss: 1.85990 | Validation accuracy: 29.08%\n",
      "\n",
      "Epoch 10\n",
      "-------------------------------\n",
      "Train loss: 1.82555 | Train accuracy: 30.78%\n"
     ]
    },
    {
     "name": "stderr",
     "output_type": "stream",
     "text": [
      "  5%|▌         | 10/200 [03:11<58:37, 18.52s/it]"
     ]
    },
    {
     "name": "stdout",
     "output_type": "stream",
     "text": [
      "Validation loss: 1.79858 | Validation accuracy: 33.02%\n",
      "\n",
      "Epoch 11\n",
      "-------------------------------\n",
      "Train loss: 1.78994 | Train accuracy: 32.95%\n"
     ]
    },
    {
     "name": "stderr",
     "output_type": "stream",
     "text": [
      "  6%|▌         | 11/200 [03:29<58:05, 18.44s/it]"
     ]
    },
    {
     "name": "stdout",
     "output_type": "stream",
     "text": [
      "Validation loss: 1.80278 | Validation accuracy: 33.16%\n",
      "\n",
      "Epoch 12\n",
      "-------------------------------\n",
      "Train loss: 1.74081 | Train accuracy: 34.85%\n"
     ]
    },
    {
     "name": "stderr",
     "output_type": "stream",
     "text": [
      "  6%|▌         | 12/200 [03:47<57:33, 18.37s/it]"
     ]
    },
    {
     "name": "stdout",
     "output_type": "stream",
     "text": [
      "Validation loss: 1.80684 | Validation accuracy: 32.60%\n",
      "\n",
      "Epoch 13\n",
      "-------------------------------\n",
      "Train loss: 1.69754 | Train accuracy: 36.50%\n"
     ]
    },
    {
     "name": "stderr",
     "output_type": "stream",
     "text": [
      "  6%|▋         | 13/200 [04:05<57:09, 18.34s/it]"
     ]
    },
    {
     "name": "stdout",
     "output_type": "stream",
     "text": [
      "Validation loss: 1.65641 | Validation accuracy: 38.46%\n",
      "\n",
      "Epoch 14\n",
      "-------------------------------\n",
      "Train loss: 1.66646 | Train accuracy: 37.78%\n"
     ]
    },
    {
     "name": "stderr",
     "output_type": "stream",
     "text": [
      "  7%|▋         | 14/200 [04:24<56:52, 18.35s/it]"
     ]
    },
    {
     "name": "stdout",
     "output_type": "stream",
     "text": [
      "Validation loss: 1.61870 | Validation accuracy: 39.29%\n",
      "\n",
      "Epoch 15\n",
      "-------------------------------\n",
      "Train loss: 1.62213 | Train accuracy: 39.46%\n"
     ]
    },
    {
     "name": "stderr",
     "output_type": "stream",
     "text": [
      "  8%|▊         | 15/200 [04:42<56:26, 18.30s/it]"
     ]
    },
    {
     "name": "stdout",
     "output_type": "stream",
     "text": [
      "Validation loss: 1.59270 | Validation accuracy: 39.56%\n",
      "\n",
      "Epoch 16\n",
      "-------------------------------\n",
      "Train loss: 1.56295 | Train accuracy: 41.71%\n"
     ]
    },
    {
     "name": "stderr",
     "output_type": "stream",
     "text": [
      "  8%|▊         | 16/200 [05:00<56:11, 18.32s/it]"
     ]
    },
    {
     "name": "stdout",
     "output_type": "stream",
     "text": [
      "Validation loss: 1.56346 | Validation accuracy: 42.19%\n",
      "\n",
      "Epoch 17\n",
      "-------------------------------\n",
      "Train loss: 1.52856 | Train accuracy: 43.30%\n"
     ]
    },
    {
     "name": "stderr",
     "output_type": "stream",
     "text": [
      "  8%|▊         | 17/200 [05:18<55:44, 18.28s/it]"
     ]
    },
    {
     "name": "stdout",
     "output_type": "stream",
     "text": [
      "Validation loss: 1.49302 | Validation accuracy: 44.94%\n",
      "\n",
      "Epoch 18\n",
      "-------------------------------\n",
      "Train loss: 1.49834 | Train accuracy: 44.42%\n"
     ]
    },
    {
     "name": "stderr",
     "output_type": "stream",
     "text": [
      "  9%|▉         | 18/200 [05:37<55:34, 18.32s/it]"
     ]
    },
    {
     "name": "stdout",
     "output_type": "stream",
     "text": [
      "Validation loss: 1.48506 | Validation accuracy: 44.96%\n",
      "\n",
      "Epoch 19\n",
      "-------------------------------\n",
      "Train loss: 1.49533 | Train accuracy: 44.80%\n"
     ]
    },
    {
     "name": "stderr",
     "output_type": "stream",
     "text": [
      " 10%|▉         | 19/200 [05:55<55:28, 18.39s/it]"
     ]
    },
    {
     "name": "stdout",
     "output_type": "stream",
     "text": [
      "Validation loss: 1.48835 | Validation accuracy: 45.73%\n",
      "\n",
      "Epoch 20\n",
      "-------------------------------\n",
      "Train loss: 1.45048 | Train accuracy: 46.49%\n"
     ]
    },
    {
     "name": "stderr",
     "output_type": "stream",
     "text": [
      " 10%|█         | 20/200 [06:14<55:05, 18.37s/it]"
     ]
    },
    {
     "name": "stdout",
     "output_type": "stream",
     "text": [
      "Validation loss: 1.47039 | Validation accuracy: 46.85%\n",
      "\n",
      "Epoch 21\n",
      "-------------------------------\n",
      "Train loss: 1.42990 | Train accuracy: 47.44%\n"
     ]
    },
    {
     "name": "stderr",
     "output_type": "stream",
     "text": [
      " 10%|█         | 21/200 [06:32<55:04, 18.46s/it]"
     ]
    },
    {
     "name": "stdout",
     "output_type": "stream",
     "text": [
      "Validation loss: 1.42134 | Validation accuracy: 47.68%\n",
      "\n",
      "Epoch 22\n",
      "-------------------------------\n",
      "Train loss: 1.39351 | Train accuracy: 48.57%\n"
     ]
    },
    {
     "name": "stderr",
     "output_type": "stream",
     "text": [
      " 11%|█         | 22/200 [06:51<54:45, 18.46s/it]"
     ]
    },
    {
     "name": "stdout",
     "output_type": "stream",
     "text": [
      "Validation loss: 1.38818 | Validation accuracy: 48.39%\n",
      "\n",
      "Epoch 23\n",
      "-------------------------------\n",
      "Train loss: 1.37570 | Train accuracy: 49.75%\n"
     ]
    },
    {
     "name": "stderr",
     "output_type": "stream",
     "text": [
      " 12%|█▏        | 23/200 [07:09<54:19, 18.42s/it]"
     ]
    },
    {
     "name": "stdout",
     "output_type": "stream",
     "text": [
      "Validation loss: 1.37704 | Validation accuracy: 48.70%\n",
      "\n",
      "Epoch 24\n",
      "-------------------------------\n",
      "Train loss: 1.34176 | Train accuracy: 51.10%\n"
     ]
    },
    {
     "name": "stderr",
     "output_type": "stream",
     "text": [
      " 12%|█▏        | 24/200 [07:28<54:03, 18.43s/it]"
     ]
    },
    {
     "name": "stdout",
     "output_type": "stream",
     "text": [
      "Validation loss: 1.37585 | Validation accuracy: 49.15%\n",
      "\n",
      "Epoch 25\n",
      "-------------------------------\n",
      "Train loss: 1.32816 | Train accuracy: 51.69%\n"
     ]
    },
    {
     "name": "stderr",
     "output_type": "stream",
     "text": [
      " 12%|█▎        | 25/200 [07:46<53:40, 18.40s/it]"
     ]
    },
    {
     "name": "stdout",
     "output_type": "stream",
     "text": [
      "Validation loss: 1.36933 | Validation accuracy: 50.06%\n",
      "\n",
      "Epoch 26\n",
      "-------------------------------\n",
      "Train loss: 1.31051 | Train accuracy: 52.13%\n"
     ]
    },
    {
     "name": "stderr",
     "output_type": "stream",
     "text": [
      " 13%|█▎        | 26/200 [08:04<53:24, 18.41s/it]"
     ]
    },
    {
     "name": "stdout",
     "output_type": "stream",
     "text": [
      "Validation loss: 1.37621 | Validation accuracy: 50.29%\n",
      "\n",
      "Epoch 27\n",
      "-------------------------------\n",
      "Train loss: 1.27287 | Train accuracy: 53.94%\n"
     ]
    },
    {
     "name": "stderr",
     "output_type": "stream",
     "text": [
      " 14%|█▎        | 27/200 [08:23<52:58, 18.37s/it]"
     ]
    },
    {
     "name": "stdout",
     "output_type": "stream",
     "text": [
      "Validation loss: 1.30669 | Validation accuracy: 52.66%\n",
      "\n",
      "Epoch 28\n",
      "-------------------------------\n",
      "Train loss: 1.26611 | Train accuracy: 53.56%\n"
     ]
    },
    {
     "name": "stderr",
     "output_type": "stream",
     "text": [
      " 14%|█▍        | 28/200 [08:41<52:20, 18.26s/it]"
     ]
    },
    {
     "name": "stdout",
     "output_type": "stream",
     "text": [
      "Validation loss: 1.28273 | Validation accuracy: 53.30%\n",
      "\n",
      "Epoch 29\n",
      "-------------------------------\n",
      "Train loss: 1.23048 | Train accuracy: 55.35%\n"
     ]
    },
    {
     "name": "stderr",
     "output_type": "stream",
     "text": [
      " 14%|█▍        | 29/200 [08:59<52:10, 18.30s/it]"
     ]
    },
    {
     "name": "stdout",
     "output_type": "stream",
     "text": [
      "Validation loss: 1.22773 | Validation accuracy: 55.35%\n",
      "\n",
      "Epoch 30\n",
      "-------------------------------\n",
      "Train loss: 1.20996 | Train accuracy: 56.33%\n"
     ]
    },
    {
     "name": "stderr",
     "output_type": "stream",
     "text": [
      " 15%|█▌        | 30/200 [09:17<51:46, 18.27s/it]"
     ]
    },
    {
     "name": "stdout",
     "output_type": "stream",
     "text": [
      "Validation loss: 1.24906 | Validation accuracy: 54.52%\n",
      "\n",
      "Epoch 31\n",
      "-------------------------------\n",
      "Train loss: 1.19611 | Train accuracy: 56.79%\n"
     ]
    },
    {
     "name": "stderr",
     "output_type": "stream",
     "text": [
      " 16%|█▌        | 31/200 [09:35<51:22, 18.24s/it]"
     ]
    },
    {
     "name": "stdout",
     "output_type": "stream",
     "text": [
      "Validation loss: 1.21207 | Validation accuracy: 55.63%\n",
      "\n",
      "Epoch 32\n",
      "-------------------------------\n",
      "Train loss: 1.17564 | Train accuracy: 57.39%\n"
     ]
    },
    {
     "name": "stderr",
     "output_type": "stream",
     "text": [
      " 16%|█▌        | 32/200 [09:54<51:19, 18.33s/it]"
     ]
    },
    {
     "name": "stdout",
     "output_type": "stream",
     "text": [
      "Validation loss: 1.22239 | Validation accuracy: 54.98%\n",
      "\n",
      "Epoch 33\n",
      "-------------------------------\n"
     ]
    },
    {
     "name": "stderr",
     "output_type": "stream",
     "text": [
      " 16%|█▌        | 32/200 [09:59<52:26, 18.73s/it]\n"
     ]
    },
    {
     "ename": "KeyboardInterrupt",
     "evalue": "",
     "output_type": "error",
     "traceback": [
      "\u001b[0;31m---------------------------------------------------------------------------\u001b[0m",
      "\u001b[0;31mKeyboardInterrupt\u001b[0m                         Traceback (most recent call last)",
      "File \u001b[0;32m<timed exec>:6\u001b[0m\n",
      "Cell \u001b[0;32mIn[4], line 100\u001b[0m, in \u001b[0;36mtrain\u001b[0;34m(model, loss, optimizer, train_dataloader, val_dataloader, scheduler, num_epochs, device, early_stopper)\u001b[0m\n\u001b[1;32m     98\u001b[0m \u001b[38;5;28;01mfor\u001b[39;00m epoch \u001b[38;5;129;01min\u001b[39;00m tqdm(\u001b[38;5;28mrange\u001b[39m(num_epochs)):\n\u001b[1;32m     99\u001b[0m     \u001b[38;5;28mprint\u001b[39m(\u001b[38;5;124mf\u001b[39m\u001b[38;5;124m\"\u001b[39m\u001b[38;5;124mEpoch \u001b[39m\u001b[38;5;132;01m{\u001b[39;00mepoch\u001b[38;5;250m \u001b[39m\u001b[38;5;241m+\u001b[39m\u001b[38;5;250m \u001b[39m\u001b[38;5;241m1\u001b[39m\u001b[38;5;132;01m}\u001b[39;00m\u001b[38;5;130;01m\\n\u001b[39;00m\u001b[38;5;124m-------------------------------\u001b[39m\u001b[38;5;124m\"\u001b[39m)\n\u001b[0;32m--> 100\u001b[0m     train_loss, train_acc \u001b[38;5;241m=\u001b[39m \u001b[43mtrain_step\u001b[49m\u001b[43m(\u001b[49m\u001b[43mmodel\u001b[49m\u001b[43m,\u001b[49m\u001b[43m \u001b[49m\u001b[43mtrain_dataloader\u001b[49m\u001b[43m,\u001b[49m\u001b[43m \u001b[49m\u001b[43mloss\u001b[49m\u001b[43m,\u001b[49m\u001b[43m \u001b[49m\u001b[43moptimizer\u001b[49m\u001b[43m,\u001b[49m\u001b[43m \u001b[49m\u001b[43maccuracy_fn\u001b[49m\u001b[43m,\u001b[49m\u001b[43m \u001b[49m\u001b[43mdevice\u001b[49m\u001b[43m)\u001b[49m\n\u001b[1;32m    101\u001b[0m     val_loss, val_acc \u001b[38;5;241m=\u001b[39m val_step(val_dataloader, model, loss, accuracy_fn, device)\n\u001b[1;32m    102\u001b[0m     \u001b[38;5;28;01mtry\u001b[39;00m:\n",
      "Cell \u001b[0;32mIn[4], line 40\u001b[0m, in \u001b[0;36mtrain_step\u001b[0;34m(model, data_loader, loss_fn, optimizer, accuracy_fn, device)\u001b[0m\n\u001b[1;32m     38\u001b[0m loss \u001b[38;5;241m=\u001b[39m loss_fn(y_pred, y)\n\u001b[1;32m     39\u001b[0m train_loss \u001b[38;5;241m+\u001b[39m\u001b[38;5;241m=\u001b[39m loss\n\u001b[0;32m---> 40\u001b[0m train_acc \u001b[38;5;241m+\u001b[39m\u001b[38;5;241m=\u001b[39m \u001b[43maccuracy_fn\u001b[49m\u001b[43m(\u001b[49m\u001b[43my_true\u001b[49m\u001b[38;5;241;43m=\u001b[39;49m\u001b[43my\u001b[49m\u001b[43m,\u001b[49m\n\u001b[1;32m     41\u001b[0m \u001b[43m                         \u001b[49m\u001b[43my_pred\u001b[49m\u001b[38;5;241;43m=\u001b[39;49m\u001b[43my_pred\u001b[49m\u001b[38;5;241;43m.\u001b[39;49m\u001b[43margmax\u001b[49m\u001b[43m(\u001b[49m\u001b[43mdim\u001b[49m\u001b[38;5;241;43m=\u001b[39;49m\u001b[38;5;241;43m1\u001b[39;49m\u001b[43m)\u001b[49m\u001b[43m)\u001b[49m \u001b[38;5;66;03m# Go from logits -> pred labels\u001b[39;00m\n\u001b[1;32m     43\u001b[0m \u001b[38;5;66;03m# 3. Optimizer zero grad\u001b[39;00m\n\u001b[1;32m     44\u001b[0m optimizer\u001b[38;5;241m.\u001b[39mzero_grad()\n",
      "Cell \u001b[0;32mIn[4], line 2\u001b[0m, in \u001b[0;36maccuracy_fn\u001b[0;34m(y_true, y_pred)\u001b[0m\n\u001b[1;32m      1\u001b[0m \u001b[38;5;28;01mdef\u001b[39;00m \u001b[38;5;21maccuracy_fn\u001b[39m(y_true, y_pred):\n\u001b[0;32m----> 2\u001b[0m     correct \u001b[38;5;241m=\u001b[39m \u001b[43mtorch\u001b[49m\u001b[38;5;241;43m.\u001b[39;49m\u001b[43meq\u001b[49m\u001b[43m(\u001b[49m\u001b[43my_true\u001b[49m\u001b[43m,\u001b[49m\u001b[43m \u001b[49m\u001b[43my_pred\u001b[49m\u001b[43m)\u001b[49m\u001b[38;5;241;43m.\u001b[39;49m\u001b[43msum\u001b[49m\u001b[43m(\u001b[49m\u001b[43m)\u001b[49m\u001b[38;5;241;43m.\u001b[39;49m\u001b[43mitem\u001b[49m\u001b[43m(\u001b[49m\u001b[43m)\u001b[49m\n\u001b[1;32m      3\u001b[0m     acc \u001b[38;5;241m=\u001b[39m (correct \u001b[38;5;241m/\u001b[39m \u001b[38;5;28mlen\u001b[39m(y_pred)) \u001b[38;5;241m*\u001b[39m \u001b[38;5;241m100\u001b[39m\n\u001b[1;32m      4\u001b[0m     \u001b[38;5;28;01mreturn\u001b[39;00m acc\n",
      "\u001b[0;31mKeyboardInterrupt\u001b[0m: "
     ]
    }
   ],
   "source": [
    "%%time\n",
    "model = ResNet(arch=[[3, 64], [4, 128], [6, 256], [3, 512]], num_classes=10)\n",
    "loss = nn.CrossEntropyLoss()\n",
    "optimizer = optim.SGD(model.parameters(), lr=0.1, weight_decay=1e-4, momentum=0.9)\n",
    "#scheduler = torch.optim.lr_scheduler.StepLR(optimizer, step_size=5, gamma=0.9, last_epoch=-1)\n",
    "scheduler = torch.optim.lr_scheduler.ReduceLROnPlateau(optimizer, mode='min', factor=0.5, patience=5, verbose=True)\n",
    "train(model, loss, optimizer, train_dataloader, val_dataloader, scheduler=scheduler, \n",
    "      num_epochs=200, device=device, early_stopper=EarlyStopper(patience=10, min_delta=0.01))"
   ]
  },
  {
   "cell_type": "code",
   "execution_count": 11,
   "metadata": {},
   "outputs": [
    {
     "name": "stderr",
     "output_type": "stream",
     "text": [
      "/usr/local/lib/python3.11/dist-packages/torch/optim/lr_scheduler.py:28: UserWarning: The verbose parameter is deprecated. Please use get_last_lr() to access the learning rate.\n",
      "  warnings.warn(\"The verbose parameter is deprecated. Please use get_last_lr() \"\n",
      "  0%|          | 0/200 [00:00<?, ?it/s]"
     ]
    },
    {
     "name": "stdout",
     "output_type": "stream",
     "text": [
      "Epoch 1\n",
      "-------------------------------\n"
     ]
    },
    {
     "name": "stdout",
     "output_type": "stream",
     "text": [
      "Train loss: 2.22608 | Train accuracy: 20.14%\n"
     ]
    },
    {
     "name": "stderr",
     "output_type": "stream",
     "text": [
      "  0%|          | 1/200 [00:24<1:21:41, 24.63s/it]"
     ]
    },
    {
     "name": "stdout",
     "output_type": "stream",
     "text": [
      "Validation loss: 1.84189 | Validation accuracy: 30.25%\n",
      "\n",
      "Epoch 2\n",
      "-------------------------------\n",
      "Train loss: 1.95747 | Train accuracy: 26.34%\n"
     ]
    },
    {
     "name": "stderr",
     "output_type": "stream",
     "text": [
      "  1%|          | 2/200 [00:43<1:10:18, 21.30s/it]"
     ]
    },
    {
     "name": "stdout",
     "output_type": "stream",
     "text": [
      "Validation loss: 1.77908 | Validation accuracy: 31.70%\n",
      "\n",
      "Epoch 3\n",
      "-------------------------------\n",
      "Train loss: 1.70719 | Train accuracy: 35.95%\n"
     ]
    },
    {
     "name": "stderr",
     "output_type": "stream",
     "text": [
      "  2%|▏         | 3/200 [01:02<1:06:18, 20.20s/it]"
     ]
    },
    {
     "name": "stdout",
     "output_type": "stream",
     "text": [
      "Validation loss: 1.64921 | Validation accuracy: 38.08%\n",
      "\n",
      "Epoch 4\n",
      "-------------------------------\n",
      "Train loss: 1.59849 | Train accuracy: 40.12%\n"
     ]
    },
    {
     "name": "stderr",
     "output_type": "stream",
     "text": [
      "  2%|▏         | 4/200 [01:21<1:04:18, 19.68s/it]"
     ]
    },
    {
     "name": "stdout",
     "output_type": "stream",
     "text": [
      "Validation loss: 1.52752 | Validation accuracy: 41.91%\n",
      "\n",
      "Epoch 5\n",
      "-------------------------------\n",
      "Train loss: 1.52722 | Train accuracy: 43.28%\n"
     ]
    },
    {
     "name": "stderr",
     "output_type": "stream",
     "text": [
      "  2%|▎         | 5/200 [01:40<1:02:59, 19.38s/it]"
     ]
    },
    {
     "name": "stdout",
     "output_type": "stream",
     "text": [
      "Validation loss: 1.51513 | Validation accuracy: 43.51%\n",
      "\n",
      "Epoch 6\n",
      "-------------------------------\n",
      "Train loss: 1.46928 | Train accuracy: 45.58%\n"
     ]
    },
    {
     "name": "stderr",
     "output_type": "stream",
     "text": [
      "  3%|▎         | 6/200 [01:59<1:02:13, 19.24s/it]"
     ]
    },
    {
     "name": "stdout",
     "output_type": "stream",
     "text": [
      "Validation loss: 1.44099 | Validation accuracy: 47.18%\n",
      "\n",
      "Epoch 7\n",
      "-------------------------------\n",
      "Train loss: 1.42425 | Train accuracy: 47.16%\n"
     ]
    },
    {
     "name": "stderr",
     "output_type": "stream",
     "text": [
      "  4%|▎         | 7/200 [02:18<1:01:46, 19.20s/it]"
     ]
    },
    {
     "name": "stdout",
     "output_type": "stream",
     "text": [
      "Validation loss: 1.36259 | Validation accuracy: 49.77%\n",
      "\n",
      "Epoch 8\n",
      "-------------------------------\n",
      "Train loss: 1.36920 | Train accuracy: 49.61%\n"
     ]
    },
    {
     "name": "stderr",
     "output_type": "stream",
     "text": [
      "  4%|▍         | 8/200 [02:37<1:01:16, 19.15s/it]"
     ]
    },
    {
     "name": "stdout",
     "output_type": "stream",
     "text": [
      "Validation loss: 1.34894 | Validation accuracy: 50.70%\n",
      "\n",
      "Epoch 9\n",
      "-------------------------------\n",
      "Train loss: 1.31650 | Train accuracy: 51.89%\n"
     ]
    },
    {
     "name": "stderr",
     "output_type": "stream",
     "text": [
      "  4%|▍         | 9/200 [02:56<1:01:02, 19.17s/it]"
     ]
    },
    {
     "name": "stdout",
     "output_type": "stream",
     "text": [
      "Validation loss: 1.27825 | Validation accuracy: 52.71%\n",
      "\n",
      "Epoch 10\n",
      "-------------------------------\n",
      "Train loss: 1.28029 | Train accuracy: 53.39%\n"
     ]
    },
    {
     "name": "stderr",
     "output_type": "stream",
     "text": [
      "  5%|▌         | 10/200 [03:15<1:00:38, 19.15s/it]"
     ]
    },
    {
     "name": "stdout",
     "output_type": "stream",
     "text": [
      "Validation loss: 1.25490 | Validation accuracy: 54.35%\n",
      "\n",
      "Epoch 11\n",
      "-------------------------------\n",
      "Train loss: 1.23960 | Train accuracy: 55.24%\n"
     ]
    },
    {
     "name": "stderr",
     "output_type": "stream",
     "text": [
      "  6%|▌         | 11/200 [03:34<1:00:03, 19.06s/it]"
     ]
    },
    {
     "name": "stdout",
     "output_type": "stream",
     "text": [
      "Validation loss: 1.30689 | Validation accuracy: 52.23%\n",
      "\n",
      "Epoch 12\n",
      "-------------------------------\n",
      "Train loss: 1.20704 | Train accuracy: 56.46%\n"
     ]
    },
    {
     "name": "stderr",
     "output_type": "stream",
     "text": [
      "  6%|▌         | 12/200 [03:53<59:43, 19.06s/it]  "
     ]
    },
    {
     "name": "stdout",
     "output_type": "stream",
     "text": [
      "Validation loss: 1.26163 | Validation accuracy: 55.35%\n",
      "\n",
      "Epoch 13\n",
      "-------------------------------\n",
      "Train loss: 1.17181 | Train accuracy: 57.83%\n"
     ]
    },
    {
     "name": "stderr",
     "output_type": "stream",
     "text": [
      "  6%|▋         | 13/200 [04:12<59:19, 19.03s/it]"
     ]
    },
    {
     "name": "stdout",
     "output_type": "stream",
     "text": [
      "Validation loss: 1.13809 | Validation accuracy: 58.84%\n",
      "\n",
      "Epoch 14\n",
      "-------------------------------\n",
      "Train loss: 1.14508 | Train accuracy: 59.05%\n"
     ]
    },
    {
     "name": "stderr",
     "output_type": "stream",
     "text": [
      "  7%|▋         | 14/200 [04:31<58:53, 19.00s/it]"
     ]
    },
    {
     "name": "stdout",
     "output_type": "stream",
     "text": [
      "Validation loss: 1.18861 | Validation accuracy: 57.88%\n",
      "\n",
      "Epoch 15\n",
      "-------------------------------\n",
      "Train loss: 1.12984 | Train accuracy: 59.55%\n"
     ]
    },
    {
     "name": "stderr",
     "output_type": "stream",
     "text": [
      "  8%|▊         | 15/200 [04:50<58:28, 18.97s/it]"
     ]
    },
    {
     "name": "stdout",
     "output_type": "stream",
     "text": [
      "Validation loss: 1.07969 | Validation accuracy: 60.80%\n",
      "\n",
      "Epoch 16\n",
      "-------------------------------\n",
      "Train loss: 1.11295 | Train accuracy: 59.99%\n"
     ]
    },
    {
     "name": "stderr",
     "output_type": "stream",
     "text": [
      "  8%|▊         | 16/200 [05:09<58:05, 18.94s/it]"
     ]
    },
    {
     "name": "stdout",
     "output_type": "stream",
     "text": [
      "Validation loss: 1.09448 | Validation accuracy: 60.64%\n",
      "\n",
      "Epoch 17\n",
      "-------------------------------\n",
      "Train loss: 1.09101 | Train accuracy: 60.82%\n"
     ]
    },
    {
     "name": "stderr",
     "output_type": "stream",
     "text": [
      "  8%|▊         | 17/200 [05:28<57:43, 18.93s/it]"
     ]
    },
    {
     "name": "stdout",
     "output_type": "stream",
     "text": [
      "Validation loss: 1.09148 | Validation accuracy: 60.87%\n",
      "\n",
      "Epoch 18\n",
      "-------------------------------\n",
      "Train loss: 1.08094 | Train accuracy: 61.40%\n"
     ]
    },
    {
     "name": "stderr",
     "output_type": "stream",
     "text": [
      "  9%|▉         | 18/200 [05:47<57:21, 18.91s/it]"
     ]
    },
    {
     "name": "stdout",
     "output_type": "stream",
     "text": [
      "Validation loss: 1.10715 | Validation accuracy: 60.24%\n",
      "\n",
      "Epoch 19\n",
      "-------------------------------\n",
      "Train loss: 1.06432 | Train accuracy: 61.94%\n"
     ]
    },
    {
     "name": "stderr",
     "output_type": "stream",
     "text": [
      " 10%|▉         | 19/200 [06:06<57:06, 18.93s/it]"
     ]
    },
    {
     "name": "stdout",
     "output_type": "stream",
     "text": [
      "Validation loss: 1.10176 | Validation accuracy: 61.47%\n",
      "\n",
      "Epoch 20\n",
      "-------------------------------\n",
      "Train loss: 1.04548 | Train accuracy: 62.72%\n"
     ]
    },
    {
     "name": "stderr",
     "output_type": "stream",
     "text": [
      " 10%|█         | 20/200 [06:24<56:44, 18.92s/it]"
     ]
    },
    {
     "name": "stdout",
     "output_type": "stream",
     "text": [
      "Validation loss: 1.06922 | Validation accuracy: 61.01%\n",
      "\n",
      "Epoch 21\n",
      "-------------------------------\n",
      "Train loss: 1.04150 | Train accuracy: 62.82%\n"
     ]
    },
    {
     "name": "stderr",
     "output_type": "stream",
     "text": [
      " 10%|█         | 21/200 [06:43<56:24, 18.91s/it]"
     ]
    },
    {
     "name": "stdout",
     "output_type": "stream",
     "text": [
      "Validation loss: 1.04371 | Validation accuracy: 62.83%\n",
      "\n",
      "Epoch 22\n",
      "-------------------------------\n",
      "Train loss: 1.02559 | Train accuracy: 63.30%\n"
     ]
    },
    {
     "name": "stderr",
     "output_type": "stream",
     "text": [
      " 11%|█         | 22/200 [07:02<56:06, 18.91s/it]"
     ]
    },
    {
     "name": "stdout",
     "output_type": "stream",
     "text": [
      "Validation loss: 1.03847 | Validation accuracy: 63.00%\n",
      "\n",
      "Epoch 23\n",
      "-------------------------------\n",
      "Train loss: 1.00750 | Train accuracy: 64.01%\n"
     ]
    },
    {
     "name": "stderr",
     "output_type": "stream",
     "text": [
      " 12%|█▏        | 23/200 [07:21<55:49, 18.92s/it]"
     ]
    },
    {
     "name": "stdout",
     "output_type": "stream",
     "text": [
      "Validation loss: 1.06728 | Validation accuracy: 62.25%\n",
      "\n",
      "Epoch 24\n",
      "-------------------------------\n",
      "Train loss: 1.01041 | Train accuracy: 64.14%\n"
     ]
    },
    {
     "name": "stderr",
     "output_type": "stream",
     "text": [
      " 12%|█▏        | 24/200 [07:40<55:27, 18.91s/it]"
     ]
    },
    {
     "name": "stdout",
     "output_type": "stream",
     "text": [
      "Validation loss: 1.02455 | Validation accuracy: 63.47%\n",
      "\n",
      "Epoch 25\n",
      "-------------------------------\n",
      "Train loss: 1.00415 | Train accuracy: 64.06%\n"
     ]
    },
    {
     "name": "stderr",
     "output_type": "stream",
     "text": [
      " 12%|█▎        | 25/200 [07:59<55:06, 18.90s/it]"
     ]
    },
    {
     "name": "stdout",
     "output_type": "stream",
     "text": [
      "Validation loss: 1.09006 | Validation accuracy: 61.25%\n",
      "\n",
      "Epoch 26\n",
      "-------------------------------\n",
      "Train loss: 0.99420 | Train accuracy: 64.62%\n"
     ]
    },
    {
     "name": "stderr",
     "output_type": "stream",
     "text": [
      " 13%|█▎        | 26/200 [08:18<54:55, 18.94s/it]"
     ]
    },
    {
     "name": "stdout",
     "output_type": "stream",
     "text": [
      "Validation loss: 1.00301 | Validation accuracy: 65.00%\n",
      "\n",
      "Epoch 27\n",
      "-------------------------------\n",
      "Train loss: 0.98092 | Train accuracy: 64.96%\n"
     ]
    },
    {
     "name": "stderr",
     "output_type": "stream",
     "text": [
      " 14%|█▎        | 27/200 [08:37<54:36, 18.94s/it]"
     ]
    },
    {
     "name": "stdout",
     "output_type": "stream",
     "text": [
      "Validation loss: 0.94896 | Validation accuracy: 65.78%\n",
      "\n",
      "Epoch 28\n",
      "-------------------------------\n",
      "Train loss: 0.96880 | Train accuracy: 65.37%\n"
     ]
    },
    {
     "name": "stderr",
     "output_type": "stream",
     "text": [
      " 14%|█▍        | 28/200 [08:56<54:15, 18.93s/it]"
     ]
    },
    {
     "name": "stdout",
     "output_type": "stream",
     "text": [
      "Validation loss: 1.02342 | Validation accuracy: 63.69%\n",
      "\n",
      "Epoch 29\n",
      "-------------------------------\n",
      "Train loss: 0.97073 | Train accuracy: 65.72%\n"
     ]
    },
    {
     "name": "stderr",
     "output_type": "stream",
     "text": [
      " 14%|█▍        | 29/200 [09:15<53:58, 18.94s/it]"
     ]
    },
    {
     "name": "stdout",
     "output_type": "stream",
     "text": [
      "Validation loss: 1.01645 | Validation accuracy: 63.05%\n",
      "\n",
      "Epoch 30\n",
      "-------------------------------\n",
      "Train loss: 0.95872 | Train accuracy: 65.71%\n"
     ]
    },
    {
     "name": "stderr",
     "output_type": "stream",
     "text": [
      " 15%|█▌        | 30/200 [09:34<53:38, 18.93s/it]"
     ]
    },
    {
     "name": "stdout",
     "output_type": "stream",
     "text": [
      "Validation loss: 0.94988 | Validation accuracy: 66.00%\n",
      "\n",
      "Epoch 31\n",
      "-------------------------------\n",
      "Train loss: 0.95800 | Train accuracy: 66.10%\n"
     ]
    },
    {
     "name": "stderr",
     "output_type": "stream",
     "text": [
      " 16%|█▌        | 31/200 [09:53<53:16, 18.91s/it]"
     ]
    },
    {
     "name": "stdout",
     "output_type": "stream",
     "text": [
      "Validation loss: 0.96401 | Validation accuracy: 65.55%\n",
      "\n",
      "Epoch 32\n",
      "-------------------------------\n",
      "Train loss: 0.95350 | Train accuracy: 66.28%\n"
     ]
    },
    {
     "name": "stderr",
     "output_type": "stream",
     "text": [
      " 16%|█▌        | 32/200 [10:12<53:00, 18.93s/it]"
     ]
    },
    {
     "name": "stdout",
     "output_type": "stream",
     "text": [
      "Validation loss: 1.08183 | Validation accuracy: 61.36%\n",
      "\n",
      "Epoch 33\n",
      "-------------------------------\n",
      "Train loss: 0.95305 | Train accuracy: 66.13%\n"
     ]
    },
    {
     "name": "stderr",
     "output_type": "stream",
     "text": [
      " 16%|█▋        | 33/200 [10:30<52:42, 18.94s/it]"
     ]
    },
    {
     "name": "stdout",
     "output_type": "stream",
     "text": [
      "Validation loss: 0.95378 | Validation accuracy: 66.37%\n",
      "\n",
      "Epoch 34\n",
      "-------------------------------\n",
      "Train loss: 0.93562 | Train accuracy: 66.72%\n"
     ]
    },
    {
     "name": "stderr",
     "output_type": "stream",
     "text": [
      " 17%|█▋        | 34/200 [10:49<52:24, 18.94s/it]"
     ]
    },
    {
     "name": "stdout",
     "output_type": "stream",
     "text": [
      "Validation loss: 0.99435 | Validation accuracy: 64.05%\n",
      "\n",
      "Epoch 35\n",
      "-------------------------------\n",
      "Train loss: 0.93813 | Train accuracy: 66.65%\n"
     ]
    },
    {
     "name": "stderr",
     "output_type": "stream",
     "text": [
      " 18%|█▊        | 35/200 [11:08<52:07, 18.96s/it]"
     ]
    },
    {
     "name": "stdout",
     "output_type": "stream",
     "text": [
      "Validation loss: 0.94673 | Validation accuracy: 66.08%\n",
      "\n",
      "Epoch 36\n",
      "-------------------------------\n",
      "Train loss: 0.93363 | Train accuracy: 66.78%\n"
     ]
    },
    {
     "name": "stderr",
     "output_type": "stream",
     "text": [
      " 18%|█▊        | 36/200 [11:27<51:49, 18.96s/it]"
     ]
    },
    {
     "name": "stdout",
     "output_type": "stream",
     "text": [
      "Validation loss: 0.93303 | Validation accuracy: 66.37%\n",
      "\n",
      "Epoch 37\n",
      "-------------------------------\n",
      "Train loss: 0.92764 | Train accuracy: 67.08%\n"
     ]
    },
    {
     "name": "stderr",
     "output_type": "stream",
     "text": [
      " 18%|█▊        | 37/200 [11:46<51:21, 18.91s/it]"
     ]
    },
    {
     "name": "stdout",
     "output_type": "stream",
     "text": [
      "Validation loss: 0.97343 | Validation accuracy: 65.52%\n",
      "\n",
      "Epoch 38\n",
      "-------------------------------\n",
      "Train loss: 0.91097 | Train accuracy: 67.76%\n"
     ]
    },
    {
     "name": "stderr",
     "output_type": "stream",
     "text": [
      " 19%|█▉        | 38/200 [12:05<51:04, 18.92s/it]"
     ]
    },
    {
     "name": "stdout",
     "output_type": "stream",
     "text": [
      "Validation loss: 0.91949 | Validation accuracy: 67.28%\n",
      "\n",
      "Epoch 39\n",
      "-------------------------------\n",
      "Train loss: 0.92148 | Train accuracy: 67.43%\n"
     ]
    },
    {
     "name": "stderr",
     "output_type": "stream",
     "text": [
      " 20%|█▉        | 39/200 [12:24<50:46, 18.92s/it]"
     ]
    },
    {
     "name": "stdout",
     "output_type": "stream",
     "text": [
      "Validation loss: 0.96574 | Validation accuracy: 65.19%\n",
      "\n",
      "Epoch 40\n",
      "-------------------------------\n",
      "Train loss: 0.91027 | Train accuracy: 67.90%\n"
     ]
    },
    {
     "name": "stderr",
     "output_type": "stream",
     "text": [
      " 20%|██        | 40/200 [12:43<50:30, 18.94s/it]"
     ]
    },
    {
     "name": "stdout",
     "output_type": "stream",
     "text": [
      "Validation loss: 0.90672 | Validation accuracy: 68.27%\n",
      "\n",
      "Epoch 41\n",
      "-------------------------------\n",
      "Train loss: 0.90414 | Train accuracy: 67.83%\n"
     ]
    },
    {
     "name": "stderr",
     "output_type": "stream",
     "text": [
      " 20%|██        | 41/200 [13:02<50:09, 18.93s/it]"
     ]
    },
    {
     "name": "stdout",
     "output_type": "stream",
     "text": [
      "Validation loss: 0.95476 | Validation accuracy: 67.29%\n",
      "\n",
      "Epoch 42\n",
      "-------------------------------\n",
      "Train loss: 0.90353 | Train accuracy: 68.22%\n"
     ]
    },
    {
     "name": "stderr",
     "output_type": "stream",
     "text": [
      " 21%|██        | 42/200 [13:21<49:52, 18.94s/it]"
     ]
    },
    {
     "name": "stdout",
     "output_type": "stream",
     "text": [
      "Validation loss: 1.01584 | Validation accuracy: 64.77%\n",
      "\n",
      "Epoch 43\n",
      "-------------------------------\n",
      "Train loss: 0.90187 | Train accuracy: 68.04%\n"
     ]
    },
    {
     "name": "stderr",
     "output_type": "stream",
     "text": [
      " 22%|██▏       | 43/200 [13:40<49:34, 18.95s/it]"
     ]
    },
    {
     "name": "stdout",
     "output_type": "stream",
     "text": [
      "Validation loss: 0.94013 | Validation accuracy: 66.72%\n",
      "\n",
      "Epoch 44\n",
      "-------------------------------\n",
      "Train loss: 0.89757 | Train accuracy: 68.34%\n"
     ]
    },
    {
     "name": "stderr",
     "output_type": "stream",
     "text": [
      " 22%|██▏       | 44/200 [13:59<49:16, 18.95s/it]"
     ]
    },
    {
     "name": "stdout",
     "output_type": "stream",
     "text": [
      "Validation loss: 0.90216 | Validation accuracy: 68.42%\n",
      "\n",
      "Epoch 45\n",
      "-------------------------------\n",
      "Train loss: 0.89135 | Train accuracy: 68.32%\n"
     ]
    },
    {
     "name": "stderr",
     "output_type": "stream",
     "text": [
      " 22%|██▎       | 45/200 [14:18<48:49, 18.90s/it]"
     ]
    },
    {
     "name": "stdout",
     "output_type": "stream",
     "text": [
      "Validation loss: 0.95627 | Validation accuracy: 66.27%\n",
      "\n",
      "Epoch 46\n",
      "-------------------------------\n",
      "Train loss: 0.89033 | Train accuracy: 68.50%\n"
     ]
    },
    {
     "name": "stderr",
     "output_type": "stream",
     "text": [
      " 23%|██▎       | 46/200 [14:36<48:30, 18.90s/it]"
     ]
    },
    {
     "name": "stdout",
     "output_type": "stream",
     "text": [
      "Validation loss: 0.95230 | Validation accuracy: 65.88%\n",
      "\n",
      "Epoch 47\n",
      "-------------------------------\n",
      "Train loss: 0.87952 | Train accuracy: 69.12%\n"
     ]
    },
    {
     "name": "stderr",
     "output_type": "stream",
     "text": [
      " 24%|██▎       | 47/200 [14:55<48:11, 18.90s/it]"
     ]
    },
    {
     "name": "stdout",
     "output_type": "stream",
     "text": [
      "Validation loss: 0.93404 | Validation accuracy: 67.00%\n",
      "\n",
      "Epoch 48\n",
      "-------------------------------\n",
      "Train loss: 0.88985 | Train accuracy: 68.69%\n"
     ]
    },
    {
     "name": "stderr",
     "output_type": "stream",
     "text": [
      " 24%|██▍       | 48/200 [15:14<47:53, 18.91s/it]"
     ]
    },
    {
     "name": "stdout",
     "output_type": "stream",
     "text": [
      "Validation loss: 0.96935 | Validation accuracy: 66.00%\n",
      "\n",
      "Epoch 49\n",
      "-------------------------------\n",
      "Train loss: 0.87353 | Train accuracy: 69.15%\n"
     ]
    },
    {
     "name": "stderr",
     "output_type": "stream",
     "text": [
      " 24%|██▍       | 49/200 [15:33<47:34, 18.90s/it]"
     ]
    },
    {
     "name": "stdout",
     "output_type": "stream",
     "text": [
      "Validation loss: 0.89412 | Validation accuracy: 68.96%\n",
      "\n",
      "Epoch 50\n",
      "-------------------------------\n",
      "Train loss: 0.87817 | Train accuracy: 69.24%\n"
     ]
    },
    {
     "name": "stderr",
     "output_type": "stream",
     "text": [
      " 25%|██▌       | 50/200 [15:52<47:14, 18.90s/it]"
     ]
    },
    {
     "name": "stdout",
     "output_type": "stream",
     "text": [
      "Validation loss: 0.89643 | Validation accuracy: 68.11%\n",
      "\n",
      "Epoch 51\n",
      "-------------------------------\n",
      "Train loss: 0.87815 | Train accuracy: 69.03%\n"
     ]
    },
    {
     "name": "stderr",
     "output_type": "stream",
     "text": [
      " 26%|██▌       | 51/200 [16:11<46:53, 18.88s/it]"
     ]
    },
    {
     "name": "stdout",
     "output_type": "stream",
     "text": [
      "Validation loss: 0.85293 | Validation accuracy: 69.69%\n",
      "\n",
      "Epoch 52\n",
      "-------------------------------\n",
      "Train loss: 0.87028 | Train accuracy: 69.27%\n"
     ]
    },
    {
     "name": "stderr",
     "output_type": "stream",
     "text": [
      " 26%|██▌       | 52/200 [16:30<46:37, 18.90s/it]"
     ]
    },
    {
     "name": "stdout",
     "output_type": "stream",
     "text": [
      "Validation loss: 0.87987 | Validation accuracy: 68.81%\n",
      "\n",
      "Epoch 53\n",
      "-------------------------------\n",
      "Train loss: 0.85960 | Train accuracy: 69.71%\n"
     ]
    },
    {
     "name": "stderr",
     "output_type": "stream",
     "text": [
      " 26%|██▋       | 53/200 [16:49<46:14, 18.87s/it]"
     ]
    },
    {
     "name": "stdout",
     "output_type": "stream",
     "text": [
      "Validation loss: 0.88349 | Validation accuracy: 68.52%\n",
      "\n",
      "Epoch 54\n",
      "-------------------------------\n",
      "Train loss: 0.86725 | Train accuracy: 69.61%\n"
     ]
    },
    {
     "name": "stderr",
     "output_type": "stream",
     "text": [
      " 27%|██▋       | 54/200 [17:08<45:59, 18.90s/it]"
     ]
    },
    {
     "name": "stdout",
     "output_type": "stream",
     "text": [
      "Validation loss: 0.89319 | Validation accuracy: 68.78%\n",
      "\n",
      "Epoch 55\n",
      "-------------------------------\n",
      "Train loss: 0.87147 | Train accuracy: 69.39%\n"
     ]
    },
    {
     "name": "stderr",
     "output_type": "stream",
     "text": [
      " 28%|██▊       | 55/200 [17:27<45:47, 18.95s/it]"
     ]
    },
    {
     "name": "stdout",
     "output_type": "stream",
     "text": [
      "Validation loss: 0.86652 | Validation accuracy: 69.55%\n",
      "\n",
      "Epoch 56\n",
      "-------------------------------\n",
      "Train loss: 0.86649 | Train accuracy: 69.56%\n"
     ]
    },
    {
     "name": "stderr",
     "output_type": "stream",
     "text": [
      " 28%|██▊       | 56/200 [17:46<45:26, 18.93s/it]"
     ]
    },
    {
     "name": "stdout",
     "output_type": "stream",
     "text": [
      "Validation loss: 0.91371 | Validation accuracy: 67.96%\n",
      "\n",
      "Epoch 57\n",
      "-------------------------------\n",
      "Train loss: 0.79509 | Train accuracy: 72.31%\n"
     ]
    },
    {
     "name": "stderr",
     "output_type": "stream",
     "text": [
      " 28%|██▊       | 57/200 [18:05<45:11, 18.96s/it]"
     ]
    },
    {
     "name": "stdout",
     "output_type": "stream",
     "text": [
      "Validation loss: 0.79944 | Validation accuracy: 71.76%\n",
      "\n",
      "Epoch 58\n",
      "-------------------------------\n",
      "Train loss: 0.78629 | Train accuracy: 72.37%\n"
     ]
    },
    {
     "name": "stderr",
     "output_type": "stream",
     "text": [
      " 29%|██▉       | 58/200 [18:24<44:57, 19.00s/it]"
     ]
    },
    {
     "name": "stdout",
     "output_type": "stream",
     "text": [
      "Validation loss: 0.80033 | Validation accuracy: 71.76%\n",
      "\n",
      "Epoch 59\n",
      "-------------------------------\n",
      "Train loss: 0.77757 | Train accuracy: 72.68%\n"
     ]
    },
    {
     "name": "stderr",
     "output_type": "stream",
     "text": [
      " 30%|██▉       | 59/200 [18:43<44:39, 19.00s/it]"
     ]
    },
    {
     "name": "stdout",
     "output_type": "stream",
     "text": [
      "Validation loss: 0.82073 | Validation accuracy: 71.72%\n",
      "\n",
      "Epoch 60\n",
      "-------------------------------\n",
      "Train loss: 0.77641 | Train accuracy: 72.69%\n"
     ]
    },
    {
     "name": "stderr",
     "output_type": "stream",
     "text": [
      " 30%|███       | 60/200 [19:02<44:19, 19.00s/it]"
     ]
    },
    {
     "name": "stdout",
     "output_type": "stream",
     "text": [
      "Validation loss: 0.77967 | Validation accuracy: 72.71%\n",
      "\n",
      "Epoch 61\n",
      "-------------------------------\n",
      "Train loss: 0.75856 | Train accuracy: 73.31%\n"
     ]
    },
    {
     "name": "stderr",
     "output_type": "stream",
     "text": [
      " 30%|███       | 61/200 [19:21<44:02, 19.01s/it]"
     ]
    },
    {
     "name": "stdout",
     "output_type": "stream",
     "text": [
      "Validation loss: 0.80798 | Validation accuracy: 71.61%\n",
      "\n",
      "Epoch 62\n",
      "-------------------------------\n",
      "Train loss: 0.76200 | Train accuracy: 73.23%\n"
     ]
    },
    {
     "name": "stderr",
     "output_type": "stream",
     "text": [
      " 31%|███       | 62/200 [19:40<43:46, 19.03s/it]"
     ]
    },
    {
     "name": "stdout",
     "output_type": "stream",
     "text": [
      "Validation loss: 0.81965 | Validation accuracy: 71.07%\n",
      "\n",
      "Epoch 63\n",
      "-------------------------------\n",
      "Train loss: 0.75484 | Train accuracy: 73.47%\n"
     ]
    },
    {
     "name": "stderr",
     "output_type": "stream",
     "text": [
      " 32%|███▏      | 63/200 [19:59<43:30, 19.05s/it]"
     ]
    },
    {
     "name": "stdout",
     "output_type": "stream",
     "text": [
      "Validation loss: 0.76463 | Validation accuracy: 72.83%\n",
      "\n",
      "Epoch 64\n",
      "-------------------------------\n",
      "Train loss: 0.75852 | Train accuracy: 73.29%\n"
     ]
    },
    {
     "name": "stderr",
     "output_type": "stream",
     "text": [
      " 32%|███▏      | 64/200 [20:18<43:13, 19.07s/it]"
     ]
    },
    {
     "name": "stdout",
     "output_type": "stream",
     "text": [
      "Validation loss: 0.78116 | Validation accuracy: 72.50%\n",
      "\n",
      "Epoch 65\n",
      "-------------------------------\n",
      "Train loss: 0.74558 | Train accuracy: 73.84%\n"
     ]
    },
    {
     "name": "stderr",
     "output_type": "stream",
     "text": [
      " 32%|███▎      | 65/200 [20:37<42:46, 19.01s/it]"
     ]
    },
    {
     "name": "stdout",
     "output_type": "stream",
     "text": [
      "Validation loss: 0.80641 | Validation accuracy: 71.98%\n",
      "\n",
      "Epoch 66\n",
      "-------------------------------\n",
      "Train loss: 0.74915 | Train accuracy: 73.64%\n"
     ]
    },
    {
     "name": "stderr",
     "output_type": "stream",
     "text": [
      " 33%|███▎      | 66/200 [20:56<42:23, 18.98s/it]"
     ]
    },
    {
     "name": "stdout",
     "output_type": "stream",
     "text": [
      "Validation loss: 0.80082 | Validation accuracy: 71.69%\n",
      "\n",
      "Epoch 67\n",
      "-------------------------------\n",
      "Train loss: 0.75049 | Train accuracy: 73.64%\n"
     ]
    },
    {
     "name": "stderr",
     "output_type": "stream",
     "text": [
      " 34%|███▎      | 67/200 [21:15<42:08, 19.01s/it]"
     ]
    },
    {
     "name": "stdout",
     "output_type": "stream",
     "text": [
      "Validation loss: 0.84131 | Validation accuracy: 70.91%\n",
      "\n",
      "Epoch 68\n",
      "-------------------------------\n",
      "Train loss: 0.74647 | Train accuracy: 74.02%\n"
     ]
    },
    {
     "name": "stderr",
     "output_type": "stream",
     "text": [
      " 34%|███▍      | 68/200 [21:34<41:47, 19.00s/it]"
     ]
    },
    {
     "name": "stdout",
     "output_type": "stream",
     "text": [
      "Validation loss: 0.81655 | Validation accuracy: 71.73%\n",
      "\n",
      "Epoch 69\n",
      "-------------------------------\n",
      "Train loss: 0.69120 | Train accuracy: 75.68%\n"
     ]
    },
    {
     "name": "stderr",
     "output_type": "stream",
     "text": [
      " 34%|███▍      | 69/200 [21:53<41:22, 18.95s/it]"
     ]
    },
    {
     "name": "stdout",
     "output_type": "stream",
     "text": [
      "Validation loss: 0.72694 | Validation accuracy: 74.72%\n",
      "\n",
      "Epoch 70\n",
      "-------------------------------\n",
      "Train loss: 0.68706 | Train accuracy: 75.89%\n"
     ]
    },
    {
     "name": "stderr",
     "output_type": "stream",
     "text": [
      " 35%|███▌      | 70/200 [22:12<41:07, 18.98s/it]"
     ]
    },
    {
     "name": "stdout",
     "output_type": "stream",
     "text": [
      "Validation loss: 0.74363 | Validation accuracy: 73.92%\n",
      "\n",
      "Epoch 71\n",
      "-------------------------------\n",
      "Train loss: 0.68810 | Train accuracy: 75.84%\n"
     ]
    },
    {
     "name": "stderr",
     "output_type": "stream",
     "text": [
      " 36%|███▌      | 71/200 [22:31<40:46, 18.97s/it]"
     ]
    },
    {
     "name": "stdout",
     "output_type": "stream",
     "text": [
      "Validation loss: 0.71534 | Validation accuracy: 74.90%\n",
      "\n",
      "Epoch 72\n",
      "-------------------------------\n",
      "Train loss: 0.67620 | Train accuracy: 75.94%\n"
     ]
    },
    {
     "name": "stderr",
     "output_type": "stream",
     "text": [
      " 36%|███▌      | 72/200 [22:50<40:23, 18.94s/it]"
     ]
    },
    {
     "name": "stdout",
     "output_type": "stream",
     "text": [
      "Validation loss: 0.73956 | Validation accuracy: 74.35%\n",
      "\n",
      "Epoch 73\n",
      "-------------------------------\n",
      "Train loss: 0.67901 | Train accuracy: 76.20%\n"
     ]
    },
    {
     "name": "stderr",
     "output_type": "stream",
     "text": [
      " 36%|███▋      | 73/200 [23:09<40:06, 18.95s/it]"
     ]
    },
    {
     "name": "stdout",
     "output_type": "stream",
     "text": [
      "Validation loss: 0.74426 | Validation accuracy: 74.46%\n",
      "\n",
      "Epoch 74\n",
      "-------------------------------\n",
      "Train loss: 0.67633 | Train accuracy: 76.09%\n"
     ]
    },
    {
     "name": "stderr",
     "output_type": "stream",
     "text": [
      " 37%|███▋      | 74/200 [23:27<39:47, 18.95s/it]"
     ]
    },
    {
     "name": "stdout",
     "output_type": "stream",
     "text": [
      "Validation loss: 0.73813 | Validation accuracy: 74.23%\n",
      "\n",
      "Epoch 75\n",
      "-------------------------------\n",
      "Train loss: 0.66497 | Train accuracy: 76.54%\n"
     ]
    },
    {
     "name": "stderr",
     "output_type": "stream",
     "text": [
      " 38%|███▊      | 75/200 [23:46<39:24, 18.91s/it]"
     ]
    },
    {
     "name": "stdout",
     "output_type": "stream",
     "text": [
      "Validation loss: 0.72543 | Validation accuracy: 74.55%\n",
      "\n",
      "Epoch 76\n",
      "-------------------------------\n",
      "Train loss: 0.66597 | Train accuracy: 76.75%\n"
     ]
    },
    {
     "name": "stderr",
     "output_type": "stream",
     "text": [
      " 38%|███▊      | 76/200 [24:05<39:14, 18.99s/it]"
     ]
    },
    {
     "name": "stdout",
     "output_type": "stream",
     "text": [
      "Validation loss: 0.73377 | Validation accuracy: 74.81%\n",
      "\n",
      "Epoch 77\n",
      "-------------------------------\n",
      "Train loss: 0.66698 | Train accuracy: 76.63%\n"
     ]
    },
    {
     "name": "stderr",
     "output_type": "stream",
     "text": [
      " 38%|███▊      | 77/200 [24:24<38:52, 18.96s/it]"
     ]
    },
    {
     "name": "stdout",
     "output_type": "stream",
     "text": [
      "Validation loss: 0.74769 | Validation accuracy: 73.90%\n",
      "\n",
      "Epoch 78\n",
      "-------------------------------\n",
      "Train loss: 0.66131 | Train accuracy: 76.71%\n"
     ]
    },
    {
     "name": "stderr",
     "output_type": "stream",
     "text": [
      " 39%|███▉      | 78/200 [24:43<38:32, 18.95s/it]"
     ]
    },
    {
     "name": "stdout",
     "output_type": "stream",
     "text": [
      "Validation loss: 0.70540 | Validation accuracy: 75.14%\n",
      "\n",
      "Epoch 79\n",
      "-------------------------------\n",
      "Train loss: 0.66527 | Train accuracy: 76.84%\n"
     ]
    },
    {
     "name": "stderr",
     "output_type": "stream",
     "text": [
      " 40%|███▉      | 79/200 [25:02<38:11, 18.94s/it]"
     ]
    },
    {
     "name": "stdout",
     "output_type": "stream",
     "text": [
      "Validation loss: 0.72906 | Validation accuracy: 74.81%\n",
      "\n",
      "Epoch 80\n",
      "-------------------------------\n",
      "Train loss: 0.66059 | Train accuracy: 76.81%\n"
     ]
    },
    {
     "name": "stderr",
     "output_type": "stream",
     "text": [
      " 40%|████      | 80/200 [25:21<37:52, 18.94s/it]"
     ]
    },
    {
     "name": "stdout",
     "output_type": "stream",
     "text": [
      "Validation loss: 0.72588 | Validation accuracy: 74.96%\n",
      "\n",
      "Epoch 81\n",
      "-------------------------------\n",
      "Train loss: 0.65883 | Train accuracy: 76.90%\n"
     ]
    },
    {
     "name": "stderr",
     "output_type": "stream",
     "text": [
      " 40%|████      | 81/200 [25:40<37:37, 18.97s/it]"
     ]
    },
    {
     "name": "stdout",
     "output_type": "stream",
     "text": [
      "Validation loss: 0.70845 | Validation accuracy: 75.29%\n",
      "\n",
      "Epoch 82\n",
      "-------------------------------\n",
      "Train loss: 0.65207 | Train accuracy: 77.13%\n"
     ]
    },
    {
     "name": "stderr",
     "output_type": "stream",
     "text": [
      " 41%|████      | 82/200 [25:59<37:15, 18.95s/it]"
     ]
    },
    {
     "name": "stdout",
     "output_type": "stream",
     "text": [
      "Validation loss: 0.69686 | Validation accuracy: 75.81%\n",
      "\n",
      "Epoch 83\n",
      "-------------------------------\n",
      "Train loss: 0.65058 | Train accuracy: 77.07%\n"
     ]
    },
    {
     "name": "stderr",
     "output_type": "stream",
     "text": [
      " 42%|████▏     | 83/200 [26:18<36:54, 18.93s/it]"
     ]
    },
    {
     "name": "stdout",
     "output_type": "stream",
     "text": [
      "Validation loss: 0.71959 | Validation accuracy: 74.94%\n",
      "\n",
      "Epoch 84\n",
      "-------------------------------\n",
      "Train loss: 0.65614 | Train accuracy: 76.84%\n"
     ]
    },
    {
     "name": "stderr",
     "output_type": "stream",
     "text": [
      " 42%|████▏     | 84/200 [26:37<36:37, 18.94s/it]"
     ]
    },
    {
     "name": "stdout",
     "output_type": "stream",
     "text": [
      "Validation loss: 0.69628 | Validation accuracy: 75.86%\n",
      "\n",
      "Epoch 85\n",
      "-------------------------------\n",
      "Train loss: 0.64807 | Train accuracy: 77.44%\n"
     ]
    },
    {
     "name": "stderr",
     "output_type": "stream",
     "text": [
      " 42%|████▎     | 85/200 [26:56<36:19, 18.95s/it]"
     ]
    },
    {
     "name": "stdout",
     "output_type": "stream",
     "text": [
      "Validation loss: 0.71292 | Validation accuracy: 75.42%\n",
      "\n",
      "Epoch 86\n",
      "-------------------------------\n",
      "Train loss: 0.64864 | Train accuracy: 77.25%\n"
     ]
    },
    {
     "name": "stderr",
     "output_type": "stream",
     "text": [
      " 43%|████▎     | 86/200 [27:15<36:02, 18.97s/it]"
     ]
    },
    {
     "name": "stdout",
     "output_type": "stream",
     "text": [
      "Validation loss: 0.73270 | Validation accuracy: 75.14%\n",
      "\n",
      "Epoch 87\n",
      "-------------------------------\n",
      "Train loss: 0.64520 | Train accuracy: 77.35%\n"
     ]
    },
    {
     "name": "stderr",
     "output_type": "stream",
     "text": [
      " 44%|████▎     | 87/200 [27:34<35:45, 18.99s/it]"
     ]
    },
    {
     "name": "stdout",
     "output_type": "stream",
     "text": [
      "Validation loss: 0.71335 | Validation accuracy: 75.37%\n",
      "\n",
      "Epoch 88\n",
      "-------------------------------\n",
      "Train loss: 0.64429 | Train accuracy: 77.33%\n"
     ]
    },
    {
     "name": "stderr",
     "output_type": "stream",
     "text": [
      " 44%|████▍     | 88/200 [27:53<35:21, 18.94s/it]"
     ]
    },
    {
     "name": "stdout",
     "output_type": "stream",
     "text": [
      "Validation loss: 0.69530 | Validation accuracy: 75.40%\n",
      "\n",
      "Epoch 89\n",
      "-------------------------------\n",
      "Train loss: 0.64948 | Train accuracy: 77.34%\n"
     ]
    },
    {
     "name": "stderr",
     "output_type": "stream",
     "text": [
      " 44%|████▍     | 89/200 [28:12<35:04, 18.96s/it]"
     ]
    },
    {
     "name": "stdout",
     "output_type": "stream",
     "text": [
      "Validation loss: 0.70113 | Validation accuracy: 75.35%\n",
      "\n",
      "Epoch 90\n",
      "-------------------------------\n",
      "Train loss: 0.64282 | Train accuracy: 77.46%\n"
     ]
    },
    {
     "name": "stderr",
     "output_type": "stream",
     "text": [
      " 45%|████▌     | 90/200 [28:31<34:43, 18.94s/it]"
     ]
    },
    {
     "name": "stdout",
     "output_type": "stream",
     "text": [
      "Validation loss: 0.72480 | Validation accuracy: 74.92%\n",
      "\n",
      "Epoch 91\n",
      "-------------------------------\n",
      "Train loss: 0.63776 | Train accuracy: 77.39%\n"
     ]
    },
    {
     "name": "stderr",
     "output_type": "stream",
     "text": [
      " 46%|████▌     | 91/200 [28:50<34:22, 18.93s/it]"
     ]
    },
    {
     "name": "stdout",
     "output_type": "stream",
     "text": [
      "Validation loss: 0.68182 | Validation accuracy: 76.16%\n",
      "\n",
      "Epoch 92\n",
      "-------------------------------\n",
      "Train loss: 0.63924 | Train accuracy: 77.93%\n"
     ]
    },
    {
     "name": "stderr",
     "output_type": "stream",
     "text": [
      " 46%|████▌     | 92/200 [29:08<34:00, 18.89s/it]"
     ]
    },
    {
     "name": "stdout",
     "output_type": "stream",
     "text": [
      "Validation loss: 0.69137 | Validation accuracy: 75.56%\n",
      "\n",
      "Epoch 93\n",
      "-------------------------------\n",
      "Train loss: 0.63969 | Train accuracy: 77.67%\n"
     ]
    },
    {
     "name": "stderr",
     "output_type": "stream",
     "text": [
      " 46%|████▋     | 93/200 [29:27<33:41, 18.89s/it]"
     ]
    },
    {
     "name": "stdout",
     "output_type": "stream",
     "text": [
      "Validation loss: 0.68172 | Validation accuracy: 76.19%\n",
      "\n",
      "Epoch 94\n",
      "-------------------------------\n",
      "Train loss: 0.63944 | Train accuracy: 77.34%\n"
     ]
    },
    {
     "name": "stderr",
     "output_type": "stream",
     "text": [
      " 47%|████▋     | 94/200 [29:46<33:21, 18.89s/it]"
     ]
    },
    {
     "name": "stdout",
     "output_type": "stream",
     "text": [
      "Validation loss: 0.70592 | Validation accuracy: 75.05%\n",
      "\n",
      "Epoch 95\n",
      "-------------------------------\n",
      "Train loss: 0.59875 | Train accuracy: 79.20%\n"
     ]
    },
    {
     "name": "stderr",
     "output_type": "stream",
     "text": [
      " 48%|████▊     | 95/200 [30:05<32:57, 18.84s/it]"
     ]
    },
    {
     "name": "stdout",
     "output_type": "stream",
     "text": [
      "Validation loss: 0.67985 | Validation accuracy: 76.17%\n",
      "\n",
      "Epoch 96\n",
      "-------------------------------\n",
      "Train loss: 0.59557 | Train accuracy: 79.38%\n"
     ]
    },
    {
     "name": "stderr",
     "output_type": "stream",
     "text": [
      " 48%|████▊     | 96/200 [30:24<32:37, 18.83s/it]"
     ]
    },
    {
     "name": "stdout",
     "output_type": "stream",
     "text": [
      "Validation loss: 0.66459 | Validation accuracy: 76.37%\n",
      "\n",
      "Epoch 97\n",
      "-------------------------------\n",
      "Train loss: 0.59185 | Train accuracy: 79.13%\n"
     ]
    },
    {
     "name": "stderr",
     "output_type": "stream",
     "text": [
      " 48%|████▊     | 97/200 [30:43<32:19, 18.83s/it]"
     ]
    },
    {
     "name": "stdout",
     "output_type": "stream",
     "text": [
      "Validation loss: 0.65246 | Validation accuracy: 77.03%\n",
      "\n",
      "Epoch 98\n",
      "-------------------------------\n",
      "Train loss: 0.59686 | Train accuracy: 79.13%\n"
     ]
    },
    {
     "name": "stderr",
     "output_type": "stream",
     "text": [
      " 49%|████▉     | 98/200 [31:01<31:55, 18.78s/it]"
     ]
    },
    {
     "name": "stdout",
     "output_type": "stream",
     "text": [
      "Validation loss: 0.67866 | Validation accuracy: 76.35%\n",
      "\n",
      "Epoch 99\n",
      "-------------------------------\n",
      "Train loss: 0.58834 | Train accuracy: 79.44%\n"
     ]
    },
    {
     "name": "stderr",
     "output_type": "stream",
     "text": [
      " 50%|████▉     | 99/200 [31:20<31:39, 18.81s/it]"
     ]
    },
    {
     "name": "stdout",
     "output_type": "stream",
     "text": [
      "Validation loss: 0.65700 | Validation accuracy: 77.11%\n",
      "\n",
      "Epoch 100\n",
      "-------------------------------\n",
      "Train loss: 0.58941 | Train accuracy: 79.49%\n"
     ]
    },
    {
     "name": "stderr",
     "output_type": "stream",
     "text": [
      " 50%|█████     | 100/200 [31:39<31:19, 18.79s/it]"
     ]
    },
    {
     "name": "stdout",
     "output_type": "stream",
     "text": [
      "Validation loss: 0.70196 | Validation accuracy: 75.55%\n",
      "\n",
      "Epoch 101\n",
      "-------------------------------\n",
      "Train loss: 0.59213 | Train accuracy: 79.50%\n"
     ]
    },
    {
     "name": "stderr",
     "output_type": "stream",
     "text": [
      " 50%|█████     | 101/200 [31:58<30:59, 18.79s/it]"
     ]
    },
    {
     "name": "stdout",
     "output_type": "stream",
     "text": [
      "Validation loss: 0.67195 | Validation accuracy: 76.64%\n",
      "\n",
      "Epoch 102\n",
      "-------------------------------\n",
      "Train loss: 0.59316 | Train accuracy: 79.36%\n"
     ]
    },
    {
     "name": "stderr",
     "output_type": "stream",
     "text": [
      " 51%|█████     | 102/200 [32:16<30:41, 18.79s/it]"
     ]
    },
    {
     "name": "stdout",
     "output_type": "stream",
     "text": [
      "Validation loss: 0.64392 | Validation accuracy: 77.26%\n",
      "\n",
      "Epoch 103\n",
      "-------------------------------\n",
      "Train loss: 0.56671 | Train accuracy: 80.22%\n"
     ]
    },
    {
     "name": "stderr",
     "output_type": "stream",
     "text": [
      " 52%|█████▏    | 103/200 [32:35<30:18, 18.75s/it]"
     ]
    },
    {
     "name": "stdout",
     "output_type": "stream",
     "text": [
      "Validation loss: 0.63745 | Validation accuracy: 78.10%\n",
      "\n",
      "Epoch 104\n",
      "-------------------------------\n",
      "Train loss: 0.56342 | Train accuracy: 80.44%\n"
     ]
    },
    {
     "name": "stderr",
     "output_type": "stream",
     "text": [
      " 52%|█████▏    | 104/200 [32:54<30:03, 18.78s/it]"
     ]
    },
    {
     "name": "stdout",
     "output_type": "stream",
     "text": [
      "Validation loss: 0.64659 | Validation accuracy: 77.54%\n",
      "\n",
      "Epoch 105\n",
      "-------------------------------\n",
      "Train loss: 0.56403 | Train accuracy: 80.20%\n"
     ]
    },
    {
     "name": "stderr",
     "output_type": "stream",
     "text": [
      " 52%|█████▎    | 105/200 [33:13<29:47, 18.81s/it]"
     ]
    },
    {
     "name": "stdout",
     "output_type": "stream",
     "text": [
      "Validation loss: 0.65217 | Validation accuracy: 77.31%\n",
      "\n",
      "Epoch 106\n",
      "-------------------------------\n",
      "Train loss: 0.55844 | Train accuracy: 80.61%\n"
     ]
    },
    {
     "name": "stderr",
     "output_type": "stream",
     "text": [
      " 53%|█████▎    | 106/200 [33:32<29:28, 18.81s/it]"
     ]
    },
    {
     "name": "stdout",
     "output_type": "stream",
     "text": [
      "Validation loss: 0.64239 | Validation accuracy: 78.32%\n",
      "\n",
      "Epoch 107\n",
      "-------------------------------\n",
      "Train loss: 0.56114 | Train accuracy: 80.40%\n"
     ]
    },
    {
     "name": "stderr",
     "output_type": "stream",
     "text": [
      " 54%|█████▎    | 107/200 [33:51<29:14, 18.87s/it]"
     ]
    },
    {
     "name": "stdout",
     "output_type": "stream",
     "text": [
      "Validation loss: 0.64983 | Validation accuracy: 77.31%\n",
      "\n",
      "Epoch 108\n",
      "-------------------------------\n",
      "Train loss: 0.55983 | Train accuracy: 80.42%\n"
     ]
    },
    {
     "name": "stderr",
     "output_type": "stream",
     "text": [
      " 54%|█████▍    | 108/200 [34:09<28:56, 18.88s/it]"
     ]
    },
    {
     "name": "stdout",
     "output_type": "stream",
     "text": [
      "Validation loss: 0.64097 | Validation accuracy: 77.49%\n",
      "\n",
      "Epoch 109\n",
      "-------------------------------\n",
      "Train loss: 0.55962 | Train accuracy: 80.36%\n"
     ]
    },
    {
     "name": "stderr",
     "output_type": "stream",
     "text": [
      " 55%|█████▍    | 109/200 [34:28<28:37, 18.87s/it]"
     ]
    },
    {
     "name": "stdout",
     "output_type": "stream",
     "text": [
      "Validation loss: 0.65103 | Validation accuracy: 77.66%\n",
      "\n",
      "Epoch 110\n",
      "-------------------------------\n",
      "Train loss: 0.54481 | Train accuracy: 80.80%\n"
     ]
    },
    {
     "name": "stderr",
     "output_type": "stream",
     "text": [
      " 55%|█████▌    | 110/200 [34:47<28:20, 18.90s/it]"
     ]
    },
    {
     "name": "stdout",
     "output_type": "stream",
     "text": [
      "Validation loss: 0.62734 | Validation accuracy: 77.90%\n",
      "\n",
      "Epoch 111\n",
      "-------------------------------\n",
      "Train loss: 0.54389 | Train accuracy: 81.00%\n"
     ]
    },
    {
     "name": "stderr",
     "output_type": "stream",
     "text": [
      " 56%|█████▌    | 111/200 [35:06<28:01, 18.89s/it]"
     ]
    },
    {
     "name": "stdout",
     "output_type": "stream",
     "text": [
      "Validation loss: 0.62404 | Validation accuracy: 77.97%\n",
      "\n",
      "Epoch 112\n",
      "-------------------------------\n",
      "Train loss: 0.54362 | Train accuracy: 80.95%\n"
     ]
    },
    {
     "name": "stderr",
     "output_type": "stream",
     "text": [
      " 56%|█████▌    | 112/200 [35:25<27:45, 18.92s/it]"
     ]
    },
    {
     "name": "stdout",
     "output_type": "stream",
     "text": [
      "Validation loss: 0.62693 | Validation accuracy: 78.81%\n",
      "\n",
      "Epoch 113\n",
      "-------------------------------\n",
      "Train loss: 0.53869 | Train accuracy: 80.94%\n"
     ]
    },
    {
     "name": "stderr",
     "output_type": "stream",
     "text": [
      " 56%|█████▋    | 113/200 [35:44<27:23, 18.89s/it]"
     ]
    },
    {
     "name": "stdout",
     "output_type": "stream",
     "text": [
      "Validation loss: 0.63839 | Validation accuracy: 78.01%\n",
      "\n",
      "Epoch 114\n",
      "-------------------------------\n",
      "Train loss: 0.54291 | Train accuracy: 80.89%\n"
     ]
    },
    {
     "name": "stderr",
     "output_type": "stream",
     "text": [
      " 57%|█████▋    | 114/200 [36:03<27:01, 18.86s/it]"
     ]
    },
    {
     "name": "stdout",
     "output_type": "stream",
     "text": [
      "Validation loss: 0.63039 | Validation accuracy: 78.34%\n",
      "\n",
      "Epoch 115\n",
      "-------------------------------\n",
      "Train loss: 0.54264 | Train accuracy: 81.05%\n"
     ]
    },
    {
     "name": "stderr",
     "output_type": "stream",
     "text": [
      " 57%|█████▊    | 115/200 [36:22<26:43, 18.87s/it]"
     ]
    },
    {
     "name": "stdout",
     "output_type": "stream",
     "text": [
      "Validation loss: 0.61936 | Validation accuracy: 78.48%\n",
      "\n",
      "Epoch 116\n",
      "-------------------------------\n",
      "Train loss: 0.54445 | Train accuracy: 80.69%\n"
     ]
    },
    {
     "name": "stderr",
     "output_type": "stream",
     "text": [
      " 58%|█████▊    | 116/200 [36:41<26:24, 18.86s/it]"
     ]
    },
    {
     "name": "stdout",
     "output_type": "stream",
     "text": [
      "Validation loss: 0.62629 | Validation accuracy: 78.36%\n",
      "\n",
      "Epoch 117\n",
      "-------------------------------\n",
      "Train loss: 0.53628 | Train accuracy: 81.32%\n"
     ]
    },
    {
     "name": "stderr",
     "output_type": "stream",
     "text": [
      " 58%|█████▊    | 117/200 [36:59<26:04, 18.85s/it]"
     ]
    },
    {
     "name": "stdout",
     "output_type": "stream",
     "text": [
      "Validation loss: 0.62408 | Validation accuracy: 78.28%\n",
      "\n",
      "Epoch 118\n",
      "-------------------------------\n",
      "Train loss: 0.53296 | Train accuracy: 81.12%\n"
     ]
    },
    {
     "name": "stderr",
     "output_type": "stream",
     "text": [
      " 59%|█████▉    | 118/200 [37:18<25:51, 18.92s/it]"
     ]
    },
    {
     "name": "stdout",
     "output_type": "stream",
     "text": [
      "Validation loss: 0.62317 | Validation accuracy: 78.66%\n",
      "\n",
      "Epoch 119\n",
      "-------------------------------\n",
      "Train loss: 0.53567 | Train accuracy: 81.31%\n"
     ]
    },
    {
     "name": "stderr",
     "output_type": "stream",
     "text": [
      " 60%|█████▉    | 119/200 [37:37<25:30, 18.90s/it]"
     ]
    },
    {
     "name": "stdout",
     "output_type": "stream",
     "text": [
      "Validation loss: 0.61426 | Validation accuracy: 78.45%\n",
      "\n",
      "Epoch 120\n",
      "-------------------------------\n",
      "Train loss: 0.53578 | Train accuracy: 81.21%\n"
     ]
    },
    {
     "name": "stderr",
     "output_type": "stream",
     "text": [
      " 60%|██████    | 120/200 [37:56<25:12, 18.90s/it]"
     ]
    },
    {
     "name": "stdout",
     "output_type": "stream",
     "text": [
      "Validation loss: 0.61753 | Validation accuracy: 78.50%\n",
      "\n",
      "Epoch 121\n",
      "-------------------------------\n",
      "Train loss: 0.53412 | Train accuracy: 81.37%\n"
     ]
    },
    {
     "name": "stderr",
     "output_type": "stream",
     "text": [
      " 60%|██████    | 121/200 [38:15<24:50, 18.86s/it]"
     ]
    },
    {
     "name": "stdout",
     "output_type": "stream",
     "text": [
      "Validation loss: 0.62089 | Validation accuracy: 78.70%\n",
      "\n",
      "Epoch 122\n",
      "-------------------------------\n",
      "Train loss: 0.52547 | Train accuracy: 81.56%\n"
     ]
    },
    {
     "name": "stderr",
     "output_type": "stream",
     "text": [
      " 60%|██████    | 121/200 [38:34<25:11, 19.13s/it]"
     ]
    },
    {
     "name": "stdout",
     "output_type": "stream",
     "text": [
      "Validation loss: 0.61779 | Validation accuracy: 78.69%\n",
      "\n",
      "Early stopping at epoch 122\n",
      "Finished training\n"
     ]
    },
    {
     "name": "stderr",
     "output_type": "stream",
     "text": [
      "\n"
     ]
    },
    {
     "name": "stdout",
     "output_type": "stream",
     "text": [
      "CPU times: user 33min 25s, sys: 1min 11s, total: 34min 37s\n",
      "Wall time: 38min 40s\n"
     ]
    },
    {
     "data": {
      "image/png": "[encoded data removed]",
      "text/plain": [
       "<Figure size 640x480 with 1 Axes>"
      ]
     },
     "metadata": {},
     "output_type": "display_data"
    }
   ],
   "source": [
    "%%time\n",
    "model = ResNet(arch=[[3, 64], [4, 128], [6, 256], [3, 512]], num_classes=10)\n",
    "loss = nn.CrossEntropyLoss()\n",
    "optimizer = optim.Adam(model.parameters(), lr=0.01, weight_decay=1e-4)\n",
    "scheduler = torch.optim.lr_scheduler.ReduceLROnPlateau(optimizer, mode='min', factor=0.8, patience=5, verbose=True)\n",
    "train(model, loss, optimizer, train_dataloader, val_dataloader, scheduler=scheduler, \n",
    "      num_epochs=200, device=device, early_stopper=EarlyStopper(patience=10, min_delta=0.01))"
   ]
  },
  {
   "cell_type": "markdown",
   "metadata": {},
   "source": [
    "### 正则化，删除剪切部分"
   ]
  },
  {
   "cell_type": "code",
   "execution_count": 6,
   "metadata": {},
   "outputs": [
    {
     "name": "stderr",
     "output_type": "stream",
     "text": [
      "  0%|          | 0/200 [00:00<?, ?it/s]"
     ]
    },
    {
     "name": "stdout",
     "output_type": "stream",
     "text": [
      "Epoch 1\n",
      "-------------------------------\n",
      "Train loss: 2.11289 | Train accuracy: 25.04%\n"
     ]
    },
    {
     "name": "stderr",
     "output_type": "stream",
     "text": [
      "  0%|          | 1/200 [00:22<1:14:32, 22.48s/it]"
     ]
    },
    {
     "name": "stdout",
     "output_type": "stream",
     "text": [
      "Validation loss: 1.78087 | Validation accuracy: 34.33%\n",
      "\n",
      "Epoch 2\n",
      "-------------------------------\n",
      "Train loss: 1.61326 | Train accuracy: 39.56%\n"
     ]
    },
    {
     "name": "stderr",
     "output_type": "stream",
     "text": [
      "  1%|          | 2/200 [00:37<1:00:14, 18.26s/it]"
     ]
    },
    {
     "name": "stdout",
     "output_type": "stream",
     "text": [
      "Validation loss: 1.53627 | Validation accuracy: 44.47%\n",
      "\n",
      "Epoch 3\n",
      "-------------------------------\n",
      "Train loss: 1.41093 | Train accuracy: 48.03%\n"
     ]
    },
    {
     "name": "stderr",
     "output_type": "stream",
     "text": [
      "  2%|▏         | 3/200 [00:53<55:34, 16.92s/it]  "
     ]
    },
    {
     "name": "stdout",
     "output_type": "stream",
     "text": [
      "Validation loss: 1.32220 | Validation accuracy: 50.97%\n",
      "\n",
      "Epoch 4\n",
      "-------------------------------\n",
      "Train loss: 1.30392 | Train accuracy: 52.37%\n"
     ]
    },
    {
     "name": "stderr",
     "output_type": "stream",
     "text": [
      "  2%|▏         | 4/200 [01:08<53:07, 16.26s/it]"
     ]
    },
    {
     "name": "stdout",
     "output_type": "stream",
     "text": [
      "Validation loss: 1.44507 | Validation accuracy: 47.55%\n",
      "\n",
      "Epoch 5\n",
      "-------------------------------\n",
      "Train loss: 1.23209 | Train accuracy: 55.21%\n"
     ]
    },
    {
     "name": "stderr",
     "output_type": "stream",
     "text": [
      "  2%|▎         | 5/200 [01:23<51:24, 15.82s/it]"
     ]
    },
    {
     "name": "stdout",
     "output_type": "stream",
     "text": [
      "Validation loss: 1.20871 | Validation accuracy: 55.32%\n",
      "\n",
      "Epoch 6\n",
      "-------------------------------\n",
      "Train loss: 1.15560 | Train accuracy: 57.97%\n"
     ]
    },
    {
     "name": "stderr",
     "output_type": "stream",
     "text": [
      "  3%|▎         | 6/200 [01:38<50:19, 15.57s/it]"
     ]
    },
    {
     "name": "stdout",
     "output_type": "stream",
     "text": [
      "Validation loss: 1.11701 | Validation accuracy: 59.71%\n",
      "\n",
      "Epoch 7\n",
      "-------------------------------\n",
      "Train loss: 1.11845 | Train accuracy: 59.50%\n"
     ]
    },
    {
     "name": "stderr",
     "output_type": "stream",
     "text": [
      "  4%|▎         | 7/200 [01:53<49:36, 15.42s/it]"
     ]
    },
    {
     "name": "stdout",
     "output_type": "stream",
     "text": [
      "Validation loss: 1.12526 | Validation accuracy: 60.50%\n",
      "\n",
      "Epoch 8\n",
      "-------------------------------\n",
      "Train loss: 1.07162 | Train accuracy: 61.40%\n"
     ]
    },
    {
     "name": "stderr",
     "output_type": "stream",
     "text": [
      "  4%|▍         | 8/200 [02:09<49:29, 15.47s/it]"
     ]
    },
    {
     "name": "stdout",
     "output_type": "stream",
     "text": [
      "Validation loss: 1.10551 | Validation accuracy: 60.05%\n",
      "\n",
      "Epoch 9\n",
      "-------------------------------\n",
      "Train loss: 1.03078 | Train accuracy: 62.95%\n"
     ]
    },
    {
     "name": "stderr",
     "output_type": "stream",
     "text": [
      "  4%|▍         | 9/200 [02:24<49:30, 15.55s/it]"
     ]
    },
    {
     "name": "stdout",
     "output_type": "stream",
     "text": [
      "Validation loss: 1.01606 | Validation accuracy: 63.55%\n",
      "\n",
      "Epoch 10\n",
      "-------------------------------\n",
      "Train loss: 1.00243 | Train accuracy: 64.19%\n"
     ]
    },
    {
     "name": "stderr",
     "output_type": "stream",
     "text": [
      "  5%|▌         | 10/200 [02:40<49:09, 15.53s/it]"
     ]
    },
    {
     "name": "stdout",
     "output_type": "stream",
     "text": [
      "Validation loss: 1.01085 | Validation accuracy: 63.50%\n",
      "\n",
      "Epoch 11\n",
      "-------------------------------\n",
      "Train loss: 0.95036 | Train accuracy: 65.94%\n"
     ]
    },
    {
     "name": "stderr",
     "output_type": "stream",
     "text": [
      "  6%|▌         | 11/200 [02:55<48:51, 15.51s/it]"
     ]
    },
    {
     "name": "stdout",
     "output_type": "stream",
     "text": [
      "Validation loss: 1.02860 | Validation accuracy: 64.27%\n",
      "\n",
      "Epoch 12\n",
      "-------------------------------\n",
      "Train loss: 0.93240 | Train accuracy: 66.83%\n"
     ]
    },
    {
     "name": "stderr",
     "output_type": "stream",
     "text": [
      "  6%|▌         | 12/200 [03:11<48:42, 15.55s/it]"
     ]
    },
    {
     "name": "stdout",
     "output_type": "stream",
     "text": [
      "Validation loss: 0.95097 | Validation accuracy: 66.46%\n",
      "\n",
      "Epoch 13\n",
      "-------------------------------\n",
      "Train loss: 0.89700 | Train accuracy: 68.12%\n"
     ]
    },
    {
     "name": "stderr",
     "output_type": "stream",
     "text": [
      "  6%|▋         | 13/200 [03:27<48:35, 15.59s/it]"
     ]
    },
    {
     "name": "stdout",
     "output_type": "stream",
     "text": [
      "Validation loss: 0.96908 | Validation accuracy: 66.22%\n",
      "\n",
      "Epoch 14\n",
      "-------------------------------\n",
      "Train loss: 0.87842 | Train accuracy: 69.00%\n"
     ]
    },
    {
     "name": "stderr",
     "output_type": "stream",
     "text": [
      "  7%|▋         | 14/200 [03:42<48:18, 15.58s/it]"
     ]
    },
    {
     "name": "stdout",
     "output_type": "stream",
     "text": [
      "Validation loss: 0.94051 | Validation accuracy: 66.47%\n",
      "\n",
      "Epoch 15\n",
      "-------------------------------\n",
      "Train loss: 0.86596 | Train accuracy: 69.20%\n"
     ]
    },
    {
     "name": "stderr",
     "output_type": "stream",
     "text": [
      "  8%|▊         | 15/200 [03:58<47:55, 15.55s/it]"
     ]
    },
    {
     "name": "stdout",
     "output_type": "stream",
     "text": [
      "Validation loss: 0.90019 | Validation accuracy: 68.15%\n",
      "\n",
      "Epoch 16\n",
      "-------------------------------\n",
      "Train loss: 0.84504 | Train accuracy: 69.90%\n"
     ]
    },
    {
     "name": "stderr",
     "output_type": "stream",
     "text": [
      "  8%|▊         | 16/200 [04:13<47:24, 15.46s/it]"
     ]
    },
    {
     "name": "stdout",
     "output_type": "stream",
     "text": [
      "Validation loss: 0.89584 | Validation accuracy: 68.16%\n",
      "\n",
      "Epoch 17\n",
      "-------------------------------\n",
      "Train loss: 0.81926 | Train accuracy: 70.79%\n"
     ]
    },
    {
     "name": "stderr",
     "output_type": "stream",
     "text": [
      "  8%|▊         | 17/200 [04:28<46:55, 15.38s/it]"
     ]
    },
    {
     "name": "stdout",
     "output_type": "stream",
     "text": [
      "Validation loss: 0.93664 | Validation accuracy: 66.98%\n",
      "\n",
      "Epoch 18\n",
      "-------------------------------\n",
      "Train loss: 0.81233 | Train accuracy: 71.01%\n"
     ]
    },
    {
     "name": "stderr",
     "output_type": "stream",
     "text": [
      "  9%|▉         | 18/200 [04:43<46:29, 15.33s/it]"
     ]
    },
    {
     "name": "stdout",
     "output_type": "stream",
     "text": [
      "Validation loss: 0.88485 | Validation accuracy: 69.19%\n",
      "\n",
      "Epoch 19\n",
      "-------------------------------\n",
      "Train loss: 0.80004 | Train accuracy: 71.90%\n"
     ]
    },
    {
     "name": "stderr",
     "output_type": "stream",
     "text": [
      " 10%|▉         | 19/200 [04:59<46:09, 15.30s/it]"
     ]
    },
    {
     "name": "stdout",
     "output_type": "stream",
     "text": [
      "Validation loss: 0.87339 | Validation accuracy: 69.62%\n",
      "\n",
      "Epoch 20\n",
      "-------------------------------\n",
      "Train loss: 0.79400 | Train accuracy: 71.93%\n"
     ]
    },
    {
     "name": "stderr",
     "output_type": "stream",
     "text": [
      " 10%|█         | 20/200 [05:14<45:42, 15.23s/it]"
     ]
    },
    {
     "name": "stdout",
     "output_type": "stream",
     "text": [
      "Validation loss: 0.86226 | Validation accuracy: 69.54%\n",
      "\n",
      "Epoch 21\n",
      "-------------------------------\n",
      "Train loss: 0.76752 | Train accuracy: 72.97%\n"
     ]
    },
    {
     "name": "stderr",
     "output_type": "stream",
     "text": [
      " 10%|█         | 21/200 [05:29<45:26, 15.23s/it]"
     ]
    },
    {
     "name": "stdout",
     "output_type": "stream",
     "text": [
      "Validation loss: 0.85757 | Validation accuracy: 70.50%\n",
      "\n",
      "Epoch 22\n",
      "-------------------------------\n",
      "Train loss: 0.75958 | Train accuracy: 73.19%\n"
     ]
    },
    {
     "name": "stderr",
     "output_type": "stream",
     "text": [
      " 11%|█         | 22/200 [05:44<45:08, 15.22s/it]"
     ]
    },
    {
     "name": "stdout",
     "output_type": "stream",
     "text": [
      "Validation loss: 0.86948 | Validation accuracy: 69.50%\n",
      "\n",
      "Epoch 23\n",
      "-------------------------------\n",
      "Train loss: 0.75226 | Train accuracy: 73.25%\n"
     ]
    },
    {
     "name": "stderr",
     "output_type": "stream",
     "text": [
      " 12%|█▏        | 23/200 [05:59<44:52, 15.21s/it]"
     ]
    },
    {
     "name": "stdout",
     "output_type": "stream",
     "text": [
      "Validation loss: 0.87207 | Validation accuracy: 69.62%\n",
      "\n",
      "Epoch 24\n",
      "-------------------------------\n",
      "Train loss: 0.74887 | Train accuracy: 73.61%\n"
     ]
    },
    {
     "name": "stderr",
     "output_type": "stream",
     "text": [
      " 12%|█▏        | 24/200 [06:15<44:42, 15.24s/it]"
     ]
    },
    {
     "name": "stdout",
     "output_type": "stream",
     "text": [
      "Validation loss: 0.87920 | Validation accuracy: 69.07%\n",
      "\n",
      "Epoch 25\n",
      "-------------------------------\n",
      "Train loss: 0.73884 | Train accuracy: 73.75%\n"
     ]
    },
    {
     "name": "stderr",
     "output_type": "stream",
     "text": [
      " 12%|█▎        | 25/200 [06:30<44:31, 15.26s/it]"
     ]
    },
    {
     "name": "stdout",
     "output_type": "stream",
     "text": [
      "Validation loss: 0.86971 | Validation accuracy: 69.89%\n",
      "\n",
      "Epoch 26\n",
      "-------------------------------\n",
      "Train loss: 0.70745 | Train accuracy: 75.01%\n"
     ]
    },
    {
     "name": "stderr",
     "output_type": "stream",
     "text": [
      " 13%|█▎        | 26/200 [06:45<44:16, 15.27s/it]"
     ]
    },
    {
     "name": "stdout",
     "output_type": "stream",
     "text": [
      "Validation loss: 0.87508 | Validation accuracy: 69.93%\n",
      "\n",
      "Epoch 27\n",
      "-------------------------------\n",
      "Train loss: 0.70311 | Train accuracy: 75.14%\n"
     ]
    },
    {
     "name": "stderr",
     "output_type": "stream",
     "text": [
      " 14%|█▎        | 27/200 [07:01<44:07, 15.30s/it]"
     ]
    },
    {
     "name": "stdout",
     "output_type": "stream",
     "text": [
      "Validation loss: 0.81050 | Validation accuracy: 71.35%\n",
      "\n",
      "Epoch 28\n",
      "-------------------------------\n",
      "Train loss: 0.70434 | Train accuracy: 75.17%\n"
     ]
    },
    {
     "name": "stderr",
     "output_type": "stream",
     "text": [
      " 14%|█▍        | 28/200 [07:16<43:46, 15.27s/it]"
     ]
    },
    {
     "name": "stdout",
     "output_type": "stream",
     "text": [
      "Validation loss: 0.82344 | Validation accuracy: 71.21%\n",
      "\n",
      "Epoch 29\n",
      "-------------------------------\n",
      "Train loss: 0.70078 | Train accuracy: 75.19%\n"
     ]
    },
    {
     "name": "stderr",
     "output_type": "stream",
     "text": [
      " 14%|█▍        | 29/200 [07:31<43:21, 15.21s/it]"
     ]
    },
    {
     "name": "stdout",
     "output_type": "stream",
     "text": [
      "Validation loss: 0.82300 | Validation accuracy: 71.54%\n",
      "\n",
      "Epoch 30\n",
      "-------------------------------\n",
      "Train loss: 0.68896 | Train accuracy: 75.64%\n"
     ]
    },
    {
     "name": "stderr",
     "output_type": "stream",
     "text": [
      " 15%|█▌        | 30/200 [07:46<42:52, 15.13s/it]"
     ]
    },
    {
     "name": "stdout",
     "output_type": "stream",
     "text": [
      "Validation loss: 0.84455 | Validation accuracy: 71.66%\n",
      "\n",
      "Epoch 31\n",
      "-------------------------------\n",
      "Train loss: 0.66794 | Train accuracy: 76.50%\n"
     ]
    },
    {
     "name": "stderr",
     "output_type": "stream",
     "text": [
      " 16%|█▌        | 31/200 [08:01<42:40, 15.15s/it]"
     ]
    },
    {
     "name": "stdout",
     "output_type": "stream",
     "text": [
      "Validation loss: 0.79523 | Validation accuracy: 72.68%\n",
      "\n",
      "Epoch 32\n",
      "-------------------------------\n",
      "Train loss: 0.65931 | Train accuracy: 76.66%\n"
     ]
    },
    {
     "name": "stderr",
     "output_type": "stream",
     "text": [
      " 16%|█▌        | 32/200 [08:16<42:33, 15.20s/it]"
     ]
    },
    {
     "name": "stdout",
     "output_type": "stream",
     "text": [
      "Validation loss: 0.77745 | Validation accuracy: 73.28%\n",
      "\n",
      "Epoch 33\n",
      "-------------------------------\n",
      "Train loss: 0.66077 | Train accuracy: 76.70%\n"
     ]
    },
    {
     "name": "stderr",
     "output_type": "stream",
     "text": [
      " 16%|█▋        | 33/200 [08:31<42:17, 15.20s/it]"
     ]
    },
    {
     "name": "stdout",
     "output_type": "stream",
     "text": [
      "Validation loss: 0.80545 | Validation accuracy: 72.42%\n",
      "\n",
      "Epoch 34\n",
      "-------------------------------\n",
      "Train loss: 0.64994 | Train accuracy: 77.26%\n"
     ]
    },
    {
     "name": "stderr",
     "output_type": "stream",
     "text": [
      " 17%|█▋        | 34/200 [08:47<42:11, 15.25s/it]"
     ]
    },
    {
     "name": "stdout",
     "output_type": "stream",
     "text": [
      "Validation loss: 0.79037 | Validation accuracy: 72.69%\n",
      "\n",
      "Epoch 35\n",
      "-------------------------------\n",
      "Train loss: 0.64809 | Train accuracy: 77.03%\n"
     ]
    },
    {
     "name": "stderr",
     "output_type": "stream",
     "text": [
      " 18%|█▊        | 35/200 [09:02<42:13, 15.36s/it]"
     ]
    },
    {
     "name": "stdout",
     "output_type": "stream",
     "text": [
      "Validation loss: 0.82113 | Validation accuracy: 71.73%\n",
      "\n",
      "Epoch 36\n",
      "-------------------------------\n",
      "Train loss: 0.63098 | Train accuracy: 77.81%\n"
     ]
    },
    {
     "name": "stderr",
     "output_type": "stream",
     "text": [
      " 18%|█▊        | 36/200 [09:18<42:11, 15.44s/it]"
     ]
    },
    {
     "name": "stdout",
     "output_type": "stream",
     "text": [
      "Validation loss: 0.80319 | Validation accuracy: 72.24%\n",
      "\n",
      "Epoch 37\n",
      "-------------------------------\n",
      "Train loss: 0.62722 | Train accuracy: 77.95%\n"
     ]
    },
    {
     "name": "stderr",
     "output_type": "stream",
     "text": [
      " 18%|█▊        | 37/200 [09:34<42:05, 15.49s/it]"
     ]
    },
    {
     "name": "stdout",
     "output_type": "stream",
     "text": [
      "Validation loss: 0.80585 | Validation accuracy: 71.69%\n",
      "\n",
      "Epoch 38\n",
      "-------------------------------\n",
      "Train loss: 0.61914 | Train accuracy: 78.09%\n"
     ]
    },
    {
     "name": "stderr",
     "output_type": "stream",
     "text": [
      " 19%|█▉        | 38/200 [09:49<41:51, 15.50s/it]"
     ]
    },
    {
     "name": "stdout",
     "output_type": "stream",
     "text": [
      "Validation loss: 0.79040 | Validation accuracy: 73.18%\n",
      "\n",
      "Epoch 39\n",
      "-------------------------------\n",
      "Train loss: 0.61932 | Train accuracy: 78.28%\n"
     ]
    },
    {
     "name": "stderr",
     "output_type": "stream",
     "text": [
      " 20%|█▉        | 39/200 [10:04<41:20, 15.41s/it]"
     ]
    },
    {
     "name": "stdout",
     "output_type": "stream",
     "text": [
      "Validation loss: 0.80156 | Validation accuracy: 72.26%\n",
      "\n",
      "Epoch 40\n",
      "-------------------------------\n",
      "Train loss: 0.61054 | Train accuracy: 78.55%\n"
     ]
    },
    {
     "name": "stderr",
     "output_type": "stream",
     "text": [
      " 20%|██        | 40/200 [10:20<40:58, 15.37s/it]"
     ]
    },
    {
     "name": "stdout",
     "output_type": "stream",
     "text": [
      "Validation loss: 0.80503 | Validation accuracy: 72.67%\n",
      "\n",
      "Epoch 41\n",
      "-------------------------------\n",
      "Train loss: 0.59241 | Train accuracy: 79.10%\n"
     ]
    },
    {
     "name": "stderr",
     "output_type": "stream",
     "text": [
      " 20%|██        | 41/200 [10:35<40:35, 15.32s/it]"
     ]
    },
    {
     "name": "stdout",
     "output_type": "stream",
     "text": [
      "Validation loss: 0.79483 | Validation accuracy: 72.73%\n",
      "\n",
      "Epoch 42\n",
      "-------------------------------\n",
      "Train loss: 0.58724 | Train accuracy: 79.39%\n"
     ]
    },
    {
     "name": "stderr",
     "output_type": "stream",
     "text": [
      " 20%|██        | 41/200 [10:50<42:03, 15.87s/it]"
     ]
    },
    {
     "name": "stdout",
     "output_type": "stream",
     "text": [
      "Validation loss: 0.81660 | Validation accuracy: 72.02%\n",
      "\n",
      "Early stopping at epoch 42\n",
      "Finished training\n"
     ]
    },
    {
     "name": "stderr",
     "output_type": "stream",
     "text": [
      "\n"
     ]
    },
    {
     "name": "stdout",
     "output_type": "stream",
     "text": [
      "CPU times: user 9min 37s, sys: 28 s, total: 10min 5s\n",
      "Wall time: 10min 53s\n"
     ]
    },
    {
     "data": {
      "image/png": "[encoded data removed]",
      "text/plain": [
       "<Figure size 640x480 with 1 Axes>"
      ]
     },
     "metadata": {},
     "output_type": "display_data"
    }
   ],
   "source": [
    "%%time\n",
    "model = ResNet(arch=[[3, 64], [4, 128], [6, 256], [3, 512]], num_classes=10)\n",
    "loss = nn.CrossEntropyLoss()\n",
    "optimizer = optim.Adam(model.parameters(), lr=0.01, weight_decay=1e-4)\n",
    "scheduler = torch.optim.lr_scheduler.StepLR(optimizer, step_size=5, gamma=0.9, last_epoch=-1)\n",
    "train(model, loss, optimizer, train_dataloader, val_dataloader, scheduler=scheduler, \n",
    "      num_epochs=200, device=device, early_stopper=EarlyStopper(patience=10, min_delta=0.01))"
   ]
  },
  {
   "cell_type": "markdown",
   "metadata": {},
   "source": [
    "### 保存\n",
    "\n",
    "dropout resnet34\n",
    "Epoch 101\n",
    "-------------------------------\n",
    "Train loss: 0.54843 | Train accuracy: 81.32%\n",
    " 50%|█████     | 100/200 [34:18<34:18, 20.59s/it]\n",
    "Validation loss: 0.61166 | Validation accuracy: 79.45%"
   ]
  },
  {
   "cell_type": "code",
   "execution_count": 12,
   "metadata": {},
   "outputs": [],
   "source": [
    "MODEL_NAME = \"ResNet_cifar10.pth\"\n",
    "MODEL_SAVE_PATH = MODEL_PATH / MODEL_NAME\n",
    "torch.save(obj=model.state_dict(), \n",
    "           f=MODEL_SAVE_PATH)"
   ]
  },
  {
   "cell_type": "markdown",
   "metadata": {},
   "source": [
    "## resnet9\n",
    "### 定义"
   ]
  },
  {
   "cell_type": "code",
   "execution_count": 5,
   "metadata": {},
   "outputs": [
    {
     "name": "stdout",
     "output_type": "stream",
     "text": [
      "Sequential output shape:\t torch.Size([1, 64, 32, 32])\n",
      "Sequential output shape:\t torch.Size([1, 128, 16, 16])\n",
      "Sequential output shape:\t torch.Size([1, 256, 8, 8])\n",
      "Sequential output shape:\t torch.Size([1, 512, 4, 4])\n",
      "Sequential output shape:\t torch.Size([1, 10])\n"
     ]
    },
    {
     "name": "stderr",
     "output_type": "stream",
     "text": [
      "e:\\anaconda\\envs\\d2l\\lib\\site-packages\\torch\\nn\\modules\\lazy.py:181: UserWarning: Lazy modules are a new feature under heavy development so changes to the API or functionality can happen at any moment.\n",
      "  warnings.warn('Lazy modules are a new feature under heavy development '\n"
     ]
    }
   ],
   "source": [
    "class residual_block(nn.Module):\n",
    "    def __init__(self, num_channels, dropout=0, use_1x1conv=False, strides=1):\n",
    "        super().__init__()\n",
    "        self.dropout = dropout\n",
    "        self.conv1 = nn.LazyConv2d(num_channels, kernel_size=3, padding=1,\n",
    "                                   stride=strides)\n",
    "        self.conv2 = nn.LazyConv2d(num_channels, kernel_size=3, padding=1)\n",
    "        if use_1x1conv:\n",
    "            self.conv3 = nn.LazyConv2d(num_channels, kernel_size=1,\n",
    "                                       stride=strides)\n",
    "        else:\n",
    "            self.conv3 = None\n",
    "        self.bn1 = nn.LazyBatchNorm2d()\n",
    "        self.bn2 = nn.LazyBatchNorm2d()\n",
    "    def forward(self, X):\n",
    "        Y = F.relu(self.bn1(self.conv1(X)))\n",
    "        if self.dropout != 0:\n",
    "            Y = nn.Dropout2d(self.dropout)(Y)\n",
    "        Y = self.bn2(self.conv2(Y))\n",
    "        if self.conv3:\n",
    "            X = self.conv3(X)\n",
    "        Y += X\n",
    "        return F.relu(Y)\n",
    "\n",
    "class resnet9(nn.Module):\n",
    "    def __init__(self) -> None:\n",
    "        super().__init__()\n",
    "        self.prep = self.conv_block(64)\n",
    "        self.layer_1 = nn.Sequential(\n",
    "            self.conv_block(128),\n",
    "            nn.MaxPool2d(2),\n",
    "            residual_block(128)\n",
    "        )\n",
    "        self.layer_2 = nn.Sequential(\n",
    "            self.conv_block(256),\n",
    "            nn.MaxPool2d(2)\n",
    "        )\n",
    "        self.layer_3 = nn.Sequential(\n",
    "            self.conv_block(512),\n",
    "            nn.MaxPool2d(2),\n",
    "            residual_block(512)\n",
    "        )\n",
    "        self.classifier = nn.Sequential(\n",
    "            nn.MaxPool2d(4),\n",
    "            nn.Flatten(),\n",
    "            nn.LazyLinear(10)\n",
    "        )\n",
    "        self.net = nn.Sequential(self.prep, self.layer_1, self.layer_2, self.layer_3, self.classifier)\n",
    "\n",
    "    def conv_block(self, num_channels):\n",
    "        return nn.Sequential(\n",
    "            nn.LazyConv2d(num_channels, kernel_size=3, stride=1, padding=1),\n",
    "            nn.LazyBatchNorm2d(), nn.ReLU(),\n",
    "            #nn.MaxPool2d(kernel_size=3, stride=2, padding=1)\n",
    "            )\n",
    "    \n",
    "    def forward(self, X):\n",
    "        return self.net(X)\n",
    "    \n",
    "model = resnet9()\n",
    "layer_summary(model, (1, 3, 32, 32))"
   ]
  },
  {
   "cell_type": "markdown",
   "metadata": {},
   "source": [
    "### 训练"
   ]
  },
  {
   "cell_type": "code",
   "execution_count": 8,
   "metadata": {},
   "outputs": [
    {
     "name": "stderr",
     "output_type": "stream",
     "text": [
      "  0%|          | 0/200 [00:00<?, ?it/s]"
     ]
    },
    {
     "name": "stdout",
     "output_type": "stream",
     "text": [
      "Epoch 1\n",
      "-------------------------------\n",
      "Train loss: 1.66362 | Train accuracy: 40.30%\n"
     ]
    },
    {
     "name": "stderr",
     "output_type": "stream",
     "text": [
      "  0%|          | 1/200 [00:25<1:24:01, 25.33s/it]"
     ]
    },
    {
     "name": "stdout",
     "output_type": "stream",
     "text": [
      "Validation loss: 1.38674 | Validation accuracy: 50.27%\n",
      "\n",
      "Epoch 2\n",
      "-------------------------------\n",
      "Train loss: 2.21535 | Train accuracy: 29.24%\n"
     ]
    },
    {
     "name": "stderr",
     "output_type": "stream",
     "text": [
      "  1%|          | 2/200 [00:41<1:05:56, 19.98s/it]"
     ]
    },
    {
     "name": "stdout",
     "output_type": "stream",
     "text": [
      "Validation loss: 1.74624 | Validation accuracy: 36.14%\n",
      "\n",
      "Epoch 3\n",
      "-------------------------------\n",
      "Train loss: 1.60486 | Train accuracy: 41.75%\n"
     ]
    },
    {
     "name": "stderr",
     "output_type": "stream",
     "text": [
      "  2%|▏         | 3/200 [00:57<59:55, 18.25s/it]  "
     ]
    },
    {
     "name": "stdout",
     "output_type": "stream",
     "text": [
      "Validation loss: 1.50819 | Validation accuracy: 45.49%\n",
      "\n",
      "Epoch 4\n",
      "-------------------------------\n",
      "Train loss: 1.44896 | Train accuracy: 47.73%\n"
     ]
    },
    {
     "name": "stderr",
     "output_type": "stream",
     "text": [
      "  2%|▏         | 4/200 [01:14<57:02, 17.46s/it]"
     ]
    },
    {
     "name": "stdout",
     "output_type": "stream",
     "text": [
      "Validation loss: 1.39511 | Validation accuracy: 49.15%\n",
      "\n",
      "Epoch 5\n",
      "-------------------------------\n",
      "Train loss: 1.32262 | Train accuracy: 52.64%\n"
     ]
    },
    {
     "name": "stderr",
     "output_type": "stream",
     "text": [
      "  2%|▎         | 5/200 [01:29<54:59, 16.92s/it]"
     ]
    },
    {
     "name": "stdout",
     "output_type": "stream",
     "text": [
      "Validation loss: 1.61351 | Validation accuracy: 45.79%\n",
      "\n",
      "Epoch 6\n",
      "-------------------------------\n",
      "Train loss: 1.22699 | Train accuracy: 56.43%\n"
     ]
    },
    {
     "name": "stderr",
     "output_type": "stream",
     "text": [
      "  3%|▎         | 6/200 [01:46<53:46, 16.63s/it]"
     ]
    },
    {
     "name": "stdout",
     "output_type": "stream",
     "text": [
      "Validation loss: 1.18222 | Validation accuracy: 58.57%\n",
      "\n",
      "Epoch 7\n",
      "-------------------------------\n",
      "Train loss: 1.12347 | Train accuracy: 60.35%\n"
     ]
    },
    {
     "name": "stderr",
     "output_type": "stream",
     "text": [
      "  4%|▎         | 7/200 [02:02<52:55, 16.45s/it]"
     ]
    },
    {
     "name": "stdout",
     "output_type": "stream",
     "text": [
      "Validation loss: 1.14024 | Validation accuracy: 59.47%\n",
      "\n",
      "Epoch 8\n",
      "-------------------------------\n",
      "Train loss: 1.06599 | Train accuracy: 62.37%\n"
     ]
    },
    {
     "name": "stderr",
     "output_type": "stream",
     "text": [
      "  4%|▍         | 8/200 [02:18<52:06, 16.28s/it]"
     ]
    },
    {
     "name": "stdout",
     "output_type": "stream",
     "text": [
      "Validation loss: 1.05521 | Validation accuracy: 63.03%\n",
      "\n",
      "Epoch 9\n",
      "-------------------------------\n",
      "Train loss: 0.99418 | Train accuracy: 65.11%\n"
     ]
    },
    {
     "name": "stderr",
     "output_type": "stream",
     "text": [
      "  4%|▍         | 9/200 [02:34<51:34, 16.20s/it]"
     ]
    },
    {
     "name": "stdout",
     "output_type": "stream",
     "text": [
      "Validation loss: 1.00695 | Validation accuracy: 64.75%\n",
      "\n",
      "Epoch 10\n",
      "-------------------------------\n",
      "Train loss: 0.92752 | Train accuracy: 67.64%\n"
     ]
    },
    {
     "name": "stderr",
     "output_type": "stream",
     "text": [
      "  5%|▌         | 10/200 [02:50<51:05, 16.14s/it]"
     ]
    },
    {
     "name": "stdout",
     "output_type": "stream",
     "text": [
      "Validation loss: 0.90887 | Validation accuracy: 68.25%\n",
      "\n",
      "Epoch 11\n",
      "-------------------------------\n",
      "Train loss: 0.87365 | Train accuracy: 69.39%\n"
     ]
    },
    {
     "name": "stderr",
     "output_type": "stream",
     "text": [
      "  6%|▌         | 11/200 [03:06<50:42, 16.10s/it]"
     ]
    },
    {
     "name": "stdout",
     "output_type": "stream",
     "text": [
      "Validation loss: 0.88344 | Validation accuracy: 69.30%\n",
      "\n",
      "Epoch 12\n",
      "-------------------------------\n",
      "Train loss: 0.83883 | Train accuracy: 70.60%\n"
     ]
    },
    {
     "name": "stderr",
     "output_type": "stream",
     "text": [
      "  6%|▌         | 12/200 [03:22<50:16, 16.05s/it]"
     ]
    },
    {
     "name": "stdout",
     "output_type": "stream",
     "text": [
      "Validation loss: 0.82778 | Validation accuracy: 71.32%\n",
      "\n",
      "Epoch 13\n",
      "-------------------------------\n",
      "Train loss: 0.78100 | Train accuracy: 72.70%\n"
     ]
    },
    {
     "name": "stderr",
     "output_type": "stream",
     "text": [
      "  6%|▋         | 13/200 [03:37<49:51, 16.00s/it]"
     ]
    },
    {
     "name": "stdout",
     "output_type": "stream",
     "text": [
      "Validation loss: 0.83414 | Validation accuracy: 70.92%\n",
      "\n",
      "Epoch 14\n",
      "-------------------------------\n",
      "Train loss: 0.74344 | Train accuracy: 74.21%\n"
     ]
    },
    {
     "name": "stderr",
     "output_type": "stream",
     "text": [
      "  7%|▋         | 14/200 [03:53<49:41, 16.03s/it]"
     ]
    },
    {
     "name": "stdout",
     "output_type": "stream",
     "text": [
      "Validation loss: 0.79363 | Validation accuracy: 72.76%\n",
      "\n",
      "Epoch 15\n",
      "-------------------------------\n",
      "Train loss: 0.71263 | Train accuracy: 75.24%\n"
     ]
    },
    {
     "name": "stderr",
     "output_type": "stream",
     "text": [
      "  8%|▊         | 15/200 [04:09<49:09, 15.94s/it]"
     ]
    },
    {
     "name": "stdout",
     "output_type": "stream",
     "text": [
      "Validation loss: 0.73673 | Validation accuracy: 74.92%\n",
      "\n",
      "Epoch 16\n",
      "-------------------------------\n",
      "Train loss: 0.67296 | Train accuracy: 76.53%\n"
     ]
    },
    {
     "name": "stderr",
     "output_type": "stream",
     "text": [
      "  8%|▊         | 16/200 [04:25<48:50, 15.93s/it]"
     ]
    },
    {
     "name": "stdout",
     "output_type": "stream",
     "text": [
      "Validation loss: 0.70840 | Validation accuracy: 74.88%\n",
      "\n",
      "Epoch 17\n",
      "-------------------------------\n",
      "Train loss: 0.64636 | Train accuracy: 77.37%\n"
     ]
    },
    {
     "name": "stderr",
     "output_type": "stream",
     "text": [
      "  8%|▊         | 17/200 [04:41<48:38, 15.95s/it]"
     ]
    },
    {
     "name": "stdout",
     "output_type": "stream",
     "text": [
      "Validation loss: 0.68303 | Validation accuracy: 76.43%\n",
      "\n",
      "Epoch 18\n",
      "-------------------------------\n",
      "Train loss: 0.62075 | Train accuracy: 78.48%\n"
     ]
    },
    {
     "name": "stderr",
     "output_type": "stream",
     "text": [
      "  9%|▉         | 18/200 [04:57<48:11, 15.89s/it]"
     ]
    },
    {
     "name": "stdout",
     "output_type": "stream",
     "text": [
      "Validation loss: 0.67231 | Validation accuracy: 76.63%\n",
      "\n",
      "Epoch 19\n",
      "-------------------------------\n",
      "Train loss: 0.58950 | Train accuracy: 79.62%\n"
     ]
    },
    {
     "name": "stderr",
     "output_type": "stream",
     "text": [
      " 10%|▉         | 19/200 [05:13<47:56, 15.89s/it]"
     ]
    },
    {
     "name": "stdout",
     "output_type": "stream",
     "text": [
      "Validation loss: 0.68510 | Validation accuracy: 76.18%\n",
      "\n",
      "Epoch 20\n",
      "-------------------------------\n",
      "Train loss: 0.57853 | Train accuracy: 79.92%\n"
     ]
    },
    {
     "name": "stderr",
     "output_type": "stream",
     "text": [
      " 10%|█         | 20/200 [05:29<47:56, 15.98s/it]"
     ]
    },
    {
     "name": "stdout",
     "output_type": "stream",
     "text": [
      "Validation loss: 0.63260 | Validation accuracy: 78.08%\n",
      "\n",
      "Epoch 21\n",
      "-------------------------------\n",
      "Train loss: 0.55460 | Train accuracy: 80.78%\n"
     ]
    },
    {
     "name": "stderr",
     "output_type": "stream",
     "text": [
      " 10%|█         | 21/200 [05:45<47:44, 16.00s/it]"
     ]
    },
    {
     "name": "stdout",
     "output_type": "stream",
     "text": [
      "Validation loss: 0.61445 | Validation accuracy: 79.02%\n",
      "\n",
      "Epoch 22\n",
      "-------------------------------\n",
      "Train loss: 0.53503 | Train accuracy: 81.27%\n"
     ]
    },
    {
     "name": "stderr",
     "output_type": "stream",
     "text": [
      " 11%|█         | 22/200 [06:01<47:28, 16.00s/it]"
     ]
    },
    {
     "name": "stdout",
     "output_type": "stream",
     "text": [
      "Validation loss: 0.62704 | Validation accuracy: 78.65%\n",
      "\n",
      "Epoch 23\n",
      "-------------------------------\n",
      "Train loss: 0.51998 | Train accuracy: 81.95%\n"
     ]
    },
    {
     "name": "stderr",
     "output_type": "stream",
     "text": [
      " 12%|█▏        | 23/200 [06:17<47:17, 16.03s/it]"
     ]
    },
    {
     "name": "stdout",
     "output_type": "stream",
     "text": [
      "Validation loss: 0.63098 | Validation accuracy: 78.99%\n",
      "\n",
      "Epoch 24\n",
      "-------------------------------\n",
      "Train loss: 0.50499 | Train accuracy: 82.44%\n"
     ]
    },
    {
     "name": "stderr",
     "output_type": "stream",
     "text": [
      " 12%|█▏        | 24/200 [06:33<46:57, 16.01s/it]"
     ]
    },
    {
     "name": "stdout",
     "output_type": "stream",
     "text": [
      "Validation loss: 0.61920 | Validation accuracy: 79.15%\n",
      "\n",
      "Epoch 25\n",
      "-------------------------------\n",
      "Train loss: 0.48468 | Train accuracy: 83.13%\n"
     ]
    },
    {
     "name": "stderr",
     "output_type": "stream",
     "text": [
      " 12%|█▎        | 25/200 [06:49<46:45, 16.03s/it]"
     ]
    },
    {
     "name": "stdout",
     "output_type": "stream",
     "text": [
      "Validation loss: 0.57572 | Validation accuracy: 80.50%\n",
      "\n",
      "Epoch 26\n",
      "-------------------------------\n",
      "Train loss: 0.46657 | Train accuracy: 83.85%\n"
     ]
    },
    {
     "name": "stderr",
     "output_type": "stream",
     "text": [
      " 13%|█▎        | 26/200 [07:05<46:17, 15.97s/it]"
     ]
    },
    {
     "name": "stdout",
     "output_type": "stream",
     "text": [
      "Validation loss: 0.56455 | Validation accuracy: 80.43%\n",
      "\n",
      "Epoch 27\n",
      "-------------------------------\n",
      "Train loss: 0.45472 | Train accuracy: 84.22%\n"
     ]
    },
    {
     "name": "stderr",
     "output_type": "stream",
     "text": [
      " 14%|█▎        | 27/200 [07:21<46:03, 15.98s/it]"
     ]
    },
    {
     "name": "stdout",
     "output_type": "stream",
     "text": [
      "Validation loss: 0.56912 | Validation accuracy: 80.98%\n",
      "\n",
      "Epoch 28\n",
      "-------------------------------\n",
      "Train loss: 0.43890 | Train accuracy: 84.70%\n"
     ]
    },
    {
     "name": "stderr",
     "output_type": "stream",
     "text": [
      " 14%|█▍        | 28/200 [07:37<46:00, 16.05s/it]"
     ]
    },
    {
     "name": "stdout",
     "output_type": "stream",
     "text": [
      "Validation loss: 0.59134 | Validation accuracy: 79.62%\n",
      "\n",
      "Epoch 29\n",
      "-------------------------------\n",
      "Train loss: 0.43298 | Train accuracy: 84.78%\n"
     ]
    },
    {
     "name": "stderr",
     "output_type": "stream",
     "text": [
      " 14%|█▍        | 29/200 [07:53<45:46, 16.06s/it]"
     ]
    },
    {
     "name": "stdout",
     "output_type": "stream",
     "text": [
      "Validation loss: 0.56939 | Validation accuracy: 80.84%\n",
      "\n",
      "Epoch 30\n",
      "-------------------------------\n",
      "Train loss: 0.41712 | Train accuracy: 85.47%\n"
     ]
    },
    {
     "name": "stderr",
     "output_type": "stream",
     "text": [
      " 15%|█▌        | 30/200 [08:09<45:31, 16.07s/it]"
     ]
    },
    {
     "name": "stdout",
     "output_type": "stream",
     "text": [
      "Validation loss: 0.54850 | Validation accuracy: 81.36%\n",
      "\n",
      "Epoch 31\n",
      "-------------------------------\n",
      "Train loss: 0.40274 | Train accuracy: 86.07%\n"
     ]
    },
    {
     "name": "stderr",
     "output_type": "stream",
     "text": [
      " 16%|█▌        | 31/200 [08:26<45:24, 16.12s/it]"
     ]
    },
    {
     "name": "stdout",
     "output_type": "stream",
     "text": [
      "Validation loss: 0.52753 | Validation accuracy: 81.67%\n",
      "\n",
      "Epoch 32\n",
      "-------------------------------\n",
      "Train loss: 0.39535 | Train accuracy: 86.27%\n"
     ]
    },
    {
     "name": "stderr",
     "output_type": "stream",
     "text": [
      " 16%|█▌        | 32/200 [08:42<45:13, 16.15s/it]"
     ]
    },
    {
     "name": "stdout",
     "output_type": "stream",
     "text": [
      "Validation loss: 0.52973 | Validation accuracy: 82.44%\n",
      "\n",
      "Epoch 33\n",
      "-------------------------------\n",
      "Train loss: 0.37985 | Train accuracy: 86.69%\n"
     ]
    },
    {
     "name": "stderr",
     "output_type": "stream",
     "text": [
      " 16%|█▋        | 33/200 [08:58<44:46, 16.09s/it]"
     ]
    },
    {
     "name": "stdout",
     "output_type": "stream",
     "text": [
      "Validation loss: 0.54037 | Validation accuracy: 81.52%\n",
      "\n",
      "Epoch 34\n",
      "-------------------------------\n",
      "Train loss: 0.37338 | Train accuracy: 86.82%\n"
     ]
    },
    {
     "name": "stderr",
     "output_type": "stream",
     "text": [
      " 17%|█▋        | 34/200 [09:14<44:39, 16.14s/it]"
     ]
    },
    {
     "name": "stdout",
     "output_type": "stream",
     "text": [
      "Validation loss: 0.54995 | Validation accuracy: 82.11%\n",
      "\n",
      "Epoch 35\n",
      "-------------------------------\n",
      "Train loss: 0.36384 | Train accuracy: 87.34%\n"
     ]
    },
    {
     "name": "stderr",
     "output_type": "stream",
     "text": [
      " 18%|█▊        | 35/200 [09:30<44:17, 16.11s/it]"
     ]
    },
    {
     "name": "stdout",
     "output_type": "stream",
     "text": [
      "Validation loss: 0.54310 | Validation accuracy: 81.45%\n",
      "\n",
      "Epoch 36\n",
      "-------------------------------\n",
      "Train loss: 0.35138 | Train accuracy: 87.74%\n"
     ]
    },
    {
     "name": "stderr",
     "output_type": "stream",
     "text": [
      " 18%|█▊        | 36/200 [09:46<44:10, 16.16s/it]"
     ]
    },
    {
     "name": "stdout",
     "output_type": "stream",
     "text": [
      "Validation loss: 0.50673 | Validation accuracy: 82.67%\n",
      "\n",
      "Epoch 37\n",
      "-------------------------------\n",
      "Train loss: 0.33998 | Train accuracy: 88.19%\n"
     ]
    },
    {
     "name": "stderr",
     "output_type": "stream",
     "text": [
      " 18%|█▊        | 37/200 [10:02<43:45, 16.11s/it]"
     ]
    },
    {
     "name": "stdout",
     "output_type": "stream",
     "text": [
      "Validation loss: 0.51379 | Validation accuracy: 82.51%\n",
      "\n",
      "Epoch 38\n",
      "-------------------------------\n",
      "Train loss: 0.33940 | Train accuracy: 88.04%\n"
     ]
    },
    {
     "name": "stderr",
     "output_type": "stream",
     "text": [
      " 19%|█▉        | 38/200 [10:18<43:26, 16.09s/it]"
     ]
    },
    {
     "name": "stdout",
     "output_type": "stream",
     "text": [
      "Validation loss: 0.53472 | Validation accuracy: 81.91%\n",
      "\n",
      "Epoch 39\n",
      "-------------------------------\n",
      "Train loss: 0.32540 | Train accuracy: 88.49%\n"
     ]
    },
    {
     "name": "stderr",
     "output_type": "stream",
     "text": [
      " 20%|█▉        | 39/200 [10:34<43:07, 16.07s/it]"
     ]
    },
    {
     "name": "stdout",
     "output_type": "stream",
     "text": [
      "Validation loss: 0.50984 | Validation accuracy: 82.76%\n",
      "\n",
      "Epoch 40\n",
      "-------------------------------\n",
      "Train loss: 0.31291 | Train accuracy: 89.14%\n"
     ]
    },
    {
     "name": "stderr",
     "output_type": "stream",
     "text": [
      " 20%|██        | 40/200 [10:50<42:46, 16.04s/it]"
     ]
    },
    {
     "name": "stdout",
     "output_type": "stream",
     "text": [
      "Validation loss: 0.50518 | Validation accuracy: 83.21%\n",
      "\n",
      "Epoch 41\n",
      "-------------------------------\n",
      "Train loss: 0.30337 | Train accuracy: 89.42%\n"
     ]
    },
    {
     "name": "stderr",
     "output_type": "stream",
     "text": [
      " 20%|██        | 41/200 [11:06<42:27, 16.02s/it]"
     ]
    },
    {
     "name": "stdout",
     "output_type": "stream",
     "text": [
      "Validation loss: 0.51379 | Validation accuracy: 83.12%\n",
      "\n",
      "Epoch 42\n",
      "-------------------------------\n",
      "Train loss: 0.29945 | Train accuracy: 89.49%\n"
     ]
    },
    {
     "name": "stderr",
     "output_type": "stream",
     "text": [
      " 21%|██        | 42/200 [11:23<42:21, 16.08s/it]"
     ]
    },
    {
     "name": "stdout",
     "output_type": "stream",
     "text": [
      "Validation loss: 0.54225 | Validation accuracy: 82.68%\n",
      "\n",
      "Epoch 43\n",
      "-------------------------------\n",
      "Train loss: 0.28696 | Train accuracy: 89.92%\n"
     ]
    },
    {
     "name": "stderr",
     "output_type": "stream",
     "text": [
      " 22%|██▏       | 43/200 [11:39<42:10, 16.12s/it]"
     ]
    },
    {
     "name": "stdout",
     "output_type": "stream",
     "text": [
      "Validation loss: 0.53794 | Validation accuracy: 82.60%\n",
      "\n",
      "Epoch 44\n",
      "-------------------------------\n",
      "Train loss: 0.27784 | Train accuracy: 90.25%\n"
     ]
    },
    {
     "name": "stderr",
     "output_type": "stream",
     "text": [
      " 22%|██▏       | 44/200 [11:55<41:54, 16.12s/it]"
     ]
    },
    {
     "name": "stdout",
     "output_type": "stream",
     "text": [
      "Validation loss: 0.49325 | Validation accuracy: 83.67%\n",
      "\n",
      "Epoch 45\n",
      "-------------------------------\n",
      "Train loss: 0.27538 | Train accuracy: 90.33%\n"
     ]
    },
    {
     "name": "stderr",
     "output_type": "stream",
     "text": [
      " 22%|██▎       | 45/200 [12:11<41:27, 16.05s/it]"
     ]
    },
    {
     "name": "stdout",
     "output_type": "stream",
     "text": [
      "Validation loss: 0.52920 | Validation accuracy: 82.91%\n",
      "\n",
      "Epoch 46\n",
      "-------------------------------\n",
      "Train loss: 0.26424 | Train accuracy: 90.60%\n"
     ]
    },
    {
     "name": "stderr",
     "output_type": "stream",
     "text": [
      " 23%|██▎       | 46/200 [12:27<41:18, 16.09s/it]"
     ]
    },
    {
     "name": "stdout",
     "output_type": "stream",
     "text": [
      "Validation loss: 0.50874 | Validation accuracy: 83.15%\n",
      "\n",
      "Epoch 47\n",
      "-------------------------------\n",
      "Train loss: 0.26184 | Train accuracy: 90.73%\n"
     ]
    },
    {
     "name": "stderr",
     "output_type": "stream",
     "text": [
      " 24%|██▎       | 47/200 [12:43<40:56, 16.05s/it]"
     ]
    },
    {
     "name": "stdout",
     "output_type": "stream",
     "text": [
      "Validation loss: 0.51126 | Validation accuracy: 83.51%\n",
      "\n",
      "Epoch 48\n",
      "-------------------------------\n",
      "Train loss: 0.24767 | Train accuracy: 91.35%\n"
     ]
    },
    {
     "name": "stderr",
     "output_type": "stream",
     "text": [
      " 24%|██▍       | 48/200 [12:59<40:44, 16.08s/it]"
     ]
    },
    {
     "name": "stdout",
     "output_type": "stream",
     "text": [
      "Validation loss: 0.52203 | Validation accuracy: 83.45%\n",
      "\n",
      "Epoch 49\n",
      "-------------------------------\n",
      "Train loss: 0.24394 | Train accuracy: 91.43%\n"
     ]
    },
    {
     "name": "stderr",
     "output_type": "stream",
     "text": [
      " 24%|██▍       | 49/200 [13:15<40:23, 16.05s/it]"
     ]
    },
    {
     "name": "stdout",
     "output_type": "stream",
     "text": [
      "Validation loss: 0.52185 | Validation accuracy: 83.11%\n",
      "\n",
      "Epoch 50\n",
      "-------------------------------\n",
      "Train loss: 0.23703 | Train accuracy: 91.83%\n"
     ]
    },
    {
     "name": "stderr",
     "output_type": "stream",
     "text": [
      " 25%|██▌       | 50/200 [13:31<40:00, 16.00s/it]"
     ]
    },
    {
     "name": "stdout",
     "output_type": "stream",
     "text": [
      "Validation loss: 0.52557 | Validation accuracy: 83.35%\n",
      "\n",
      "Epoch 51\n",
      "-------------------------------\n",
      "Train loss: 0.23118 | Train accuracy: 91.77%\n"
     ]
    },
    {
     "name": "stderr",
     "output_type": "stream",
     "text": [
      " 26%|██▌       | 51/200 [13:47<39:36, 15.95s/it]"
     ]
    },
    {
     "name": "stdout",
     "output_type": "stream",
     "text": [
      "Validation loss: 0.53175 | Validation accuracy: 83.89%\n",
      "\n",
      "Epoch 52\n",
      "-------------------------------\n",
      "Train loss: 0.22184 | Train accuracy: 92.18%\n"
     ]
    },
    {
     "name": "stderr",
     "output_type": "stream",
     "text": [
      " 26%|██▌       | 52/200 [14:03<39:26, 15.99s/it]"
     ]
    },
    {
     "name": "stdout",
     "output_type": "stream",
     "text": [
      "Validation loss: 0.53165 | Validation accuracy: 83.86%\n",
      "\n",
      "Epoch 53\n",
      "-------------------------------\n",
      "Train loss: 0.21009 | Train accuracy: 92.50%\n"
     ]
    },
    {
     "name": "stderr",
     "output_type": "stream",
     "text": [
      " 26%|██▋       | 53/200 [14:19<39:09, 15.98s/it]"
     ]
    },
    {
     "name": "stdout",
     "output_type": "stream",
     "text": [
      "Validation loss: 0.52568 | Validation accuracy: 83.99%\n",
      "\n",
      "Epoch 54\n",
      "-------------------------------\n",
      "Train loss: 0.21299 | Train accuracy: 92.49%\n"
     ]
    },
    {
     "name": "stderr",
     "output_type": "stream",
     "text": [
      " 27%|██▋       | 54/200 [14:35<38:57, 16.01s/it]"
     ]
    },
    {
     "name": "stdout",
     "output_type": "stream",
     "text": [
      "Validation loss: 0.51098 | Validation accuracy: 83.60%\n",
      "\n",
      "Epoch 55\n",
      "-------------------------------\n",
      "Train loss: 0.21003 | Train accuracy: 92.55%\n"
     ]
    },
    {
     "name": "stderr",
     "output_type": "stream",
     "text": [
      " 28%|██▊       | 55/200 [14:51<38:47, 16.05s/it]"
     ]
    },
    {
     "name": "stdout",
     "output_type": "stream",
     "text": [
      "Validation loss: 0.50968 | Validation accuracy: 84.15%\n",
      "\n",
      "Epoch 56\n",
      "-------------------------------\n",
      "Train loss: 0.19857 | Train accuracy: 92.92%\n"
     ]
    },
    {
     "name": "stderr",
     "output_type": "stream",
     "text": [
      " 28%|██▊       | 56/200 [15:07<38:20, 15.98s/it]"
     ]
    },
    {
     "name": "stdout",
     "output_type": "stream",
     "text": [
      "Validation loss: 0.51849 | Validation accuracy: 84.07%\n",
      "\n",
      "Epoch 57\n",
      "-------------------------------\n",
      "Train loss: 0.19420 | Train accuracy: 93.12%\n"
     ]
    },
    {
     "name": "stderr",
     "output_type": "stream",
     "text": [
      " 28%|██▊       | 57/200 [15:23<38:06, 15.99s/it]"
     ]
    },
    {
     "name": "stdout",
     "output_type": "stream",
     "text": [
      "Validation loss: 0.52510 | Validation accuracy: 83.89%\n",
      "\n",
      "Epoch 58\n",
      "-------------------------------\n",
      "Train loss: 0.18480 | Train accuracy: 93.45%\n"
     ]
    },
    {
     "name": "stderr",
     "output_type": "stream",
     "text": [
      " 29%|██▉       | 58/200 [15:39<37:41, 15.93s/it]"
     ]
    },
    {
     "name": "stdout",
     "output_type": "stream",
     "text": [
      "Validation loss: 0.54791 | Validation accuracy: 84.06%\n",
      "\n",
      "Epoch 59\n",
      "-------------------------------\n",
      "Train loss: 0.18235 | Train accuracy: 93.48%\n"
     ]
    },
    {
     "name": "stderr",
     "output_type": "stream",
     "text": [
      " 30%|██▉       | 59/200 [15:55<37:42, 16.04s/it]"
     ]
    },
    {
     "name": "stdout",
     "output_type": "stream",
     "text": [
      "Validation loss: 0.55542 | Validation accuracy: 83.73%\n",
      "\n",
      "Epoch 60\n",
      "-------------------------------\n",
      "Train loss: 0.18014 | Train accuracy: 93.70%\n"
     ]
    },
    {
     "name": "stderr",
     "output_type": "stream",
     "text": [
      " 30%|███       | 60/200 [16:11<37:32, 16.09s/it]"
     ]
    },
    {
     "name": "stdout",
     "output_type": "stream",
     "text": [
      "Validation loss: 0.53807 | Validation accuracy: 84.02%\n",
      "\n",
      "Epoch 61\n",
      "-------------------------------\n",
      "Train loss: 0.17367 | Train accuracy: 93.73%\n"
     ]
    },
    {
     "name": "stderr",
     "output_type": "stream",
     "text": [
      " 30%|███       | 61/200 [16:27<37:23, 16.14s/it]"
     ]
    },
    {
     "name": "stdout",
     "output_type": "stream",
     "text": [
      "Validation loss: 0.54815 | Validation accuracy: 83.96%\n",
      "\n",
      "Epoch 62\n",
      "-------------------------------\n",
      "Train loss: 0.16487 | Train accuracy: 94.20%\n"
     ]
    },
    {
     "name": "stderr",
     "output_type": "stream",
     "text": [
      " 31%|███       | 62/200 [16:43<37:01, 16.10s/it]"
     ]
    },
    {
     "name": "stdout",
     "output_type": "stream",
     "text": [
      "Validation loss: 0.52627 | Validation accuracy: 84.99%\n",
      "\n",
      "Epoch 63\n",
      "-------------------------------\n",
      "Train loss: 0.16183 | Train accuracy: 94.25%\n"
     ]
    },
    {
     "name": "stderr",
     "output_type": "stream",
     "text": [
      " 32%|███▏      | 63/200 [17:00<36:44, 16.09s/it]"
     ]
    },
    {
     "name": "stdout",
     "output_type": "stream",
     "text": [
      "Validation loss: 0.53985 | Validation accuracy: 84.53%\n",
      "\n",
      "Epoch 64\n",
      "-------------------------------\n",
      "Train loss: 0.15061 | Train accuracy: 94.64%\n"
     ]
    },
    {
     "name": "stderr",
     "output_type": "stream",
     "text": [
      " 32%|███▏      | 64/200 [17:16<36:27, 16.08s/it]"
     ]
    },
    {
     "name": "stdout",
     "output_type": "stream",
     "text": [
      "Validation loss: 0.55039 | Validation accuracy: 84.50%\n",
      "\n",
      "Epoch 65\n",
      "-------------------------------\n",
      "Train loss: 0.15096 | Train accuracy: 94.64%\n"
     ]
    },
    {
     "name": "stderr",
     "output_type": "stream",
     "text": [
      " 32%|███▎      | 65/200 [17:32<36:06, 16.05s/it]"
     ]
    },
    {
     "name": "stdout",
     "output_type": "stream",
     "text": [
      "Validation loss: 0.54983 | Validation accuracy: 84.44%\n",
      "\n",
      "Epoch 66\n",
      "-------------------------------\n",
      "Train loss: 0.14698 | Train accuracy: 94.81%\n"
     ]
    },
    {
     "name": "stderr",
     "output_type": "stream",
     "text": [
      " 33%|███▎      | 66/200 [17:48<35:53, 16.07s/it]"
     ]
    },
    {
     "name": "stdout",
     "output_type": "stream",
     "text": [
      "Validation loss: 0.55688 | Validation accuracy: 84.21%\n",
      "\n",
      "Epoch 67\n",
      "-------------------------------\n",
      "Train loss: 0.14433 | Train accuracy: 94.72%\n"
     ]
    },
    {
     "name": "stderr",
     "output_type": "stream",
     "text": [
      " 34%|███▎      | 67/200 [18:04<35:35, 16.06s/it]"
     ]
    },
    {
     "name": "stdout",
     "output_type": "stream",
     "text": [
      "Validation loss: 0.61804 | Validation accuracy: 81.98%\n",
      "\n",
      "Epoch 68\n",
      "-------------------------------\n",
      "Train loss: 0.13775 | Train accuracy: 95.13%\n"
     ]
    },
    {
     "name": "stderr",
     "output_type": "stream",
     "text": [
      " 34%|███▍      | 68/200 [18:20<35:19, 16.06s/it]"
     ]
    },
    {
     "name": "stdout",
     "output_type": "stream",
     "text": [
      "Validation loss: 0.56916 | Validation accuracy: 84.42%\n",
      "\n",
      "Epoch 69\n",
      "-------------------------------\n",
      "Train loss: 0.12936 | Train accuracy: 95.40%\n"
     ]
    },
    {
     "name": "stderr",
     "output_type": "stream",
     "text": [
      " 34%|███▍      | 69/200 [18:36<35:04, 16.07s/it]"
     ]
    },
    {
     "name": "stdout",
     "output_type": "stream",
     "text": [
      "Validation loss: 0.57855 | Validation accuracy: 84.75%\n",
      "\n",
      "Epoch 70\n",
      "-------------------------------\n",
      "Train loss: 0.13265 | Train accuracy: 95.25%\n"
     ]
    },
    {
     "name": "stderr",
     "output_type": "stream",
     "text": [
      " 35%|███▌      | 70/200 [18:52<34:44, 16.04s/it]"
     ]
    },
    {
     "name": "stdout",
     "output_type": "stream",
     "text": [
      "Validation loss: 0.57145 | Validation accuracy: 84.69%\n",
      "\n",
      "Epoch 71\n",
      "-------------------------------\n",
      "Train loss: 0.12406 | Train accuracy: 95.59%\n"
     ]
    },
    {
     "name": "stderr",
     "output_type": "stream",
     "text": [
      " 36%|███▌      | 71/200 [19:08<34:30, 16.05s/it]"
     ]
    },
    {
     "name": "stdout",
     "output_type": "stream",
     "text": [
      "Validation loss: 0.56456 | Validation accuracy: 84.93%\n",
      "\n",
      "Epoch 72\n",
      "-------------------------------\n",
      "Train loss: 0.12587 | Train accuracy: 95.48%\n"
     ]
    },
    {
     "name": "stderr",
     "output_type": "stream",
     "text": [
      " 36%|███▌      | 71/200 [19:24<35:16, 16.40s/it]"
     ]
    },
    {
     "name": "stdout",
     "output_type": "stream",
     "text": [
      "Validation loss: 0.55651 | Validation accuracy: 84.76%\n",
      "\n",
      "Early stopping at epoch 72\n",
      "Finished training\n"
     ]
    },
    {
     "name": "stderr",
     "output_type": "stream",
     "text": [
      "\n"
     ]
    },
    {
     "name": "stdout",
     "output_type": "stream",
     "text": [
      "CPU times: user 15min 45s, sys: 25.6 s, total: 16min 11s\n",
      "Wall time: 19min 25s\n"
     ]
    },
    {
     "data": {
      "image/png": "[encoded data removed]",
      "text/plain": [
       "<Figure size 640x480 with 1 Axes>"
      ]
     },
     "metadata": {},
     "output_type": "display_data"
    }
   ],
   "source": [
    "%%time\n",
    "model = resnet9()\n",
    "loss = nn.CrossEntropyLoss()\n",
    "optimizer = optim.SGD(model.parameters(), lr=0.001, weight_decay=1e-4, momentum=0.9, nesterov=True)\n",
    "scheduler = torch.optim.lr_scheduler.ReduceLROnPlateau(optimizer, mode='min', factor=0.5, patience=5)\n",
    "train(model, loss, optimizer, train_dataloader, val_dataloader, scheduler=scheduler, \n",
    "      num_epochs=200, device=device, early_stopper=EarlyStopper(patience=10, min_delta=0.01))"
   ]
  },
  {
   "cell_type": "markdown",
   "metadata": {},
   "source": [
    "### 保存"
   ]
  },
  {
   "cell_type": "code",
   "execution_count": 9,
   "metadata": {},
   "outputs": [],
   "source": [
    "MODEL_NAME = \"resnet9_cifar10.pth\"\n",
    "MODEL_SAVE_PATH = MODEL_PATH / MODEL_NAME\n",
    "torch.save(obj=model.state_dict(), \n",
    "           f=MODEL_SAVE_PATH)"
   ]
  },
  {
   "cell_type": "markdown",
   "metadata": {},
   "source": [
    "## DenseNet\n",
    "### 定义"
   ]
  },
  {
   "cell_type": "code",
   "execution_count": 5,
   "metadata": {},
   "outputs": [
    {
     "name": "stderr",
     "output_type": "stream",
     "text": [
      "/usr/local/lib/python3.11/dist-packages/torch/nn/modules/lazy.py:181: UserWarning: Lazy modules are a new feature under heavy development so changes to the API or functionality can happen at any moment.\n",
      "  warnings.warn('Lazy modules are a new feature under heavy development '\n"
     ]
    },
    {
     "name": "stdout",
     "output_type": "stream",
     "text": [
      "Sequential output shape:\t torch.Size([1, 64, 30, 30])\n",
      "DenseBlock output shape:\t torch.Size([1, 256, 30, 30])\n",
      "Sequential output shape:\t torch.Size([1, 128, 15, 15])\n",
      "DenseBlock output shape:\t torch.Size([1, 512, 15, 15])\n",
      "Sequential output shape:\t torch.Size([1, 256, 7, 7])\n",
      "DenseBlock output shape:\t torch.Size([1, 1280, 7, 7])\n",
      "Sequential output shape:\t torch.Size([1, 640, 3, 3])\n",
      "DenseBlock output shape:\t torch.Size([1, 1664, 3, 3])\n",
      "Sequential output shape:\t torch.Size([1, 10])\n"
     ]
    }
   ],
   "source": [
    "def conv_block(num_channels):\n",
    "    return nn.Sequential(\n",
    "        nn.LazyBatchNorm2d(), nn.ReLU(),\n",
    "        nn.LazyConv2d(num_channels * 8, kernel_size=1),\n",
    "        nn.LazyBatchNorm2d(), nn.ReLU(),\n",
    "        nn.LazyConv2d(num_channels, kernel_size=3, padding=1))\n",
    "\n",
    "class DenseBlock(nn.Module):\n",
    "    def __init__(self, num_convs, num_channels):\n",
    "        super(DenseBlock, self).__init__()\n",
    "        layer = []\n",
    "        for i in range(num_convs):\n",
    "            layer.append(conv_block(num_channels))\n",
    "        self.net = nn.Sequential(*layer)\n",
    "\n",
    "    def forward(self, X):\n",
    "        for blk in self.net:\n",
    "            Y = blk(X)\n",
    "            # Concatenate input and output of each block along the channels\n",
    "            X = torch.cat((X, Y), dim=1)\n",
    "        return X\n",
    "\n",
    "def transition_block(num_channels):\n",
    "    return nn.Sequential(\n",
    "        nn.LazyBatchNorm2d(), nn.ReLU(),\n",
    "        nn.LazyConv2d(num_channels, kernel_size=1),\n",
    "        nn.AvgPool2d(kernel_size=2, stride=2))\n",
    "\n",
    "class DenseNet(nn.Module):\n",
    "    def __init__(self, num_channels=64, growth_rate=32, arch=(4, 4, 4, 4),\n",
    "                 num_classes=10):\n",
    "        super(DenseNet, self).__init__()\n",
    "        self.net = nn.Sequential(self.b1())\n",
    "        for i, num_convs in enumerate(arch):\n",
    "            self.net.add_module(f'dense_block{i+1}', DenseBlock(num_convs,\n",
    "                                                              growth_rate))\n",
    "            # The number of output channels in the previous dense block\n",
    "            num_channels += num_convs * growth_rate\n",
    "            # A transition layer that halves the number of channels is added\n",
    "            # between the dense blocks\n",
    "            if i != len(arch) - 1:\n",
    "                num_channels //= 2\n",
    "                self.net.add_module(f'tran_blk{i+1}', transition_block(\n",
    "                    num_channels))\n",
    "        self.net.add_module('last', nn.Sequential(\n",
    "            nn.LazyBatchNorm2d(), nn.ReLU(),\n",
    "            nn.AdaptiveAvgPool2d((1, 1)), nn.Flatten(),\n",
    "            nn.LazyLinear(num_classes)))\n",
    "        init_cnn(self.net)\n",
    "\n",
    "    def b1(self):\n",
    "        return nn.Sequential(\n",
    "            nn.LazyConv2d(64, kernel_size=3 * 3, stride=1, padding=3),\n",
    "            nn.LazyBatchNorm2d(), nn.ReLU(),\n",
    "            #nn.MaxPool2d(kernel_size=3, stride=2, padding=1)\n",
    "            )\n",
    "    \n",
    "    def forward(self, X):\n",
    "        return self.net(X)\n",
    "\n",
    "model = DenseNet(arch=(6, 12, 32, 32))\n",
    "X = torch.randn(1, 3, 32, 32)\n",
    "layer_summary(model, X.shape)"
   ]
  },
  {
   "cell_type": "markdown",
   "metadata": {},
   "source": [
    "### 训练"
   ]
  },
  {
   "cell_type": "code",
   "execution_count": 6,
   "metadata": {},
   "outputs": [
    {
     "name": "stderr",
     "output_type": "stream",
     "text": [
      "  0%|          | 0/200 [00:00<?, ?it/s]"
     ]
    },
    {
     "name": "stdout",
     "output_type": "stream",
     "text": [
      "Epoch 1\n",
      "-------------------------------\n",
      "Train loss: 1.70436 | Train accuracy: 37.67%\n"
     ]
    },
    {
     "name": "stderr",
     "output_type": "stream",
     "text": [
      "  0%|          | 1/200 [02:08<7:06:08, 128.48s/it]"
     ]
    },
    {
     "name": "stdout",
     "output_type": "stream",
     "text": [
      "Validation loss: 1.46253 | Validation accuracy: 47.25%\n",
      "\n",
      "Epoch 2\n",
      "-------------------------------\n"
     ]
    },
    {
     "name": "stderr",
     "output_type": "stream",
     "text": [
      "  0%|          | 1/200 [02:12<7:20:39, 132.86s/it]\n"
     ]
    },
    {
     "ename": "KeyboardInterrupt",
     "evalue": "",
     "output_type": "error",
     "traceback": [
      "\u001b[0;31m---------------------------------------------------------------------------\u001b[0m",
      "\u001b[0;31mKeyboardInterrupt\u001b[0m                         Traceback (most recent call last)",
      "File \u001b[0;32m<timed exec>:5\u001b[0m\n",
      "Cell \u001b[0;32mIn[3], line 100\u001b[0m, in \u001b[0;36mtrain\u001b[0;34m(model, loss, optimizer, train_dataloader, val_dataloader, scheduler, num_epochs, device, early_stopper)\u001b[0m\n\u001b[1;32m     98\u001b[0m \u001b[38;5;28;01mfor\u001b[39;00m epoch \u001b[38;5;129;01min\u001b[39;00m tqdm(\u001b[38;5;28mrange\u001b[39m(num_epochs)):\n\u001b[1;32m     99\u001b[0m     \u001b[38;5;28mprint\u001b[39m(\u001b[38;5;124mf\u001b[39m\u001b[38;5;124m\"\u001b[39m\u001b[38;5;124mEpoch \u001b[39m\u001b[38;5;132;01m{\u001b[39;00mepoch\u001b[38;5;250m \u001b[39m\u001b[38;5;241m+\u001b[39m\u001b[38;5;250m \u001b[39m\u001b[38;5;241m1\u001b[39m\u001b[38;5;132;01m}\u001b[39;00m\u001b[38;5;130;01m\\n\u001b[39;00m\u001b[38;5;124m-------------------------------\u001b[39m\u001b[38;5;124m\"\u001b[39m)\n\u001b[0;32m--> 100\u001b[0m     train_loss, train_acc \u001b[38;5;241m=\u001b[39m \u001b[43mtrain_step\u001b[49m\u001b[43m(\u001b[49m\u001b[43mmodel\u001b[49m\u001b[43m,\u001b[49m\u001b[43m \u001b[49m\u001b[43mtrain_dataloader\u001b[49m\u001b[43m,\u001b[49m\u001b[43m \u001b[49m\u001b[43mloss\u001b[49m\u001b[43m,\u001b[49m\u001b[43m \u001b[49m\u001b[43moptimizer\u001b[49m\u001b[43m,\u001b[49m\u001b[43m \u001b[49m\u001b[43maccuracy_fn\u001b[49m\u001b[43m,\u001b[49m\u001b[43m \u001b[49m\u001b[43mdevice\u001b[49m\u001b[43m)\u001b[49m\n\u001b[1;32m    101\u001b[0m     val_loss, val_acc \u001b[38;5;241m=\u001b[39m val_step(val_dataloader, model, loss, accuracy_fn, device)\n\u001b[1;32m    102\u001b[0m     \u001b[38;5;28;01mtry\u001b[39;00m:\n",
      "Cell \u001b[0;32mIn[3], line 47\u001b[0m, in \u001b[0;36mtrain_step\u001b[0;34m(model, data_loader, loss_fn, optimizer, accuracy_fn, device)\u001b[0m\n\u001b[1;32m     44\u001b[0m optimizer\u001b[38;5;241m.\u001b[39mzero_grad()\n\u001b[1;32m     46\u001b[0m \u001b[38;5;66;03m# 4. Loss backward\u001b[39;00m\n\u001b[0;32m---> 47\u001b[0m \u001b[43mloss\u001b[49m\u001b[38;5;241;43m.\u001b[39;49m\u001b[43mbackward\u001b[49m\u001b[43m(\u001b[49m\u001b[43m)\u001b[49m\n\u001b[1;32m     49\u001b[0m \u001b[38;5;66;03m# 5. Optimizer step\u001b[39;00m\n\u001b[1;32m     50\u001b[0m optimizer\u001b[38;5;241m.\u001b[39mstep()\n",
      "File \u001b[0;32m/usr/local/lib/python3.11/dist-packages/torch/_tensor.py:522\u001b[0m, in \u001b[0;36mTensor.backward\u001b[0;34m(self, gradient, retain_graph, create_graph, inputs)\u001b[0m\n\u001b[1;32m    512\u001b[0m \u001b[38;5;28;01mif\u001b[39;00m has_torch_function_unary(\u001b[38;5;28mself\u001b[39m):\n\u001b[1;32m    513\u001b[0m     \u001b[38;5;28;01mreturn\u001b[39;00m handle_torch_function(\n\u001b[1;32m    514\u001b[0m         Tensor\u001b[38;5;241m.\u001b[39mbackward,\n\u001b[1;32m    515\u001b[0m         (\u001b[38;5;28mself\u001b[39m,),\n\u001b[0;32m   (...)\u001b[0m\n\u001b[1;32m    520\u001b[0m         inputs\u001b[38;5;241m=\u001b[39minputs,\n\u001b[1;32m    521\u001b[0m     )\n\u001b[0;32m--> 522\u001b[0m \u001b[43mtorch\u001b[49m\u001b[38;5;241;43m.\u001b[39;49m\u001b[43mautograd\u001b[49m\u001b[38;5;241;43m.\u001b[39;49m\u001b[43mbackward\u001b[49m\u001b[43m(\u001b[49m\n\u001b[1;32m    523\u001b[0m \u001b[43m    \u001b[49m\u001b[38;5;28;43mself\u001b[39;49m\u001b[43m,\u001b[49m\u001b[43m \u001b[49m\u001b[43mgradient\u001b[49m\u001b[43m,\u001b[49m\u001b[43m \u001b[49m\u001b[43mretain_graph\u001b[49m\u001b[43m,\u001b[49m\u001b[43m \u001b[49m\u001b[43mcreate_graph\u001b[49m\u001b[43m,\u001b[49m\u001b[43m \u001b[49m\u001b[43minputs\u001b[49m\u001b[38;5;241;43m=\u001b[39;49m\u001b[43minputs\u001b[49m\n\u001b[1;32m    524\u001b[0m \u001b[43m\u001b[49m\u001b[43m)\u001b[49m\n",
      "File \u001b[0;32m/usr/local/lib/python3.11/dist-packages/torch/autograd/__init__.py:266\u001b[0m, in \u001b[0;36mbackward\u001b[0;34m(tensors, grad_tensors, retain_graph, create_graph, grad_variables, inputs)\u001b[0m\n\u001b[1;32m    261\u001b[0m     retain_graph \u001b[38;5;241m=\u001b[39m create_graph\n\u001b[1;32m    263\u001b[0m \u001b[38;5;66;03m# The reason we repeat the same comment below is that\u001b[39;00m\n\u001b[1;32m    264\u001b[0m \u001b[38;5;66;03m# some Python versions print out the first line of a multi-line function\u001b[39;00m\n\u001b[1;32m    265\u001b[0m \u001b[38;5;66;03m# calls in the traceback and some print out the last line\u001b[39;00m\n\u001b[0;32m--> 266\u001b[0m \u001b[43mVariable\u001b[49m\u001b[38;5;241;43m.\u001b[39;49m\u001b[43m_execution_engine\u001b[49m\u001b[38;5;241;43m.\u001b[39;49m\u001b[43mrun_backward\u001b[49m\u001b[43m(\u001b[49m\u001b[43m  \u001b[49m\u001b[38;5;66;43;03m# Calls into the C++ engine to run the backward pass\u001b[39;49;00m\n\u001b[1;32m    267\u001b[0m \u001b[43m    \u001b[49m\u001b[43mtensors\u001b[49m\u001b[43m,\u001b[49m\n\u001b[1;32m    268\u001b[0m \u001b[43m    \u001b[49m\u001b[43mgrad_tensors_\u001b[49m\u001b[43m,\u001b[49m\n\u001b[1;32m    269\u001b[0m \u001b[43m    \u001b[49m\u001b[43mretain_graph\u001b[49m\u001b[43m,\u001b[49m\n\u001b[1;32m    270\u001b[0m \u001b[43m    \u001b[49m\u001b[43mcreate_graph\u001b[49m\u001b[43m,\u001b[49m\n\u001b[1;32m    271\u001b[0m \u001b[43m    \u001b[49m\u001b[43minputs\u001b[49m\u001b[43m,\u001b[49m\n\u001b[1;32m    272\u001b[0m \u001b[43m    \u001b[49m\u001b[43mallow_unreachable\u001b[49m\u001b[38;5;241;43m=\u001b[39;49m\u001b[38;5;28;43;01mTrue\u001b[39;49;00m\u001b[43m,\u001b[49m\n\u001b[1;32m    273\u001b[0m \u001b[43m    \u001b[49m\u001b[43maccumulate_grad\u001b[49m\u001b[38;5;241;43m=\u001b[39;49m\u001b[38;5;28;43;01mTrue\u001b[39;49;00m\u001b[43m,\u001b[49m\n\u001b[1;32m    274\u001b[0m \u001b[43m\u001b[49m\u001b[43m)\u001b[49m\n",
      "\u001b[0;31mKeyboardInterrupt\u001b[0m: "
     ]
    }
   ],
   "source": [
    "%%time\n",
    "model = DenseNet(arch=(6, 12, 32, 32))\n",
    "loss = nn.CrossEntropyLoss()\n",
    "optimizer = optim.SGD(model.parameters(), lr=0.001, weight_decay=1e-4, momentum=0.9, nesterov=True)\n",
    "scheduler = torch.optim.lr_scheduler.ReduceLROnPlateau(optimizer, mode='min', factor=0.5, patience=5)\n",
    "train(model, loss, optimizer, train_dataloader, val_dataloader, scheduler=scheduler, num_epochs=200, \n",
    "      device=device, early_stopper=EarlyStopper(patience=10, min_delta=0.02))"
   ]
  },
  {
   "cell_type": "markdown",
   "metadata": {},
   "source": [
    "### 保存"
   ]
  },
  {
   "cell_type": "code",
   "execution_count": 12,
   "metadata": {},
   "outputs": [],
   "source": [
    "MODEL_NAME = \"DenseNet_cifar10.pth\"\n",
    "MODEL_SAVE_PATH = MODEL_PATH / MODEL_NAME\n",
    "torch.save(obj=model.state_dict(), \n",
    "           f=MODEL_SAVE_PATH)"
   ]
  },
  {
   "cell_type": "markdown",
   "metadata": {},
   "source": [
    "# test_set评估"
   ]
  },
  {
   "cell_type": "code",
   "execution_count": 6,
   "metadata": {},
   "outputs": [
    {
     "name": "stdout",
     "output_type": "stream",
     "text": [
      "Validation loss: 0.56005 | Validation accuracy: 85.28%\n",
      "\n"
     ]
    },
    {
     "data": {
      "text/plain": [
       "(tensor(0.5600, device='cuda:0'), 85.28492647058823)"
      ]
     },
     "execution_count": 6,
     "metadata": {},
     "output_type": "execute_result"
    }
   ],
   "source": [
    "load_model = resnet9()\n",
    "load_model.to(device)\n",
    "MODEL_NAME = \"resnet9_cifar10.pth\"\n",
    "\n",
    "MODEL_SAVE_PATH = MODEL_PATH / MODEL_NAME\n",
    "load_model.load_state_dict(torch.load(MODEL_SAVE_PATH))\n",
    "loss = nn.CrossEntropyLoss()\n",
    "val_step(test_dataloader, load_model, loss, accuracy_fn, device=device)"
   ]
  }
 ],
 "metadata": {
  "kernelspec": {
   "display_name": "Python 3 (ipykernel)",
   "language": "python",
   "name": "python3"
  },
  "language_info": {
   "codemirror_mode": {
    "name": "ipython",
    "version": 3
   },
   "file_extension": ".py",
   "mimetype": "text/x-python",
   "name": "python",
   "nbconvert_exporter": "python",
   "pygments_lexer": "ipython3",
   "version": "3.9.18"
  }
 },
 "nbformat": 4,
 "nbformat_minor": 4
}
